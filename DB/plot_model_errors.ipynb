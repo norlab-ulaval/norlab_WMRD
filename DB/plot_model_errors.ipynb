{
 "cells": [
  {
   "cell_type": "code",
   "execution_count": 46,
   "id": "eaf652f4-631d-4bc1-bc1a-56640a6c33d8",
   "metadata": {},
   "outputs": [
    {
     "name": "stdout",
     "output_type": "stream",
     "text": [
      "3.10.6 (main, Nov 14 2022, 16:10:14) [GCC 11.3.0]\n"
     ]
    }
   ],
   "source": [
    "import numpy as np\n",
    "import pandas as pd\n",
    "\n",
    "import matplotlib.pyplot as plt\n",
    "\n",
    "import sys\n",
    "print(sys.version)\n",
    "sys.path.append('../')\n",
    "\n",
    "from models.powertrain.bounded_powertrain import Bounded_powertrain\n",
    "from models.kinematic.ideal_diff_drive import Ideal_diff_drive\n",
    "from models.kinematic.ICR_based import *\n",
    "from models.kinematic.Perturbed_unicycle import *\n",
    "from models.kinematic.enhanced_kinematic import *"
   ]
  },
  {
   "cell_type": "code",
   "execution_count": 47,
   "id": "0318d98f-4a49-415d-bbeb-9c31ecdcba39",
   "metadata": {},
   "outputs": [
    {
     "name": "stdout",
     "output_type": "stream",
     "text": [
      "[0.88132674 0.25476058]\n",
      "[ 0.86301886  0.9109506   0.00417836  0.22434593 -0.28777154]\n"
     ]
    }
   ],
   "source": [
    "# fetch model params\n",
    "\n",
    "icr_symmetric_params = np.load('../eval/training_results/marmotte/icr_symmetrical/grand_salon_a/train_full_all_horizons.npy')\n",
    "icr_asymmetric_params = np.load('../eval/training_results/marmotte/icr_asymmetrical/grand_salon_a/train_full_all_horizons.npy')\n",
    "\n",
    "print(icr_symmetric_params)\n",
    "print(icr_asymmetric_params)"
   ]
  },
  {
   "cell_type": "code",
   "execution_count": 48,
   "id": "32289846-8594-4d74-8548-7a3e2c91f10c",
   "metadata": {},
   "outputs": [
    {
     "name": "stdout",
     "output_type": "stream",
     "text": [
      "    prediction_error_x prediction_error_y prediction_error_z  \\\n",
      "0            -0.544585           0.026801          -0.029545   \n",
      "1            -0.294793          -0.305027          -0.000955   \n",
      "2            -0.518743          -0.683964          -0.005299   \n",
      "3            -0.036448           0.724497          -0.010085   \n",
      "4            -0.313634           0.244789          -0.018844   \n",
      "..                 ...                ...                ...   \n",
      "410           0.310123           0.113596            0.00184   \n",
      "411           0.283952           0.039836           0.022813   \n",
      "412           0.400118           0.037835          -0.023371   \n",
      "413          -0.253762          -0.341396           0.002197   \n",
      "414          -0.221091           0.409797          -0.013359   \n",
      "\n",
      "    prediction_error_roll prediction_error_pitch prediction_error_yaw  \\\n",
      "0                0.001423               0.002633             0.950506   \n",
      "1               -0.000086               0.005125             0.941113   \n",
      "2                0.012243               0.000269             1.492365   \n",
      "3                0.000474               0.001567            -0.862086   \n",
      "4                0.007226              -0.008333             0.331418   \n",
      "..                    ...                    ...                  ...   \n",
      "410              0.000823               0.002167            -0.076117   \n",
      "411              -0.00183               0.005387            -0.068251   \n",
      "412              0.009412              -0.014879             2.169092   \n",
      "413             -0.021994               0.016372            -1.412734   \n",
      "414              0.007074              -0.022082            -1.718386   \n",
      "\n",
      "    body_icp_vx body_icp_vy body_icp_omega body_model_vx body_model_vy  \\\n",
      "0      0.706689    0.460388      -2.978181      0.283253      0.005492   \n",
      "1      0.741806    0.391258      -2.820972      0.290334      0.005629   \n",
      "2      0.763579    0.613803      -2.985005      0.290511      0.005633   \n",
      "3      0.670264    0.068507      -0.184981      0.227096     -0.002171   \n",
      "4      0.463935    0.016285       0.290624      0.225511     -0.002366   \n",
      "..          ...         ...            ...           ...           ...   \n",
      "410   -0.399274   -0.008294      -0.114427      -0.17717       0.00159   \n",
      "411   -0.391602   -0.002509      -0.113997     -0.177138      0.001591   \n",
      "412    0.244176    0.587828      -2.631756      0.020547      0.011393   \n",
      "413    0.516424    0.590655      -3.707624      0.025489      0.011638   \n",
      "414    0.702947    0.478283      -5.129689      0.025613      0.011644   \n",
      "\n",
      "    body_model_omega prediction_error_6dof prediction_error_3dof  \\\n",
      "0           -0.21392              1.201635              1.200753   \n",
      "1          -0.219268              1.065664              1.065637   \n",
      "2          -0.219402              2.964234              2.964056   \n",
      "3           0.084564              1.269521              1.269417   \n",
      "4           0.092163              0.268602              0.268126   \n",
      "..               ...                   ...                   ...   \n",
      "410        -0.061917              0.114883              0.114874   \n",
      "411        -0.061952              0.087426              0.086874   \n",
      "412        -0.443768              4.867343              4.866487   \n",
      "413        -0.453313               2.17752              2.176763   \n",
      "414        -0.453552              3.170381              3.169665   \n",
      "\n",
      "    prediction_error_3dof_trans prediction_error_3dof_ang  \n",
      "0                      0.545244                  0.950506  \n",
      "1                      0.424199                  0.941113  \n",
      "2                      0.858429                  1.492365  \n",
      "3                      0.725413                  0.862086  \n",
      "4                      0.397854                  0.331418  \n",
      "..                          ...                       ...  \n",
      "410                    0.330273                  0.076117  \n",
      "411                    0.286732                  0.068251  \n",
      "412                    0.401903                  2.169092  \n",
      "413                    0.425378                  1.412734  \n",
      "414                    0.465634                  1.718386  \n",
      "\n",
      "[415 rows x 16 columns]\n"
     ]
    }
   ],
   "source": [
    "ideal_diff_drive_errors_dataframe = pd.read_pickle('../data/marmotte/eval_results/grand_salon_b/ideal_diff_drive_full_eval_metrics.pkl')\n",
    "icr_symmetric_errors_dataframe = pd.read_pickle('../data/marmotte/eval_results/grand_salon_b/icr_symmetrical_full_eval_metrics.pkl')\n",
    "icr_asymmetric_errors_dataframe = pd.read_pickle('../data/marmotte/eval_results/grand_salon_b/icr_asymmetrical_full_eval_metrics.pkl')\n",
    "\n",
    "print(model_errors_dataframe)"
   ]
  },
  {
   "cell_type": "code",
   "execution_count": 49,
   "id": "16d6755d-8467-4830-9ff7-b186571872d5",
   "metadata": {},
   "outputs": [
    {
     "name": "stdout",
     "output_type": "stream",
     "text": [
      "IDD total trans error [m] :  114.42579005711852\n",
      "IDD total ang error [rad] :  182.39684802654733\n",
      "ICR S total trans error [m] :  118.21742625274095\n",
      "ICR S total ang error [rad] :  171.29036945890712\n",
      "ICR AS total trans error [m] :  114.89540248437564\n",
      "ICR AS total ang error [rad] :  178.35717813941045\n"
     ]
    }
   ],
   "source": [
    "# fetch some stats\n",
    "\n",
    "ideal_diff_drive_total_trans_error = ideal_diff_drive_errors_dataframe['prediction_error_3dof_trans'].sum()\n",
    "ideal_diff_drive_total_ang_error = ideal_diff_drive_errors_dataframe['prediction_error_3dof_ang'].sum()\n",
    "print('IDD total trans error [m] : ', ideal_diff_drive_total_trans_error)\n",
    "print('IDD total ang error [rad] : ', ideal_diff_drive_total_ang_error)\n",
    "\n",
    "icr_symmetric_total_trans_error = icr_symmetric_errors_dataframe['prediction_error_3dof_trans'].sum()\n",
    "icr_symmetric_total_ang_error = icr_symmetric_errors_dataframe['prediction_error_3dof_ang'].sum()\n",
    "print('ICR S total trans error [m] : ', icr_symmetric_total_trans_error)\n",
    "print('ICR S total ang error [rad] : ', icr_symmetric_total_ang_error)\n",
    "\n",
    "icr_asymmetric_total_trans_error = icr_asymmetric_errors_dataframe['prediction_error_3dof_trans'].sum()\n",
    "icr_asymmetric_total_ang_error = icr_asymmetric_errors_dataframe['prediction_error_3dof_ang'].sum()\n",
    "print('ICR AS total trans error [m] : ', icr_asymmetric_total_trans_error)\n",
    "print('ICR AS total ang error [rad] : ', icr_asymmetric_total_ang_error)"
   ]
  },
  {
   "cell_type": "code",
   "execution_count": 62,
   "id": "3dec6a46-100e-4c35-9377-1997b9b24637",
   "metadata": {},
   "outputs": [
    {
     "data": {
      "text/plain": [
       "Text(0, 0.5, 'Angular error [rad]')"
      ]
     },
     "execution_count": 62,
     "metadata": {},
     "output_type": "execute_result"
    },
    {
     "data": {
      "image/png": "[encoded data removed]",
      "text/plain": [
       "<Figure size 576x576 with 2 Axes>"
      ]
     },
     "metadata": {
      "needs_background": "light"
     },
     "output_type": "display_data"
    }
   ],
   "source": [
    "fig1, axs = plt.subplots(2, 1, figsize=(8, 8))\n",
    "\n",
    "axs[0].boxplot(ideal_diff_drive_errors_dataframe['prediction_error_3dof_trans'], showfliers = False, positions =[0], labels=['Ideal Diff Drive'])\n",
    "axs[0].boxplot(icr_symmetric_errors_dataframe['prediction_error_3dof_trans'], showfliers = False, positions =[1], labels=['ICR Symmetrical'])\n",
    "axs[0].boxplot(icr_asymmetric_errors_dataframe['prediction_error_3dof_trans'], showfliers = False, positions =[2], labels=['ICR Asymmetrical'])\n",
    "axs[0].set_title('model evaluation on 2 second windows after training')\n",
    "axs[0].set_ylabel('translational error [m]')\n",
    "\n",
    "axs[1].boxplot(ideal_diff_drive_errors_dataframe['prediction_error_3dof_ang'], showfliers = False, positions =[0], labels=['Ideal Diff Drive'])\n",
    "axs[1].boxplot(icr_symmetric_errors_dataframe['prediction_error_3dof_ang'], showfliers = False, positions =[1], labels=['ICR Symmetrical'])\n",
    "axs[1].boxplot(icr_asymmetric_errors_dataframe['prediction_error_3dof_ang'], showfliers = False, positions =[2], labels=['ICR Asymmetrical'])\n",
    "axs[1].set_ylabel('Angular error [rad]')"
   ]
  },
  {
   "cell_type": "code",
   "execution_count": null,
   "id": "b1022daf-2315-469b-ab0f-9864a71bfa2a",
   "metadata": {},
   "outputs": [],
   "source": []
  }
 ],
 "metadata": {
  "kernelspec": {
   "display_name": "Python 3 (ipykernel)",
   "language": "python",
   "name": "python3"
  },
  "language_info": {
   "codemirror_mode": {
    "name": "ipython",
    "version": 3
   },
   "file_extension": ".py",
   "mimetype": "text/x-python",
   "name": "python",
   "nbconvert_exporter": "python",
   "pygments_lexer": "ipython3",
   "version": "3.10.6"
  }
 },
 "nbformat": 4,
 "nbformat_minor": 5
}
