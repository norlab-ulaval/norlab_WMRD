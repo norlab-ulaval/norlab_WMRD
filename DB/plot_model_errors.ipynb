{
 "cells": [
  {
   "cell_type": "code",
   "execution_count": 1,
   "id": "eaf652f4-631d-4bc1-bc1a-56640a6c33d8",
   "metadata": {},
   "outputs": [
    {
     "name": "stdout",
     "output_type": "stream",
     "text": [
      "3.10.6 (main, Nov 14 2022, 16:10:14) [GCC 11.3.0]\n"
     ]
    }
   ],
   "source": [
    "import numpy as np\n",
    "import pandas as pd\n",
    "\n",
    "import matplotlib.pyplot as plt\n",
    "\n",
    "import sys\n",
    "print(sys.version)\n",
    "sys.path.append('../')\n",
    "\n",
    "from models.powertrain.bounded_powertrain import Bounded_powertrain\n",
    "from models.kinematic.ideal_diff_drive import Ideal_diff_drive\n",
    "from models.kinematic.ICR_based import *\n",
    "from models.kinematic.Perturbed_unicycle import *\n",
    "from models.kinematic.enhanced_kinematic import *"
   ]
  },
  {
   "cell_type": "code",
   "execution_count": 2,
   "id": "0318d98f-4a49-415d-bbeb-9c31ecdcba39",
   "metadata": {},
   "outputs": [
    {
     "name": "stdout",
     "output_type": "stream",
     "text": [
      "[0.94304109 0.2867744 ]\n",
      "[ 1.          0.98309656  0.07612474  0.2935927  -0.30726083]\n",
      "[ 0.94306235  0.28677371 -0.01469349 -0.00416287]\n"
     ]
    }
   ],
   "source": [
    "# fetch model params\n",
    "\n",
    "icr_symmetric_params = np.load('../eval/training_results/marmotte/icr_symmetrical/ga_hard_snow_a/train_full_all_horizons.npy')\n",
    "icr_asymmetric_params = np.load('../eval/training_results/marmotte/icr_asymmetrical/ga_hard_snow_a/train_full_all_horizons.npy')\n",
    "enhanced_kinematic_params = np.load('../eval/training_results/marmotte/enhanced_kinematic/ga_hard_snow_a/train_full_all_horizons.npy')\n",
    "\n",
    "print(icr_symmetric_params)\n",
    "print(icr_asymmetric_params)\n",
    "print(enhanced_kinematic_params)"
   ]
  },
  {
   "cell_type": "code",
   "execution_count": 3,
   "id": "32289846-8594-4d74-8548-7a3e2c91f10c",
   "metadata": {},
   "outputs": [
    {
     "name": "stdout",
     "output_type": "stream",
     "text": [
      "    prediction_error_x prediction_error_y prediction_error_z  \\\n",
      "0              -0.0679           0.035085           0.003413   \n",
      "1            -0.083651           0.081739          -0.005951   \n",
      "2             0.146237           0.013546           0.003168   \n",
      "3             0.147484           0.006135          -0.002081   \n",
      "4              1.56891          -0.737518          -0.019502   \n",
      "..                 ...                ...                ...   \n",
      "203          -0.124252           0.339171           0.000006   \n",
      "204           0.447385           0.666115           0.042287   \n",
      "205           0.413811            0.67998            0.02442   \n",
      "206          -0.036945          -0.421748           -0.01415   \n",
      "207           0.124867          -0.363515           0.004968   \n",
      "\n",
      "    prediction_error_roll prediction_error_pitch prediction_error_yaw  \\\n",
      "0                0.026893               0.044467            -0.051462   \n",
      "1                0.010358               0.046529            -0.041052   \n",
      "2               -0.032981               0.001405             0.000549   \n",
      "3               -0.023198               0.012671             0.022243   \n",
      "4               -0.027254              -0.062343             0.042218   \n",
      "..                    ...                    ...                  ...   \n",
      "203              0.096332              -0.035446             0.092477   \n",
      "204             -0.053525               0.117124            -0.290802   \n",
      "205              0.129548               -0.07634            -0.277427   \n",
      "206              0.154788               0.030936            -0.109703   \n",
      "207              -0.13963              -0.054527             0.106601   \n",
      "\n",
      "    body_icp_vx body_icp_vy body_icp_omega body_model_vx body_model_vy  \\\n",
      "0     -0.040927    0.000208      -0.370735     -0.002676       0.00002   \n",
      "1     -0.085307    0.052892      -0.378695     -0.002743       0.00002   \n",
      "2      0.074594    0.009459      -0.180177      0.004325      0.000029   \n",
      "3       0.05831    0.054224      -0.189603      0.004502       0.00003   \n",
      "4      1.009981    0.046216       -0.52679      0.053142      0.013388   \n",
      "..          ...         ...            ...           ...           ...   \n",
      "203   -0.286707    0.072543      -1.129885     -0.015418      0.002222   \n",
      "204    0.626018   -0.056015       1.341235      0.031082     -0.011073   \n",
      "205    0.685158   -0.000081       1.431161      0.032245     -0.011405   \n",
      "206   -0.280739   -0.080647       1.358393     -0.017535     -0.004386   \n",
      "207    -0.31662   -0.152948        1.71963      -0.01878     -0.004211   \n",
      "\n",
      "    body_model_omega prediction_error_6dof prediction_error_3dof  \\\n",
      "0           -0.31013              0.011202               0.00849   \n",
      "1          -0.317884              0.017672              0.015364   \n",
      "2            -0.1758              0.022669              0.021569   \n",
      "3          -0.172248              0.022987              0.022284   \n",
      "4          -0.526616              3.012202              3.007193   \n",
      "..               ...                   ...                   ...   \n",
      "203        -1.109206              0.149564              0.139027   \n",
      "204         1.245659                0.7468              0.728429   \n",
      "205         1.304531              0.733785              0.710578   \n",
      "206         1.400424              0.216387              0.191271   \n",
      "207         1.402821              0.181593              0.159099   \n",
      "\n",
      "    prediction_error_3dof_trans prediction_error_3dof_ang  \n",
      "0                      0.076429                  0.051462  \n",
      "1                      0.116956                  0.041052  \n",
      "2                      0.146863                  0.000549  \n",
      "3                      0.147612                  0.022243  \n",
      "4                      1.733612                  0.042218  \n",
      "..                          ...                       ...  \n",
      "203                    0.361214                  0.092477  \n",
      "204                    0.802411                  0.290802  \n",
      "205                    0.795998                  0.277427  \n",
      "206                    0.423363                  0.109703  \n",
      "207                    0.384363                  0.106601  \n",
      "\n",
      "[208 rows x 16 columns]\n"
     ]
    }
   ],
   "source": [
    "ideal_diff_drive_errors_dataframe = pd.read_pickle('../data/marmotte/eval_results/ga_hard_snow_b/ideal_diff_drive_full_eval_metrics.pkl')\n",
    "icr_symmetric_errors_dataframe = pd.read_pickle('../data/marmotte/eval_results/ga_hard_snow_b/icr_symmetrical_full_eval_metrics.pkl')\n",
    "icr_asymmetric_errors_dataframe = pd.read_pickle('../data/marmotte/eval_results/ga_hard_snow_b/icr_asymmetrical_full_eval_metrics.pkl')\n",
    "enhanced_kinematic_errors_dataframe = pd.read_pickle('../data/marmotte/eval_results/ga_hard_snow_b/enhanced_kinematic_full_eval_metrics.pkl')\n",
    "\n",
    "print(enhanced_kinematic_errors_dataframe)"
   ]
  },
  {
   "cell_type": "code",
   "execution_count": 4,
   "id": "16d6755d-8467-4830-9ff7-b186571872d5",
   "metadata": {},
   "outputs": [
    {
     "name": "stdout",
     "output_type": "stream",
     "text": [
      "IDD total trans error [m] :  26.044990067176176\n",
      "IDD total ang error [rad] :  37.293592370317725\n",
      "ICR S total trans error [m] :  24.245975119468596\n",
      "ICR S total ang error [rad] :  36.12826675890081\n",
      "ICR AS total trans error [m] :  22.77035501632644\n",
      "ICR AS total ang error [rad] :  36.85396353967834\n",
      "EK total trans error [m] :  147.86040781442384\n",
      "EK AS total ang error [rad] :  37.77575032311814\n"
     ]
    }
   ],
   "source": [
    "# fetch some stats\n",
    "\n",
    "ideal_diff_drive_total_trans_error = ideal_diff_drive_errors_dataframe['prediction_error_3dof_trans'].sum()\n",
    "ideal_diff_drive_total_ang_error = ideal_diff_drive_errors_dataframe['prediction_error_3dof_ang'].sum()\n",
    "print('IDD total trans error [m] : ', ideal_diff_drive_total_trans_error)\n",
    "print('IDD total ang error [rad] : ', ideal_diff_drive_total_ang_error)\n",
    "\n",
    "icr_symmetric_total_trans_error = icr_symmetric_errors_dataframe['prediction_error_3dof_trans'].sum()\n",
    "icr_symmetric_total_ang_error = icr_symmetric_errors_dataframe['prediction_error_3dof_ang'].sum()\n",
    "print('ICR S total trans error [m] : ', icr_symmetric_total_trans_error)\n",
    "print('ICR S total ang error [rad] : ', icr_symmetric_total_ang_error)\n",
    "\n",
    "icr_asymmetric_total_trans_error = icr_asymmetric_errors_dataframe['prediction_error_3dof_trans'].sum()\n",
    "icr_asymmetric_total_ang_error = icr_asymmetric_errors_dataframe['prediction_error_3dof_ang'].sum()\n",
    "print('ICR AS total trans error [m] : ', icr_asymmetric_total_trans_error)\n",
    "print('ICR AS total ang error [rad] : ', icr_asymmetric_total_ang_error)\n",
    "\n",
    "enhanced_kinematic_total_trans_error = enhanced_kinematic_errors_dataframe['prediction_error_3dof_trans'].sum()\n",
    "enhanced_kinematic_total_ang_error = enhanced_kinematic_errors_dataframe['prediction_error_3dof_ang'].sum()\n",
    "print('EK total trans error [m] : ', enhanced_kinematic_total_trans_error)\n",
    "print('EK AS total ang error [rad] : ', enhanced_kinematic_total_ang_error)"
   ]
  },
  {
   "cell_type": "code",
   "execution_count": 6,
   "id": "3dec6a46-100e-4c35-9377-1997b9b24637",
   "metadata": {},
   "outputs": [
    {
     "data": {
      "text/plain": [
       "Text(0, 0.5, 'Angular error [rad]')"
      ]
     },
     "execution_count": 6,
     "metadata": {},
     "output_type": "execute_result"
    },
    {
     "data": {
      "image/png": "[encoded data removed]",
      "text/plain": [
       "<Figure size 576x576 with 2 Axes>"
      ]
     },
     "metadata": {
      "needs_background": "light"
     },
     "output_type": "display_data"
    }
   ],
   "source": [
    "fig1, axs = plt.subplots(2, 1, figsize=(8, 8))\n",
    "\n",
    "axs[0].boxplot(ideal_diff_drive_errors_dataframe['prediction_error_3dof_trans'], showfliers = False, positions =[0], labels=['Ideal Diff Drive'])\n",
    "axs[0].boxplot(icr_symmetric_errors_dataframe['prediction_error_3dof_trans'], showfliers = False, positions =[1], labels=['ICR Symmetrical'])\n",
    "axs[0].boxplot(icr_asymmetric_errors_dataframe['prediction_error_3dof_trans'], showfliers = False, positions =[2], labels=['ICR Asymmetrical'])\n",
    "# axs[0].boxplot(enhanced_kinematic_errors_dataframe['prediction_error_3dof_trans'], showfliers = False, positions =[3], labels=['Enhanced Kinematic'])\n",
    "axs[0].set_title('model evaluation on 2 second windows after training')\n",
    "axs[0].set_ylabel('translational error [m]')\n",
    "\n",
    "axs[1].boxplot(ideal_diff_drive_errors_dataframe['prediction_error_3dof_ang'], showfliers = False, positions =[0], labels=['Ideal Diff Drive'])\n",
    "axs[1].boxplot(icr_symmetric_errors_dataframe['prediction_error_3dof_ang'], showfliers = False, positions =[1], labels=['ICR Symmetrical'])\n",
    "axs[1].boxplot(icr_asymmetric_errors_dataframe['prediction_error_3dof_ang'], showfliers = False, positions =[2], labels=['ICR Asymmetrical'])\n",
    "# axs[1].boxplot(enhanced_kinematic_errors_dataframe['prediction_error_3dof_ang'], showfliers = False, positions =[3], labels=['Enhanced Kinematic'])\n",
    "axs[1].set_ylabel('Angular error [rad]')"
   ]
  },
  {
   "cell_type": "code",
   "execution_count": 18,
   "id": "b1022daf-2315-469b-ab0f-9864a71bfa2a",
   "metadata": {},
   "outputs": [
    {
     "data": {
      "text/plain": [
       "(array([75., 86., 83., 87., 62., 60., 46., 23., 27., 95., 34.,  4.,  7.,\n",
       "        10.,  4.,  9.,  4.,  2.,  2.,  1.,  0.,  3.,  1.,  0.,  1.,  1.,\n",
       "         0.,  0.,  1.,  2.,  0.,  0.,  0.,  0.,  0.,  0.,  1.,  0.,  2.,\n",
       "         0.,  0.,  1.,  1.,  0.,  0.,  0.,  0.,  1.,  1.,  2.]),\n",
       " array([0.00023152071944688226, 0.06091359631140111, 0.12159567190335532,\n",
       "        0.18227774749530956, 0.24295982308726377, 0.303641898679218,\n",
       "        0.36432397427117225, 0.42500604986312646, 0.48568812545508067,\n",
       "        0.5463702010470349, 0.6070522766389891, 0.6677343522309434,\n",
       "        0.7284164278228976, 0.7890985034148518, 0.849780579006806,\n",
       "        0.9104626545987602, 0.9711447301907145, 1.0318268057826687,\n",
       "        1.092508881374623, 1.1531909569665773, 1.2138730325585314,\n",
       "        1.2745551081504858, 1.33523718374244, 1.395919259334394,\n",
       "        1.4566013349263485, 1.5172834105183026, 1.5779654861102568,\n",
       "        1.638647561702211, 1.6993296372941653, 1.7600117128861195,\n",
       "        1.8206937884780736, 1.881375864070028, 1.9420579396619821,\n",
       "        2.0027400152539365, 2.0634220908458905, 2.124104166437845,\n",
       "        2.184786242029799, 2.245468317621753, 2.3061503932137075,\n",
       "        2.366832468805662, 2.427514544397616, 2.48819661998957,\n",
       "        2.5488786955815246, 2.6095607711734785, 2.670242846765433,\n",
       "        2.7309249223573873, 2.791606997949341, 2.8522890735412956,\n",
       "        2.91297114913325, 2.973653224725204, 3.0343353003171583],\n",
       "       dtype=object),\n",
       " <BarContainer object of 50 artists>)"
      ]
     },
     "execution_count": 18,
     "metadata": {},
     "output_type": "execute_result"
    },
    {
     "data": {
      "image/png": "[encoded data removed]",
      "text/plain": [
       "<Figure size 432x288 with 1 Axes>"
      ]
     },
     "metadata": {
      "needs_background": "light"
     },
     "output_type": "display_data"
    }
   ],
   "source": [
    "# plot model error histogram\n",
    "\n",
    "plt.hist(enhanced_kinematic_errors_dataframe['prediction_error_3dof_trans'].to_numpy(), 50)\n",
    "# plt.hist(enhanced_kinematic_errors_dataframe['prediction_error_3dof_ang'], 50)"
   ]
  },
  {
   "cell_type": "code",
   "execution_count": null,
   "id": "f3b1d47c-cc70-437a-beed-3b8ef4354e63",
   "metadata": {},
   "outputs": [],
   "source": []
  },
  {
   "cell_type": "code",
   "execution_count": null,
   "id": "adf85647-38c7-41cc-99a3-3dc7b6457345",
   "metadata": {},
   "outputs": [],
   "source": []
  }
 ],
 "metadata": {
  "kernelspec": {
   "display_name": "Python 3 (ipykernel)",
   "language": "python",
   "name": "python3"
  },
  "language_info": {
   "codemirror_mode": {
    "name": "ipython",
    "version": 3
   },
   "file_extension": ".py",
   "mimetype": "text/x-python",
   "name": "python",
   "nbconvert_exporter": "python",
   "pygments_lexer": "ipython3",
   "version": "3.10.6"
  }
 },
 "nbformat": 4,
 "nbformat_minor": 5
}
