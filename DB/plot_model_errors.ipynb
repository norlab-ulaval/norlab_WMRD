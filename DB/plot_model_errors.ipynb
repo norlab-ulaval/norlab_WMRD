{
 "cells": [
  {
   "cell_type": "code",
   "execution_count": 13,
   "id": "eaf652f4-631d-4bc1-bc1a-56640a6c33d8",
   "metadata": {},
   "outputs": [
    {
     "name": "stdout",
     "output_type": "stream",
     "text": [
      "3.10.6 (main, Nov 14 2022, 16:10:14) [GCC 11.3.0]\n"
     ]
    }
   ],
   "source": [
    "import numpy as np\n",
    "import pandas as pd\n",
    "\n",
    "import matplotlib.pyplot as plt\n",
    "\n",
    "import sys\n",
    "print(sys.version)\n",
    "sys.path.append('../')\n",
    "\n",
    "from models.powertrain.bounded_powertrain import Bounded_powertrain\n",
    "from models.kinematic.ideal_diff_drive import Ideal_diff_drive\n",
    "from models.kinematic.ICR_based import *\n",
    "from models.kinematic.Perturbed_unicycle import *\n",
    "from models.kinematic.enhanced_kinematic import *"
   ]
  },
  {
   "cell_type": "code",
   "execution_count": 14,
   "id": "0318d98f-4a49-415d-bbeb-9c31ecdcba39",
   "metadata": {},
   "outputs": [
    {
     "name": "stdout",
     "output_type": "stream",
     "text": [
      "[0.88132674 0.25476058]\n",
      "[ 0.86301886  0.9109506   0.00417836  0.22434593 -0.28777154]\n",
      "[ 0.13877995  5.          0.37087247 -0.08675673 -0.02581009  4.99909815]\n"
     ]
    }
   ],
   "source": [
    "# fetch model params\n",
    "\n",
    "icr_symmetric_params = np.load('../eval/training_results/marmotte/icr_symmetrical/grand_salon_a/train_full_all_horizons.npy')\n",
    "icr_asymmetric_params = np.load('../eval/training_results/marmotte/icr_asymmetrical/grand_salon_a/train_full_all_horizons.npy')\n",
    "enhanced_kinematic_params = np.load('../eval/training_results/marmotte/enhanced_kinematic/grand_salon_a/train_full_all_horizons.npy')\n",
    "\n",
    "print(icr_symmetric_params)\n",
    "print(icr_asymmetric_params)\n",
    "print(enhanced_kinematic_params)"
   ]
  },
  {
   "cell_type": "code",
   "execution_count": 15,
   "id": "32289846-8594-4d74-8548-7a3e2c91f10c",
   "metadata": {},
   "outputs": [
    {
     "name": "stdout",
     "output_type": "stream",
     "text": [
      "    prediction_error_x prediction_error_y prediction_error_z  \\\n",
      "0             0.006661           0.000976            0.00207   \n",
      "1            -0.002452           0.000404          -0.001158   \n",
      "2             0.000298          -0.001692           0.000153   \n",
      "3             0.000755           0.000415            0.00023   \n",
      "4            -0.000405           0.000081          -0.000271   \n",
      "..                 ...                ...                ...   \n",
      "734          -2.203534          -0.701447           0.024049   \n",
      "735          -0.010473           0.011687           0.004946   \n",
      "736           0.000407           -0.00038          -0.001117   \n",
      "737          -0.000381           0.000952           0.000607   \n",
      "738           0.001318          -0.000057            0.00016   \n",
      "\n",
      "    prediction_error_roll prediction_error_pitch prediction_error_yaw  \\\n",
      "0               -0.001643               0.006583             3.033976   \n",
      "1                0.000193               -0.00022            -0.000151   \n",
      "2                0.000424              -0.000131             0.000065   \n",
      "3               -0.000192              -0.000302            -0.000046   \n",
      "4               -0.000018               0.000517             0.000065   \n",
      "..                    ...                    ...                  ...   \n",
      "734             -0.025608              -0.011482            -2.986004   \n",
      "735              0.012572               0.008841            -0.147805   \n",
      "736             -0.000261               0.000412             0.000006   \n",
      "737              0.000005               0.000477             0.000319   \n",
      "738              0.000193               0.000195             0.000177   \n",
      "\n",
      "    body_icp_vx body_icp_vy body_icp_omega body_model_vx body_model_vy  \\\n",
      "0      -0.00003   -0.001914      -0.000095           0.0           0.0   \n",
      "1       0.00083    0.000251      -0.000024           0.0           0.0   \n",
      "2     -0.000448    0.000531      -0.000029           0.0           0.0   \n",
      "3      0.001057   -0.000341      -0.000032           0.0           0.0   \n",
      "4     -0.000013   -0.000082       0.000038           0.0           0.0   \n",
      "..          ...         ...            ...           ...           ...   \n",
      "734   -0.369594    0.367182      -1.925583     -0.527918      0.008392   \n",
      "735   -0.027494    0.008387      -0.069264     -0.013198       0.00021   \n",
      "736    0.001156   -0.000421       0.000063      -0.00033      0.000005   \n",
      "737    -0.00041     0.00043       0.000159     -0.000008           0.0   \n",
      "738    0.000582    0.000144       0.000047          -0.0           0.0   \n",
      "\n",
      "    body_model_omega prediction_error_6dof prediction_error_3dof  \\\n",
      "0                0.0              9.205105              9.205054   \n",
      "1                0.0              0.000008              0.000006   \n",
      "2                0.0              0.000003              0.000003   \n",
      "3                0.0              0.000001              0.000001   \n",
      "4                0.0              0.000001                   0.0   \n",
      "..               ...                   ...                   ...   \n",
      "734        -0.487558             14.265172             14.263806   \n",
      "735        -0.012189              0.022353              0.022093   \n",
      "736        -0.000305              0.000002                   0.0   \n",
      "737        -0.000008              0.000002              0.000001   \n",
      "738             -0.0              0.000002              0.000002   \n",
      "\n",
      "    prediction_error_3dof_trans prediction_error_3dof_ang  \n",
      "0                      0.006732                  3.033976  \n",
      "1                      0.002485                  0.000151  \n",
      "2                      0.001718                  0.000065  \n",
      "3                      0.000862                  0.000046  \n",
      "4                      0.000413                  0.000065  \n",
      "..                          ...                       ...  \n",
      "734                    2.312485                  2.986004  \n",
      "735                    0.015693                  0.147805  \n",
      "736                    0.000557                  0.000006  \n",
      "737                    0.001025                  0.000319  \n",
      "738                    0.001319                  0.000177  \n",
      "\n",
      "[739 rows x 16 columns]\n"
     ]
    }
   ],
   "source": [
    "ideal_diff_drive_errors_dataframe = pd.read_pickle('../data/marmotte/eval_results/grand_salon_b/ideal_diff_drive_full_eval_metrics.pkl')\n",
    "icr_symmetric_errors_dataframe = pd.read_pickle('../data/marmotte/eval_results/grand_salon_b/icr_symmetrical_full_eval_metrics.pkl')\n",
    "icr_asymmetric_errors_dataframe = pd.read_pickle('../data/marmotte/eval_results/grand_salon_b/icr_asymmetrical_full_eval_metrics.pkl')\n",
    "enhanced_kinematic_errors_dataframe = pd.read_pickle('../data/marmotte/eval_results/grand_salon_b/enhanced_kinematic_full_eval_metrics.pkl')\n",
    "\n",
    "print(enhanced_kinematic_errors_dataframe)"
   ]
  },
  {
   "cell_type": "code",
   "execution_count": 16,
   "id": "16d6755d-8467-4830-9ff7-b186571872d5",
   "metadata": {},
   "outputs": [
    {
     "name": "stdout",
     "output_type": "stream",
     "text": [
      "IDD total trans error [m] :  273.59531833547607\n",
      "IDD total ang error [rad] :  399.3854601899266\n",
      "ICR S total trans error [m] :  118.21742625274095\n",
      "ICR S total ang error [rad] :  171.29036945890712\n",
      "ICR AS total trans error [m] :  114.89540248437564\n",
      "ICR AS total ang error [rad] :  178.35717813941045\n",
      "EK total trans error [m] :  272.821932282887\n",
      "EK AS total ang error [rad] :  394.0159194671264\n"
     ]
    }
   ],
   "source": [
    "# fetch some stats\n",
    "\n",
    "ideal_diff_drive_total_trans_error = ideal_diff_drive_errors_dataframe['prediction_error_3dof_trans'].sum()\n",
    "ideal_diff_drive_total_ang_error = ideal_diff_drive_errors_dataframe['prediction_error_3dof_ang'].sum()\n",
    "print('IDD total trans error [m] : ', ideal_diff_drive_total_trans_error)\n",
    "print('IDD total ang error [rad] : ', ideal_diff_drive_total_ang_error)\n",
    "\n",
    "icr_symmetric_total_trans_error = icr_symmetric_errors_dataframe['prediction_error_3dof_trans'].sum()\n",
    "icr_symmetric_total_ang_error = icr_symmetric_errors_dataframe['prediction_error_3dof_ang'].sum()\n",
    "print('ICR S total trans error [m] : ', icr_symmetric_total_trans_error)\n",
    "print('ICR S total ang error [rad] : ', icr_symmetric_total_ang_error)\n",
    "\n",
    "icr_asymmetric_total_trans_error = icr_asymmetric_errors_dataframe['prediction_error_3dof_trans'].sum()\n",
    "icr_asymmetric_total_ang_error = icr_asymmetric_errors_dataframe['prediction_error_3dof_ang'].sum()\n",
    "print('ICR AS total trans error [m] : ', icr_asymmetric_total_trans_error)\n",
    "print('ICR AS total ang error [rad] : ', icr_asymmetric_total_ang_error)\n",
    "\n",
    "enhanced_kinematic_total_trans_error = enhanced_kinematic_errors_dataframe['prediction_error_3dof_trans'].sum()\n",
    "enhanced_kinematic_total_ang_error = enhanced_kinematic_errors_dataframe['prediction_error_3dof_ang'].sum()\n",
    "print('EK total trans error [m] : ', enhanced_kinematic_total_trans_error)\n",
    "print('EK AS total ang error [rad] : ', enhanced_kinematic_total_ang_error)"
   ]
  },
  {
   "cell_type": "code",
   "execution_count": 17,
   "id": "3dec6a46-100e-4c35-9377-1997b9b24637",
   "metadata": {},
   "outputs": [
    {
     "data": {
      "text/plain": [
       "Text(0, 0.5, 'Angular error [rad]')"
      ]
     },
     "execution_count": 17,
     "metadata": {},
     "output_type": "execute_result"
    },
    {
     "data": {
      "image/png": "[encoded data removed]",
      "text/plain": [
       "<Figure size 576x576 with 2 Axes>"
      ]
     },
     "metadata": {
      "needs_background": "light"
     },
     "output_type": "display_data"
    }
   ],
   "source": [
    "fig1, axs = plt.subplots(2, 1, figsize=(8, 8))\n",
    "\n",
    "axs[0].boxplot(ideal_diff_drive_errors_dataframe['prediction_error_3dof_trans'], showfliers = False, positions =[0], labels=['Ideal Diff Drive'])\n",
    "axs[0].boxplot(icr_symmetric_errors_dataframe['prediction_error_3dof_trans'], showfliers = False, positions =[1], labels=['ICR Symmetrical'])\n",
    "axs[0].boxplot(icr_asymmetric_errors_dataframe['prediction_error_3dof_trans'], showfliers = False, positions =[2], labels=['ICR Asymmetrical'])\n",
    "axs[0].boxplot(enhanced_kinematic_errors_dataframe['prediction_error_3dof_trans'], showfliers = False, positions =[3], labels=['Enhanced Kinematic'])\n",
    "axs[0].set_title('model evaluation on 2 second windows after training')\n",
    "axs[0].set_ylabel('translational error [m]')\n",
    "\n",
    "axs[1].boxplot(ideal_diff_drive_errors_dataframe['prediction_error_3dof_ang'], showfliers = False, positions =[0], labels=['Ideal Diff Drive'])\n",
    "axs[1].boxplot(icr_symmetric_errors_dataframe['prediction_error_3dof_ang'], showfliers = False, positions =[1], labels=['ICR Symmetrical'])\n",
    "axs[1].boxplot(icr_asymmetric_errors_dataframe['prediction_error_3dof_ang'], showfliers = False, positions =[2], labels=['ICR Asymmetrical'])\n",
    "axs[1].boxplot(enhanced_kinematic_errors_dataframe['prediction_error_3dof_ang'], showfliers = False, positions =[3], labels=['Enhanced Kinematic'])\n",
    "axs[1].set_ylabel('Angular error [rad]')"
   ]
  },
  {
   "cell_type": "code",
   "execution_count": 18,
   "id": "b1022daf-2315-469b-ab0f-9864a71bfa2a",
   "metadata": {},
   "outputs": [
    {
     "data": {
      "text/plain": [
       "(array([75., 86., 83., 87., 62., 60., 46., 23., 27., 95., 34.,  4.,  7.,\n",
       "        10.,  4.,  9.,  4.,  2.,  2.,  1.,  0.,  3.,  1.,  0.,  1.,  1.,\n",
       "         0.,  0.,  1.,  2.,  0.,  0.,  0.,  0.,  0.,  0.,  1.,  0.,  2.,\n",
       "         0.,  0.,  1.,  1.,  0.,  0.,  0.,  0.,  1.,  1.,  2.]),\n",
       " array([0.00023152071944688226, 0.06091359631140111, 0.12159567190335532,\n",
       "        0.18227774749530956, 0.24295982308726377, 0.303641898679218,\n",
       "        0.36432397427117225, 0.42500604986312646, 0.48568812545508067,\n",
       "        0.5463702010470349, 0.6070522766389891, 0.6677343522309434,\n",
       "        0.7284164278228976, 0.7890985034148518, 0.849780579006806,\n",
       "        0.9104626545987602, 0.9711447301907145, 1.0318268057826687,\n",
       "        1.092508881374623, 1.1531909569665773, 1.2138730325585314,\n",
       "        1.2745551081504858, 1.33523718374244, 1.395919259334394,\n",
       "        1.4566013349263485, 1.5172834105183026, 1.5779654861102568,\n",
       "        1.638647561702211, 1.6993296372941653, 1.7600117128861195,\n",
       "        1.8206937884780736, 1.881375864070028, 1.9420579396619821,\n",
       "        2.0027400152539365, 2.0634220908458905, 2.124104166437845,\n",
       "        2.184786242029799, 2.245468317621753, 2.3061503932137075,\n",
       "        2.366832468805662, 2.427514544397616, 2.48819661998957,\n",
       "        2.5488786955815246, 2.6095607711734785, 2.670242846765433,\n",
       "        2.7309249223573873, 2.791606997949341, 2.8522890735412956,\n",
       "        2.91297114913325, 2.973653224725204, 3.0343353003171583],\n",
       "       dtype=object),\n",
       " <BarContainer object of 50 artists>)"
      ]
     },
     "execution_count": 18,
     "metadata": {},
     "output_type": "execute_result"
    },
    {
     "data": {
      "image/png": "[encoded data removed]",
      "text/plain": [
       "<Figure size 432x288 with 1 Axes>"
      ]
     },
     "metadata": {
      "needs_background": "light"
     },
     "output_type": "display_data"
    }
   ],
   "source": [
    "# plot model error histogram\n",
    "\n",
    "plt.hist(enhanced_kinematic_errors_dataframe['prediction_error_3dof_trans'].to_numpy(), 50)\n",
    "# plt.hist(enhanced_kinematic_errors_dataframe['prediction_error_3dof_ang'], 50)"
   ]
  },
  {
   "cell_type": "code",
   "execution_count": null,
   "id": "f3b1d47c-cc70-437a-beed-3b8ef4354e63",
   "metadata": {},
   "outputs": [],
   "source": []
  },
  {
   "cell_type": "code",
   "execution_count": null,
   "id": "adf85647-38c7-41cc-99a3-3dc7b6457345",
   "metadata": {},
   "outputs": [],
   "source": []
  }
 ],
 "metadata": {
  "kernelspec": {
   "display_name": "Python 3 (ipykernel)",
   "language": "python",
   "name": "python3"
  },
  "language_info": {
   "codemirror_mode": {
    "name": "ipython",
    "version": 3
   },
   "file_extension": ".py",
   "mimetype": "text/x-python",
   "name": "python",
   "nbconvert_exporter": "python",
   "pygments_lexer": "ipython3",
   "version": "3.10.6"
  }
 },
 "nbformat": 4,
 "nbformat_minor": 5
}
