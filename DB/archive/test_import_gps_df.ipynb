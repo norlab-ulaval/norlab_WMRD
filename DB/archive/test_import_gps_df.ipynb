{
 "cells": [
  {
   "cell_type": "code",
   "execution_count": 1,
   "metadata": {},
   "outputs": [
    {
     "name": "stderr",
     "output_type": "stream",
     "text": [
      "Failed to load Python extension for LZ4 support. LZ4 compression will not be available.\n"
     ]
    }
   ],
   "source": [
    "import matplotlib.pyplot as plt\n",
    "import numpy as np\n",
    "import pandas as pd\n",
    "import rosbag\n",
    "from tqdm import tqdm\n",
    "import glob, os\n",
    "\n",
    "plt.rc('font', family='serif', serif='Times')\n",
    "plt.rc('text', usetex=True)\n",
    "plt.rc('xtick', labelsize=8)\n",
    "plt.rc('ytick', labelsize=8)\n",
    "plt.rc('axes', labelsize=8)\n",
    "\n",
    "width = 3.487\n",
    "height = width / 1.618\n",
    "\n",
    "%run ./scripts/util_func.py\n",
    "%run ./scripts/model_func.py"
   ]
  },
  {
   "cell_type": "code",
   "execution_count": 2,
   "metadata": {},
   "outputs": [
    {
     "name": "stdout",
     "output_type": "stream",
     "text": [
      "         timestamp  imu_roll_vel  imu_pitch_vel  imu_yaw_vel  cmd_vx  \\\n",
      "0         0.000000      0.000000       0.000000     0.000000     0.0   \n",
      "1         0.056456      0.000000       0.000000     0.000000     0.0   \n",
      "2         0.106417      0.000000       0.000000     0.000000     0.0   \n",
      "3         0.151805      0.000000       0.000000     0.000000     0.0   \n",
      "4         0.201219     -0.000032      -0.004903    -0.000315     0.0   \n",
      "...            ...           ...            ...          ...     ...   \n",
      "47289  2364.451402     -0.001022       0.000108    -0.001432     0.1   \n",
      "47290  2364.500847     -0.001821      -0.002145    -0.001958     0.1   \n",
      "47291  2364.550206     -0.001588      -0.002174    -0.000701     0.1   \n",
      "47292  2364.606586     -0.002529      -0.001212    -0.000308     0.1   \n",
      "47293  2364.656759     -0.000430      -0.002226    -0.001716     0.1   \n",
      "\n",
      "       cmd_omega      icp_x      icp_y     icp_z  icp_roll  ...  icp_omega  \\\n",
      "0            0.0   0.000000   0.000000  0.000000  0.000000  ...   0.000000   \n",
      "1            0.0   0.000000   0.000000  0.000000  0.000000  ...   0.000000   \n",
      "2            0.0   0.000000   0.000000  0.000000  0.000000  ...   0.000000   \n",
      "3            0.0   0.000000   0.000000  0.000000  0.000000  ...   0.000000   \n",
      "4            0.0   0.000000   0.000000  0.000000  0.000000  ...   0.000000   \n",
      "...          ...        ...        ...       ...       ...  ...        ...   \n",
      "47289        0.0 -19.068436  32.707794 -0.056411 -0.022857  ...  -0.000552   \n",
      "47290        0.0 -19.067410  32.703308 -0.057488 -0.022809  ...  -0.000552   \n",
      "47291        0.0 -19.067410  32.703308 -0.057488 -0.022809  ...   0.001317   \n",
      "47292        0.0 -19.062212  32.711601 -0.055480 -0.022860  ...   0.001317   \n",
      "47293        0.0 -19.062212  32.711601 -0.055480 -0.022860  ...   0.000000   \n",
      "\n",
      "       wheel_left_vel  wheel_right_vel  diff_drive_vels_x  diff_drive_vels_y  \\\n",
      "0                 0.0              0.0                0.0                0.0   \n",
      "1                 0.0              0.0                0.0                0.0   \n",
      "2                 0.0              0.0                0.0                0.0   \n",
      "3                 0.0              0.0                0.0                0.0   \n",
      "4                 0.0              0.0                0.0                0.0   \n",
      "...               ...              ...                ...                ...   \n",
      "47289             0.0              0.0                0.0                0.0   \n",
      "47290             0.0              0.0                0.0                0.0   \n",
      "47291             0.0              0.0                0.0                0.0   \n",
      "47292             0.0              0.0                0.0                0.0   \n",
      "47293             0.0              0.0                0.0                0.0   \n",
      "\n",
      "       diff_drive_vels_omega  calib_step  steady_state_mask    utm_lat  \\\n",
      "0                        0.0         0.0                0.0  30.713035   \n",
      "1                        0.0         0.0                0.0  30.671606   \n",
      "2                        0.0         0.0                0.0  30.616894   \n",
      "3                        0.0         0.0                0.0  30.589878   \n",
      "4                        0.0         0.0                0.0  30.558970   \n",
      "...                      ...         ...                ...        ...   \n",
      "47289                    0.0       215.0                0.0  24.696084   \n",
      "47290                    0.0       215.0                0.0  24.696764   \n",
      "47291                    0.0       215.0                0.0  24.695948   \n",
      "47292                    0.0       215.0                0.0  24.695791   \n",
      "47293                    0.0       215.0                0.0  24.696939   \n",
      "\n",
      "         utm_lon  \n",
      "0      17.382319  \n",
      "1      17.513032  \n",
      "2      17.644428  \n",
      "3      17.742828  \n",
      "4      17.879539  \n",
      "...          ...  \n",
      "47289  23.550038  \n",
      "47290  23.551206  \n",
      "47291  23.550178  \n",
      "47292  23.549728  \n",
      "47293  23.550821  \n",
      "\n",
      "[47294 rows x 24 columns]\n"
     ]
    }
   ],
   "source": [
    "# import test gps data\n",
    "\n",
    "dataframe = pd.read_pickle('/home/dominic/repos/norlab_WMRD/data/husky/parsed_data/grass_1_full_with_positions_warthog.csv')\n",
    "\n",
    "print(dataframe)"
   ]
  },
  {
   "cell_type": "code",
   "execution_count": null,
   "metadata": {},
   "outputs": [],
   "source": []
  }
 ],
 "metadata": {
  "kernelspec": {
   "display_name": "venv",
   "language": "python",
   "name": "venv"
  },
  "language_info": {
   "codemirror_mode": {
    "name": "ipython",
    "version": 3
   },
   "file_extension": ".py",
   "mimetype": "text/x-python",
   "name": "python",
   "nbconvert_exporter": "python",
   "pygments_lexer": "ipython3",
   "version": "3.8.13"
  }
 },
 "nbformat": 4,
 "nbformat_minor": 2
}
