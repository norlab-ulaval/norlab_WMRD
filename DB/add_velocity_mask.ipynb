{
 "cells": [
  {
   "cell_type": "code",
   "execution_count": 53,
   "metadata": {},
   "outputs": [],
   "source": [
    "import numpy as np\n",
    "import pandas as pd\n",
    "import matplotlib.pyplot as plt"
   ]
  },
  {
   "cell_type": "code",
   "execution_count": 54,
   "metadata": {},
   "outputs": [
    {
     "name": "stdout",
     "output_type": "stream",
     "text": [
      "         timestamp  imu_roll_vel  imu_pitch_vel  imu_yaw_vel  cmd_vx  \\\n",
      "0         0.000000      0.000000       0.000000     0.000000     0.0   \n",
      "1         0.056456      0.000000       0.000000     0.000000     0.0   \n",
      "2         0.106417      0.000000       0.000000     0.000000     0.0   \n",
      "3         0.151805      0.000000       0.000000     0.000000     0.0   \n",
      "4         0.201219     -0.000032      -0.004903    -0.000315     0.0   \n",
      "...            ...           ...            ...          ...     ...   \n",
      "47289  2364.451402     -0.001022       0.000108    -0.001432     0.1   \n",
      "47290  2364.500847     -0.001821      -0.002145    -0.001958     0.1   \n",
      "47291  2364.550206     -0.001588      -0.002174    -0.000701     0.1   \n",
      "47292  2364.606586     -0.002529      -0.001212    -0.000308     0.1   \n",
      "47293  2364.656759     -0.000430      -0.002226    -0.001716     0.1   \n",
      "\n",
      "       cmd_omega      icp_x      icp_y     icp_z  icp_roll  ...        icp_vx  \\\n",
      "0            0.0   0.000000   0.000000  0.000000  0.000000  ...  0.000000e+00   \n",
      "1            0.0   0.000000   0.000000  0.000000  0.000000  ...  0.000000e+00   \n",
      "2            0.0   0.000000   0.000000  0.000000  0.000000  ... -6.285827e-10   \n",
      "3            0.0   0.000000   0.000000  0.000000  0.000000  ... -2.388283e-02   \n",
      "4            0.0   0.000000   0.000000  0.000000  0.000000  ... -4.776565e-02   \n",
      "...          ...        ...        ...       ...       ...  ...           ...   \n",
      "47289        0.0 -19.068436  32.707794 -0.056411 -0.022857  ...  1.441662e-02   \n",
      "47290        0.0 -19.067410  32.703308 -0.057488 -0.022809  ...  1.589299e-02   \n",
      "47291        0.0 -19.067410  32.703308 -0.057488 -0.022809  ...  1.664724e-02   \n",
      "47292        0.0 -19.062212  32.711601 -0.055480 -0.022860  ...  1.740148e-02   \n",
      "47293        0.0 -19.062212  32.711601 -0.055480 -0.022860  ...  1.449559e-02   \n",
      "\n",
      "         icp_vy  icp_omega  wheel_left_vel  wheel_right_vel  \\\n",
      "0      0.000000   0.000000             0.0              0.0   \n",
      "1      0.000000   0.000000             0.0              0.0   \n",
      "2      0.000000   0.000000             0.0              0.0   \n",
      "3      0.000000   0.000000             0.0              0.0   \n",
      "4      0.000000   0.000000             0.0              0.0   \n",
      "...         ...        ...             ...              ...   \n",
      "47289 -0.046312  -0.000552             0.0              0.0   \n",
      "47290 -0.046312  -0.000552             0.0              0.0   \n",
      "47291  0.081125   0.001317             0.0              0.0   \n",
      "47292  0.081125   0.001317             0.0              0.0   \n",
      "47293  0.000000   0.000000             0.0              0.0   \n",
      "\n",
      "       diff_drive_vels_x  diff_drive_vels_y  diff_drive_vels_omega  \\\n",
      "0                    0.0                0.0                    0.0   \n",
      "1                    0.0                0.0                    0.0   \n",
      "2                    0.0                0.0                    0.0   \n",
      "3                    0.0                0.0                    0.0   \n",
      "4                    0.0                0.0                    0.0   \n",
      "...                  ...                ...                    ...   \n",
      "47289                0.0                0.0                    0.0   \n",
      "47290                0.0                0.0                    0.0   \n",
      "47291                0.0                0.0                    0.0   \n",
      "47292                0.0                0.0                    0.0   \n",
      "47293                0.0                0.0                    0.0   \n",
      "\n",
      "       calib_step  steady_state_mask  \n",
      "0             0.0                0.0  \n",
      "1             0.0                0.0  \n",
      "2             0.0                0.0  \n",
      "3             0.0                0.0  \n",
      "4             0.0                0.0  \n",
      "...           ...                ...  \n",
      "47289       215.0                0.0  \n",
      "47290       215.0                0.0  \n",
      "47291       215.0                0.0  \n",
      "47292       215.0                0.0  \n",
      "47293       215.0                0.0  \n",
      "\n",
      "[47294 rows x 22 columns]\n",
      "(34400, 22)\n"
     ]
    }
   ],
   "source": [
    "# import dataframe\n",
    "\n",
    "parsed_dataset_df = pd.read_pickle('/home/dominic/repos/norlab_WMRD/data/husky/parsed_data/grass_1_full.csv')\n",
    "\n",
    "parsed_dataset = parsed_dataset_df.to_numpy()\n",
    "\n",
    "steady_state_mask = parsed_dataset_df['steady_state_mask'] == True\n",
    "parsed_dataset_steady_state = parsed_dataset[steady_state_mask]\n",
    "\n",
    "# cols = ['timestamp', 'imu_roll_vel', 'imu_pitch_vel', 'imu_yaw_vel', 'cmd_vx', 'cmd_omega', \n",
    "#         'icp_x', 'icp_y', 'icp_z', 'icp_roll', 'icp_pitch', 'icp_yaw', 'icp_vx', 'icp_vy', 'icp_omega',\n",
    "#         'wheel_left_vel', 'wheel_right_vel', 'diff_drive_vels_x', 'diff_drive_vels_y', 'diff_drive_vels_omega', \n",
    "#         'calib_step', 'steady_state_mask']\n",
    "\n",
    "print(parsed_dataset_df)\n",
    "print(parsed_dataset_steady_state.shape)"
   ]
  },
  {
   "cell_type": "code",
   "execution_count": 55,
   "metadata": {},
   "outputs": [
    {
     "name": "stdout",
     "output_type": "stream",
     "text": [
      "(34400, 22)\n",
      "639\n",
      "639\n",
      "34160\n",
      "34200\n"
     ]
    }
   ],
   "source": [
    "# loop through dataset, find all horizons\n",
    "\n",
    "parsed_dataset_steady_state = parsed_dataset[steady_state_mask]\n",
    "print(parsed_dataset_steady_state.shape)\n",
    "n_points_steady_state = parsed_dataset_steady_state.shape[0]\n",
    "\n",
    "training_horizon = 2\n",
    "\n",
    "horizon_starts = []\n",
    "horizon_ends = []\n",
    "\n",
    "for i in range(1, n_points_steady_state):\n",
    "    if parsed_dataset_steady_state[i-1, 20] != parsed_dataset_steady_state[i, 20]:\n",
    "        horizon_starts.append(i)\n",
    "        horizon_elapsed = 0\n",
    "        j = i\n",
    "        if parsed_dataset_steady_state[j, 20] == parsed_dataset_steady_state[-1, 20]:\n",
    "            horizon_starts.pop()\n",
    "            break\n",
    "        while parsed_dataset_steady_state[j+1, 20] == parsed_dataset_steady_state[j, 20]:\n",
    "            horizon_elapsed += (parsed_dataset[j+1, 0] - parsed_dataset[j, 0])\n",
    "            if horizon_elapsed >= 2.0:\n",
    "                horizon_ends.append(j)\n",
    "                horizon_starts.append(j+1)\n",
    "                horizon_elapsed = 0\n",
    "            j += 1\n",
    "        horizon_starts.pop()\n",
    "\n",
    "print(len(horizon_starts))\n",
    "print(len(horizon_ends))\n",
    "\n",
    "print(horizon_starts[638])\n",
    "print(horizon_ends[638])\n",
    "    "
   ]
  },
  {
   "cell_type": "code",
   "execution_count": 68,
   "metadata": {},
   "outputs": [
    {
     "name": "stdout",
     "output_type": "stream",
     "text": [
      "     init_icp_x  init_icp_y  init_icp_z  init_icp_roll  init_icp_pitch  \\\n",
      "0      1.012477   15.459271   -0.206953      -0.014097        0.005596   \n",
      "1      0.470085   16.733973   -0.205989      -0.019562        0.022385   \n",
      "2     -0.525775   17.687853   -0.185594      -0.027426        0.016527   \n",
      "3     -3.952225   17.789022   -0.094262       0.031605        0.053115   \n",
      "4     -4.462355   16.993017   -0.064404       0.010496        0.031299   \n",
      "..          ...         ...         ...            ...             ...   \n",
      "634  -18.067970   23.864222   -0.041522       0.022923       -0.032532   \n",
      "635  -18.009340   23.414803   -0.020184       0.029014       -0.003202   \n",
      "636  -17.307983   28.173689   -0.005993      -0.011654        0.006429   \n",
      "637  -16.765856   28.187654   -0.054634      -0.006683       -0.018721   \n",
      "638  -16.205238   27.868204   -0.069717       0.004665       -0.003175   \n",
      "\n",
      "     init_icp_yaw  calib_step  cmd_vx  cmd_omega  mask  ...  \\\n",
      "0       -1.366977         1.0    -2.0   0.416667   1.0  ...   \n",
      "1       -0.980306         1.0    -2.0   0.416667   1.0  ...   \n",
      "2       -0.578643         1.0    -2.0   0.416667   1.0  ...   \n",
      "3        0.720821         2.0    -2.0   0.833333   1.0  ...   \n",
      "4        1.361707         2.0    -2.0   0.833333   1.0  ...   \n",
      "..            ...         ...     ...        ...   ...  ...   \n",
      "634     -0.803319       212.0     2.0  -1.666667   0.0  ...   \n",
      "635     -1.699874       212.0     2.0  -1.666667   0.0  ...   \n",
      "636      0.385637       213.0     2.0  -1.250000   0.0  ...   \n",
      "637     -0.195229       213.0     2.0  -1.250000   0.0  ...   \n",
      "638     -0.793489       213.0     2.0  -1.250000   0.0  ...   \n",
      "\n",
      "     cmd_left_wheel_38  cmd_right_wheel_38  cmd_left_wheel_39  \\\n",
      "0            -5.215992           -3.958246          -5.215992   \n",
      "1            -5.075070           -3.826168          -4.902075   \n",
      "2            -4.866119           -3.692610          -5.048149   \n",
      "3            -4.344239           -2.259919          -4.344239   \n",
      "4            -4.509055           -2.311590          -4.358631   \n",
      "..                 ...                 ...                ...   \n",
      "634           3.298339            0.292968           3.298339   \n",
      "635           3.208708            0.278097           3.208708   \n",
      "636           2.611630            0.985959           2.833334   \n",
      "637           3.124906            1.187549           3.032663   \n",
      "638           2.939857            1.110953           3.041378   \n",
      "\n",
      "     cmd_right_wheel_39   gt_icp_x   gt_icp_y  gt_icp_z  gt_icp_roll  \\\n",
      "0             -3.958246   0.470085  16.733973 -0.205989    -0.019562   \n",
      "1             -3.676728  -0.479400  17.643803 -0.182747    -0.027346   \n",
      "2             -3.826220  -1.714990  18.128033 -0.164649    -0.028469   \n",
      "3             -2.259919  -4.462355  16.993017 -0.064404     0.010496   \n",
      "4             -2.218300  -4.379301  16.063690 -0.052043     0.027459   \n",
      "..                  ...        ...        ...       ...          ...   \n",
      "634            0.292968 -18.009340  23.414803 -0.020184     0.029014   \n",
      "635            0.278097 -18.310274  22.998201 -0.001122     0.012250   \n",
      "636            1.068453 -16.765856  28.187654 -0.054634    -0.006683   \n",
      "637            1.138367 -16.221001  27.879833 -0.072946     0.004533   \n",
      "638            1.155617 -15.954302  27.340267 -0.067093    -0.007861   \n",
      "\n",
      "     gt_icp_pitch  gt_icp_yaw  \n",
      "0        0.022385   -0.980306  \n",
      "1        0.017619   -0.597208  \n",
      "2        0.030251   -0.219698  \n",
      "3        0.031299    1.361707  \n",
      "4       -0.008671    1.982162  \n",
      "..            ...         ...  \n",
      "634     -0.003202   -1.699874  \n",
      "635      0.007587   -2.643755  \n",
      "636     -0.018721   -0.195229  \n",
      "637     -0.005297   -0.764515  \n",
      "638     -0.000250   -1.375772  \n",
      "\n",
      "[639 rows x 101 columns]\n"
     ]
    }
   ],
   "source": [
    "# build torch-ready wheel-encoder dataset\n",
    "\n",
    "rate = 0.05\n",
    "timesteps_per_horizon = int(training_horizon / rate)\n",
    "\n",
    "torch_input_array = np.zeros((len(horizon_starts), 15+timesteps_per_horizon*2)) # [icp_x, icp_y, icp_yaw, vx0, vomega0, vx1, vomega1, vx2, vomega2, vx3, vomega3]\n",
    "torch_output_array = np.zeros((len(horizon_starts), 6)) # [icp_x, icp_y, icp_yaw]\n",
    "\n",
    "for i in range(0, len(horizon_starts)):\n",
    "    horizon_start = horizon_starts[i]\n",
    "    horizon_end = horizon_ends[i]\n",
    "    torch_input_array[i, :6] = parsed_dataset_steady_state[horizon_start, 6:12] # init_state\n",
    "    torch_input_array[i, 6] = parsed_dataset_steady_state[horizon_start, 20] # calib_step\n",
    "    torch_input_array[i, 7] = parsed_dataset_steady_state[horizon_start, 4] # cmd_vx\n",
    "    torch_input_array[i, 8] = parsed_dataset_steady_state[horizon_start, 5] # cmd_omega\n",
    "    if torch_input_array[i, 8] <= 0: #and torch_input_array[i, 8] <= 0:\n",
    "        torch_input_array[i, 9] = 0\n",
    "    else:\n",
    "        torch_input_array[i, 9] = 1\n",
    "\n",
    "    torch_input_array[i, 10] = np.mean(parsed_dataset_steady_state[horizon_start:horizon_end, 17]) # encoder_vx\n",
    "    torch_input_array[i, 11] = np.mean(parsed_dataset_steady_state[horizon_start:horizon_end, 19]) # encoder_omega\n",
    "    torch_input_array[i, 12] = np.mean(parsed_dataset_steady_state[horizon_start:horizon_end, 12]) # icp_vx\n",
    "    torch_input_array[i, 13] = np.mean(parsed_dataset_steady_state[horizon_start:horizon_end, 13]) # icp_vy\n",
    "    torch_input_array[i, 14] = np.mean(parsed_dataset_steady_state[horizon_start:horizon_end, 14]) # icp_omega\n",
    "#     torch_input_array[i, 9] = 1\n",
    "    \n",
    "    for j in range(0, timesteps_per_horizon):\n",
    "        torch_input_array[i, 15+j*2] = parsed_dataset_steady_state[horizon_start+j, 15]\n",
    "        torch_input_array[i, 15+j*2+1] = parsed_dataset_steady_state[horizon_start+j, 16]\n",
    "    torch_output_array[i, :] = parsed_dataset_steady_state[horizon_end, 6:12]\n",
    "    \n",
    "torch_array = np.concatenate((torch_input_array, torch_output_array), axis=1)\n",
    "\n",
    "cols = ['init_icp_x', 'init_icp_y', 'init_icp_z', 'init_icp_roll', 'init_icp_pitch', 'init_icp_yaw']\n",
    "cols.append('calib_step')\n",
    "cols.append('cmd_vx')\n",
    "cols.append('cmd_omega')\n",
    "cols.append('mask')\n",
    "cols.append('encoder_vx')\n",
    "cols.append('encoder_omega')\n",
    "cols.append('icp_vx')\n",
    "cols.append('icp_vy')\n",
    "cols.append('icp_omega')\n",
    "for i in range(0, timesteps_per_horizon):\n",
    "    str_cmd_vx_i = 'cmd_left_wheel_' + str(i)\n",
    "    str_cmd_omega_i = 'cmd_right_wheel_' + str(i)\n",
    "    cols.append(str_cmd_vx_i)\n",
    "    cols.append(str_cmd_omega_i)\n",
    "cols.append('gt_icp_x')\n",
    "cols.append('gt_icp_y')\n",
    "cols.append('gt_icp_z')\n",
    "cols.append('gt_icp_roll')\n",
    "cols.append('gt_icp_pitch')\n",
    "cols.append('gt_icp_yaw')\n",
    "\n",
    "torch_dataset_df = pd.DataFrame(torch_array, columns = cols)\n",
    "torch_dataset_df.to_pickle('/home/dominic/repos/norlab_WMRD/data/husky/masked_datasets/grass_1_right.csv')\n",
    "\n",
    "print(torch_dataset_df)"
   ]
  },
  {
   "cell_type": "code",
   "execution_count": 65,
   "metadata": {},
   "outputs": [
    {
     "data": {
      "text/plain": [
       "[<matplotlib.lines.Line2D at 0x7f8e999cbe20>]"
      ]
     },
     "execution_count": 65,
     "metadata": {},
     "output_type": "execute_result"
    },
    {
     "data": {
      "image/png": "[encoded data removed]",
      "text/plain": [
       "<Figure size 432x288 with 1 Axes>"
      ]
     },
     "metadata": {
      "needs_background": "light"
     },
     "output_type": "display_data"
    }
   ],
   "source": [
    "plt.plot(torch_input_array[:, 14])"
   ]
  },
  {
   "cell_type": "code",
   "execution_count": 36,
   "metadata": {},
   "outputs": [
    {
     "name": "stdout",
     "output_type": "stream",
     "text": [
      "0.4166666666666667\n"
     ]
    }
   ],
   "source": [
    "# experiment params\n",
    "\n",
    "max_lin_speed = 2.0\n",
    "lin_step = 0.5\n",
    "max_ang_vel = 2.5\n",
    "ang_steps = 12\n",
    "ang_inc = 2 * max_ang_vel / ang_steps\n",
    "print(ang_inc)\n",
    "\n",
    "n_lin_steps = int(2 * max_lin_speed / lin_step) + 1\n",
    "\n",
    "# create velocity array mask\n",
    "\n",
    "full_vels_array = np.zeros((n_lin_steps, ang_steps+1, 2))\n",
    "\n",
    "for i in range(0, n_lin_steps):\n",
    "    full_vels_array[i, :, 0] = -max_lin_speed + i*lin_step\n",
    "    full_vels_array[i, 0, 1] = - max_ang_vel\n",
    "    for j in range(1, ang_steps+1):\n",
    "        full_vels_array[i,j, 1] = -max_ang_vel + j*ang_inc\n",
    "        \n",
    "print(full_vels_array[:,:,0])\n",
    "print(full_vels_array[:,:,1])"
   ]
  },
  {
   "cell_type": "code",
   "execution_count": 20,
   "metadata": {},
   "outputs": [],
   "source": [
    "# create velocity mask array\n",
    "\n",
    "vel_mask_array = np.full((full_vels_array.shape[0], full_vels_array.shape[1]), True)\n",
    "\n",
    "for i in range(0, full_vels_array.shape[0]):\n",
    "    for j in range(0, full_vels_array.shape[1]):\n",
    "        if full_vels_array[i,j,0] >= 0 and full_vels_array[i,j,1] <= 0:\n",
    "            vel_mask_array[i,j] = False\n",
    "            \n",
    "np.save('/home/dominic/repos/norlab_WMRD/data/husky/vel_mask_array_all.npy', vel_mask_array)"
   ]
  },
  {
   "cell_type": "code",
   "execution_count": 21,
   "metadata": {},
   "outputs": [
    {
     "name": "stdout",
     "output_type": "stream",
     "text": [
      "(9, 13, 2)\n",
      "(117, 2)\n"
     ]
    }
   ],
   "source": [
    "masked_vel_array = full_vels_array[vel_mask_array]\n",
    "\n",
    "print(full_vels_array.shape)\n",
    "print(masked_vel_array.shape)\n",
    "\n",
    "print()"
   ]
  },
  {
   "cell_type": "code",
   "execution_count": null,
   "metadata": {},
   "outputs": [],
   "source": []
  }
 ],
 "metadata": {
  "kernelspec": {
   "display_name": "venv",
   "language": "python",
   "name": "venv"
  },
  "language_info": {
   "codemirror_mode": {
    "name": "ipython",
    "version": 3
   },
   "file_extension": ".py",
   "mimetype": "text/x-python",
   "name": "python",
   "nbconvert_exporter": "python",
   "pygments_lexer": "ipython3",
   "version": "3.8.13"
  }
 },
 "nbformat": 4,
 "nbformat_minor": 2
}
