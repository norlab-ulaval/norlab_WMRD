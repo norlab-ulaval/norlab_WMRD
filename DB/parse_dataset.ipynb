{
 "cells": [
  {
   "cell_type": "code",
   "execution_count": 1,
   "metadata": {},
   "outputs": [
    {
     "name": "stderr",
     "output_type": "stream",
     "text": [
      "Failed to load Python extension for LZ4 support. LZ4 compression will not be available.\n"
     ]
    }
   ],
   "source": [
    "import matplotlib.pyplot as plt\n",
    "import numpy as np\n",
    "import pandas as pd\n",
    "import rosbag\n",
    "from tqdm import tqdm\n",
    "import glob, os\n",
    "\n",
    "plt.rc('font', family='serif', serif='Times')\n",
    "plt.rc('text', usetex=True)\n",
    "plt.rc('xtick', labelsize=8)\n",
    "plt.rc('ytick', labelsize=8)\n",
    "plt.rc('axes', labelsize=8)\n",
    "\n",
    "width = 3.487\n",
    "height = width / 1.618\n",
    "\n",
    "%run ./scripts/util_func.py\n",
    "%run ./scripts/model_func.py\n",
    "\n",
    "def to_time(timestamp):\n",
    "    return timestamp.secs + 1e-9*timestamp.nsecs\n",
    "\n",
    "dataset_path = \"/media/dominic/462D-1EE8/rosbags/doughnut_calibs/husky/day1/doughnut/extracted_data/\" #doughnut_1_data.csv\n",
    "os.chdir(dataset_path)\n",
    "files = list(glob.glob(\"*.csv\"))"
   ]
  },
  {
   "cell_type": "code",
   "execution_count": 4,
   "metadata": {},
   "outputs": [
    {
     "name": "stdout",
     "output_type": "stream",
     "text": [
      "       Unnamed: 0      ros_time joy_switch  icp_index good_calib_step  \\\n",
      "3               3  1.659706e+18      False        0.0           False   \n",
      "4               4  1.659706e+18      False        0.0           False   \n",
      "5               5  1.659706e+18      False        0.0           False   \n",
      "6               6  1.659706e+18      False        0.0           False   \n",
      "7               7  1.659706e+18      False        0.0           False   \n",
      "...           ...           ...        ...        ...             ...   \n",
      "47292       47292  1.659709e+18      False    23117.0            True   \n",
      "47293       47293  1.659709e+18      False    23118.0            True   \n",
      "47294       47294  1.659709e+18      False    23118.0            True   \n",
      "47295       47295  1.659709e+18      False    23119.0            True   \n",
      "47296       47296  1.659709e+18      False    23119.0            True   \n",
      "\n",
      "       wheel_pos_left  wheel_pos_right  cmd_vel_x  cmd_vel_y  icp_pos_x  \\\n",
      "3            0.000000         0.000000        0.0        0.0   0.000000   \n",
      "4            0.000000         0.000000        0.0        0.0   0.000000   \n",
      "5          454.245912       466.353725        0.0        0.0   0.000000   \n",
      "6          454.245912       466.353725        0.0        0.0   0.000000   \n",
      "7          454.245912       466.353725        0.0        0.0   0.000000   \n",
      "...               ...              ...        ...        ...        ...   \n",
      "47292      369.370079       712.925500        0.1        0.0 -19.068436   \n",
      "47293      369.370079       712.925500        0.1        0.0 -19.067410   \n",
      "47294      369.370079       712.925500        0.1        0.0 -19.067410   \n",
      "47295      369.370079       712.925500        0.1        0.0 -19.062212   \n",
      "47296      369.370079       712.925500        0.1        0.0 -19.062212   \n",
      "\n",
      "       icp_pos_y  icp_pos_z  icp_quat_x  icp_quat_y  icp_quat_z  icp_quat_w  \\\n",
      "3       0.000000   0.000000    0.000000    0.000000    0.000000    0.000000   \n",
      "4       0.000000   0.000000    0.000000    0.000000    0.000000    0.000000   \n",
      "5       0.000000   0.000000    0.000000    0.000000    0.000000    0.000000   \n",
      "6       0.000000   0.000000    0.000000    0.000000    0.000000    0.000000   \n",
      "7       0.000000   0.000000    0.000000    0.000000    0.000000    0.000000   \n",
      "...          ...        ...         ...         ...         ...         ...   \n",
      "47292  32.707794  -0.056411   -0.007802   -0.010614    0.404343    0.914512   \n",
      "47293  32.703308  -0.057488   -0.007761   -0.010648    0.404319    0.914523   \n",
      "47294  32.703308  -0.057488   -0.007761   -0.010648    0.404319    0.914523   \n",
      "47295  32.711601  -0.055480   -0.007799   -0.010623    0.404383    0.914495   \n",
      "47296  32.711601  -0.055480   -0.007799   -0.010623    0.404383    0.914495   \n",
      "\n",
      "          imu_x     imu_y     imu_z  \n",
      "3      0.000000  0.000000  0.000000  \n",
      "4      0.000000  0.000000  0.000000  \n",
      "5      0.000000  0.000000  0.000000  \n",
      "6      0.000000  0.000000  0.000000  \n",
      "7     -0.000032 -0.004903 -0.000315  \n",
      "...         ...       ...       ...  \n",
      "47292 -0.001022  0.000108 -0.001432  \n",
      "47293 -0.001821 -0.002145 -0.001958  \n",
      "47294 -0.001588 -0.002174 -0.000701  \n",
      "47295 -0.002529 -0.001212 -0.000308  \n",
      "47296 -0.000430 -0.002226 -0.001716  \n",
      "\n",
      "[47294 rows x 19 columns]\n"
     ]
    },
    {
     "name": "stderr",
     "output_type": "stream",
     "text": [
      "/tmp/ipykernel_30640/3075724598.py:4: DtypeWarning: Columns (2,4) have mixed types. Specify dtype option on import or set low_memory=False.\n",
      "  dataframe = pd.read_csv(dataset_path + files[1])\n"
     ]
    }
   ],
   "source": [
    "# import data to dataframe\n",
    "# Data rate is 20 HZ\n",
    "\n",
    "dataframe = pd.read_csv(dataset_path + files[1])\n",
    "dataframe = dataframe.drop([0, 1, 2])\n",
    "\n",
    "print(dataframe)"
   ]
  },
  {
   "cell_type": "code",
   "execution_count": 5,
   "metadata": {},
   "outputs": [
    {
     "name": "stdout",
     "output_type": "stream",
     "text": [
      "[False False False ... False False False]\n"
     ]
    }
   ],
   "source": [
    "# extract values from dataset\n",
    "\n",
    "# choose which run to analyse\n",
    "run = dataframe\n",
    "\n",
    "timestamp = run['ros_time'].to_numpy()\n",
    "timestamp = (timestamp - timestamp[0]) * 10 ** (-9) # time (s)\n",
    "\n",
    "icp_id = run['icp_index'].to_numpy()\n",
    "joy = run['joy_switch'].to_numpy()\n",
    "joy = joy == 'True'\n",
    "good_calib_step = run['good_calib_step'].to_numpy()\n",
    "good_calib_step = good_calib_step == 'True'\n",
    "\n",
    "icp_x = run['icp_pos_x'].to_numpy() # icp x position (m)\n",
    "icp_y = run['icp_pos_y'].to_numpy() # icp y position (m)\n",
    "icp_z = run['icp_pos_z'].to_numpy() # icp y position (m)\n",
    "\n",
    "icp_quat_x = run['icp_quat_x'].to_numpy()\n",
    "icp_quat_y = run['icp_quat_y'].to_numpy()\n",
    "icp_quat_z = run['icp_quat_z'].to_numpy()\n",
    "icp_quat_w = run['icp_quat_w'].to_numpy()\n",
    "\n",
    "wheel_pos_left = run['wheel_pos_left'].to_numpy()\n",
    "wheel_pos_right = run['wheel_pos_right'].to_numpy()\n",
    "\n",
    "cmd_vx = run['cmd_vel_x'].to_numpy()\n",
    "cmd_omega = run['cmd_vel_y'].to_numpy()\n",
    "\n",
    "n_points = timestamp.shape[0]\n",
    "\n",
    "icp_roll = np.zeros(n_points)\n",
    "icp_pitch = np.zeros(n_points)\n",
    "icp_yaw = np.zeros(n_points)\n",
    "\n",
    "for i in range(0, n_points):\n",
    "    icp_roll[i], icp_pitch[i], icp_yaw[i] = quaternion_to_euler(icp_quat_w[i], icp_quat_x[i], icp_quat_y[i], icp_quat_z[i]) # icp orientation (rad)\n",
    "\n",
    "icp_id_arr = run['icp_index'].to_numpy()    \n",
    "\n",
    "imu_pitch = run['imu_y'].to_numpy()\n",
    "imu_roll = run['imu_x'].to_numpy()\n",
    "imu_yaw = run['imu_z'].to_numpy()\n",
    "imu_euler = np.column_stack((imu_roll, imu_pitch, imu_yaw))\n",
    "\n",
    "icp_quat = np.column_stack((icp_quat_x, icp_quat_y, \n",
    "                               icp_quat_z, icp_quat_w))    \n",
    "\n",
    "icp_euler = np.zeros((icp_quat.shape[0], 3))\n",
    "\n",
    "for i in range(icp_quat.shape[0]):\n",
    "    icp_euler[i,0], icp_euler[i,1], icp_euler[i,2] = quaternion_to_euler(icp_quat[i,3], icp_quat[i,0], icp_quat[i,1], icp_quat[i,2])\n",
    "\n",
    "icp_states = np.column_stack((timestamp, icp_id, icp_x, icp_y, icp_z, icp_euler))\n",
    "icp_states_2d = np.column_stack((timestamp, icp_id, icp_x, icp_y, icp_euler[:, 2]))\n",
    "\n",
    "n_points = timestamp.shape[0]\n",
    "\n",
    "print(good_calib_step)"
   ]
  },
  {
   "cell_type": "code",
   "execution_count": 6,
   "metadata": {},
   "outputs": [
    {
     "name": "stdout",
     "output_type": "stream",
     "text": [
      "[  0.   0.   0. ... 215. 215. 215.]\n"
     ]
    },
    {
     "data": {
      "text/plain": [
       "[<matplotlib.lines.Line2D at 0x7f7418049490>]"
      ]
     },
     "execution_count": 6,
     "metadata": {},
     "output_type": "execute_result"
    },
    {
     "data": {
      "image/png": "[encoded data removed]",
      "text/plain": [
       "<Figure size 432x288 with 1 Axes>"
      ]
     },
     "metadata": {
      "needs_background": "light"
     },
     "output_type": "display_data"
    }
   ],
   "source": [
    "# create calibration step array\n",
    "\n",
    "calib_step = np.zeros(n_points)\n",
    "new_command_step = np.zeros(n_points)\n",
    "prev_cmd_omega = 0\n",
    "prev_cmd_vx = 0\n",
    "cmd_step_id = 0\n",
    "step_time = 0\n",
    "\n",
    "for i in range(1, n_points):\n",
    "    if cmd_omega[i] != prev_cmd_omega and cmd_omega[i] != 0: # catches all steps except first angular of each linear step\n",
    "        cmd_step_id += 1\n",
    "        prev_cmd_omega = cmd_omega[i]\n",
    "        new_command_step[i] = 1\n",
    "    if cmd_omega[i] == 0 and (cmd_vx[i] - cmd_vx[i-1]) == 0.5: # catches the first angular step of each linear step\n",
    "        cmd_step_id += 1\n",
    "        prev_cmd_omega = cmd_omega[i]\n",
    "        new_command_step[i] = 1\n",
    "\n",
    "    calib_step[i] = cmd_step_id\n",
    "    \n",
    "print(calib_step) ## should be 216 steps\n",
    "\n",
    "plt.plot(cmd_vx[0:])"
   ]
  },
  {
   "cell_type": "code",
   "execution_count": 7,
   "metadata": {},
   "outputs": [
    {
     "data": {
      "text/plain": [
       "[<matplotlib.lines.Line2D at 0x7f7450d95b50>]"
      ]
     },
     "execution_count": 7,
     "metadata": {},
     "output_type": "execute_result"
    },
    {
     "data": {
      "image/png": "[encoded data removed]",
      "text/plain": [
       "<Figure size 432x288 with 1 Axes>"
      ]
     },
     "metadata": {
      "needs_background": "light"
     },
     "output_type": "display_data"
    }
   ],
   "source": [
    "plt.plot(cmd_vx[30000:40000])\n",
    "plt.plot(cmd_omega[30000:40000])\n",
    "plt.plot(new_command_step[30000:40000])"
   ]
  },
  {
   "cell_type": "code",
   "execution_count": 8,
   "metadata": {},
   "outputs": [],
   "source": [
    "def compute_speed(wheel_ticks, dt):\n",
    "    wheel_speed = np.diff(wheel_ticks) / dt\n",
    "    return wheel_speed\n",
    "\n",
    "def convoluate_speed_npoints(speed, npoints):\n",
    "    speed_conv = np.convolve(speed, np.ones((npoints,))/npoints, mode='same')\n",
    "    return speed_conv\n",
    "\n",
    "# def compute_wheel_speed(wheel_pos, time):\n",
    "#     wheel_speed = np.zeros(wheel_pose.shape[0])\n",
    "#     for i in range(1, wheel_pos.shape[0]):\n",
    "        "
   ]
  },
  {
   "cell_type": "code",
   "execution_count": 9,
   "metadata": {},
   "outputs": [
    {
     "name": "stdout",
     "output_type": "stream",
     "text": [
      "[[0. 0.]\n",
      " [0. 0.]\n",
      " [0. 0.]\n",
      " ...\n",
      " [0. 0.]\n",
      " [0. 0.]\n",
      " [0. 0.]]\n"
     ]
    }
   ],
   "source": [
    "# compute wheel vels\n",
    "wheel_left_vel = np.zeros(n_points)\n",
    "wheel_right_vel = np.zeros(n_points)\n",
    "\n",
    "for i in range(20, n_points):\n",
    "    dt = timestamp[i] - timestamp[i-1]\n",
    "    if dt < 0.01:\n",
    "        wheel_left_vel[i] = wheel_left_vel[i-1]\n",
    "        wheel_right_vel[i] = wheel_right_vel[i-1]\n",
    "    else:\n",
    "        wheel_left_vel[i] = (wheel_pos_left[i] - wheel_pos_left[i-1]) / dt\n",
    "        wheel_right_vel[i] = (wheel_pos_right[i] - wheel_pos_right[i-1]) / dt\n",
    "        \n",
    "n_points_convolution = 20\n",
    "wheel_left_vel = np.convolve(wheel_left_vel, np.ones((n_points_convolution,))/n_points_convolution, mode='same')\n",
    "wheel_right_vel = np.convolve(wheel_right_vel, np.ones((n_points_convolution,))/n_points_convolution, mode='same')\n",
    "wheel_vels = np.vstack((wheel_left_vel, wheel_right_vel)).T\n",
    "print(wheel_vels)"
   ]
  },
  {
   "cell_type": "code",
   "execution_count": 10,
   "metadata": {},
   "outputs": [
    {
     "data": {
      "image/png": "[encoded data removed]",
      "text/plain": [
       "<Figure size 432x288 with 1 Axes>"
      ]
     },
     "metadata": {
      "needs_background": "light"
     },
     "output_type": "display_data"
    }
   ],
   "source": [
    "# plot single command step\n",
    "cmd_step = 50\n",
    "step_length = 210\n",
    "\n",
    "for i in range(0, n_points):\n",
    "    if calib_step[i] == cmd_step:\n",
    "        plt.plot(wheel_left_vel[i-step_length:i], label='left wheel angular vel [rad/s]')\n",
    "        plt.plot(wheel_right_vel[i-step_length:i], label='right wheel angular vel [rad/s]')\n",
    "        plt.plot(cmd_omega[i-step_length:i], label='commanded body angular vel [rad/s]')\n",
    "        plt.legend()\n",
    "        break"
   ]
  },
  {
   "cell_type": "code",
   "execution_count": 11,
   "metadata": {},
   "outputs": [
    {
     "data": {
      "text/plain": [
       "[<matplotlib.lines.Line2D at 0x7f7450c8ed60>]"
      ]
     },
     "execution_count": 11,
     "metadata": {},
     "output_type": "execute_result"
    },
    {
     "data": {
      "image/png": "[encoded data removed]",
      "text/plain": [
       "<Figure size 432x288 with 1 Axes>"
      ]
     },
     "metadata": {
      "needs_background": "light"
     },
     "output_type": "display_data"
    }
   ],
   "source": [
    "# compute diff drive model from encoders\n",
    "\n",
    "# # warthog\n",
    "# r = 0.3 # wheel radius (m)\n",
    "# B = 1.296 # wheel base (m)\n",
    "# A = 1.52 - r*2\n",
    "# m = 260\n",
    "# g = 9.8\n",
    "\n",
    "# husky\n",
    "r = 0.33/2 # wheel radius (m)\n",
    "B = 0.55 # wheel base (m)\n",
    "m = 50\n",
    "g = 9.8\n",
    "\n",
    "k = np.array([r, B])\n",
    "\n",
    "diff_drive_vels = np.zeros((n_points, 3))\n",
    "\n",
    "for i in range(0, n_points):\n",
    "    diff_drive_vels[i, :] = diff_drive(wheel_vels[i, :],  k)\n",
    "    \n",
    "plt.plot(diff_drive_vels[:, 0])\n",
    "plt.plot(diff_drive_vels[:, 2])\n",
    "plt.plot(cmd_omega)"
   ]
  },
  {
   "cell_type": "code",
   "execution_count": 12,
   "metadata": {},
   "outputs": [],
   "source": [
    "# compute icp-based velocity\n",
    "\n",
    "icp_vx = np.zeros(n_points)\n",
    "imu_omega = np.zeros(n_points)\n",
    "\n",
    "propa_cos = np.cos(icp_states[0,4])\n",
    "propa_sin = np.sin(icp_states[0,4])\n",
    "propa_mat = np.array([[propa_cos, -propa_sin, 0.0], \n",
    "                  [propa_sin, propa_cos, 0.0], [0.0, 0.0, 1.0]])\n",
    "\n",
    "icp_vels = np.zeros((n_points, 3))\n",
    "icp_disp = np.zeros((1, 3))\n",
    "\n",
    "dt = 0\n",
    "\n",
    "for i in range(1, n_points-1):\n",
    "    dt += timestamp[i+1] - timestamp[i]\n",
    "    if icp_id[i+1] != icp_id[i]:\n",
    "        icp_disp = icp_states_2d[i+1, 2:] - icp_states_2d[i, 2:]\n",
    "        icp_disp[2] = wrap2pi(icp_disp[2])\n",
    "        \n",
    "#         print(icp_states[i,4])\n",
    "        propa_cos = np.cos(icp_states[i,4])\n",
    "        propa_sin = np.sin(icp_states[i,4])\n",
    "        propa_mat[0,0] = propa_cos\n",
    "        propa_mat[0,1] = -propa_sin\n",
    "        propa_mat[1,0] = propa_sin\n",
    "        propa_mat[1,1] = propa_cos\n",
    "#         print(i)\n",
    "#         print(icp_disp)\n",
    "        icp_disp = propa_mat.T @ icp_disp\n",
    "#         print(icp_disp)\n",
    "        \n",
    "        icp_vels[i, :] = icp_disp / dt\n",
    "        \n",
    "        dt = 0\n",
    "        \n",
    "    else:\n",
    "        icp_vels[i, :] = icp_vels[i-1, :]\n",
    "        \n",
    "n_points_convolution = 10\n",
    "icp_vels[:, 0] = np.convolve(icp_vels[:, 0], np.ones((n_points_convolution,))/n_points_convolution, mode='same')"
   ]
  },
  {
   "cell_type": "code",
   "execution_count": 13,
   "metadata": {},
   "outputs": [],
   "source": [
    "# Create steady-state-transitory-state mask\n",
    "\n",
    "steady_state_step_len = 160 # Removing first 2 seconds of each step\n",
    "\n",
    "steady_state_mask = np.full(n_points, False)\n",
    "\n",
    "for i in range(0, n_points-1):\n",
    "    if calib_step[i+1] != calib_step[i]:\n",
    "        steady_state_mask[i-steady_state_step_len:i] = True\n",
    "        \n"
   ]
  },
  {
   "cell_type": "code",
   "execution_count": 14,
   "metadata": {},
   "outputs": [
    {
     "name": "stdout",
     "output_type": "stream",
     "text": [
      "20864\n"
     ]
    },
    {
     "data": {
      "image/png": "[encoded data removed]",
      "text/plain": [
       "<Figure size 432x288 with 1 Axes>"
      ]
     },
     "metadata": {
      "needs_background": "light"
     },
     "output_type": "display_data"
    }
   ],
   "source": [
    "# plot single linear command step\n",
    "cmd_step = 98\n",
    "step_length = 250\n",
    "\n",
    "for i in range(0, n_points):\n",
    "    if calib_step[i] == cmd_step:\n",
    "        plt.plot(icp_vels[i-step_length:i,0], label='icp-estimated lon vel [m/s]')\n",
    "#         plt.plot(icp_vels[i-step_length:i,1], label='icp-estimated lat vel [m/s]')\n",
    "        plt.plot(cmd_vx[i-step_length:i], label='commanded vel lon [m/s]')\n",
    "        plt.plot(diff_drive_vels[i-step_length:i, 0], label='encoder model lon vel [m/s]')\n",
    "        plt.plot(steady_state_mask[i-step_length:i], label='steady-state mask [bool]')\n",
    "        plt.ylim(-3,3)\n",
    "        plt.legend()\n",
    "        print(i)\n",
    "        break"
   ]
  },
  {
   "cell_type": "code",
   "execution_count": 15,
   "metadata": {},
   "outputs": [
    {
     "data": {
      "image/png": "[encoded data removed]",
      "text/plain": [
       "<Figure size 432x288 with 1 Axes>"
      ]
     },
     "metadata": {
      "needs_background": "light"
     },
     "output_type": "display_data"
    }
   ],
   "source": [
    "# plot single angular command step\n",
    "\n",
    "for i in range(0, n_points):\n",
    "    if calib_step[i] == cmd_step:\n",
    "        plt.plot(imu_yaw[i-step_length:i], label='imu_measured vel [rad/s]')\n",
    "        plt.plot(cmd_omega[i-step_length:i], label='commanded vel [rad/s]')\n",
    "        plt.ylim(-3,3)\n",
    "        plt.plot(diff_drive_vels[i-step_length:i, 2], label='encoder model vel [rad/s]')\n",
    "        plt.plot(steady_state_mask[i-step_length:i], label='steady-state mask [bool]')\n",
    "        plt.legend()\n",
    "        break"
   ]
  },
  {
   "cell_type": "code",
   "execution_count": 16,
   "metadata": {},
   "outputs": [
    {
     "data": {
      "image/png": "[encoded data removed]",
      "text/plain": [
       "<Figure size 251.064x155.169 with 1 Axes>"
      ]
     },
     "metadata": {
      "needs_background": "light"
     },
     "output_type": "display_data"
    }
   ],
   "source": [
    "plt.figure(figsize=(10,10))\n",
    "ax = plt.gca()\n",
    "fig = plt.gcf()\n",
    "\n",
    "# df_filtered = autorally_df[(autorally_df.linear_v < 25)] #Super weird ultra large values on linar velocity\n",
    "# print(\"filtered {} data points\".format(len(autorally_df)-len(df_filtered)))\n",
    "\n",
    "# max_lv = max(np.abs(df_filtered['linear_v']))\n",
    "# max_av = max(np.abs(df_filtered['angular_v']))\n",
    "\n",
    "\n",
    "# meas = ax.scatter(df_filtered['angular_v']/(max_av/2.5), df_filtered['linear_v']/(max_lv/2.5), \n",
    "#                   c = 'tab:green', \n",
    "#                   cmap = 'hot', \n",
    "#                   alpha = 0.05, \n",
    "#                   lw=0, \n",
    "#                   s=5,\n",
    "#                   label='Autorally encoders-based body velocities',\n",
    "#                  rasterized=True)\n",
    "\n",
    "alpha_plot = 0.01\n",
    "\n",
    "cmd = ax.scatter(cmd_omega, cmd_vx, \n",
    "                  c = 'tab:blue', \n",
    "                  cmap = 'hot', \n",
    "                  alpha = alpha_plot, \n",
    "                  lw=0, \n",
    "                  s=5,\n",
    "                  label='Body vel commands',\n",
    "                 rasterized=True)\n",
    "\n",
    "encoder = ax.scatter(diff_drive_vels[:, 2], diff_drive_vels[:, 0], \n",
    "                  c = 'tab:orange', \n",
    "                  cmap = 'hot', \n",
    "                  alpha = alpha_plot, \n",
    "                  lw=0, \n",
    "                  s=5,\n",
    "                  label='Diff-drive_encoder',\n",
    "                 rasterized=True)\n",
    "\n",
    "icp = ax.scatter(imu_yaw, icp_vels[:, 0], \n",
    "                  c = 'tab:green', \n",
    "                  cmap = 'hot', \n",
    "                  alpha = alpha_plot, \n",
    "                  lw=0, \n",
    "                  s=5,\n",
    "                  label='ICP (lon) and IMU (ang)',\n",
    "                 rasterized=True)\n",
    "\n",
    "ax.set_ylabel('linear velocity [m/s]', labelpad=-2)\n",
    "ax.set_xlabel('angular velocity [rad/s]')\n",
    "\n",
    "leg = plt.legend(fontsize=7, loc='best')\n",
    "for lh in leg.legendHandles: \n",
    "    lh.set_alpha(1)\n",
    "\n",
    "ax.set_xlim(-3, 3)\n",
    "ax.set_ylim(-2.5, 2.5)\n",
    "\n",
    "# ax.set_xticks([-1,0,1])\n",
    "# ax.set_yticks([-1,0,1])\n",
    "# ax.set_xticklabels([r'$-\\dot{\\theta}_{max}$', '0', r'$\\dot{\\theta}_{max}$'])\n",
    "# ax.set_yticklabels([r'$-v_{max}$', '0', r'$v_{max}$'])\n",
    "\n",
    "fig.subplots_adjust(left=.15, bottom=.17, right=.98, top=.98)\n",
    "fig.set_size_inches(width, height)\n",
    "\n",
    "plt.savefig('/home/dominic/repos/norlab_WMRD/DB/figs/husky_velocities_w_icp.jpg', dpi=500)"
   ]
  },
  {
   "cell_type": "code",
   "execution_count": 17,
   "metadata": {},
   "outputs": [
    {
     "name": "stdout",
     "output_type": "stream",
     "text": [
      "(47294, 6)\n",
      "[False False False ... False False False]\n",
      "[[ 0.00000000e+00  0.00000000e+00  0.00000000e+00 ...  0.00000000e+00\n",
      "   0.00000000e+00  0.00000000e+00]\n",
      " [ 5.64559360e-02  0.00000000e+00  0.00000000e+00 ...  0.00000000e+00\n",
      "   0.00000000e+00  0.00000000e+00]\n",
      " [ 1.06417152e-01  0.00000000e+00  0.00000000e+00 ...  0.00000000e+00\n",
      "   0.00000000e+00  0.00000000e+00]\n",
      " ...\n",
      " [ 2.36455021e+03 -1.58772327e-03 -2.17444520e-03 ...  0.00000000e+00\n",
      "   2.15000000e+02  0.00000000e+00]\n",
      " [ 2.36460659e+03 -2.52946652e-03 -1.21221377e-03 ...  0.00000000e+00\n",
      "   2.15000000e+02  0.00000000e+00]\n",
      " [ 2.36465676e+03 -4.30291693e-04 -2.22622720e-03 ...  0.00000000e+00\n",
      "   2.15000000e+02  0.00000000e+00]]\n"
     ]
    }
   ],
   "source": [
    "# concatenate all data, export full dataset\n",
    "\n",
    "# print(timestamp.shape)\n",
    "print(icp_states[:,2:].shape)\n",
    "# print(imu_euler.shape)\n",
    "# print(icp_states[:, 2:].shape)\n",
    "# print(cmd_vx.shape)\n",
    "# print(cmd_omega.shape)\n",
    "# print(wheel_left_vel.shape)\n",
    "# print(wheel_right_vel.shape)\n",
    "# print(calib_step.shape)\n",
    "# print(steady_state_mask.shape)\n",
    "\n",
    "# print(icp_states[:, 2:])\n",
    "\n",
    "parsed_dataset = np.concatenate((timestamp.reshape(n_points,1), imu_euler, cmd_vx.reshape(n_points,1), cmd_omega.reshape(n_points,1), icp_states[:,2:],\n",
    "                                 icp_vels, wheel_left_vel.reshape(n_points,1), wheel_right_vel.reshape(n_points,1), diff_drive_vels,\n",
    "                                 calib_step.reshape(n_points,1), steady_state_mask.reshape(n_points,1)), axis=1)\n",
    "\n",
    "cols = ['timestamp', 'imu_roll_vel', 'imu_pitch_vel', 'imu_yaw_vel', 'cmd_vx', 'cmd_omega', \n",
    "        'icp_x', 'icp_y', 'icp_z', 'icp_roll', 'icp_pitch', 'icp_yaw', 'icp_vx', 'icp_vy', 'icp_omega',\n",
    "        'wheel_left_vel', 'wheel_right_vel', 'diff_drive_vels_x', 'diff_drive_vels_y', 'diff_drive_vels_omega', \n",
    "        'calib_step', 'steady_state_mask']\n",
    "\n",
    "parsed_dataset_df = pd.DataFrame(parsed_dataset, columns = cols)\n",
    "parsed_dataset_df.to_pickle('/home/dominic/repos/norlab_WMRD/data/husky/parsed_data/grass_1_full.csv')\n",
    "\n",
    "## Only plot one scatter (median) per step\n",
    "## Plot std_dev for each step\n",
    "## Prepeare denser sampling in smaller velocities\n",
    "print(steady_state_mask)\n",
    "print(parsed_dataset)"
   ]
  },
  {
   "cell_type": "code",
   "execution_count": 18,
   "metadata": {},
   "outputs": [
    {
     "name": "stdout",
     "output_type": "stream",
     "text": [
      "(34400, 22)\n",
      "639\n",
      "639\n",
      "34160\n",
      "34200\n"
     ]
    }
   ],
   "source": [
    "# loop through dataset, find all horizons\n",
    "\n",
    "parsed_dataset_steady_state = parsed_dataset[steady_state_mask]\n",
    "print(parsed_dataset_steady_state.shape)\n",
    "n_points_steady_state = parsed_dataset_steady_state.shape[0]\n",
    "\n",
    "training_horizon = 2\n",
    "\n",
    "horizon_starts = []\n",
    "horizon_ends = []\n",
    "\n",
    "for i in range(1, n_points_steady_state):\n",
    "    if parsed_dataset_steady_state[i-1, 20] != parsed_dataset_steady_state[i, 20]:\n",
    "        horizon_starts.append(i)\n",
    "        horizon_elapsed = 0\n",
    "        j = i\n",
    "        if parsed_dataset_steady_state[j, 20] == parsed_dataset_steady_state[-1, 20]:\n",
    "            horizon_starts.pop()\n",
    "            break\n",
    "        while parsed_dataset_steady_state[j+1, 20] == parsed_dataset_steady_state[j, 20]:\n",
    "            horizon_elapsed += (parsed_dataset[j+1, 0] - parsed_dataset[j, 0])\n",
    "            if horizon_elapsed >= 2.0:\n",
    "                horizon_ends.append(j)\n",
    "                horizon_starts.append(j+1)\n",
    "                horizon_elapsed = 0\n",
    "            j += 1\n",
    "        horizon_starts.pop()\n",
    "\n",
    "print(len(horizon_starts))\n",
    "print(len(horizon_ends))\n",
    "\n",
    "print(horizon_starts[638])\n",
    "print(horizon_ends[638])\n",
    "    "
   ]
  },
  {
   "cell_type": "code",
   "execution_count": 19,
   "metadata": {},
   "outputs": [
    {
     "name": "stdout",
     "output_type": "stream",
     "text": [
      "     init_icp_x  init_icp_y  init_icp_z  init_icp_roll  init_icp_pitch  \\\n",
      "0      1.012477   15.459271   -0.206953      -0.014097        0.005596   \n",
      "1      0.470085   16.733973   -0.205989      -0.019562        0.022385   \n",
      "2     -0.525775   17.687853   -0.185594      -0.027426        0.016527   \n",
      "3     -3.952225   17.789022   -0.094262       0.031605        0.053115   \n",
      "4     -4.462355   16.993017   -0.064404       0.010496        0.031299   \n",
      "..          ...         ...         ...            ...             ...   \n",
      "634  -18.067970   23.864222   -0.041522       0.022923       -0.032532   \n",
      "635  -18.009340   23.414803   -0.020184       0.029014       -0.003202   \n",
      "636  -17.307983   28.173689   -0.005993      -0.011654        0.006429   \n",
      "637  -16.765856   28.187654   -0.054634      -0.006683       -0.018721   \n",
      "638  -16.205238   27.868204   -0.069717       0.004665       -0.003175   \n",
      "\n",
      "     init_icp_yaw  cmd_vx_0  cmd_omega_0  cmd_vx_1  cmd_omega_1  ...  \\\n",
      "0       -1.366977      -2.0     0.416667      -2.0     0.416667  ...   \n",
      "1       -0.980306      -2.0     0.416667      -2.0     0.416667  ...   \n",
      "2       -0.578643      -2.0     0.416667      -2.0     0.416667  ...   \n",
      "3        0.720821      -2.0     0.833333      -2.0     0.833333  ...   \n",
      "4        1.361707      -2.0     0.833333      -2.0     0.833333  ...   \n",
      "..            ...       ...          ...       ...          ...  ...   \n",
      "634     -0.803319       2.0    -1.666667       2.0    -1.666667  ...   \n",
      "635     -1.699874       2.0    -1.666667       2.0    -1.666667  ...   \n",
      "636      0.385637       2.0    -1.250000       2.0    -1.250000  ...   \n",
      "637     -0.195229       2.0    -1.250000       2.0    -1.250000  ...   \n",
      "638     -0.793489       2.0    -1.250000       2.0    -1.250000  ...   \n",
      "\n",
      "     cmd_vx_38  cmd_omega_38  cmd_vx_39  cmd_omega_39   gt_icp_x   gt_icp_y  \\\n",
      "0         -2.0      0.416667       -2.0      0.416667   0.470085  16.733973   \n",
      "1         -2.0      0.416667       -2.0      0.416667  -0.479400  17.643803   \n",
      "2         -2.0      0.416667       -2.0      0.416667  -1.714990  18.128033   \n",
      "3         -2.0      0.833333       -2.0      0.833333  -4.462355  16.993017   \n",
      "4         -2.0      0.833333       -2.0      0.833333  -4.379301  16.063690   \n",
      "..         ...           ...        ...           ...        ...        ...   \n",
      "634        2.0     -1.666667        2.0     -1.666667 -18.009340  23.414803   \n",
      "635        2.0     -1.666667        2.0     -1.666667 -18.310274  22.998201   \n",
      "636        2.0     -1.250000        2.0     -1.250000 -16.765856  28.187654   \n",
      "637        2.0     -1.250000        2.0     -1.250000 -16.221001  27.879833   \n",
      "638        2.0     -1.250000        2.0     -1.250000 -15.954302  27.340267   \n",
      "\n",
      "     gt_icp_z  gt_icp_roll  gt_icp_pitch  gt_icp_yaw  \n",
      "0   -0.205989    -0.019562      0.022385   -0.980306  \n",
      "1   -0.182747    -0.027346      0.017619   -0.597208  \n",
      "2   -0.164649    -0.028469      0.030251   -0.219698  \n",
      "3   -0.064404     0.010496      0.031299    1.361707  \n",
      "4   -0.052043     0.027459     -0.008671    1.982162  \n",
      "..        ...          ...           ...         ...  \n",
      "634 -0.020184     0.029014     -0.003202   -1.699874  \n",
      "635 -0.001122     0.012250      0.007587   -2.643755  \n",
      "636 -0.054634    -0.006683     -0.018721   -0.195229  \n",
      "637 -0.072946     0.004533     -0.005297   -0.764515  \n",
      "638 -0.067093    -0.007861     -0.000250   -1.375772  \n",
      "\n",
      "[639 rows x 92 columns]\n"
     ]
    }
   ],
   "source": [
    "# build torch-ready body-commands dataset\n",
    "\n",
    "rate = 0.05\n",
    "timesteps_per_horizon = int(training_horizon / rate)\n",
    "\n",
    "torch_input_array = np.zeros((len(horizon_starts), 6+timesteps_per_horizon*2)) # [icp_x, icp_y, icp_yaw, vx0, vomega0, vx1, vomega1, vx2, vomega2, vx3, vomega3]\n",
    "torch_output_array = np.zeros((len(horizon_starts), 6)) # [icp_x, icp_y, icp_yaw]\n",
    "\n",
    "for i in range(0, len(horizon_starts)):\n",
    "    horizon_start = horizon_starts[i]\n",
    "    torch_input_array[i, :6] = parsed_dataset_steady_state[horizon_start, 6:12]\n",
    "    for j in range(0, timesteps_per_horizon):\n",
    "        torch_input_array[i, 6+j*2:6+j*2+2] = parsed_dataset_steady_state[horizon_start+j, 4:6]\n",
    "    torch_output_array[i, :] = parsed_dataset_steady_state[horizon_ends[i], 6:12]\n",
    "    \n",
    "torch_array = np.concatenate((torch_input_array, torch_output_array), axis=1)\n",
    "\n",
    "cols = ['init_icp_x', 'init_icp_y', 'init_icp_z', 'init_icp_roll', 'init_icp_pitch', 'init_icp_yaw']\n",
    "for i in range(0, timesteps_per_horizon):\n",
    "    str_cmd_vx_i = 'cmd_vx_' + str(i)\n",
    "    str_cmd_omega_i = 'cmd_omega_' + str(i)\n",
    "    cols.append(str_cmd_vx_i)\n",
    "    cols.append(str_cmd_omega_i)\n",
    "cols.append('gt_icp_x')\n",
    "cols.append('gt_icp_y')\n",
    "cols.append('gt_icp_z')\n",
    "cols.append('gt_icp_roll')\n",
    "cols.append('gt_icp_pitch')\n",
    "cols.append('gt_icp_yaw')\n",
    "\n",
    "torch_dataset_df = pd.DataFrame(torch_array, columns = cols)\n",
    "torch_dataset_df.to_pickle('/home/dominic/repos/norlab_WMRD/data/husky/parsed_data/grass_1_torch_body_cmd.csv')\n",
    "\n",
    "print(torch_dataset_df)"
   ]
  },
  {
   "cell_type": "code",
   "execution_count": 20,
   "metadata": {},
   "outputs": [
    {
     "name": "stdout",
     "output_type": "stream",
     "text": [
      "     init_icp_x  init_icp_y  init_icp_z  init_icp_roll  init_icp_pitch  \\\n",
      "0      1.012477   15.459271   -0.206953      -0.014097        0.005596   \n",
      "1      0.470085   16.733973   -0.205989      -0.019562        0.022385   \n",
      "2     -0.525775   17.687853   -0.185594      -0.027426        0.016527   \n",
      "3     -3.952225   17.789022   -0.094262       0.031605        0.053115   \n",
      "4     -4.462355   16.993017   -0.064404       0.010496        0.031299   \n",
      "..          ...         ...         ...            ...             ...   \n",
      "634  -18.067970   23.864222   -0.041522       0.022923       -0.032532   \n",
      "635  -18.009340   23.414803   -0.020184       0.029014       -0.003202   \n",
      "636  -17.307983   28.173689   -0.005993      -0.011654        0.006429   \n",
      "637  -16.765856   28.187654   -0.054634      -0.006683       -0.018721   \n",
      "638  -16.205238   27.868204   -0.069717       0.004665       -0.003175   \n",
      "\n",
      "     init_icp_yaw  cmd_vx_0  cmd_omega_0  cmd_vx_1  cmd_omega_1  ...  \\\n",
      "0       -1.366977 -0.735797     0.389696 -0.735797     0.389696  ...   \n",
      "1       -0.980306 -0.727163     0.362967 -0.747394     0.374190  ...   \n",
      "2       -0.578643 -0.707751     0.367604 -0.713285     0.372028  ...   \n",
      "3        0.720821 -0.566214     0.648950 -0.566214     0.648950  ...   \n",
      "4        1.361707 -0.564780     0.649457 -0.559268     0.644173  ...   \n",
      "..            ...       ...          ...       ...          ...  ...   \n",
      "634     -0.803319  0.312680    -0.957284  0.312680    -0.957284  ...   \n",
      "635     -1.699874  0.302181    -0.923623  0.302181    -0.923623  ...   \n",
      "636      0.385637  0.348548    -0.632413  0.348548    -0.632413  ...   \n",
      "637     -0.195229  0.321897    -0.529464  0.272605    -0.445027  ...   \n",
      "638     -0.793489  0.344110    -0.568289  0.344110    -0.568289  ...   \n",
      "\n",
      "     cmd_vx_38  cmd_omega_38  cmd_vx_39  cmd_omega_39   gt_icp_x   gt_icp_y  \\\n",
      "0    -0.756875      0.377324  -0.756875      0.377324   0.470085  16.733973   \n",
      "1    -0.734352      0.374671  -0.707751      0.367604  -0.479400  17.643803   \n",
      "2    -0.706095      0.352052  -0.732135      0.366579  -1.714990  18.128033   \n",
      "3    -0.544843      0.625296  -0.544843      0.625296  -4.462355  16.993017   \n",
      "4    -0.562703      0.659240  -0.542597      0.642099  -4.379301  16.063690   \n",
      "..         ...           ...        ...           ...        ...        ...   \n",
      "634   0.296283     -0.901611   0.296283     -0.901611 -18.009340  23.414803   \n",
      "635   0.287661     -0.879183   0.287661     -0.879183 -18.310274  22.998201   \n",
      "636   0.296801     -0.487701   0.321897     -0.529464 -16.765856  28.187654   \n",
      "637   0.355778     -0.581207   0.344110     -0.568289 -16.221001  27.879833   \n",
      "638   0.334192     -0.548671   0.346252     -0.565728 -15.954302  27.340267   \n",
      "\n",
      "     gt_icp_z  gt_icp_roll  gt_icp_pitch  gt_icp_yaw  \n",
      "0   -0.205989    -0.019562      0.022385   -0.980306  \n",
      "1   -0.182747    -0.027346      0.017619   -0.597208  \n",
      "2   -0.164649    -0.028469      0.030251   -0.219698  \n",
      "3   -0.064404     0.010496      0.031299    1.361707  \n",
      "4   -0.052043     0.027459     -0.008671    1.982162  \n",
      "..        ...          ...           ...         ...  \n",
      "634 -0.020184     0.029014     -0.003202   -1.699874  \n",
      "635 -0.001122     0.012250      0.007587   -2.643755  \n",
      "636 -0.054634    -0.006683     -0.018721   -0.195229  \n",
      "637 -0.072946     0.004533     -0.005297   -0.764515  \n",
      "638 -0.067093    -0.007861     -0.000250   -1.375772  \n",
      "\n",
      "[639 rows x 92 columns]\n"
     ]
    }
   ],
   "source": [
    "# build torch-ready body-encoder dataset\n",
    "\n",
    "rate = 0.05\n",
    "timesteps_per_horizon = int(training_horizon / rate)\n",
    "\n",
    "torch_input_array = np.zeros((len(horizon_starts), 6+timesteps_per_horizon*2)) # [icp_x, icp_y, icp_yaw, vx0, vomega0, vx1, vomega1, vx2, vomega2, vx3, vomega3]\n",
    "torch_output_array = np.zeros((len(horizon_starts), 6)) # [icp_x, icp_y, icp_yaw]\n",
    "\n",
    "for i in range(0, len(horizon_starts)):\n",
    "    horizon_start = horizon_starts[i]\n",
    "    torch_input_array[i, :6] = parsed_dataset_steady_state[horizon_start, 6:12]\n",
    "    for j in range(0, timesteps_per_horizon):\n",
    "        torch_input_array[i, 6+j*2] = parsed_dataset_steady_state[horizon_start+j, 17]\n",
    "        torch_input_array[i, 6+j*2+1] = parsed_dataset_steady_state[horizon_start+j, 19]\n",
    "    torch_output_array[i, :] = parsed_dataset_steady_state[horizon_ends[i], 6:12]\n",
    "    \n",
    "torch_array = np.concatenate((torch_input_array, torch_output_array), axis=1)\n",
    "\n",
    "cols = ['init_icp_x', 'init_icp_y', 'init_icp_z', 'init_icp_roll', 'init_icp_pitch', 'init_icp_yaw']\n",
    "for i in range(0, timesteps_per_horizon):\n",
    "    str_cmd_vx_i = 'cmd_vx_' + str(i)\n",
    "    str_cmd_omega_i = 'cmd_omega_' + str(i)\n",
    "    cols.append(str_cmd_vx_i)\n",
    "    cols.append(str_cmd_omega_i)\n",
    "cols.append('gt_icp_x')\n",
    "cols.append('gt_icp_y')\n",
    "cols.append('gt_icp_z')\n",
    "cols.append('gt_icp_roll')\n",
    "cols.append('gt_icp_pitch')\n",
    "cols.append('gt_icp_yaw')\n",
    "\n",
    "torch_dataset_df = pd.DataFrame(torch_array, columns = cols)\n",
    "torch_dataset_df.to_pickle('/home/dominic/repos/norlab_WMRD/data/husky/parsed_data/grass_1_torch_body_encoder.csv')\n",
    "\n",
    "print(torch_dataset_df)"
   ]
  },
  {
   "cell_type": "code",
   "execution_count": 21,
   "metadata": {},
   "outputs": [
    {
     "name": "stdout",
     "output_type": "stream",
     "text": [
      "     init_icp_x  init_icp_y  init_icp_z  init_icp_roll  init_icp_pitch  \\\n",
      "0      1.012477   15.459271   -0.206953      -0.014097        0.005596   \n",
      "1      0.470085   16.733973   -0.205989      -0.019562        0.022385   \n",
      "2     -0.525775   17.687853   -0.185594      -0.027426        0.016527   \n",
      "3     -3.952225   17.789022   -0.094262       0.031605        0.053115   \n",
      "4     -4.462355   16.993017   -0.064404       0.010496        0.031299   \n",
      "..          ...         ...         ...            ...             ...   \n",
      "634  -18.067970   23.864222   -0.041522       0.022923       -0.032532   \n",
      "635  -18.009340   23.414803   -0.020184       0.029014       -0.003202   \n",
      "636  -17.307983   28.173689   -0.005993      -0.011654        0.006429   \n",
      "637  -16.765856   28.187654   -0.054634      -0.006683       -0.018721   \n",
      "638  -16.205238   27.868204   -0.069717       0.004665       -0.003175   \n",
      "\n",
      "     init_icp_yaw  cmd_left_wheel_0  cmd_right_wheel_0  cmd_left_wheel_1  \\\n",
      "0       -1.366977         -5.108868          -3.809882         -5.108868   \n",
      "1       -0.980306         -5.011993          -3.802105         -5.153311   \n",
      "2       -0.578643         -4.902075          -3.676728         -4.942989   \n",
      "3        0.720821         -4.513186          -2.350020         -4.513186   \n",
      "4        1.361707         -4.505336          -2.340479         -4.463124   \n",
      "..            ...               ...                ...               ...   \n",
      "634     -0.803319          3.490504           0.299558          3.490504   \n",
      "635     -1.699874          3.370774           0.292032          3.370774   \n",
      "636      0.385637          3.166436           1.058394          3.166436   \n",
      "637     -0.195229          2.833334           1.068453          2.393866   \n",
      "638     -0.793489          3.032663           1.138367          3.032663   \n",
      "\n",
      "     cmd_right_wheel_1  ...  cmd_left_wheel_38  cmd_right_wheel_38  \\\n",
      "0            -3.809882  ...          -5.215992           -3.958246   \n",
      "1            -3.906011  ...          -5.075070           -3.826168   \n",
      "2            -3.702894  ...          -4.866119           -3.692610   \n",
      "3            -2.350020  ...          -4.344239           -2.259919   \n",
      "4            -2.315880  ...          -4.509055           -2.311590   \n",
      "..                 ...  ...                ...                 ...   \n",
      "634           0.299558  ...           3.298339            0.292968   \n",
      "635           0.292032  ...           3.208708            0.278097   \n",
      "636           1.058394  ...           2.611630            0.985959   \n",
      "637           0.910442  ...           3.124906            1.187549   \n",
      "638           1.138367  ...           2.939857            1.110953   \n",
      "\n",
      "     cmd_left_wheel_39  cmd_right_wheel_39   gt_icp_x   gt_icp_y  gt_icp_z  \\\n",
      "0            -5.215992           -3.958246   0.470085  16.733973 -0.205989   \n",
      "1            -4.902075           -3.676728  -0.479400  17.643803 -0.182747   \n",
      "2            -5.048149           -3.826220  -1.714990  18.128033 -0.164649   \n",
      "3            -4.344239           -2.259919  -4.462355  16.993017 -0.064404   \n",
      "4            -4.358631           -2.218300  -4.379301  16.063690 -0.052043   \n",
      "..                 ...                 ...        ...        ...       ...   \n",
      "634           3.298339            0.292968 -18.009340  23.414803 -0.020184   \n",
      "635           3.208708            0.278097 -18.310274  22.998201 -0.001122   \n",
      "636           2.833334            1.068453 -16.765856  28.187654 -0.054634   \n",
      "637           3.032663            1.138367 -16.221001  27.879833 -0.072946   \n",
      "638           3.041378            1.155617 -15.954302  27.340267 -0.067093   \n",
      "\n",
      "     gt_icp_roll  gt_icp_pitch  gt_icp_yaw  \n",
      "0      -0.019562      0.022385   -0.980306  \n",
      "1      -0.027346      0.017619   -0.597208  \n",
      "2      -0.028469      0.030251   -0.219698  \n",
      "3       0.010496      0.031299    1.361707  \n",
      "4       0.027459     -0.008671    1.982162  \n",
      "..           ...           ...         ...  \n",
      "634     0.029014     -0.003202   -1.699874  \n",
      "635     0.012250      0.007587   -2.643755  \n",
      "636    -0.006683     -0.018721   -0.195229  \n",
      "637     0.004533     -0.005297   -0.764515  \n",
      "638    -0.007861     -0.000250   -1.375772  \n",
      "\n",
      "[639 rows x 92 columns]\n"
     ]
    }
   ],
   "source": [
    "# build torch-ready wheel-encoder dataset\n",
    "\n",
    "rate = 0.05\n",
    "timesteps_per_horizon = int(training_horizon / rate)\n",
    "\n",
    "torch_input_array = np.zeros((len(horizon_starts), 6+timesteps_per_horizon*2)) # [icp_x, icp_y, icp_yaw, vx0, vomega0, vx1, vomega1, vx2, vomega2, vx3, vomega3]\n",
    "torch_output_array = np.zeros((len(horizon_starts), 6)) # [icp_x, icp_y, icp_yaw]\n",
    "\n",
    "for i in range(0, len(horizon_starts)):\n",
    "    horizon_start = horizon_starts[i]\n",
    "    torch_input_array[i, :6] = parsed_dataset_steady_state[horizon_start, 6:12]\n",
    "    for j in range(0, timesteps_per_horizon):\n",
    "        torch_input_array[i, 6+j*2] = parsed_dataset_steady_state[horizon_start+j, 15]\n",
    "        torch_input_array[i, 6+j*2+1] = parsed_dataset_steady_state[horizon_start+j, 16]\n",
    "    torch_output_array[i, :] = parsed_dataset_steady_state[horizon_ends[i], 6:12]\n",
    "    \n",
    "torch_array = np.concatenate((torch_input_array, torch_output_array), axis=1)\n",
    "\n",
    "cols = ['init_icp_x', 'init_icp_y', 'init_icp_z', 'init_icp_roll', 'init_icp_pitch', 'init_icp_yaw']\n",
    "for i in range(0, timesteps_per_horizon):\n",
    "    str_cmd_vx_i = 'cmd_left_wheel_' + str(i)\n",
    "    str_cmd_omega_i = 'cmd_right_wheel_' + str(i)\n",
    "    cols.append(str_cmd_vx_i)\n",
    "    cols.append(str_cmd_omega_i)\n",
    "cols.append('gt_icp_x')\n",
    "cols.append('gt_icp_y')\n",
    "cols.append('gt_icp_z')\n",
    "cols.append('gt_icp_roll')\n",
    "cols.append('gt_icp_pitch')\n",
    "cols.append('gt_icp_yaw')\n",
    "\n",
    "torch_dataset_df = pd.DataFrame(torch_array, columns = cols)\n",
    "torch_dataset_df.to_pickle('/home/dominic/repos/norlab_WMRD/data/husky/parsed_data/grass_1_torch_wheel_encoder.csv')\n",
    "\n",
    "print(torch_dataset_df)"
   ]
  },
  {
   "cell_type": "code",
   "execution_count": null,
   "metadata": {},
   "outputs": [],
   "source": []
  },
  {
   "cell_type": "code",
   "execution_count": null,
   "metadata": {},
   "outputs": [],
   "source": []
  }
 ],
 "metadata": {
  "kernelspec": {
   "display_name": "venv",
   "language": "python",
   "name": "venv"
  },
  "language_info": {
   "codemirror_mode": {
    "name": "ipython",
    "version": 3
   },
   "file_extension": ".py",
   "mimetype": "text/x-python",
   "name": "python",
   "nbconvert_exporter": "python",
   "pygments_lexer": "ipython3",
   "version": "3.8.13"
  }
 },
 "nbformat": 4,
 "nbformat_minor": 2
}
