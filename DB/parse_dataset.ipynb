{
 "cells": [
  {
   "cell_type": "code",
   "execution_count": 1,
   "metadata": {},
   "outputs": [
    {
     "name": "stderr",
     "output_type": "stream",
     "text": [
      "Failed to load Python extension for LZ4 support. LZ4 compression will not be available.\n"
     ]
    }
   ],
   "source": [
    "import matplotlib.pyplot as plt\n",
    "import numpy as np\n",
    "import pandas as pd\n",
    "import rosbag\n",
    "from tqdm import tqdm\n",
    "import glob, os\n",
    "\n",
    "plt.rc('font', family='serif', serif='Times')\n",
    "plt.rc('text', usetex=True)\n",
    "plt.rc('xtick', labelsize=8)\n",
    "plt.rc('ytick', labelsize=8)\n",
    "plt.rc('axes', labelsize=8)\n",
    "\n",
    "width = 3.487\n",
    "height = width / 1.618\n",
    "\n",
    "%run ./scripts/util_func.py\n",
    "%run ./scripts/model_func.py\n",
    "\n",
    "def to_time(timestamp):\n",
    "    return timestamp.secs + 1e-9*timestamp.nsecs\n",
    "\n",
    "dataset_path = \"/media/dominic/462D-1EE8/rosbags/doughnut_calibs/husky/day1/doughnut/extracted_data/\" #doughnut_1_data.csv\n",
    "os.chdir(dataset_path)\n",
    "files = list(glob.glob(\"*.csv\"))"
   ]
  },
  {
   "cell_type": "code",
   "execution_count": 2,
   "metadata": {},
   "outputs": [
    {
     "name": "stdout",
     "output_type": "stream",
     "text": [
      "       Unnamed: 0      ros_time joy_switch  icp_index good_calib_step  \\\n",
      "3               3  1.659706e+18      False        0.0           False   \n",
      "4               4  1.659706e+18      False        0.0           False   \n",
      "5               5  1.659706e+18      False        0.0           False   \n",
      "6               6  1.659706e+18      False        0.0           False   \n",
      "7               7  1.659706e+18      False        0.0           False   \n",
      "...           ...           ...        ...        ...             ...   \n",
      "47285       47285  1.659709e+18      False    23143.0            True   \n",
      "47286       47286  1.659709e+18      False    23143.0            True   \n",
      "47287       47287  1.659709e+18      False    23144.0            True   \n",
      "47288       47288  1.659709e+18      False    23144.0            True   \n",
      "47289       47289  1.659709e+18      False    23145.0            True   \n",
      "\n",
      "       wheel_pos_left  wheel_pos_right  icp_pos_x  icp_pos_y  icp_pos_z  \\\n",
      "3            0.000000         0.000000   0.000000   0.000000   0.000000   \n",
      "4            0.000000         0.000000   0.000000   0.000000   0.000000   \n",
      "5          454.245912       466.353725   0.000000   0.000000   0.000000   \n",
      "6          454.245912       466.353725   0.000000   0.000000   0.000000   \n",
      "7          454.245912       466.353725   0.000000   0.000000   0.000000   \n",
      "...               ...              ...        ...        ...        ...   \n",
      "47285      369.370079       712.925500 -19.086082  32.731995  -0.086744   \n",
      "47286      369.370079       712.925500 -19.086082  32.731995  -0.086744   \n",
      "47287      369.370079       712.925500 -19.082188  32.738285  -0.090611   \n",
      "47288      369.370079       712.925500 -19.082188  32.738285  -0.090611   \n",
      "47289      369.370079       712.925500 -19.085697  32.733234  -0.087858   \n",
      "\n",
      "       icp_quat_x  icp_quat_y  icp_quat_z  icp_quat_w     imu_x     imu_y  \\\n",
      "3        0.000000    0.000000    0.000000    0.000000  0.000000  0.000000   \n",
      "4        0.000000    0.000000    0.000000    0.000000  0.000000  0.000000   \n",
      "5        0.000000    0.000000    0.000000    0.000000  0.000000  0.000000   \n",
      "6        0.000000    0.000000    0.000000    0.000000  0.000000  0.000000   \n",
      "7        0.000000    0.000000    0.000000    0.000000 -0.000032 -0.004903   \n",
      "...           ...         ...         ...         ...       ...       ...   \n",
      "47285   -0.007800   -0.010615    0.404563    0.914415 -0.004647  0.000212   \n",
      "47286   -0.007800   -0.010615    0.404563    0.914415 -0.001821 -0.002145   \n",
      "47287   -0.007761   -0.010648    0.404351    0.914509 -0.001757  0.000171   \n",
      "47288   -0.007761   -0.010648    0.404351    0.914509 -0.002529 -0.001212   \n",
      "47289   -0.007800   -0.010623    0.404367    0.914502 -0.000430 -0.002226   \n",
      "\n",
      "          imu_z  \n",
      "3      0.000000  \n",
      "4      0.000000  \n",
      "5      0.000000  \n",
      "6      0.000000  \n",
      "7     -0.000315  \n",
      "...         ...  \n",
      "47285 -0.000309  \n",
      "47286 -0.001958  \n",
      "47287  0.000452  \n",
      "47288 -0.000308  \n",
      "47289 -0.001716  \n",
      "\n",
      "[47287 rows x 17 columns]\n"
     ]
    },
    {
     "name": "stderr",
     "output_type": "stream",
     "text": [
      "/tmp/ipykernel_556/4117810712.py:4: DtypeWarning: Columns (2,4) have mixed types. Specify dtype option on import or set low_memory=False.\n",
      "  dataframe = pd.read_csv(dataset_path + files[0])\n"
     ]
    }
   ],
   "source": [
    "# import data to dataframe\n",
    "# Data rate is 20 HZ\n",
    "\n",
    "dataframe = pd.read_csv(dataset_path + files[0])\n",
    "dataframe = dataframe.drop([0, 1, 2])\n",
    "dataframe.to_pickle('/media/dominic/462D-1EE8/rosbags/doughnut_calibs/husky/day1/doughnut/extracted_data/doughnut1_full_pickle.csv')\n",
    "\n",
    "print(dataframe)"
   ]
  },
  {
   "cell_type": "code",
   "execution_count": 4,
   "metadata": {},
   "outputs": [
    {
     "name": "stdout",
     "output_type": "stream",
     "text": [
      "[False False False ... False False False]\n"
     ]
    }
   ],
   "source": [
    "# extract values from dataset\n",
    "\n",
    "# choose which run to analyse\n",
    "run = dataframe\n",
    "\n",
    "timestamp = run['ros_time'].to_numpy()\n",
    "timestamp = (timestamp - timestamp[0]) * 10 ** (-9) # time (s)\n",
    "\n",
    "icp_id = run['icp_index'].to_numpy()\n",
    "joy = run['joy_switch'].to_numpy()\n",
    "joy = joy == 'True'\n",
    "good_calib_step = run['good_calib_step'].to_numpy()\n",
    "good_calib_step = good_calib_step == 'True'\n",
    "\n",
    "icp_x = run['icp_pos_x'].to_numpy() # icp x position (m)\n",
    "icp_y = run['icp_pos_y'].to_numpy() # icp y position (m)\n",
    "icp_z = run['icp_pos_z'].to_numpy() # icp y position (m)\n",
    "\n",
    "icp_quat_x = run['icp_quat_x'].to_numpy()\n",
    "icp_quat_y = run['icp_quat_y'].to_numpy()\n",
    "icp_quat_z = run['icp_quat_z'].to_numpy()\n",
    "icp_quat_w = run['icp_quat_w'].to_numpy()\n",
    "\n",
    "wheel_pos_left = run['wheel_pos_left'].to_numpy()\n",
    "wheel_pos_right = run['wheel_pos_right'].to_numpy()\n",
    "\n",
    "cmd_vx = run['cmd_vel_x'].to_numpy()\n",
    "cmd_omega = run['cmd_vel_omega'].to_numpy()\n",
    "\n",
    "n_points = timestamp.shape[0]\n",
    "\n",
    "icp_roll = np.zeros(n_points)\n",
    "icp_pitch = np.zeros(n_points)\n",
    "icp_yaw = np.zeros(n_points)\n",
    "\n",
    "for i in range(0, n_points):\n",
    "    icp_roll[i], icp_pitch[i], icp_yaw[i] = quaternion_to_euler(icp_quat_w[i], icp_quat_x[i], icp_quat_y[i], icp_quat_z[i]) # icp orientation (rad)\n",
    "\n",
    "icp_id_arr = run['icp_index'].to_numpy()    \n",
    "\n",
    "imu_pitch = run['imu_y'].to_numpy()\n",
    "imu_roll = run['imu_x'].to_numpy()\n",
    "imu_yaw = run['imu_z'].to_numpy()\n",
    "imu_euler = np.column_stack((imu_roll, imu_pitch, imu_yaw))\n",
    "\n",
    "icp_quat = np.column_stack((icp_quat_x, icp_quat_y, \n",
    "                               icp_quat_z, icp_quat_w))    \n",
    "\n",
    "icp_euler = np.zeros((icp_quat.shape[0], 3))\n",
    "\n",
    "for i in range(icp_quat.shape[0]):\n",
    "    icp_euler[i,0], icp_euler[i,1], icp_euler[i,2] = quaternion_to_euler(icp_quat[i,3], icp_quat[i,0], icp_quat[i,1], icp_quat[i,2])\n",
    "\n",
    "icp_states = np.column_stack((timestamp, icp_id, icp_x, icp_y, icp_z, icp_euler))\n",
    "icp_states_2d = np.column_stack((timestamp, icp_id, icp_x, icp_y, icp_euler[:, 2]))\n",
    "\n",
    "n_points = timestamp.shape[0]\n",
    "\n",
    "print(good_calib_step)"
   ]
  },
  {
   "cell_type": "code",
   "execution_count": 5,
   "metadata": {},
   "outputs": [
    {
     "name": "stdout",
     "output_type": "stream",
     "text": [
      "[  0.   0.   0. ... 215. 215. 215.]\n"
     ]
    },
    {
     "data": {
      "text/plain": [
       "[<matplotlib.lines.Line2D at 0x7f2f5c78afa0>]"
      ]
     },
     "execution_count": 5,
     "metadata": {},
     "output_type": "execute_result"
    },
    {
     "data": {
      "image/png": "[encoded data removed]",
      "text/plain": [
       "<Figure size 432x288 with 1 Axes>"
      ]
     },
     "metadata": {
      "needs_background": "light"
     },
     "output_type": "display_data"
    }
   ],
   "source": [
    "# create calibration step array\n",
    "\n",
    "calib_step = np.zeros(n_points)\n",
    "new_command_step = np.zeros(n_points)\n",
    "prev_cmd_omega = 0\n",
    "prev_cmd_vx = 0\n",
    "cmd_step_id = 0\n",
    "step_time = 0\n",
    "\n",
    "for i in range(1, n_points):\n",
    "    if cmd_omega[i] != prev_cmd_omega and cmd_omega[i] != 0: # catches all steps except first angular of each linear step\n",
    "        cmd_step_id += 1\n",
    "        prev_cmd_omega = cmd_omega[i]\n",
    "        new_command_step[i] = 1\n",
    "    if cmd_omega[i] == 0 and (cmd_vx[i] - cmd_vx[i-1]) == 0.5: # catches the first angular step of each linear step\n",
    "        cmd_step_id += 1\n",
    "        prev_cmd_omega = cmd_omega[i]\n",
    "        new_command_step[i] = 1\n",
    "\n",
    "    calib_step[i] = cmd_step_id\n",
    "    \n",
    "print(calib_step) ## should be 216 steps\n",
    "\n",
    "plt.plot(cmd_vx[0:])"
   ]
  },
  {
   "cell_type": "code",
   "execution_count": 6,
   "metadata": {},
   "outputs": [
    {
     "data": {
      "text/plain": [
       "[<matplotlib.lines.Line2D at 0x7f2f90b53f10>]"
      ]
     },
     "execution_count": 6,
     "metadata": {},
     "output_type": "execute_result"
    },
    {
     "data": {
      "image/png": "[encoded data removed]",
      "text/plain": [
       "<Figure size 432x288 with 1 Axes>"
      ]
     },
     "metadata": {
      "needs_background": "light"
     },
     "output_type": "display_data"
    }
   ],
   "source": [
    "plt.plot(cmd_vx[30000:40000])\n",
    "plt.plot(cmd_omega[30000:40000])\n",
    "plt.plot(new_command_step[30000:40000])"
   ]
  },
  {
   "cell_type": "code",
   "execution_count": 7,
   "metadata": {},
   "outputs": [],
   "source": [
    "def compute_speed(wheel_ticks, dt):\n",
    "    wheel_speed = np.diff(wheel_ticks) / dt\n",
    "    return wheel_speed\n",
    "\n",
    "def convoluate_speed_npoints(speed, npoints):\n",
    "    speed_conv = np.convolve(speed, np.ones((npoints,))/npoints, mode='same')\n",
    "    return speed_conv\n",
    "\n",
    "# def compute_wheel_speed(wheel_pos, time):\n",
    "#     wheel_speed = np.zeros(wheel_pose.shape[0])\n",
    "#     for i in range(1, wheel_pos.shape[0]):\n",
    "        "
   ]
  },
  {
   "cell_type": "code",
   "execution_count": 8,
   "metadata": {},
   "outputs": [
    {
     "name": "stdout",
     "output_type": "stream",
     "text": [
      "[[0. 0.]\n",
      " [0. 0.]\n",
      " [0. 0.]\n",
      " ...\n",
      " [0. 0.]\n",
      " [0. 0.]\n",
      " [0. 0.]]\n"
     ]
    }
   ],
   "source": [
    "# compute wheel vels\n",
    "wheel_left_vel = np.zeros(n_points)\n",
    "wheel_right_vel = np.zeros(n_points)\n",
    "\n",
    "for i in range(20, n_points):\n",
    "    dt = timestamp[i] - timestamp[i-1]\n",
    "    if dt < 0.01:\n",
    "        wheel_left_vel[i] = wheel_left_vel[i-1]\n",
    "        wheel_right_vel[i] = wheel_right_vel[i-1]\n",
    "    else:\n",
    "        wheel_left_vel[i] = (wheel_pos_left[i] - wheel_pos_left[i-1]) / dt\n",
    "        wheel_right_vel[i] = (wheel_pos_right[i] - wheel_pos_right[i-1]) / dt\n",
    "        \n",
    "n_points_convolution = 20\n",
    "wheel_left_vel = np.convolve(wheel_left_vel, np.ones((n_points_convolution,))/n_points_convolution, mode='same')\n",
    "wheel_right_vel = np.convolve(wheel_right_vel, np.ones((n_points_convolution,))/n_points_convolution, mode='same')\n",
    "wheel_vels = np.vstack((wheel_left_vel, wheel_right_vel)).T\n",
    "print(wheel_vels)"
   ]
  },
  {
   "cell_type": "code",
   "execution_count": 9,
   "metadata": {},
   "outputs": [
    {
     "data": {
      "image/png": "[encoded data removed]",
      "text/plain": [
       "<Figure size 432x288 with 1 Axes>"
      ]
     },
     "metadata": {
      "needs_background": "light"
     },
     "output_type": "display_data"
    }
   ],
   "source": [
    "# plot single command step\n",
    "cmd_step = 50\n",
    "step_length = 210\n",
    "\n",
    "for i in range(0, n_points):\n",
    "    if calib_step[i] == cmd_step:\n",
    "        plt.plot(wheel_left_vel[i-step_length:i], label='left wheel angular vel [rad/s]')\n",
    "        plt.plot(wheel_right_vel[i-step_length:i], label='right wheel angular vel [rad/s]')\n",
    "        plt.plot(cmd_omega[i-step_length:i], label='commanded body angular vel [rad/s]')\n",
    "        plt.legend()\n",
    "        break"
   ]
  },
  {
   "cell_type": "code",
   "execution_count": 10,
   "metadata": {},
   "outputs": [
    {
     "data": {
      "text/plain": [
       "[<matplotlib.lines.Line2D at 0x7f2f90a547c0>]"
      ]
     },
     "execution_count": 10,
     "metadata": {},
     "output_type": "execute_result"
    },
    {
     "data": {
      "image/png": "[encoded data removed]",
      "text/plain": [
       "<Figure size 432x288 with 1 Axes>"
      ]
     },
     "metadata": {
      "needs_background": "light"
     },
     "output_type": "display_data"
    }
   ],
   "source": [
    "# compute diff drive model from encoders\n",
    "\n",
    "# # warthog\n",
    "# r = 0.3 # wheel radius (m)\n",
    "# B = 1.296 # wheel base (m)\n",
    "# A = 1.52 - r*2\n",
    "# m = 260\n",
    "# g = 9.8\n",
    "\n",
    "# husky\n",
    "r = 0.33/2 # wheel radius (m)\n",
    "B = 0.55 # wheel base (m)\n",
    "m = 50\n",
    "g = 9.8\n",
    "\n",
    "k = np.array([r, B])\n",
    "\n",
    "diff_drive_vels = np.zeros((n_points, 3))\n",
    "\n",
    "for i in range(0, n_points):\n",
    "    diff_drive_vels[i, :] = diff_drive(wheel_vels[i, :],  k)\n",
    "    \n",
    "plt.plot(diff_drive_vels[:, 0])\n",
    "plt.plot(diff_drive_vels[:, 2])\n",
    "plt.plot(cmd_omega)"
   ]
  },
  {
   "cell_type": "code",
   "execution_count": 11,
   "metadata": {},
   "outputs": [],
   "source": [
    "# compute icp-based velocity\n",
    "\n",
    "icp_vx = np.zeros(n_points)\n",
    "imu_omega = np.zeros(n_points)\n",
    "\n",
    "propa_cos = np.cos(icp_states[0,4])\n",
    "propa_sin = np.sin(icp_states[0,4])\n",
    "propa_mat = np.array([[propa_cos, -propa_sin, 0.0], \n",
    "                  [propa_sin, propa_cos, 0.0], [0.0, 0.0, 1.0]])\n",
    "\n",
    "icp_vels = np.zeros((n_points, 3))\n",
    "icp_disp = np.zeros((1, 3))\n",
    "\n",
    "dt = 0\n",
    "\n",
    "for i in range(1, n_points-1):\n",
    "    dt += timestamp[i+1] - timestamp[i]\n",
    "    if icp_id[i+1] != icp_id[i]:\n",
    "        icp_disp = icp_states_2d[i+1, 2:] - icp_states_2d[i, 2:]\n",
    "        icp_disp[2] = wrap2pi(icp_disp[2])\n",
    "        \n",
    "#         print(icp_states[i,4])\n",
    "        propa_cos = np.cos(icp_states[i,4])\n",
    "        propa_sin = np.sin(icp_states[i,4])\n",
    "        propa_mat[0,0] = propa_cos\n",
    "        propa_mat[0,1] = -propa_sin\n",
    "        propa_mat[1,0] = propa_sin\n",
    "        propa_mat[1,1] = propa_cos\n",
    "#         print(i)\n",
    "#         print(icp_disp)\n",
    "        icp_disp = propa_mat.T @ icp_disp\n",
    "#         print(icp_disp)\n",
    "        \n",
    "        icp_vels[i, :] = icp_disp / dt\n",
    "        \n",
    "        dt = 0\n",
    "        \n",
    "    else:\n",
    "        icp_vels[i, :] = icp_vels[i-1, :]\n",
    "        \n",
    "n_points_convolution = 10\n",
    "icp_vels[:, 0] = np.convolve(icp_vels[:, 0], np.ones((n_points_convolution,))/n_points_convolution, mode='same')"
   ]
  },
  {
   "cell_type": "code",
   "execution_count": 12,
   "metadata": {},
   "outputs": [],
   "source": [
    "# Create steady-state-transitory-state mask\n",
    "\n",
    "steady_state_step_len = 160 # Removing first 2 seconds of each step\n",
    "\n",
    "steady_state_mask = np.full(n_points, False)\n",
    "\n",
    "for i in range(0, n_points-1):\n",
    "    if calib_step[i+1] != calib_step[i]:\n",
    "        steady_state_mask[i-steady_state_step_len:i] = True\n",
    "        \n"
   ]
  },
  {
   "cell_type": "code",
   "execution_count": 13,
   "metadata": {},
   "outputs": [
    {
     "name": "stdout",
     "output_type": "stream",
     "text": [
      "26255\n"
     ]
    },
    {
     "data": {
      "image/png": "[encoded data removed]",
      "text/plain": [
       "<Figure size 432x288 with 1 Axes>"
      ]
     },
     "metadata": {
      "needs_background": "light"
     },
     "output_type": "display_data"
    }
   ],
   "source": [
    "# plot single linear command step\n",
    "cmd_step = 98\n",
    "step_length = 250\n",
    "\n",
    "for i in range(0, n_points):\n",
    "    if calib_step[i] == cmd_step:\n",
    "        plt.plot(icp_vels[i-step_length:i,0], label='icp-estimated lon vel [m/s]')\n",
    "#         plt.plot(icp_vels[i-step_length:i,1], label='icp-estimated lat vel [m/s]')\n",
    "        plt.plot(cmd_vx[i-step_length:i], label='commanded vel lon [m/s]')\n",
    "        plt.plot(diff_drive_vels[i-step_length:i, 0], label='encoder model lon vel [m/s]')\n",
    "        plt.plot(steady_state_mask[i-step_length:i], label='steady-state mask [bool]')\n",
    "        plt.ylim(-3,3)\n",
    "        plt.legend()\n",
    "        print(i)\n",
    "        break"
   ]
  },
  {
   "cell_type": "code",
   "execution_count": 14,
   "metadata": {},
   "outputs": [
    {
     "data": {
      "image/png": "[encoded data removed]",
      "text/plain": [
       "<Figure size 432x288 with 1 Axes>"
      ]
     },
     "metadata": {
      "needs_background": "light"
     },
     "output_type": "display_data"
    }
   ],
   "source": [
    "# plot single angular command step\n",
    "\n",
    "for i in range(0, n_points):\n",
    "    if calib_step[i] == cmd_step:\n",
    "        plt.plot(imu_yaw[i-step_length:i], label='imu_measured vel [rad/s]')\n",
    "        plt.plot(cmd_omega[i-step_length:i], label='commanded vel [rad/s]')\n",
    "        plt.ylim(-3,3)\n",
    "        plt.plot(diff_drive_vels[i-step_length:i, 2], label='encoder model vel [rad/s]')\n",
    "        plt.plot(steady_state_mask[i-step_length:i], label='steady-state mask [bool]')\n",
    "        plt.legend()\n",
    "        break"
   ]
  },
  {
   "cell_type": "code",
   "execution_count": 15,
   "metadata": {},
   "outputs": [
    {
     "data": {
      "image/png": "[encoded data removed]",
      "text/plain": [
       "<Figure size 251.064x155.169 with 1 Axes>"
      ]
     },
     "metadata": {
      "needs_background": "light"
     },
     "output_type": "display_data"
    }
   ],
   "source": [
    "plt.figure(figsize=(10,10))\n",
    "ax = plt.gca()\n",
    "fig = plt.gcf()\n",
    "\n",
    "# df_filtered = autorally_df[(autorally_df.linear_v < 25)] #Super weird ultra large values on linar velocity\n",
    "# print(\"filtered {} data points\".format(len(autorally_df)-len(df_filtered)))\n",
    "\n",
    "# max_lv = max(np.abs(df_filtered['linear_v']))\n",
    "# max_av = max(np.abs(df_filtered['angular_v']))\n",
    "\n",
    "\n",
    "# meas = ax.scatter(df_filtered['angular_v']/(max_av/2.5), df_filtered['linear_v']/(max_lv/2.5), \n",
    "#                   c = 'tab:green', \n",
    "#                   cmap = 'hot', \n",
    "#                   alpha = 0.05, \n",
    "#                   lw=0, \n",
    "#                   s=5,\n",
    "#                   label='Autorally encoders-based body velocities',\n",
    "#                  rasterized=True)\n",
    "\n",
    "alpha_plot = 0.01\n",
    "\n",
    "cmd = ax.scatter(cmd_omega, cmd_vx, \n",
    "                  c = 'tab:blue', \n",
    "                  cmap = 'hot', \n",
    "                  alpha = alpha_plot, \n",
    "                  lw=0, \n",
    "                  s=5,\n",
    "                  label='Body vel commands',\n",
    "                 rasterized=True)\n",
    "\n",
    "encoder = ax.scatter(diff_drive_vels[:, 2], diff_drive_vels[:, 0], \n",
    "                  c = 'tab:orange', \n",
    "                  cmap = 'hot', \n",
    "                  alpha = alpha_plot, \n",
    "                  lw=0, \n",
    "                  s=5,\n",
    "                  label='Diff-drive_encoder',\n",
    "                 rasterized=True)\n",
    "\n",
    "icp = ax.scatter(imu_yaw, icp_vels[:, 0], \n",
    "                  c = 'tab:green', \n",
    "                  cmap = 'hot', \n",
    "                  alpha = alpha_plot, \n",
    "                  lw=0, \n",
    "                  s=5,\n",
    "                  label='ICP (lon) and IMU (ang)',\n",
    "                 rasterized=True)\n",
    "\n",
    "ax.set_ylabel('linear velocity [m/s]', labelpad=-2)\n",
    "ax.set_xlabel('angular velocity [rad/s]')\n",
    "\n",
    "leg = plt.legend(fontsize=7, loc='best')\n",
    "for lh in leg.legendHandles: \n",
    "    lh.set_alpha(1)\n",
    "\n",
    "ax.set_xlim(-3, 3)\n",
    "ax.set_ylim(-2.5, 2.5)\n",
    "\n",
    "# ax.set_xticks([-1,0,1])\n",
    "# ax.set_yticks([-1,0,1])\n",
    "# ax.set_xticklabels([r'$-\\dot{\\theta}_{max}$', '0', r'$\\dot{\\theta}_{max}$'])\n",
    "# ax.set_yticklabels([r'$-v_{max}$', '0', r'$v_{max}$'])\n",
    "\n",
    "fig.subplots_adjust(left=.15, bottom=.17, right=.98, top=.98)\n",
    "fig.set_size_inches(width, height)\n",
    "\n",
    "plt.savefig('/home/dominic/repos/norlab_WMRD/DB/figs/husky_velocities_w_icp.jpg', dpi=500)"
   ]
  },
  {
   "cell_type": "code",
   "execution_count": 16,
   "metadata": {},
   "outputs": [
    {
     "name": "stdout",
     "output_type": "stream",
     "text": [
      "(54027, 6)\n",
      "[False False False ... False False False]\n",
      "[[ 0.00000000e+00  0.00000000e+00  0.00000000e+00 ...  0.00000000e+00\n",
      "   0.00000000e+00  0.00000000e+00]\n",
      " [ 5.63822080e-02  0.00000000e+00  0.00000000e+00 ...  0.00000000e+00\n",
      "   0.00000000e+00  0.00000000e+00]\n",
      " [ 1.05694208e-01 -1.95914018e-03  4.71997773e-04 ...  0.00000000e+00\n",
      "   0.00000000e+00  0.00000000e+00]\n",
      " ...\n",
      " [ 2.70120259e+03 -1.25765288e-03 -5.58420492e-04 ...  0.00000000e+00\n",
      "   2.15000000e+02  0.00000000e+00]\n",
      " [ 2.70125321e+03  5.48732060e-04 -1.77957141e-03 ...  0.00000000e+00\n",
      "   2.15000000e+02  0.00000000e+00]\n",
      " [ 2.70130955e+03 -2.47993530e-03 -2.10179458e-03 ...  0.00000000e+00\n",
      "   2.15000000e+02  0.00000000e+00]]\n"
     ]
    }
   ],
   "source": [
    "# concatenate all data, export full dataset\n",
    "\n",
    "# print(timestamp.shape)\n",
    "print(icp_states[:,2:].shape)\n",
    "# print(imu_euler.shape)\n",
    "# print(icp_states[:, 2:].shape)\n",
    "# print(cmd_vx.shape)\n",
    "# print(cmd_omega.shape)\n",
    "# print(wheel_left_vel.shape)\n",
    "# print(wheel_right_vel.shape)\n",
    "# print(calib_step.shape)\n",
    "# print(steady_state_mask.shape)\n",
    "\n",
    "# print(icp_states[:, 2:])\n",
    "\n",
    "parsed_dataset = np.concatenate((timestamp.reshape(n_points,1), imu_euler, cmd_vx.reshape(n_points,1), cmd_omega.reshape(n_points,1), icp_states[:,2:],\n",
    "                                 icp_vels, wheel_left_vel.reshape(n_points,1), wheel_right_vel.reshape(n_points,1), diff_drive_vels,\n",
    "                                 calib_step.reshape(n_points,1), steady_state_mask.reshape(n_points,1)), axis=1)\n",
    "\n",
    "cols = ['timestamp', 'imu_roll_vel', 'imu_pitch_vel', 'imu_yaw_vel', 'cmd_vx', 'cmd_omega', \n",
    "        'icp_x', 'icp_y', 'icp_z', 'icp_roll', 'icp_pitch', 'icp_yaw', 'icp_vx', 'icp_vy', 'icp_omega',\n",
    "        'wheel_left_vel', 'wheel_right_vel', 'diff_drive_vels_x', 'diff_drive_vels_y', 'diff_drive_vels_omega', \n",
    "        'calib_step', 'steady_state_mask']\n",
    "\n",
    "parsed_dataset_df = pd.DataFrame(parsed_dataset, columns = cols)\n",
    "parsed_dataset_df.to_pickle('/home/dominic/repos/norlab_WMRD/data/husky/parsed_data/grass_2_full.csv')\n",
    "\n",
    "## Only plot one scatter (median) per step\n",
    "## Plot std_dev for each step\n",
    "## Prepeare denser sampling in smaller velocities\n",
    "print(steady_state_mask)\n",
    "print(parsed_dataset)"
   ]
  },
  {
   "cell_type": "code",
   "execution_count": 17,
   "metadata": {},
   "outputs": [
    {
     "name": "stdout",
     "output_type": "stream",
     "text": [
      "(34400, 22)\n",
      "639\n",
      "639\n",
      "34161\n",
      "34200\n"
     ]
    }
   ],
   "source": [
    "# loop through dataset, find all horizons\n",
    "\n",
    "parsed_dataset_steady_state = parsed_dataset[steady_state_mask]\n",
    "print(parsed_dataset_steady_state.shape)\n",
    "n_points_steady_state = parsed_dataset_steady_state.shape[0]\n",
    "\n",
    "training_horizon = 2\n",
    "\n",
    "horizon_starts = []\n",
    "horizon_ends = []\n",
    "\n",
    "for i in range(1, n_points_steady_state):\n",
    "    if parsed_dataset_steady_state[i-1, 20] != parsed_dataset_steady_state[i, 20]:\n",
    "        horizon_starts.append(i)\n",
    "        horizon_elapsed = 0\n",
    "        j = i\n",
    "        if parsed_dataset_steady_state[j, 20] == parsed_dataset_steady_state[-1, 20]:\n",
    "            horizon_starts.pop()\n",
    "            break\n",
    "        while parsed_dataset_steady_state[j+1, 20] == parsed_dataset_steady_state[j, 20]:\n",
    "            horizon_elapsed += (parsed_dataset[j+1, 0] - parsed_dataset[j, 0])\n",
    "            if horizon_elapsed >= 2.0:\n",
    "                horizon_ends.append(j)\n",
    "                horizon_starts.append(j+1)\n",
    "                horizon_elapsed = 0\n",
    "            j += 1\n",
    "        horizon_starts.pop()\n",
    "\n",
    "print(len(horizon_starts))\n",
    "print(len(horizon_ends))\n",
    "\n",
    "print(horizon_starts[638])\n",
    "print(horizon_ends[638])\n",
    "    "
   ]
  },
  {
   "cell_type": "code",
   "execution_count": 18,
   "metadata": {},
   "outputs": [
    {
     "name": "stdout",
     "output_type": "stream",
     "text": [
      "     init_icp_x  init_icp_y  init_icp_z  init_icp_roll  init_icp_pitch  \\\n",
      "0     -7.577241   -8.113155    0.019578      -0.024513        0.029621   \n",
      "1     -7.856976   -9.456471    0.044600      -0.013989        0.038952   \n",
      "2     -7.530648  -10.793491    0.085987      -0.001356        0.019182   \n",
      "3     -4.565382  -12.507324    0.141185       0.014715        0.002018   \n",
      "4     -3.829688  -11.827300    0.147587       0.004094        0.008661   \n",
      "..          ...         ...         ...            ...             ...   \n",
      "634   -1.438301  -16.656595    0.082433      -0.006683       -0.000893   \n",
      "635   -0.750296  -16.793123    0.106301      -0.020288       -0.040998   \n",
      "636   -1.654860  -17.596329    0.114067      -0.019538        0.006768   \n",
      "637   -2.028021  -16.967020    0.101110      -0.012568        0.026089   \n",
      "638   -1.741003  -16.272514    0.056701       0.018088       -0.006619   \n",
      "\n",
      "     init_icp_yaw  calib_step  cmd_vx_0  cmd_omega_0  cmd_vx_1  ...  \\\n",
      "0        1.132547         1.0      -2.0     0.416667      -2.0  ...   \n",
      "1        1.565351         1.0      -2.0     0.416667      -2.0  ...   \n",
      "2        1.984745         1.0      -2.0     0.416667      -2.0  ...   \n",
      "3       -2.763895         2.0      -2.0     0.833333      -2.0  ...   \n",
      "4       -1.989648         2.0      -2.0     0.833333      -2.0  ...   \n",
      "..            ...         ...       ...          ...       ...  ...   \n",
      "634      0.752410       212.0       2.0    -1.666667       2.0  ...   \n",
      "635     -0.575927       212.0       2.0    -1.666667       2.0  ...   \n",
      "636      2.615314       213.0       2.0    -1.250000       2.0  ...   \n",
      "637      1.784828       213.0       2.0    -1.250000       2.0  ...   \n",
      "638      0.830530       213.0       2.0    -1.250000       2.0  ...   \n",
      "\n",
      "     cmd_vx_38  cmd_omega_38  cmd_vx_39  cmd_omega_39  gt_icp_x   gt_icp_y  \\\n",
      "0         -2.0      0.416667       -2.0      0.416667 -7.861806  -9.384251   \n",
      "1         -2.0      0.416667       -2.0      0.416667 -7.530648 -10.793491   \n",
      "2         -2.0      0.416667       -2.0      0.416667 -6.798173 -11.806445   \n",
      "3         -2.0      0.833333       -2.0      0.833333 -3.829688 -11.827300   \n",
      "4         -2.0      0.833333       -2.0      0.833333 -3.794363 -10.934783   \n",
      "..         ...           ...        ...           ...       ...        ...   \n",
      "634        2.0     -1.666667        2.0     -1.666667 -0.750296 -16.793123   \n",
      "635        2.0     -1.666667        2.0     -1.666667 -0.539476 -17.320236   \n",
      "636        2.0     -1.250000        2.0     -1.250000 -2.036585 -16.974009   \n",
      "637        2.0     -1.250000        2.0     -1.250000 -1.741003 -16.272514   \n",
      "638        2.0     -1.250000        2.0     -1.250000 -1.056316 -16.034077   \n",
      "\n",
      "     gt_icp_z  gt_icp_roll  gt_icp_pitch  gt_icp_yaw  \n",
      "0    0.038019    -0.015311      0.034940    1.545880  \n",
      "1    0.085987    -0.001356      0.019182    1.984745  \n",
      "2    0.124374     0.004763      0.000339    2.382119  \n",
      "3    0.147587     0.004094      0.008661   -1.989648  \n",
      "4    0.147142    -0.007225     -0.013290   -1.246464  \n",
      "..        ...          ...           ...         ...  \n",
      "634  0.106301    -0.020288     -0.040998   -0.575927  \n",
      "635  0.127865    -0.006431     -0.029067   -1.612361  \n",
      "636  0.101057    -0.006440      0.027435    1.826310  \n",
      "637  0.056701     0.018088     -0.006619    0.830530  \n",
      "638  0.082884    -0.003712     -0.003608   -0.041943  \n",
      "\n",
      "[639 rows x 93 columns]\n"
     ]
    }
   ],
   "source": [
    "# build torch-ready body-commands dataset\n",
    "\n",
    "rate = 0.05\n",
    "timesteps_per_horizon = int(training_horizon / rate)\n",
    "\n",
    "torch_input_array = np.zeros((len(horizon_starts), 7+timesteps_per_horizon*2)) # [icp_x, icp_y, icp_yaw, vx0, vomega0, vx1, vomega1, vx2, vomega2, vx3, vomega3]\n",
    "torch_output_array = np.zeros((len(horizon_starts), 6)) # [icp_x, icp_y, icp_yaw]\n",
    "\n",
    "for i in range(0, len(horizon_starts)):\n",
    "    horizon_start = horizon_starts[i]\n",
    "    torch_input_array[i, :6] = parsed_dataset_steady_state[horizon_start, 6:12]\n",
    "    torch_input_array[i, 6] = parsed_dataset_steady_state[horizon_start, 20]\n",
    "    for j in range(0, timesteps_per_horizon):\n",
    "        torch_input_array[i, 7+j*2:7+j*2+2] = parsed_dataset_steady_state[horizon_start+j, 4:6]\n",
    "    torch_output_array[i, :] = parsed_dataset_steady_state[horizon_ends[i], 6:12]\n",
    "    \n",
    "torch_array = np.concatenate((torch_input_array, torch_output_array), axis=1)\n",
    "\n",
    "cols = ['init_icp_x', 'init_icp_y', 'init_icp_z', 'init_icp_roll', 'init_icp_pitch', 'init_icp_yaw']\n",
    "cols.append('calib_step')\n",
    "for i in range(0, timesteps_per_horizon):\n",
    "    str_cmd_vx_i = 'cmd_vx_' + str(i)\n",
    "    str_cmd_omega_i = 'cmd_omega_' + str(i)\n",
    "    cols.append(str_cmd_vx_i)\n",
    "    cols.append(str_cmd_omega_i)\n",
    "cols.append('gt_icp_x')\n",
    "cols.append('gt_icp_y')\n",
    "cols.append('gt_icp_z')\n",
    "cols.append('gt_icp_roll')\n",
    "cols.append('gt_icp_pitch')\n",
    "cols.append('gt_icp_yaw')\n",
    "\n",
    "torch_dataset_df = pd.DataFrame(torch_array, columns = cols)\n",
    "torch_dataset_df.to_pickle('/home/dominic/repos/norlab_WMRD/data/husky/parsed_data/grass_2_torch_body_cmd.csv')\n",
    "\n",
    "print(torch_dataset_df)"
   ]
  },
  {
   "cell_type": "code",
   "execution_count": 19,
   "metadata": {},
   "outputs": [
    {
     "name": "stdout",
     "output_type": "stream",
     "text": [
      "     init_icp_x  init_icp_y  init_icp_z  init_icp_roll  init_icp_pitch  \\\n",
      "0     -7.577241   -8.113155    0.019578      -0.024513        0.029621   \n",
      "1     -7.856976   -9.456471    0.044600      -0.013989        0.038952   \n",
      "2     -7.530648  -10.793491    0.085987      -0.001356        0.019182   \n",
      "3     -4.565382  -12.507324    0.141185       0.014715        0.002018   \n",
      "4     -3.829688  -11.827300    0.147587       0.004094        0.008661   \n",
      "..          ...         ...         ...            ...             ...   \n",
      "634   -1.438301  -16.656595    0.082433      -0.006683       -0.000893   \n",
      "635   -0.750296  -16.793123    0.106301      -0.020288       -0.040998   \n",
      "636   -1.654860  -17.596329    0.114067      -0.019538        0.006768   \n",
      "637   -2.028021  -16.967020    0.101110      -0.012568        0.026089   \n",
      "638   -1.741003  -16.272514    0.056701       0.018088       -0.006619   \n",
      "\n",
      "     init_icp_yaw  calib_step  cmd_vx_0  cmd_omega_0  cmd_vx_1  ...  \\\n",
      "0        1.132547         1.0 -0.797183     0.442446 -0.709736  ...   \n",
      "1        1.565351         1.0 -0.738079     0.407363 -0.651624  ...   \n",
      "2        1.984745         1.0 -0.723797     0.412108 -0.723797  ...   \n",
      "3       -2.763895         2.0 -0.553408     0.711702 -0.553408  ...   \n",
      "4       -1.989648         2.0 -0.580050     0.740083 -0.562915  ...   \n",
      "..            ...         ...       ...          ...       ...  ...   \n",
      "634      0.752410       212.0  0.396643    -1.256006  0.353226  ...   \n",
      "635     -0.575927       212.0  0.376451    -1.176160  0.376451  ...   \n",
      "636      2.615314       213.0  0.423309    -0.874816  0.419580  ...   \n",
      "637      1.784828       213.0  0.349038    -0.719457  0.349038  ...   \n",
      "638      0.830530       213.0  0.436120    -0.891264  0.436120  ...   \n",
      "\n",
      "     cmd_vx_38  cmd_omega_38  cmd_vx_39  cmd_omega_39  gt_icp_x   gt_icp_y  \\\n",
      "0    -0.741941      0.408508  -0.741941      0.408508 -7.861806  -9.384251   \n",
      "1    -0.744606      0.420094  -0.735594      0.416780 -7.530648 -10.793491   \n",
      "2    -0.765566      0.460446  -0.765566      0.460446 -6.798173 -11.806445   \n",
      "3    -0.554635      0.706663  -0.554635      0.706663 -3.829688 -11.827300   \n",
      "4    -0.571516      0.740041  -0.593626      0.774094 -3.794363 -10.934783   \n",
      "..         ...           ...        ...           ...       ...        ...   \n",
      "634   0.384929     -1.204327   0.376637     -1.177756 -0.750296 -16.793123   \n",
      "635   0.396204     -1.232150   0.358126     -1.114719 -0.539476 -17.320236   \n",
      "636   0.434327     -0.888805   0.376222     -0.775563 -2.036585 -16.974009   \n",
      "637   0.436943     -0.900519   0.385737     -0.793094 -1.741003 -16.272514   \n",
      "638   0.421504     -0.837008   0.421504     -0.837008 -1.056316 -16.034077   \n",
      "\n",
      "     gt_icp_z  gt_icp_roll  gt_icp_pitch  gt_icp_yaw  \n",
      "0    0.038019    -0.015311      0.034940    1.545880  \n",
      "1    0.085987    -0.001356      0.019182    1.984745  \n",
      "2    0.124374     0.004763      0.000339    2.382119  \n",
      "3    0.147587     0.004094      0.008661   -1.989648  \n",
      "4    0.147142    -0.007225     -0.013290   -1.246464  \n",
      "..        ...          ...           ...         ...  \n",
      "634  0.106301    -0.020288     -0.040998   -0.575927  \n",
      "635  0.127865    -0.006431     -0.029067   -1.612361  \n",
      "636  0.101057    -0.006440      0.027435    1.826310  \n",
      "637  0.056701     0.018088     -0.006619    0.830530  \n",
      "638  0.082884    -0.003712     -0.003608   -0.041943  \n",
      "\n",
      "[639 rows x 93 columns]\n"
     ]
    }
   ],
   "source": [
    "# build torch-ready body-encoder dataset\n",
    "\n",
    "rate = 0.05\n",
    "timesteps_per_horizon = int(training_horizon / rate)\n",
    "\n",
    "torch_input_array = np.zeros((len(horizon_starts), 7+timesteps_per_horizon*2)) # [icp_x, icp_y, icp_yaw, vx0, vomega0, vx1, vomega1, vx2, vomega2, vx3, vomega3]\n",
    "torch_output_array = np.zeros((len(horizon_starts), 6)) # [icp_x, icp_y, icp_yaw]\n",
    "\n",
    "for i in range(0, len(horizon_starts)):\n",
    "    horizon_start = horizon_starts[i]\n",
    "    torch_input_array[i, :6] = parsed_dataset_steady_state[horizon_start, 6:12]\n",
    "    torch_input_array[i, 6] = parsed_dataset_steady_state[horizon_start, 20]\n",
    "    for j in range(0, timesteps_per_horizon):\n",
    "        torch_input_array[i, 7+j*2] = parsed_dataset_steady_state[horizon_start+j, 17]\n",
    "        torch_input_array[i, 7+j*2+1] = parsed_dataset_steady_state[horizon_start+j, 19]\n",
    "    torch_output_array[i, :] = parsed_dataset_steady_state[horizon_ends[i], 6:12]\n",
    "    \n",
    "torch_array = np.concatenate((torch_input_array, torch_output_array), axis=1)\n",
    "\n",
    "cols = ['init_icp_x', 'init_icp_y', 'init_icp_z', 'init_icp_roll', 'init_icp_pitch', 'init_icp_yaw']\n",
    "cols.append('calib_step')\n",
    "for i in range(0, timesteps_per_horizon):\n",
    "    str_cmd_vx_i = 'cmd_vx_' + str(i)\n",
    "    str_cmd_omega_i = 'cmd_omega_' + str(i)\n",
    "    cols.append(str_cmd_vx_i)\n",
    "    cols.append(str_cmd_omega_i)\n",
    "cols.append('gt_icp_x')\n",
    "cols.append('gt_icp_y')\n",
    "cols.append('gt_icp_z')\n",
    "cols.append('gt_icp_roll')\n",
    "cols.append('gt_icp_pitch')\n",
    "cols.append('gt_icp_yaw')\n",
    "\n",
    "torch_dataset_df = pd.DataFrame(torch_array, columns = cols)\n",
    "torch_dataset_df.to_pickle('/home/dominic/repos/norlab_WMRD/data/husky/parsed_data/grass_2_torch_body_encoder.csv')\n",
    "\n",
    "print(torch_dataset_df)"
   ]
  },
  {
   "cell_type": "code",
   "execution_count": 20,
   "metadata": {},
   "outputs": [
    {
     "name": "stdout",
     "output_type": "stream",
     "text": [
      "     init_icp_x  init_icp_y  init_icp_z  init_icp_roll  init_icp_pitch  \\\n",
      "0     -7.577241   -8.113155    0.019578      -0.024513        0.029621   \n",
      "1     -7.856976   -9.456471    0.044600      -0.013989        0.038952   \n",
      "2     -7.530648  -10.793491    0.085987      -0.001356        0.019182   \n",
      "3     -4.565382  -12.507324    0.141185       0.014715        0.002018   \n",
      "4     -3.829688  -11.827300    0.147587       0.004094        0.008661   \n",
      "..          ...         ...         ...            ...             ...   \n",
      "634   -1.438301  -16.656595    0.082433      -0.006683       -0.000893   \n",
      "635   -0.750296  -16.793123    0.106301      -0.020288       -0.040998   \n",
      "636   -1.654860  -17.596329    0.114067      -0.019538        0.006768   \n",
      "637   -2.028021  -16.967020    0.101110      -0.012568        0.026089   \n",
      "638   -1.741003  -16.272514    0.056701       0.018088       -0.006619   \n",
      "\n",
      "     init_icp_yaw  calib_step  cmd_left_wheel_0  cmd_right_wheel_0  \\\n",
      "0        1.132547         1.0         -5.568825          -4.094003   \n",
      "1        1.565351         1.0         -5.152147          -3.794269   \n",
      "2        1.984745         1.0         -5.073497          -3.699803   \n",
      "3       -2.763895         2.0         -4.540160          -2.167821   \n",
      "4       -1.989648         2.0         -4.748923          -2.281981   \n",
      "..            ...         ...               ...                ...   \n",
      "634      0.752410       212.0          4.497238           0.310551   \n",
      "635     -0.575927       212.0          4.241790           0.321257   \n",
      "636      2.615314       213.0          4.023536           1.107484   \n",
      "637      1.784828       213.0          3.314478           0.916287   \n",
      "638      0.830530       213.0          4.128591           1.157711   \n",
      "\n",
      "     cmd_left_wheel_1  ...  cmd_left_wheel_38  cmd_right_wheel_38  \\\n",
      "0           -4.953557  ...          -5.177456           -3.815762   \n",
      "1           -4.546399  ...          -5.212919           -3.812607   \n",
      "2           -5.073497  ...          -5.407207           -3.872387   \n",
      "3           -4.540160  ...          -4.539197           -2.183653   \n",
      "4           -4.616577  ...          -4.697132           -2.230329   \n",
      "..                ...  ...                ...                 ...   \n",
      "634          4.003196  ...           4.340116            0.325691   \n",
      "635          4.241790  ...           4.454819            0.347652   \n",
      "636          3.984425  ...           4.113624            1.150940   \n",
      "637          3.314478  ...           4.149002            1.147273   \n",
      "638          4.128591  ...           3.949583            1.159558   \n",
      "\n",
      "     cmd_left_wheel_39  cmd_right_wheel_39  gt_icp_x   gt_icp_y  gt_icp_z  \\\n",
      "0            -5.177456           -3.815762 -7.861806  -9.384251  0.038019   \n",
      "1            -5.152778           -3.763512 -7.530648 -10.793491  0.085987   \n",
      "2            -5.407207           -3.872387 -6.798173 -11.806445  0.124374   \n",
      "3            -4.539197           -2.183653 -3.829688 -11.827300  0.147587   \n",
      "4            -4.887889           -2.307576 -3.794363 -10.934783  0.147142   \n",
      "..                 ...                 ...       ...        ...       ...   \n",
      "634           4.245573            0.319720 -0.750296 -16.793123  0.106301   \n",
      "635           4.028329            0.312598 -0.539476 -17.320236  0.127865   \n",
      "636           3.572740            0.987532 -2.036585 -16.974009  0.101057   \n",
      "637           3.659624            1.015977 -1.741003 -16.272514  0.056701   \n",
      "638           3.949583            1.159558 -1.056316 -16.034077  0.082884   \n",
      "\n",
      "     gt_icp_roll  gt_icp_pitch  gt_icp_yaw  \n",
      "0      -0.015311      0.034940    1.545880  \n",
      "1      -0.001356      0.019182    1.984745  \n",
      "2       0.004763      0.000339    2.382119  \n",
      "3       0.004094      0.008661   -1.989648  \n",
      "4      -0.007225     -0.013290   -1.246464  \n",
      "..           ...           ...         ...  \n",
      "634    -0.020288     -0.040998   -0.575927  \n",
      "635    -0.006431     -0.029067   -1.612361  \n",
      "636    -0.006440      0.027435    1.826310  \n",
      "637     0.018088     -0.006619    0.830530  \n",
      "638    -0.003712     -0.003608   -0.041943  \n",
      "\n",
      "[639 rows x 93 columns]\n"
     ]
    }
   ],
   "source": [
    "# build torch-ready wheel-encoder dataset\n",
    "\n",
    "rate = 0.05\n",
    "timesteps_per_horizon = int(training_horizon / rate)\n",
    "\n",
    "torch_input_array = np.zeros((len(horizon_starts), 7+timesteps_per_horizon*2)) # [icp_x, icp_y, icp_yaw, vx0, vomega0, vx1, vomega1, vx2, vomega2, vx3, vomega3]\n",
    "torch_output_array = np.zeros((len(horizon_starts), 6)) # [icp_x, icp_y, icp_yaw]\n",
    "\n",
    "for i in range(0, len(horizon_starts)):\n",
    "    horizon_start = horizon_starts[i]\n",
    "    torch_input_array[i, :6] = parsed_dataset_steady_state[horizon_start, 6:12]\n",
    "    torch_input_array[i, 6] = parsed_dataset_steady_state[horizon_start, 20]\n",
    "    for j in range(0, timesteps_per_horizon):\n",
    "        torch_input_array[i, 7+j*2] = parsed_dataset_steady_state[horizon_start+j, 15]\n",
    "        torch_input_array[i, 7+j*2+1] = parsed_dataset_steady_state[horizon_start+j, 16]\n",
    "    torch_output_array[i, :] = parsed_dataset_steady_state[horizon_ends[i], 6:12]\n",
    "    \n",
    "torch_array = np.concatenate((torch_input_array, torch_output_array), axis=1)\n",
    "\n",
    "cols = ['init_icp_x', 'init_icp_y', 'init_icp_z', 'init_icp_roll', 'init_icp_pitch', 'init_icp_yaw']\n",
    "cols.append('calib_step')\n",
    "cols.append('cmd_disp_x')\n",
    "cols.append('cmd_disp_y')\n",
    "cols.append('cmd_disp_omega')\n",
    "for i in range(0, timesteps_per_horizon):\n",
    "    str_cmd_vx_i = 'cmd_left_wheel_' + str(i)\n",
    "    str_cmd_omega_i = 'cmd_right_wheel_' + str(i)\n",
    "    cols.append(str_cmd_vx_i)\n",
    "    cols.append(str_cmd_omega_i)\n",
    "cols.append('gt_icp_x')\n",
    "cols.append('gt_icp_y')\n",
    "cols.append('gt_icp_z')\n",
    "cols.append('gt_icp_roll')\n",
    "cols.append('gt_icp_pitch')\n",
    "cols.append('gt_icp_yaw')\n",
    "\n",
    "torch_dataset_df = pd.DataFrame(torch_array, columns = cols)\n",
    "torch_dataset_df.to_pickle('/home/dominic/repos/norlab_WMRD/data/husky/parsed_data/grass_2_torch_wheel_encoder.csv')\n",
    "\n",
    "print(torch_dataset_df)"
   ]
  },
  {
   "cell_type": "code",
   "execution_count": null,
   "metadata": {},
   "outputs": [],
   "source": []
  },
  {
   "cell_type": "code",
   "execution_count": null,
   "metadata": {},
   "outputs": [],
   "source": []
  }
 ],
 "metadata": {
  "kernelspec": {
   "display_name": "venv",
   "language": "python",
   "name": "venv"
  },
  "language_info": {
   "codemirror_mode": {
    "name": "ipython",
    "version": 3
   },
   "file_extension": ".py",
   "mimetype": "text/x-python",
   "name": "python",
   "nbconvert_exporter": "python",
   "pygments_lexer": "ipython3",
   "version": "3.8.13"
  }
 },
 "nbformat": 4,
 "nbformat_minor": 2
}
