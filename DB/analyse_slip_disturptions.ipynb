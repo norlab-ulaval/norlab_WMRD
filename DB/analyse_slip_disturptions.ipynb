{
 "cells": [
  {
   "cell_type": "code",
   "execution_count": 5,
   "id": "4c26a0b7-8535-4024-84d1-565ca862f072",
   "metadata": {},
   "outputs": [
    {
     "name": "stdout",
     "output_type": "stream",
     "text": [
      "3.10.6 (main, Nov 14 2022, 16:10:14) [GCC 11.3.0]\n"
     ]
    }
   ],
   "source": [
    "import numpy as np\n",
    "import pandas as pd\n",
    "import scipy.linalg\n",
    "\n",
    "import matplotlib.pyplot as plt\n",
    "from matplotlib.patches import Ellipse\n",
    "import matplotlib.transforms as transforms\n",
    "\n",
    "import sys\n",
    "print(sys.version)\n",
    "sys.path.append('../')\n",
    "\n",
    "from models.powertrain.bounded_powertrain import Bounded_powertrain\n",
    "from models.kinematic.ideal_diff_drive import Ideal_diff_drive\n",
    "from models.kinematic.ICR_based import *\n",
    "from models.kinematic.Perturbed_unicycle import *\n",
    "from models.kinematic.enhanced_kinematic import *\n",
    "\n",
    "from pylgmath import Transformation\n",
    "from pysteam.trajectory import Time\n",
    "from pysteam.trajectory.const_vel import Interface as TrajectoryInterface\n",
    "from pysteam.problem import OptimizationProblem, StaticNoiseModel, L2LossFunc, WeightedLeastSquareCostTerm\n",
    "from pysteam.solver import GaussNewtonSolver, DoglegGaussNewtonSolver\n",
    "from pysteam.evaluable import vspace as vspaceev, se3 as se3ev\n",
    "from pysteam.evaluable.se3 import SE3StateVar\n",
    "from pysteam.evaluable.vspace import VSpaceStateVar\n",
    "\n",
    "import scipy.interpolate\n",
    "from scipy.interpolate import UnivariateSpline\n",
    "from scipy.interpolate import make_smoothing_spline"
   ]
  },
  {
   "cell_type": "code",
   "execution_count": 6,
   "id": "8552e581-9e84-4144-9f08-1a046d285276",
   "metadata": {},
   "outputs": [
    {
     "name": "stdout",
     "output_type": "stream",
     "text": [
      "     init_icp_x  init_icp_y  init_icp_z  init_icp_roll  init_icp_pitch  \\\n",
      "0           0.0         0.0         0.0            0.0             0.0   \n",
      "1           0.0         0.0         0.0            0.0             0.0   \n",
      "2           0.0         0.0         0.0            0.0             0.0   \n",
      "3           0.0         0.0         0.0            0.0             0.0   \n",
      "4           0.0         0.0         0.0            0.0             0.0   \n",
      "..          ...         ...         ...            ...             ...   \n",
      "628         0.0         0.0         0.0            0.0             0.0   \n",
      "629         0.0         0.0         0.0            0.0             0.0   \n",
      "630         0.0         0.0         0.0            0.0             0.0   \n",
      "631         0.0         0.0         0.0            0.0             0.0   \n",
      "632         0.0         0.0         0.0            0.0             0.0   \n",
      "\n",
      "     init_icp_yaw  calib_step  cmd_left_0  cmd_right_0  cmd_left_1  ...  \\\n",
      "0             0.0         0.0    0.000000     0.000000   10.171508  ...   \n",
      "1             0.0         0.0   10.171508     4.606429   10.171508  ...   \n",
      "2             0.0         0.0   10.171508     4.606429   10.171508  ...   \n",
      "3             0.0         1.0   -3.794738    -6.042363   -3.794738  ...   \n",
      "4             0.0         1.0   -3.794738    -6.042363   -3.794738  ...   \n",
      "..            ...         ...         ...          ...         ...  ...   \n",
      "628           0.0       209.0   -1.681343    -5.813901   -1.681343  ...   \n",
      "629           0.0       209.0   -1.681343    -5.813901   -1.681343  ...   \n",
      "630           0.0       209.0   -1.681343    -5.813901    7.342458  ...   \n",
      "631           0.0       210.0    7.342458    -3.757925    7.342458  ...   \n",
      "632           0.0       210.0    7.342458    -3.757925    7.342458  ...   \n",
      "\n",
      "     body_vel_disturption_yaw_30  body_vel_disturption_yaw_31  \\\n",
      "0                       0.040237                     0.033006   \n",
      "1                      -0.045372                    -0.045401   \n",
      "2                       0.672384                     0.121237   \n",
      "3                      -0.005067                     0.036026   \n",
      "4                       0.052911                     0.052911   \n",
      "..                           ...                          ...   \n",
      "628                     2.490819                     1.869166   \n",
      "629                     0.028897                     0.064250   \n",
      "630                     0.318973                     0.251307   \n",
      "631                     0.857976                     0.312299   \n",
      "632                     0.075438                     0.652354   \n",
      "\n",
      "     body_vel_disturption_yaw_32  body_vel_disturption_yaw_33  \\\n",
      "0                       0.028452                     0.031925   \n",
      "1                      -0.045428                    -0.045452   \n",
      "2                       0.000865                    -0.530704   \n",
      "3                       0.093449                     0.123529   \n",
      "4                       0.052912                     0.052913   \n",
      "..                           ...                          ...   \n",
      "628                     0.609137                    -0.041455   \n",
      "629                     0.133204                     0.198838   \n",
      "630                     0.185749                     0.127086   \n",
      "631                     0.703311                    -0.901577   \n",
      "632                     0.107138                     0.699985   \n",
      "\n",
      "     body_vel_disturption_yaw_34  body_vel_disturption_yaw_35  \\\n",
      "0                       0.031045                     0.031739   \n",
      "1                      -0.045470                    -0.045481   \n",
      "2                      -0.406023                     0.460095   \n",
      "3                       0.118604                     0.103617   \n",
      "4                       0.052914                     0.052915   \n",
      "..                           ...                          ...   \n",
      "628                    -0.060145                    -0.347790   \n",
      "629                     0.251039                     0.305769   \n",
      "630                     0.091458                     0.078390   \n",
      "631                    -0.928190                     0.640210   \n",
      "632                     0.123839                     0.711987   \n",
      "\n",
      "     body_vel_disturption_yaw_36  body_vel_disturption_yaw_37  \\\n",
      "0                       0.023321                     0.015675   \n",
      "1                      -0.045489                    -0.045493   \n",
      "2                       0.597481                     0.169209   \n",
      "3                       0.081638                     0.065567   \n",
      "4                       0.052917                     0.052918   \n",
      "..                           ...                          ...   \n",
      "628                    -0.292648                     0.045282   \n",
      "629                     0.357837                     0.410363   \n",
      "630                     0.071585                     0.068869   \n",
      "631                     0.256004                     0.603463   \n",
      "632                     0.166170                     0.603963   \n",
      "\n",
      "     body_vel_disturption_yaw_38  body_vel_disturption_yaw_39  \n",
      "0                       0.002879                     0.002879  \n",
      "1                      -0.045495                    -0.045495  \n",
      "2                       0.488365                     0.488365  \n",
      "3                       0.049340                     0.048259  \n",
      "4                       0.052919                     0.052919  \n",
      "..                           ...                          ...  \n",
      "628                    -0.166452                    -0.166452  \n",
      "629                     0.440638                     0.440638  \n",
      "630                     0.062600                     0.061488  \n",
      "631                    -0.710124                    -0.710124  \n",
      "632                    -0.687128                    -0.687128  \n",
      "\n",
      "[633 rows x 738 columns]\n"
     ]
    }
   ],
   "source": [
    "#import training dataset\n",
    "\n",
    "dataset = pd.read_pickle('/home/dominic/repos/norlab_WMRD/data/marmotte/grand_salon_20_01_b/slip_dataset_all.pkl')\n",
    "\n",
    "print(dataset)"
   ]
  },
  {
   "cell_type": "code",
   "execution_count": 14,
   "id": "b9d2f95c-2d36-46e4-b269-d4ce20d8f8ec",
   "metadata": {},
   "outputs": [
    {
     "name": "stdout",
     "output_type": "stream",
     "text": [
      "(25320,)\n"
     ]
    }
   ],
   "source": [
    "# extract body_vel_distruptions arrays\n",
    "\n",
    "str_body_vel_disturption_x_list = []\n",
    "str_body_vel_disturption_y_list = []\n",
    "str_body_vel_disturption_yaw_list = []\n",
    "for i in range(0, 40):\n",
    "    str_body_vel_disturption_x_i = 'body_vel_disturption_x_' + str(i)\n",
    "    str_body_vel_disturption_y_i = 'body_vel_disturption_y_' + str(i)\n",
    "    str_body_vel_disturption_yaw_i = 'body_vel_disturption_yaw_' + str(i)\n",
    "    str_body_vel_disturption_x_list.append(str_body_vel_disturption_x_i)\n",
    "    str_body_vel_disturption_y_list.append(str_body_vel_disturption_y_i)\n",
    "    str_body_vel_disturption_yaw_list.append(str_body_vel_disturption_yaw_i)\n",
    "    \n",
    "body_vel_disturption_x_array = dataset[str_body_vel_disturption_x_list].to_numpy()\n",
    "body_vel_disturption_y_array = dataset[str_body_vel_disturption_y_list].to_numpy()\n",
    "body_vel_disturption_yaw_array = dataset[str_body_vel_disturption_yaw_list].to_numpy()\n",
    "\n",
    "print(body_vel_disturption_x_array.flatten().shape)"
   ]
  },
  {
   "cell_type": "code",
   "execution_count": 17,
   "id": "c7701878-ca64-46fe-a014-961a72d6f0ac",
   "metadata": {},
   "outputs": [
    {
     "data": {
      "text/plain": [
       "Text(0, 0.5, 'Amount of steps')"
      ]
     },
     "execution_count": 17,
     "metadata": {},
     "output_type": "execute_result"
    },
    {
     "data": {
      "image/png": "[encoded data removed]",
      "text/plain": [
       "<Figure size 432x288 with 1 Axes>"
      ]
     },
     "metadata": {
      "needs_background": "light"
     },
     "output_type": "display_data"
    }
   ],
   "source": [
    "plt.hist(body_vel_disturption_x_array.flatten(), 500, density=True, facecolor='g', alpha=0.75)\n",
    "plt.xlim(-1,1)\n",
    "plt.xlabel('single-step body vel LON disruption [m/s]')\n",
    "plt.ylabel('Amount of steps')"
   ]
  },
  {
   "cell_type": "code",
   "execution_count": 19,
   "id": "0e9688f6-de68-4d63-997a-069d918facba",
   "metadata": {},
   "outputs": [
    {
     "data": {
      "text/plain": [
       "Text(0, 0.5, 'Amount of steps')"
      ]
     },
     "execution_count": 19,
     "metadata": {},
     "output_type": "execute_result"
    },
    {
     "data": {
      "image/png": "[encoded data removed]",
      "text/plain": [
       "<Figure size 432x288 with 1 Axes>"
      ]
     },
     "metadata": {
      "needs_background": "light"
     },
     "output_type": "display_data"
    }
   ],
   "source": [
    "plt.hist(body_vel_disturption_y_array.flatten(), 500, density=True, facecolor='g', alpha=0.75)\n",
    "plt.xlim(-1,1)\n",
    "plt.xlabel('single-step body vel LAT disruption [m/s]')\n",
    "plt.ylabel('Amount of steps')"
   ]
  },
  {
   "cell_type": "code",
   "execution_count": 22,
   "id": "eb5c203f-4627-463a-8f77-84985fba6b80",
   "metadata": {},
   "outputs": [
    {
     "data": {
      "text/plain": [
       "Text(0, 0.5, 'Amount of steps')"
      ]
     },
     "execution_count": 22,
     "metadata": {},
     "output_type": "execute_result"
    },
    {
     "data": {
      "image/png": "[encoded data removed]",
      "text/plain": [
       "<Figure size 432x288 with 1 Axes>"
      ]
     },
     "metadata": {
      "needs_background": "light"
     },
     "output_type": "display_data"
    }
   ],
   "source": [
    "plt.hist(body_vel_disturption_yaw_array.flatten(), 5000, density=True, facecolor='g', alpha=0.75)\n",
    "plt.xlim(-5,5)\n",
    "plt.xlabel('single-step body vel ANG disruption [rad/s]')\n",
    "plt.ylabel('Amount of steps')"
   ]
  },
  {
   "cell_type": "code",
   "execution_count": null,
   "id": "e7e5b7ef-7962-491d-a8ae-b0bda7740c34",
   "metadata": {},
   "outputs": [],
   "source": []
  }
 ],
 "metadata": {
  "kernelspec": {
   "display_name": "Python 3 (ipykernel)",
   "language": "python",
   "name": "python3"
  },
  "language_info": {
   "codemirror_mode": {
    "name": "ipython",
    "version": 3
   },
   "file_extension": ".py",
   "mimetype": "text/x-python",
   "name": "python",
   "nbconvert_exporter": "python",
   "pygments_lexer": "ipython3",
   "version": "3.10.6"
  }
 },
 "nbformat": 4,
 "nbformat_minor": 5
}
