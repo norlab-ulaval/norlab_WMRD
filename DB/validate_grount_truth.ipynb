{
 "cells": [
  {
   "cell_type": "code",
   "execution_count": 11,
   "id": "2d4a7c01-64df-4605-adb9-97de2e36f9e4",
   "metadata": {},
   "outputs": [
    {
     "name": "stdout",
     "output_type": "stream",
     "text": [
      "3.10.6 (main, Nov 14 2022, 16:10:14) [GCC 11.3.0]\n"
     ]
    }
   ],
   "source": [
    "import numpy as np\n",
    "import pandas as pd\n",
    "\n",
    "import matplotlib.pyplot as plt\n",
    "from matplotlib.patches import Ellipse\n",
    "import matplotlib.transforms as transforms\n",
    "\n",
    "import sys\n",
    "print(sys.version)\n",
    "sys.path.append('../')\n",
    "\n",
    "from models.powertrain.bounded_powertrain import Bounded_powertrain\n",
    "from models.kinematic.ideal_diff_drive import Ideal_diff_drive\n",
    "from models.kinematic.ICR_based import *\n",
    "from models.kinematic.Perturbed_unicycle import *\n",
    "from models.kinematic.enhanced_kinematic import *"
   ]
  },
  {
   "cell_type": "code",
   "execution_count": 12,
   "id": "0e84796f-2c26-400d-8a72-4f94ac0c4e64",
   "metadata": {},
   "outputs": [
    {
     "name": "stdout",
     "output_type": "stream",
     "text": [
      "Index(['ros_time', 'joy_switch', 'icp_index', 'calib_state', 'calib_step',\n",
      "       'meas_left_vel', 'meas_right_vel', 'cmd_vel_x', 'cmd_vel_omega',\n",
      "       'icp_pos_x', 'icp_pos_y', 'icp_pos_z', 'icp_quat_x', 'icp_quat_y',\n",
      "       'icp_quat_z', 'icp_quat_w', 'imu_x', 'imu_y', 'imu_z'],\n",
      "      dtype='object')\n"
     ]
    }
   ],
   "source": [
    "raw_dataset = pd.read_pickle('/home/dominic/repos/norlab_WMRD/data/marmotte/grand_salon_20_01_a/grand_salon_01_20_a_data_raw.pkl')\n",
    "\n",
    "print(raw_dataset.columns)"
   ]
  },
  {
   "cell_type": "code",
   "execution_count": 14,
   "id": "763c63a0-6c44-47fc-bc4d-de66e7932ab7",
   "metadata": {},
   "outputs": [
    {
     "name": "stdout",
     "output_type": "stream",
     "text": [
      "[0.         0.         0.         ... 5.83612728 5.83612728 5.83612728]\n"
     ]
    }
   ],
   "source": [
    "print(raw_dataset['icp_pos_x'].to_numpy().astype(float))"
   ]
  },
  {
   "cell_type": "code",
   "execution_count": 21,
   "id": "f4d7e96e-6da3-4c67-a918-963b2833ca01",
   "metadata": {},
   "outputs": [
    {
     "name": "stdout",
     "output_type": "stream",
     "text": [
      "-0.41347402334213257\n",
      "5.655601978302002\n"
     ]
    },
    {
     "data": {
      "image/png": "[encoded data removed]",
      "text/plain": [
       "<Figure size 720x720 with 1 Axes>"
      ]
     },
     "metadata": {
      "needs_background": "light"
     },
     "output_type": "display_data"
    }
   ],
   "source": [
    "# plot model errors\n",
    "\n",
    "start_window = 25034\n",
    "end_window = start_window + 40\n",
    "\n",
    "plt.figure(figsize=(10,10))\n",
    "ax = plt.gca()\n",
    "fig = plt.gcf()\n",
    "\n",
    "line_width = 5\n",
    "alpha = 0.2\n",
    "\n",
    "alpha_plot = 0.6\n",
    "\n",
    "idd = ax.scatter(raw_dataset['icp_pos_x'].to_numpy().astype(float)[start_window:end_window], raw_dataset['icp_pos_y'].to_numpy().astype(float)[start_window:end_window], \n",
    "                  c = 'C0', \n",
    "                  cmap = 'hot', \n",
    "                  alpha = alpha_plot, \n",
    "                  lw=0, \n",
    "                  s=10,\n",
    "                  label='Body vel commands',\n",
    "                 rasterized=True)\n",
    "\n",
    "# print(raw_dataset['cmd_vel_x'].to_numpy().astype(float)[start_window:end_window])\n",
    "# print(raw_dataset['cmd_vel_omega'].to_numpy().astype(float)[start_window:end_window])\n",
    "\n",
    "print(raw_dataset['icp_pos_x'].to_numpy().astype(float)[end_window])\n",
    "print(raw_dataset['icp_pos_y'].to_numpy().astype(float)[end_window])"
   ]
  },
  {
   "cell_type": "code",
   "execution_count": null,
   "id": "009980cb-8bb9-4341-8d5e-022cb3a0f10a",
   "metadata": {},
   "outputs": [],
   "source": []
  },
  {
   "cell_type": "code",
   "execution_count": null,
   "id": "efffaf9f-e218-4f4f-a690-b91389c707f5",
   "metadata": {},
   "outputs": [],
   "source": []
  }
 ],
 "metadata": {
  "kernelspec": {
   "display_name": "Python 3 (ipykernel)",
   "language": "python",
   "name": "python3"
  },
  "language_info": {
   "codemirror_mode": {
    "name": "ipython",
    "version": 3
   },
   "file_extension": ".py",
   "mimetype": "text/x-python",
   "name": "python",
   "nbconvert_exporter": "python",
   "pygments_lexer": "ipython3",
   "version": "3.10.6"
  }
 },
 "nbformat": 4,
 "nbformat_minor": 5
}
