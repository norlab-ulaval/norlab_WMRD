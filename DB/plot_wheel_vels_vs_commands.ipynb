{
 "cells": [
  {
   "cell_type": "code",
   "execution_count": 1,
   "id": "c1ab318e-9888-4eaf-8a31-eb7307074b30",
   "metadata": {},
   "outputs": [
    {
     "name": "stdout",
     "output_type": "stream",
     "text": [
      "3.10.6 (main, Nov 14 2022, 16:10:14) [GCC 11.3.0]\n"
     ]
    }
   ],
   "source": [
    "import numpy as np\n",
    "import pandas as pd\n",
    "\n",
    "import matplotlib.pyplot as plt\n",
    "\n",
    "import sys\n",
    "print(sys.version)\n",
    "sys.path.append('../')\n",
    "\n",
    "from models.powertrain.bounded_powertrain import Bounded_powertrain\n",
    "from models.kinematic.ideal_diff_drive import Ideal_diff_drive\n",
    "from models.kinematic.ICR_based import *\n",
    "from models.kinematic.Perturbed_unicycle import *\n",
    "from models.kinematic.enhanced_kinematic import *"
   ]
  },
  {
   "cell_type": "code",
   "execution_count": 25,
   "id": "a8f7ae54-c339-4f53-9d9e-3059a09cfe29",
   "metadata": {},
   "outputs": [
    {
     "name": "stdout",
     "output_type": "stream",
     "text": [
      "     init_icp_x  init_icp_y  init_icp_z  init_icp_roll  init_icp_pitch  \\\n",
      "0      0.000000    0.000000    0.000000       0.000000        0.000000   \n",
      "1      0.000921    0.001698    0.000673       0.000344        0.008378   \n",
      "2      0.002518    0.002642    0.000315      -0.000111        0.009173   \n",
      "3     -0.003530    0.008637   -0.000532       0.000139        0.008575   \n",
      "4     -0.002363    0.002334   -0.000460      -0.000212        0.008567   \n",
      "..          ...         ...         ...            ...             ...   \n",
      "886   -2.277788    1.319567   -0.006760       0.020737        0.010034   \n",
      "887   -2.112234    0.742279   -0.001907       0.019724        0.012799   \n",
      "888   -1.933754    0.131296    0.007527       0.024937        0.010533   \n",
      "889   -1.839247   -0.199064   -0.003292       0.019568       -0.004226   \n",
      "890   -1.875623   -0.232927   -0.001289       0.008867       -0.000580   \n",
      "\n",
      "     init_icp_yaw  calib_step  cmd_left_0  cmd_right_0  cmd_left_1  ...  \\\n",
      "0        0.000000         0.0         0.0          0.0         0.0  ...   \n",
      "1        2.909117         0.0         0.0          0.0         0.0  ...   \n",
      "2        2.908897         0.0         0.0          0.0         0.0  ...   \n",
      "3        2.909257         0.0         0.0          0.0         0.0  ...   \n",
      "4        2.909315         0.0         0.0          0.0         0.0  ...   \n",
      "..            ...         ...         ...          ...         ...  ...   \n",
      "886     -1.327611       308.0         0.0          0.0         0.0  ...   \n",
      "887     -1.323706       308.0         0.0          0.0         0.0  ...   \n",
      "888     -1.325564       308.0         0.0          0.0         0.0  ...   \n",
      "889     -0.724254       308.0         0.0          0.0         0.0  ...   \n",
      "890     -0.241002       308.0         0.0          0.0         0.0  ...   \n",
      "\n",
      "       icp_vy  icp_omega  steady_state_mask  calib_mask  gt_icp_x  gt_icp_y  \\\n",
      "0   -0.000519   0.000038                0.0         1.0  0.000921  0.001698   \n",
      "1   -0.001861   0.000253                0.0         1.0  0.002518  0.002642   \n",
      "2   -0.001940   0.000097                0.0         1.0 -0.003087  0.007956   \n",
      "3    0.002632   0.000060                0.0         1.0 -0.001894  0.003377   \n",
      "4    0.000186  -0.000126                0.0         1.0 -0.001959  0.002601   \n",
      "..        ...        ...                ...         ...       ...       ...   \n",
      "886  0.007789  -0.001165                0.0         1.0 -2.112234  0.742279   \n",
      "887  0.002904   0.000654                0.0         1.0 -1.947445  0.161914   \n",
      "888  0.002840   0.343440                0.0         1.0 -1.852102 -0.196383   \n",
      "889 -0.012037   0.309331                0.0         1.0 -1.875623 -0.232927   \n",
      "890 -0.011101  -0.005568                0.0         1.0 -1.873125 -0.250823   \n",
      "\n",
      "     gt_icp_z  gt_icp_roll  gt_icp_pitch  gt_icp_yaw  \n",
      "0    0.000673     0.000344      0.008378    2.909117  \n",
      "1    0.000315    -0.000111      0.009173    2.908897  \n",
      "2   -0.000283     0.000050      0.008431    2.909090  \n",
      "3   -0.000178     0.000207      0.008424    2.909404  \n",
      "4   -0.000282     0.000281      0.008647    2.909195  \n",
      "..        ...          ...           ...         ...  \n",
      "886 -0.001907     0.019724      0.012799   -1.323706  \n",
      "887  0.007724     0.026158      0.007262   -1.323783  \n",
      "888 -0.005152     0.019522     -0.002436   -0.771683  \n",
      "889 -0.001289     0.008867     -0.000580   -0.241002  \n",
      "890  0.004297    -0.002830      0.004133   -0.260525  \n",
      "\n",
      "[891 rows x 178 columns]\n"
     ]
    }
   ],
   "source": [
    "#import training dataset\n",
    "\n",
    "dataset = pd.read_pickle('/home/dominic/repos/norlab_WMRD/data/marmotte/grand_salon_12_12_a/torch_dataset_all.pkl')\n",
    "\n",
    "print(dataset)\n",
    "\n",
    "cmd_left_str_list = []\n",
    "cmd_right_str_list = []\n",
    "for i in range(0, 40):\n",
    "    str_cmd_left_i = 'cmd_left_' + str(i)\n",
    "    str_cmd_right_i = 'cmd_right_' + str(i)\n",
    "    cmd_left_str_list.append(str_cmd_left_i)\n",
    "    cmd_right_str_list.append(str_cmd_right_i)\n",
    "cmd_left_vels_array = dataset[cmd_left_str_list].to_numpy()\n",
    "cmd_right_vels_array = dataset[cmd_right_str_list].to_numpy()\n",
    "\n",
    "encoder_left_str_list = []\n",
    "encoder_right_str_list = []\n",
    "for i in range(0, 40):\n",
    "    str_encoder_left_i = 'left_wheel_vel_' + str(i)\n",
    "    str_encoder_right_i = 'right_wheel_vel_' + str(i)\n",
    "    encoder_left_str_list.append(str_encoder_left_i)\n",
    "    encoder_right_str_list.append(str_encoder_right_i)\n",
    "encoder_left_vels_array = dataset[encoder_left_str_list].to_numpy()\n",
    "encoder_right_vels_array = dataset[encoder_right_str_list].to_numpy()"
   ]
  },
  {
   "cell_type": "code",
   "execution_count": 26,
   "id": "ed3b95b3-e63d-4572-bd5f-f18f02cb525d",
   "metadata": {},
   "outputs": [
    {
     "name": "stdout",
     "output_type": "stream",
     "text": [
      "762\n"
     ]
    }
   ],
   "source": [
    "# find biggest dynamic window\n",
    "\n",
    "n_windows = len(dataset)\n",
    "max_left_diff_window = 0\n",
    "last_max_left_vel_diff = 0\n",
    "\n",
    "for i in range(0, n_windows):\n",
    "    left_vel_diff = np.abs(cmd_left_vels_array[i, 0] - cmd_left_vels_array[i, 39])\n",
    "    if left_vel_diff > last_max_left_vel_diff:\n",
    "        max_left_diff_window = i\n",
    "        last_max_left_vel_diff = left_vel_diff\n",
    "        \n",
    "        \n",
    "print(max_left_diff_window)"
   ]
  },
  {
   "cell_type": "code",
   "execution_count": 62,
   "id": "d46ac628-8bdc-46eb-a8ba-0c7cc880846d",
   "metadata": {},
   "outputs": [
    {
     "name": "stdout",
     "output_type": "stream",
     "text": [
      "280\n",
      "280\n"
     ]
    },
    {
     "data": {
      "text/plain": [
       "<matplotlib.legend.Legend at 0x7f938f309570>"
      ]
     },
     "execution_count": 62,
     "metadata": {},
     "output_type": "execute_result"
    },
    {
     "data": {
      "image/png": "[encoded data removed]",
      "text/plain": [
       "<Figure size 432x288 with 1 Axes>"
      ]
     },
     "metadata": {
      "needs_background": "light"
     },
     "output_type": "display_data"
    }
   ],
   "source": [
    "# plot left wheel vel\n",
    "\n",
    "dt = 0.05\n",
    "timestamps_per_horizon = 40\n",
    "start_id = 760\n",
    "end_id = 767\n",
    "num_timestamps = int((end_id - start_id) * 40)\n",
    "print(num_timestamps)\n",
    "print(end_id * 40 - start_id * 40)\n",
    "\n",
    "time_vector = np.linspace(0, num_timestamps, num_timestamps)\n",
    "\n",
    "cmd_vel_left_flat = cmd_left_vels_array.flatten()\n",
    "encoder_vel_left_flat = encoder_left_vels_array.flatten()\n",
    "\n",
    "window_start = 2*timestamps_per_horizon+2\n",
    "steady_state_limits = np.array([window_start, window_start + 30])\n",
    "\n",
    "plt.plot(time_vector, cmd_vel_left_flat[start_id*40:end_id*40], label='command')\n",
    "plt.plot(time_vector, encoder_vel_left_flat[start_id*40:end_id*40], label='encoder')\n",
    "plt.vlines(steady_state_limits, -12, 12, color='C7', label='transitory-state (~1.5 s)')\n",
    "\n",
    "plt.xlabel('timestamp')\n",
    "plt.ylabel('left wheel vel [rad/s]')\n",
    "\n",
    "plt.legend()"
   ]
  },
  {
   "cell_type": "code",
   "execution_count": 63,
   "id": "90e8a764-4560-412b-a78c-d965fc5c4845",
   "metadata": {},
   "outputs": [
    {
     "name": "stdout",
     "output_type": "stream",
     "text": [
      "280\n",
      "280\n"
     ]
    },
    {
     "data": {
      "text/plain": [
       "<matplotlib.legend.Legend at 0x7f938f369000>"
      ]
     },
     "execution_count": 63,
     "metadata": {},
     "output_type": "execute_result"
    },
    {
     "data": {
      "image/png": "[encoded data removed]",
      "text/plain": [
       "<Figure size 432x288 with 1 Axes>"
      ]
     },
     "metadata": {
      "needs_background": "light"
     },
     "output_type": "display_data"
    }
   ],
   "source": [
    "# plot right wheel vel\n",
    "\n",
    "dt = 0.05\n",
    "timestamps_per_horizon = 40\n",
    "start_id = 760\n",
    "end_id = 767\n",
    "num_timestamps = int((end_id - start_id) * 40)\n",
    "print(num_timestamps)\n",
    "print(end_id * 40 - start_id * 40)\n",
    "\n",
    "time_vector = np.linspace(0, num_timestamps, num_timestamps)\n",
    "\n",
    "cmd_vel_right_flat = cmd_right_vels_array.flatten()\n",
    "encoder_vel_right_flat = encoder_right_vels_array.flatten()\n",
    "\n",
    "window_start = 2*timestamps_per_horizon+2\n",
    "steady_state_limits = np.array([window_start, window_start + 30])\n",
    "\n",
    "plt.plot(time_vector, cmd_vel_right_flat[start_id*40:end_id*40], label='command')\n",
    "plt.plot(time_vector, encoder_vel_right_flat[start_id*40:end_id*40], label='encoder')\n",
    "plt.vlines(steady_state_limits, -12, 12, color='C7', label='transitory-state (~1.5 s)')\n",
    "\n",
    "plt.xlabel('timestamp')\n",
    "plt.ylabel('right wheel vel [rad/s]')\n",
    "\n",
    "plt.legend()"
   ]
  },
  {
   "cell_type": "code",
   "execution_count": null,
   "id": "797ce9f2-e290-4e14-a3ac-b2303bf855cb",
   "metadata": {},
   "outputs": [],
   "source": []
  }
 ],
 "metadata": {
  "kernelspec": {
   "display_name": "Python 3 (ipykernel)",
   "language": "python",
   "name": "python3"
  },
  "language_info": {
   "codemirror_mode": {
    "name": "ipython",
    "version": 3
   },
   "file_extension": ".py",
   "mimetype": "text/x-python",
   "name": "python",
   "nbconvert_exporter": "python",
   "pygments_lexer": "ipython3",
   "version": "3.10.6"
  }
 },
 "nbformat": 4,
 "nbformat_minor": 5
}
