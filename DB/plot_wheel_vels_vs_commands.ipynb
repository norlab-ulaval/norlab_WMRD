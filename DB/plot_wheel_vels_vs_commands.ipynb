{
 "cells": [
  {
   "cell_type": "code",
   "execution_count": 1,
   "id": "c1ab318e-9888-4eaf-8a31-eb7307074b30",
   "metadata": {},
   "outputs": [
    {
     "name": "stdout",
     "output_type": "stream",
     "text": [
      "3.10.6 (main, Nov 14 2022, 16:10:14) [GCC 11.3.0]\n"
     ]
    }
   ],
   "source": [
    "import numpy as np\n",
    "import pandas as pd\n",
    "\n",
    "import matplotlib.pyplot as plt\n",
    "\n",
    "import sys\n",
    "print(sys.version)\n",
    "sys.path.append('../')\n",
    "\n",
    "from models.powertrain.bounded_powertrain import Bounded_powertrain\n",
    "from models.kinematic.ideal_diff_drive import Ideal_diff_drive\n",
    "from models.kinematic.ICR_based import *\n",
    "from models.kinematic.Perturbed_unicycle import *\n",
    "from models.kinematic.enhanced_kinematic import *"
   ]
  },
  {
   "cell_type": "code",
   "execution_count": 2,
   "id": "a8f7ae54-c339-4f53-9d9e-3059a09cfe29",
   "metadata": {},
   "outputs": [
    {
     "name": "stdout",
     "output_type": "stream",
     "text": [
      "     init_icp_x  init_icp_y  init_icp_z  init_icp_roll  init_icp_pitch  \\\n",
      "0           0.0         0.0         0.0            0.0             0.0   \n",
      "1           0.0         0.0         0.0            0.0             0.0   \n",
      "2           0.0         0.0         0.0            0.0             0.0   \n",
      "3           0.0         0.0         0.0            0.0             0.0   \n",
      "4           0.0         0.0         0.0            0.0             0.0   \n",
      "..          ...         ...         ...            ...             ...   \n",
      "595         0.0         0.0         0.0            0.0             0.0   \n",
      "596         0.0         0.0         0.0            0.0             0.0   \n",
      "597         0.0         0.0         0.0            0.0             0.0   \n",
      "598         0.0         0.0         0.0            0.0             0.0   \n",
      "599         0.0         0.0         0.0            0.0             0.0   \n",
      "\n",
      "     init_icp_yaw  calib_step  cmd_left_0  cmd_right_0  cmd_left_1  ...  \\\n",
      "0             0.0         0.0   -0.079351    -2.326471   -0.079351  ...   \n",
      "1             0.0         0.0   -0.079351    -2.326471   -0.079351  ...   \n",
      "2             0.0         0.0   -0.079351    -2.326471   -0.079351  ...   \n",
      "3             0.0         0.0   -0.079351    -2.326471   -0.912778  ...   \n",
      "4             0.0         1.0   -0.912778    -1.782168   -0.912778  ...   \n",
      "..            ...         ...         ...          ...         ...  ...   \n",
      "595           0.0       198.0   -1.360743     3.412134   -1.360743  ...   \n",
      "596           0.0       198.0   -1.360743     3.412134   -1.360743  ...   \n",
      "597           0.0       199.0   -0.487736     3.452091   -0.487736  ...   \n",
      "598           0.0       199.0   -0.487736     3.452091   -0.487736  ...   \n",
      "599           0.0       199.0   -0.487736     3.452091   -0.487736  ...   \n",
      "\n",
      "       icp_vy  icp_omega  steady_state_mask  transitory_state_mask  \\\n",
      "0   -0.029658  -0.251443                0.0                    1.0   \n",
      "1   -0.056677  -0.364356                1.0                    0.0   \n",
      "2   -0.049206  -0.372739                1.0                    0.0   \n",
      "3   -0.024951  -0.179724                0.0                    1.0   \n",
      "4   -0.025233  -0.148702                1.0                    0.0   \n",
      "..        ...        ...                ...                    ...   \n",
      "595 -0.087781  -0.821924                1.0                    0.0   \n",
      "596 -0.087781  -0.821924                1.0                    0.0   \n",
      "597 -0.087781  -0.821924                0.0                    1.0   \n",
      "598 -0.087781  -0.821924                1.0                    0.0   \n",
      "599 -0.087781  -0.821924                1.0                    0.0   \n",
      "\n",
      "         gt_icp_x      gt_icp_y      gt_icp_z  gt_icp_roll  gt_icp_pitch  \\\n",
      "0   -3.144218e-01 -1.238712e-03 -3.355949e-03    -0.005234      0.002995   \n",
      "1   -3.362943e-01  1.789320e-03 -1.087584e-03    -0.004767     -0.005004   \n",
      "2   -3.369535e-01  2.170288e-02  1.386393e-04    -0.002096     -0.009389   \n",
      "3   -4.167693e-01  4.255160e-02  8.104933e-04     0.003330      0.000881   \n",
      "4   -4.211645e-01  8.122678e-03 -2.300468e-03    -0.001434     -0.004165   \n",
      "..            ...           ...           ...          ...           ...   \n",
      "595  2.220446e-16  2.775558e-16  6.938894e-18     0.000000      0.000000   \n",
      "596  2.220446e-16  2.775558e-16  6.938894e-18     0.000000      0.000000   \n",
      "597  2.220446e-16  2.775558e-16  6.938894e-18     0.000000      0.000000   \n",
      "598  2.220446e-16  2.775558e-16  6.938894e-18     0.000000      0.000000   \n",
      "599  2.220446e-16  2.775558e-16  6.938894e-18     0.000000      0.000000   \n",
      "\n",
      "     gt_icp_yaw  \n",
      "0     -0.481706  \n",
      "1     -0.692023  \n",
      "2     -0.716072  \n",
      "3     -0.376048  \n",
      "4     -0.276264  \n",
      "..          ...  \n",
      "595    0.000000  \n",
      "596    0.000000  \n",
      "597    0.000000  \n",
      "598    0.000000  \n",
      "599    0.000000  \n",
      "\n",
      "[600 rows x 458 columns]\n"
     ]
    }
   ],
   "source": [
    "#import training dataset\n",
    "\n",
    "dataset = pd.read_pickle('/home/dominic/repos/norlab_WMRD/data/husky/grand_salon_a_inflated/torch_dataset_all.pkl')\n",
    "\n",
    "print(dataset)\n",
    "\n",
    "cmd_left_str_list = []\n",
    "cmd_right_str_list = []\n",
    "for i in range(0, 40):\n",
    "    str_cmd_left_i = 'cmd_left_' + str(i)\n",
    "    str_cmd_right_i = 'cmd_right_' + str(i)\n",
    "    cmd_left_str_list.append(str_cmd_left_i)\n",
    "    cmd_right_str_list.append(str_cmd_right_i)\n",
    "cmd_left_vels_array = dataset[cmd_left_str_list].to_numpy()\n",
    "cmd_right_vels_array = dataset[cmd_right_str_list].to_numpy()\n",
    "\n",
    "encoder_left_str_list = []\n",
    "encoder_right_str_list = []\n",
    "for i in range(0, 40):\n",
    "    str_encoder_left_i = 'left_wheel_vel_' + str(i)\n",
    "    str_encoder_right_i = 'right_wheel_vel_' + str(i)\n",
    "    encoder_left_str_list.append(str_encoder_left_i)\n",
    "    encoder_right_str_list.append(str_encoder_right_i)\n",
    "encoder_left_vels_array = dataset[encoder_left_str_list].to_numpy()\n",
    "encoder_right_vels_array = dataset[encoder_right_str_list].to_numpy()"
   ]
  },
  {
   "cell_type": "code",
   "execution_count": 3,
   "id": "ed3b95b3-e63d-4572-bd5f-f18f02cb525d",
   "metadata": {},
   "outputs": [
    {
     "name": "stdout",
     "output_type": "stream",
     "text": [
      "48\n"
     ]
    }
   ],
   "source": [
    "# find biggest dynamic window\n",
    "\n",
    "n_windows = len(dataset)\n",
    "max_left_diff_window = 0\n",
    "last_max_left_vel_diff = 0\n",
    "\n",
    "for i in range(0, n_windows):\n",
    "    left_vel_diff = np.abs(cmd_left_vels_array[i, 0] - cmd_left_vels_array[i, 39])\n",
    "    if left_vel_diff > last_max_left_vel_diff:\n",
    "        max_left_diff_window = i\n",
    "        last_max_left_vel_diff = left_vel_diff\n",
    "        \n",
    "        \n",
    "print(max_left_diff_window)"
   ]
  },
  {
   "cell_type": "code",
   "execution_count": 5,
   "id": "d46ac628-8bdc-46eb-a8ba-0c7cc880846d",
   "metadata": {},
   "outputs": [
    {
     "name": "stdout",
     "output_type": "stream",
     "text": [
      "1600\n",
      "1600\n"
     ]
    },
    {
     "data": {
      "text/plain": [
       "<matplotlib.legend.Legend at 0x7f4e50e4d120>"
      ]
     },
     "execution_count": 5,
     "metadata": {},
     "output_type": "execute_result"
    },
    {
     "data": {
      "image/png": "[encoded data removed]",
      "text/plain": [
       "<Figure size 432x288 with 1 Axes>"
      ]
     },
     "metadata": {
      "needs_background": "light"
     },
     "output_type": "display_data"
    }
   ],
   "source": [
    "# plot left wheel vel\n",
    "\n",
    "dt = 0.05\n",
    "timestamps_per_horizon = 40\n",
    "start_id = 48\n",
    "end_id = 88\n",
    "num_timestamps = int((end_id - start_id) * 40)\n",
    "print(num_timestamps)\n",
    "print(end_id * 40 - start_id * 40)\n",
    "\n",
    "time_vector = np.linspace(0, num_timestamps, num_timestamps)\n",
    "\n",
    "cmd_vel_left_flat = cmd_left_vels_array.flatten()\n",
    "encoder_vel_left_flat = encoder_left_vels_array.flatten()\n",
    "\n",
    "window_start = 2*timestamps_per_horizon+2\n",
    "steady_state_limits = np.array([window_start, window_start + 30])\n",
    "\n",
    "plt.plot(time_vector, cmd_vel_left_flat[start_id*40:end_id*40], label='command')\n",
    "plt.plot(time_vector, encoder_vel_left_flat[start_id*40:end_id*40], label='encoder')\n",
    "plt.vlines(steady_state_limits, -12, 12, color='C7', label='transitory-state (~1.5 s)')\n",
    "\n",
    "plt.xlabel('timestamp')\n",
    "plt.ylabel('left wheel vel [rad/s]')\n",
    "\n",
    "plt.legend()"
   ]
  },
  {
   "cell_type": "code",
   "execution_count": 63,
   "id": "90e8a764-4560-412b-a78c-d965fc5c4845",
   "metadata": {},
   "outputs": [
    {
     "name": "stdout",
     "output_type": "stream",
     "text": [
      "280\n",
      "280\n"
     ]
    },
    {
     "data": {
      "text/plain": [
       "<matplotlib.legend.Legend at 0x7f938f369000>"
      ]
     },
     "execution_count": 63,
     "metadata": {},
     "output_type": "execute_result"
    },
    {
     "data": {
      "image/png": "[encoded data removed]",
      "text/plain": [
       "<Figure size 432x288 with 1 Axes>"
      ]
     },
     "metadata": {
      "needs_background": "light"
     },
     "output_type": "display_data"
    }
   ],
   "source": [
    "# plot right wheel vel\n",
    "\n",
    "dt = 0.05\n",
    "timestamps_per_horizon = 40\n",
    "start_id = 760\n",
    "end_id = 767\n",
    "num_timestamps = int((end_id - start_id) * 40)\n",
    "print(num_timestamps)\n",
    "print(end_id * 40 - start_id * 40)\n",
    "\n",
    "time_vector = np.linspace(0, num_timestamps, num_timestamps)\n",
    "\n",
    "cmd_vel_right_flat = cmd_right_vels_array.flatten()\n",
    "encoder_vel_right_flat = encoder_right_vels_array.flatten()\n",
    "\n",
    "window_start = 2*timestamps_per_horizon+2\n",
    "steady_state_limits = np.array([window_start, window_start + 30])\n",
    "\n",
    "plt.plot(time_vector, cmd_vel_right_flat[start_id*40:end_id*40], label='command')\n",
    "plt.plot(time_vector, encoder_vel_right_flat[start_id*40:end_id*40], label='encoder')\n",
    "plt.vlines(steady_state_limits, -12, 12, color='C7', label='transitory-state (~1.5 s)')\n",
    "\n",
    "plt.xlabel('timestamp')\n",
    "plt.ylabel('right wheel vel [rad/s]')\n",
    "\n",
    "plt.legend()"
   ]
  },
  {
   "cell_type": "code",
   "execution_count": null,
   "id": "797ce9f2-e290-4e14-a3ac-b2303bf855cb",
   "metadata": {},
   "outputs": [],
   "source": []
  }
 ],
 "metadata": {
  "kernelspec": {
   "display_name": "Python 3 (ipykernel)",
   "language": "python",
   "name": "python3"
  },
  "language_info": {
   "codemirror_mode": {
    "name": "ipython",
    "version": 3
   },
   "file_extension": ".py",
   "mimetype": "text/x-python",
   "name": "python",
   "nbconvert_exporter": "python",
   "pygments_lexer": "ipython3",
   "version": "3.10.6"
  }
 },
 "nbformat": 4,
 "nbformat_minor": 5
}
