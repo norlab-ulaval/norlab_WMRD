{
 "cells": [
  {
   "cell_type": "code",
   "execution_count": 1,
   "id": "8d6cf5f4-8da7-40e9-b646-e15a41a07312",
   "metadata": {},
   "outputs": [
    {
     "name": "stdout",
     "output_type": "stream",
     "text": [
      "3.10.6 (main, Nov 14 2022, 16:10:14) [GCC 11.3.0]\n"
     ]
    }
   ],
   "source": [
    "import numpy as np\n",
    "import pandas as pd\n",
    "import scipy.linalg\n",
    "\n",
    "import matplotlib.pyplot as plt\n",
    "from mpl_toolkits.mplot3d import axes3d\n",
    "\n",
    "import sys\n",
    "print(sys.version)\n",
    "sys.path.append('../')\n",
    "\n",
    "from models.powertrain.bounded_powertrain import Bounded_powertrain\n",
    "from models.kinematic.ideal_diff_drive import Ideal_diff_drive\n",
    "from models.kinematic.ICR_based import *\n",
    "from models.kinematic.Perturbed_unicycle import *\n",
    "from models.kinematic.enhanced_kinematic import *\n"
   ]
  },
  {
   "cell_type": "code",
   "execution_count": 2,
   "id": "846f77f8-2377-482b-9e7f-e21a1e7ed4b3",
   "metadata": {},
   "outputs": [
    {
     "name": "stdout",
     "output_type": "stream",
     "text": [
      "     init_icp_x  init_icp_y  init_icp_z  init_icp_roll  init_icp_pitch  \\\n",
      "316         0.0         0.0         0.0            0.0             0.0   \n",
      "317         0.0         0.0         0.0            0.0             0.0   \n",
      "318         0.0         0.0         0.0            0.0             0.0   \n",
      "319         0.0         0.0         0.0            0.0             0.0   \n",
      "320         0.0         0.0         0.0            0.0             0.0   \n",
      "..          ...         ...         ...            ...             ...   \n",
      "628         0.0         0.0         0.0            0.0             0.0   \n",
      "629         0.0         0.0         0.0            0.0             0.0   \n",
      "630         0.0         0.0         0.0            0.0             0.0   \n",
      "631         0.0         0.0         0.0            0.0             0.0   \n",
      "632         0.0         0.0         0.0            0.0             0.0   \n",
      "\n",
      "     init_icp_yaw  calib_step  cmd_left_0  cmd_right_0  cmd_left_1  ...  \\\n",
      "316           0.0       105.0   -6.873257     8.128191   -6.873257  ...   \n",
      "317           0.0       105.0   -6.873257     8.128191   -6.873257  ...   \n",
      "318           0.0       105.0   -6.873257     8.128191   -7.940424  ...   \n",
      "319           0.0       106.0   -7.940424    -2.225096   -7.940424  ...   \n",
      "320           0.0       106.0   -7.940424    -2.225096   -7.940424  ...   \n",
      "..            ...         ...         ...          ...         ...  ...   \n",
      "628           0.0       209.0   -1.772326    -5.722918   -1.772326  ...   \n",
      "629           0.0       209.0   -1.772326    -5.722918   -1.772326  ...   \n",
      "630           0.0       209.0   -1.772326    -5.722918    7.098071  ...   \n",
      "631           0.0       210.0    7.098071    -3.513538    7.098071  ...   \n",
      "632           0.0       210.0    7.098071    -3.513538    7.098071  ...   \n",
      "\n",
      "     body_vel_disturption_yaw_30  body_vel_disturption_yaw_31  \\\n",
      "316                    -0.574192                    -0.618406   \n",
      "317                    -0.398522                    -0.391868   \n",
      "318                     0.142332                    -0.004823   \n",
      "319                    -0.065341                    -0.084925   \n",
      "320                    -0.166642                    -0.094424   \n",
      "..                           ...                          ...   \n",
      "628                     0.077795                     0.044771   \n",
      "629                     0.173377                     0.163217   \n",
      "630                     0.409133                     0.431745   \n",
      "631                     0.413133                     0.315823   \n",
      "632                     0.334434                     0.284041   \n",
      "\n",
      "     body_vel_disturption_yaw_32  body_vel_disturption_yaw_33  \\\n",
      "316                    -0.569574                    -0.451658   \n",
      "317                    -0.408669                    -0.398861   \n",
      "318                     0.030289                     0.072100   \n",
      "319                    -0.137719                    -0.135754   \n",
      "320                    -0.108919                    -0.101891   \n",
      "..                           ...                          ...   \n",
      "628                     0.087597                     0.127001   \n",
      "629                     0.152956                     0.162017   \n",
      "630                     0.512886                     0.445854   \n",
      "631                     0.239040                     0.173434   \n",
      "632                     0.354658                     0.347769   \n",
      "\n",
      "     body_vel_disturption_yaw_34  body_vel_disturption_yaw_35  \\\n",
      "316                    -0.486608                    -0.427475   \n",
      "317                    -0.412573                    -0.425882   \n",
      "318                    -0.041033                     0.078946   \n",
      "319                    -0.084152                    -0.082114   \n",
      "320                    -0.075669                    -0.026962   \n",
      "..                           ...                          ...   \n",
      "628                     0.103727                     0.080373   \n",
      "629                     0.155731                     0.097643   \n",
      "630                     0.384874                     0.361438   \n",
      "631                     0.157276                     0.224785   \n",
      "632                     0.375493                     0.336085   \n",
      "\n",
      "     body_vel_disturption_yaw_36  body_vel_disturption_yaw_37  \\\n",
      "316                    -0.444310                    -0.485544   \n",
      "317                    -0.413412                    -0.379158   \n",
      "318                    -0.021396                    -0.090526   \n",
      "319                    -0.132345                    -0.140162   \n",
      "320                    -0.087670                    -0.136572   \n",
      "..                           ...                          ...   \n",
      "628                     0.090764                     0.168259   \n",
      "629                     0.092019                     0.059827   \n",
      "630                     0.385908                     0.358245   \n",
      "631                     0.254089                     0.381336   \n",
      "632                     0.423759                     0.348951   \n",
      "\n",
      "     body_vel_disturption_yaw_38  body_vel_disturption_yaw_39  \n",
      "316                    -0.449218                    -0.391862  \n",
      "317                    -0.384785                    -0.391289  \n",
      "318                    -0.003407                    -0.108270  \n",
      "319                    -0.022167                    -0.077983  \n",
      "320                    -0.118913                    -0.098274  \n",
      "..                           ...                          ...  \n",
      "628                     0.131136                     0.095843  \n",
      "629                     0.067486                     0.064862  \n",
      "630                     0.312185                     0.314607  \n",
      "631                     0.335832                     0.434565  \n",
      "632                     0.408850                     0.466191  \n",
      "\n",
      "[317 rows x 1018 columns]\n"
     ]
    }
   ],
   "source": [
    "#import ing dataset\n",
    "# grand salon\n",
    "full_dataset = pd.read_pickle('/home/dominic/repos/norlab_WMRD/data/marmotte/grand_salon_20_01_b/slip_dataset_all.pkl')\n",
    "full_dataset_length = len(full_dataset)\n",
    "dataset_snow = full_dataset[:int(full_dataset_length/2)]\n",
    "dataset_test = full_dataset[int(full_dataset_length/2):]\n",
    "\n",
    "# grand axe\n",
    "# dataset_snow = pd.read_pickle('/home/dominic/repos/norlab_WMRD/data/marmotte/ga_hard_snow_25_01_a/slip_dataset_all.pkl')\n",
    "# dataset_test = pd.read_pickle('/home/dominic/repos/norlab_WMRD/data/marmotte/ga_hard_snow_25_01_b/slip_dataset_all.pkl')\n",
    "# '/home/dominic/repos/norlab_WMRD/data/marmotte/grand_salon_20_01_b/slip_dataset_all.pkl' # grand salon\n",
    "# '/home/dominic/repos/norlab_WMRD/data/marmotte/ga_hard_snow_25_01_a/slip_dataset_all.pkl' # snow\n",
    "# print(dataset_snow)\n",
    "print(dataset_test)"
   ]
  },
  {
   "cell_type": "code",
   "execution_count": 3,
   "id": "52540d19-adc5-41d8-9963-622a06eff206",
   "metadata": {},
   "outputs": [
    {
     "name": "stdout",
     "output_type": "stream",
     "text": [
      "1.3882732228117098\n"
     ]
    }
   ],
   "source": [
    "# extract body_vel_distruptions arrays (output arrays)\n",
    "\n",
    "str_body_vel_disturption_x_list = []\n",
    "str_body_vel_disturption_y_list = []\n",
    "str_body_vel_disturption_yaw_list = []\n",
    "for i in range(0, 40):\n",
    "    str_body_vel_disturption_x_i = 'body_vel_disturption_x_' + str(i)\n",
    "    str_body_vel_disturption_y_i = 'body_vel_disturption_y_' + str(i)\n",
    "    str_body_vel_disturption_yaw_i = 'body_vel_disturption_yaw_' + str(i)\n",
    "    str_body_vel_disturption_x_list.append(str_body_vel_disturption_x_i)\n",
    "    str_body_vel_disturption_y_list.append(str_body_vel_disturption_y_i)\n",
    "    str_body_vel_disturption_yaw_list.append(str_body_vel_disturption_yaw_i)\n",
    "    \n",
    "body_vel_disturption_x_array = dataset_snow[str_body_vel_disturption_x_list].to_numpy()\n",
    "body_vel_disturption_y_array = dataset_snow[str_body_vel_disturption_y_list].to_numpy()\n",
    "body_vel_disturption_yaw_array = dataset_snow[str_body_vel_disturption_yaw_list].to_numpy()\n",
    "\n",
    "y_train_longitudinal_slip = body_vel_disturption_x_array.flatten()\n",
    "y_train_lateral_slip = body_vel_disturption_y_array.flatten()\n",
    "y_train_angular_slip = body_vel_disturption_yaw_array.flatten()\n",
    "\n",
    "print(np.max(y_train_angular_slip))"
   ]
  },
  {
   "cell_type": "code",
   "execution_count": 4,
   "id": "abfcddcf-c331-4591-b6c2-64e06b286418",
   "metadata": {},
   "outputs": [],
   "source": [
    "# extract interpolated_icp\n",
    "\n",
    "str_icp_interpolated_x_list = []\n",
    "str_icp_interpolated_y_list = []\n",
    "str_icp_interpolated_yaw_list = []\n",
    "for i in range(0, 40):\n",
    "    str_icp_interpolated_x_i = 'icp_interpolated_x_' + str(i)\n",
    "    str_icp_interpolated_y_i = 'icp_interpolated_y_' + str(i)\n",
    "    str_icp_interpolated_yaw_i = 'icp_interpolated_yaw_' + str(i)\n",
    "    str_icp_interpolated_x_list.append(str_icp_interpolated_x_i)\n",
    "    str_icp_interpolated_y_list.append(str_icp_interpolated_y_i)\n",
    "    str_icp_interpolated_yaw_list.append(str_icp_interpolated_yaw_i)\n",
    "    \n",
    "icp_interpolated_x_array = dataset_snow[str_icp_interpolated_x_list].to_numpy()\n",
    "icp_interpolated_y_array = dataset_snow[str_icp_interpolated_y_list].to_numpy()\n",
    "icp_interpolated_yaw_array = dataset_snow[str_icp_interpolated_yaw_list].to_numpy()"
   ]
  },
  {
   "cell_type": "code",
   "execution_count": 5,
   "id": "dd8d3493-6379-407b-a3dd-3b3a153958ce",
   "metadata": {},
   "outputs": [],
   "source": [
    "# extract icp vels\n",
    "\n",
    "str_icp_vel_x_list = []\n",
    "str_icp_vel_y_list = []\n",
    "str_icp_vel_yaw_list = []\n",
    "for i in range(0, 40):\n",
    "    str_icp_vel_x_i = 'icp_vel_x_' + str(i)\n",
    "    str_icp_vel_y_i = 'icp_vel_y_' + str(i)\n",
    "    str_icp_vel_yaw_i = 'icp_vel_yaw_' + str(i)\n",
    "    str_icp_vel_x_list.append(str_icp_vel_x_i)\n",
    "    str_icp_vel_y_list.append(str_icp_vel_y_i)\n",
    "    str_icp_vel_yaw_list.append(str_icp_vel_yaw_i)\n",
    "    \n",
    "icp_vel_x_array = dataset_snow[str_icp_vel_x_list].to_numpy()\n",
    "icp_vel_y_array = dataset_snow[str_icp_vel_y_list].to_numpy()\n",
    "icp_vel_yaw_array = dataset_snow[str_icp_vel_yaw_list].to_numpy()"
   ]
  },
  {
   "cell_type": "code",
   "execution_count": 6,
   "id": "d5ae268d-283b-4546-92d7-c44a76303e7f",
   "metadata": {},
   "outputs": [],
   "source": [
    "# extract cmd_body_vel arrays (input arrays)\n",
    "\n",
    "idd_body_vel_x_str_list = []\n",
    "idd_body_vel_y_str_list = []\n",
    "idd_body_vel_yaw_str_list = []\n",
    "for i in range(0, 40):\n",
    "    str_idd_vel_x_i = 'idd_vel_x_' + str(i)\n",
    "    str_idd_vel_y_i = 'idd_vel_y_' + str(i)\n",
    "    str_idd_vel_yaw_i = 'idd_vel_yaw_' + str(i)\n",
    "    idd_body_vel_x_str_list.append(str_idd_vel_x_i)\n",
    "    idd_body_vel_y_str_list.append(str_idd_vel_y_i)\n",
    "    idd_body_vel_yaw_str_list.append(str_idd_vel_yaw_i)\n",
    "idd_body_vel_x_array = dataset_snow[idd_body_vel_x_str_list].to_numpy()\n",
    "idd_body_vel_y_array = dataset_snow[idd_body_vel_y_str_list].to_numpy()\n",
    "idd_body_vel_yaw_array = dataset_snow[idd_body_vel_yaw_str_list].to_numpy()\n",
    "\n",
    "x_train = np.column_stack((idd_body_vel_x_array.flatten(), idd_body_vel_yaw_array.flatten()))"
   ]
  },
  {
   "cell_type": "code",
   "execution_count": 7,
   "id": "02c55a63-390f-412c-ab44-f2eac6512c1f",
   "metadata": {},
   "outputs": [
    {
     "data": {
      "text/plain": [
       "(-1.5, 1.5)"
      ]
     },
     "execution_count": 7,
     "metadata": {},
     "output_type": "execute_result"
    },
    {
     "data": {
      "image/png": "[encoded data removed]",
      "text/plain": [
       "<Figure size 432x288 with 1 Axes>"
      ]
     },
     "metadata": {
      "needs_background": "light"
     },
     "output_type": "display_data"
    }
   ],
   "source": [
    "test_window = 180\n",
    "\n",
    "# x_train = np.zeros((40, 2))\n",
    "# for i in range(0, 40):\n",
    "#     x_train[i, 0] = idd_body_vel_x_array[test_window, i]\n",
    "#     x_train[i, 1] = idd_body_vel_yaw_array[test_window, i]\n",
    "  \n",
    "# y_train_longitudinal_slip = body_vel_disturption_x_array[test_window, :]\n",
    "# y_train_lateral_slip = body_vel_disturption_y_array[test_window, :]\n",
    "# y_train_angular_slip = body_vel_disturption_yaw_array[test_window, :]\n",
    "\n",
    "# plt.plot(body_vel_disturption_x_array[test_window, :], 'o')\n",
    "plt.plot(idd_body_vel_x_array[test_window, :])\n",
    "plt.plot(icp_vel_x_array[test_window, :], 'o')\n",
    "# plt.plot(x_train[:, 0])\n",
    "# plt.plot(icp_interpolated_x_array[test_window, :], 'o', alpha = 0.5)\n",
    "\n",
    "plt.ylim(-1.5, 1.5)\n",
    "\n",
    "# print(x_train)\n"
   ]
  },
  {
   "cell_type": "code",
   "execution_count": 8,
   "id": "e46cf3fe-bda0-4ee5-a761-eec263be4a2c",
   "metadata": {},
   "outputs": [
    {
     "data": {
      "text/plain": [
       "(-4.0, 4.0)"
      ]
     },
     "execution_count": 8,
     "metadata": {},
     "output_type": "execute_result"
    },
    {
     "data": {
      "image/png": "[encoded data removed]",
      "text/plain": [
       "<Figure size 432x288 with 1 Axes>"
      ]
     },
     "metadata": {
      "needs_background": "light"
     },
     "output_type": "display_data"
    }
   ],
   "source": [
    "plt.plot(body_vel_disturption_yaw_array[test_window, :], 'o')\n",
    "plt.plot(idd_body_vel_yaw_array[test_window, :])\n",
    "# plt.plot(y_train_longitudinal_slip)\n",
    "plt.plot(icp_vel_yaw_array[test_window, :], 'o')\n",
    "# plt.plot(icp_interpolated_yaw_array[test_window, :], 'o')\n",
    "\n",
    "plt.ylim(-4, 4)\n"
   ]
  },
  {
   "cell_type": "code",
   "execution_count": 9,
   "id": "9f0a3242-daed-497a-ac36-f2ad79126d26",
   "metadata": {},
   "outputs": [],
   "source": [
    "# compute mean body vel disturbance for each steady-state window\n",
    "n_windows = len(dataset_snow)\n",
    "\n",
    "\n",
    "steady_state_mask = dataset_snow['steady_state_mask'].to_numpy() == True\n",
    "\n",
    "steady_state_idd_body_vel_x = idd_body_vel_x_array[steady_state_mask]\n",
    "steady_state_idd_body_vel_y = idd_body_vel_y_array[steady_state_mask]\n",
    "steady_state_idd_body_vel_yaw = idd_body_vel_yaw_array[steady_state_mask]\n",
    "\n",
    "steady_state_icp_body_vel_x = icp_vel_x_array[steady_state_mask]\n",
    "steady_state_icp_body_vel_y = icp_vel_y_array[steady_state_mask]\n",
    "steady_state_icp_body_vel_yaw = icp_vel_yaw_array[steady_state_mask]\n",
    "\n",
    "steady_state_body_vel_disturption_x = body_vel_disturption_x_array[steady_state_mask]\n",
    "steady_state_body_vel_disturption_y = body_vel_disturption_y_array[steady_state_mask]\n",
    "steady_state_body_vel_disturption_yaw = body_vel_disturption_yaw_array[steady_state_mask]\n",
    "\n",
    "\n"
   ]
  },
  {
   "cell_type": "code",
   "execution_count": 10,
   "id": "c1c30b6f-bf5f-42e3-8afc-24cf1c6b87fc",
   "metadata": {},
   "outputs": [
    {
     "name": "stdout",
     "output_type": "stream",
     "text": [
      "(210,)\n"
     ]
    }
   ],
   "source": [
    "# compute mean body vel disturptions\n",
    "\n",
    "mean_body_vel_disturption_x = np.mean(steady_state_body_vel_disturption_x, axis=1)\n",
    "mean_body_vel_disturption_y = np.mean(steady_state_body_vel_disturption_y, axis=1)\n",
    "mean_body_vel_disturption_yaw = np.mean(steady_state_body_vel_disturption_yaw, axis=1)\n",
    "\n",
    "std_dev_body_vel_disturption_x = np.std(steady_state_body_vel_disturption_x, axis=1)\n",
    "std_dev_body_vel_disturption_y = np.std(steady_state_body_vel_disturption_y, axis=1)\n",
    "std_dev_body_vel_disturption_yaw = np.std(steady_state_body_vel_disturption_yaw, axis=1)\n",
    "\n",
    "print(mean_body_vel_disturption_x.shape)"
   ]
  },
  {
   "cell_type": "code",
   "execution_count": 11,
   "id": "5c6fc0a8-fdb7-48fd-9458-68295cdf3270",
   "metadata": {},
   "outputs": [
    {
     "name": "stdout",
     "output_type": "stream",
     "text": [
      "(210, 2)\n",
      "(210,)\n"
     ]
    }
   ],
   "source": [
    "# use mean values for each window as observations\n",
    "\n",
    "x_train = np.column_stack((steady_state_idd_body_vel_x[:, -1], steady_state_idd_body_vel_yaw[:, -1]))\n",
    "\n",
    "y_train_x = mean_body_vel_disturption_x\n",
    "y_train_y = mean_body_vel_disturption_y\n",
    "y_train_yaw = mean_body_vel_disturption_yaw\n",
    "\n",
    "print(x_train.shape)\n",
    "print(y_train_yaw.shape)\n",
    "\n",
    "# fig = plt.figure()\n",
    "# ax = fig.add_subplot(projection='3d')\n",
    "# ax.plot_wireframe(x_train[:, 0], x_train[:, 1], np.column_stack((y_train, y_train)), rstride=10, cstride=10)\n",
    "# plt.show()"
   ]
  },
  {
   "cell_type": "code",
   "execution_count": 12,
   "id": "bc3d2782-3637-44ec-a9f7-a99dc0ec2df3",
   "metadata": {},
   "outputs": [
    {
     "name": "stderr",
     "output_type": "stream",
     "text": [
      "/home/dominic/.local/lib/python3.10/site-packages/sklearn/gaussian_process/kernels.py:420: ConvergenceWarning: The optimal value found for dimension 0 of parameter k2__noise_level is close to the specified lower bound 1e-05. Decreasing the bound and calling fit again may find a better value.\n",
      "  warnings.warn(\n",
      "/home/dominic/.local/lib/python3.10/site-packages/sklearn/gaussian_process/kernels.py:420: ConvergenceWarning: The optimal value found for dimension 0 of parameter k2__noise_level is close to the specified lower bound 1e-05. Decreasing the bound and calling fit again may find a better value.\n",
      "  warnings.warn(\n"
     ]
    }
   ],
   "source": [
    "# Create gaussian process\n",
    "from sklearn.gaussian_process import GaussianProcessRegressor\n",
    "from sklearn.gaussian_process.kernels import RBF, WhiteKernel\n",
    "\n",
    "kernel_x = 1.0 * RBF(length_scale=[0.1, 0.1]) + WhiteKernel(noise_level=0.1)\n",
    "kernel_y = 1.0 * RBF(length_scale=[0.1, 0.1]) + WhiteKernel(noise_level=0.1)\n",
    "kernel_yaw = 1.0 * RBF(length_scale=[100, 100]) + WhiteKernel(noise_level=0.5)\n",
    "\n",
    "gpr_x = GaussianProcessRegressor(kernel=kernel_x, n_restarts_optimizer=20, alpha = std_dev_body_vel_disturption_x**2).fit(x_train, y_train_x)\n",
    "gpr_y = GaussianProcessRegressor(kernel=kernel_y, n_restarts_optimizer=20, alpha = std_dev_body_vel_disturption_y**2).fit(x_train, y_train_y)\n",
    "gpr_yaw = GaussianProcessRegressor(kernel=kernel_yaw, n_restarts_optimizer=20, alpha = std_dev_body_vel_disturption_yaw**2).fit(x_train, y_train_yaw)\n",
    "\n"
   ]
  },
  {
   "cell_type": "code",
   "execution_count": 13,
   "id": "abd466d3-ecd7-481b-9652-889ad1ac2b27",
   "metadata": {},
   "outputs": [
    {
     "name": "stdout",
     "output_type": "stream",
     "text": [
      "gpr_x\n",
      "0.5303346601139544\n",
      "0.0549**2 * RBF(length_scale=[0.517, 2.68]) + WhiteKernel(noise_level=4.54e-05)\n",
      "gpr_y\n",
      "0.9586633302999283\n",
      "0.186**2 * RBF(length_scale=[2.77, 4.95]) + WhiteKernel(noise_level=1e-05)\n",
      "gpr_yaw\n",
      "0.9841883319313488\n",
      "0.313**2 * RBF(length_scale=[1.09, 2.51]) + WhiteKernel(noise_level=1e-05)\n"
     ]
    }
   ],
   "source": [
    "## print train fit score for each dimension\n",
    "\n",
    "print('gpr_x')\n",
    "print(gpr_x.score(x_train, y_train_x))\n",
    "print(gpr_x.kernel_)\n",
    "\n",
    "print('gpr_y')\n",
    "print(gpr_y.score(x_train, y_train_y))\n",
    "print(gpr_y.kernel_)\n",
    "\n",
    "print('gpr_yaw')\n",
    "print(gpr_yaw.score(x_train, y_train_yaw))\n",
    "print(gpr_yaw.kernel_)"
   ]
  },
  {
   "cell_type": "code",
   "execution_count": 14,
   "id": "51eedb8e-4ab6-492c-b55d-c50b5765925c",
   "metadata": {},
   "outputs": [],
   "source": [
    "test_body_vel_disturption_x_array = dataset_test[str_body_vel_disturption_x_list].to_numpy()\n",
    "test_body_vel_disturption_y_array = dataset_test[str_body_vel_disturption_y_list].to_numpy()\n",
    "test_body_vel_disturption_yaw_array = dataset_test[str_body_vel_disturption_yaw_list].to_numpy()\n",
    "\n",
    "test_idd_body_vel_x_array = dataset_test[idd_body_vel_x_str_list].to_numpy()\n",
    "test_idd_body_vel_y_array = dataset_test[idd_body_vel_y_str_list].to_numpy()\n",
    "test_idd_body_vel_yaw_array = dataset_test[idd_body_vel_yaw_str_list].to_numpy()\n",
    "\n",
    "test_steady_state_mask = dataset_test['steady_state_mask'].to_numpy() == True\n",
    "\n",
    "test_steady_state_idd_body_vel_x = test_idd_body_vel_x_array[test_steady_state_mask]\n",
    "test_steady_state_idd_body_vel_y = test_idd_body_vel_y_array[test_steady_state_mask]\n",
    "test_steady_state_idd_body_vel_yaw = test_idd_body_vel_yaw_array[test_steady_state_mask]\n",
    "\n",
    "test_steady_state_body_vel_disturption_x = test_body_vel_disturption_x_array[test_steady_state_mask]\n",
    "test_steady_state_body_vel_disturption_y = test_body_vel_disturption_y_array[test_steady_state_mask]\n",
    "test_steady_state_body_vel_disturption_yaw = test_body_vel_disturption_yaw_array[test_steady_state_mask]"
   ]
  },
  {
   "cell_type": "code",
   "execution_count": 15,
   "id": "01750571-db2b-45af-8291-35e6fa60339a",
   "metadata": {},
   "outputs": [
    {
     "name": "stdout",
     "output_type": "stream",
     "text": [
      "(212,)\n"
     ]
    }
   ],
   "source": [
    "test_mean_body_vel_disturption_x = np.mean(test_steady_state_body_vel_disturption_x, axis=1)\n",
    "test_mean_body_vel_disturption_y = np.mean(test_steady_state_body_vel_disturption_y, axis=1)\n",
    "test_mean_body_vel_disturption_yaw = np.mean(test_steady_state_body_vel_disturption_yaw, axis=1)\n",
    "\n",
    "print(test_mean_body_vel_disturption_x.shape)\n",
    "\n",
    "\n",
    "x_test = np.column_stack((test_steady_state_idd_body_vel_x[:, -1], test_steady_state_idd_body_vel_yaw[:, -1]))\n",
    "\n",
    "y_test_x = test_mean_body_vel_disturption_x\n",
    "y_test_y = test_mean_body_vel_disturption_y\n",
    "y_test_yaw = test_mean_body_vel_disturption_yaw"
   ]
  },
  {
   "cell_type": "code",
   "execution_count": 16,
   "id": "b25efae2-bcf1-47ea-a109-90fa5cd0258f",
   "metadata": {},
   "outputs": [
    {
     "name": "stdout",
     "output_type": "stream",
     "text": [
      "gpr_x\n",
      "0.0665426460246703\n",
      "gpr_y\n",
      "0.9198741472200059\n",
      "gpr_yaw\n",
      "0.9179996199340703\n"
     ]
    }
   ],
   "source": [
    "## print test fit score for each dimension\n",
    "\n",
    "print('gpr_x')\n",
    "print(gpr_x.score(x_test, y_test_x))\n",
    "# print(gpr_x.kernel_)\n",
    "\n",
    "print('gpr_y')\n",
    "print(gpr_y.score(x_test, y_test_y))\n",
    "# print(gpr_y.kernel_)\n",
    "\n",
    "print('gpr_yaw')\n",
    "print(gpr_yaw.score(x_test, y_test_yaw))\n",
    "# print(gpr_yaw.kernel_)"
   ]
  },
  {
   "cell_type": "code",
   "execution_count": 17,
   "id": "2bdf15b5-f59b-4cf3-967f-a551420b47d5",
   "metadata": {},
   "outputs": [
    {
     "data": {
      "text/plain": [
       "(-1.0, 1.0)"
      ]
     },
     "execution_count": 17,
     "metadata": {},
     "output_type": "execute_result"
    },
    {
     "data": {
      "image/png": "[encoded data removed]",
      "text/plain": [
       "<Figure size 1440x720 with 1 Axes>"
      ]
     },
     "metadata": {
      "needs_background": "light"
     },
     "output_type": "display_data"
    }
   ],
   "source": [
    "# check yaw gaussian process fit on test data\n",
    "\n",
    "plt.figure(figsize=(20,10))\n",
    "ax = plt.gca()\n",
    "fig = plt.gcf()\n",
    "\n",
    "line_width = 5\n",
    "alpha = 0.2\n",
    "\n",
    "\n",
    "alpha_plot = 0.5\n",
    "\n",
    "time_vec = np.linspace(0, test_mean_body_vel_disturption_yaw.shape[0], test_mean_body_vel_disturption_yaw.shape[0])\n",
    "\n",
    "test_ang_slip = ax.scatter(test_steady_state_idd_body_vel_yaw[:, -1], test_mean_body_vel_disturption_yaw, \n",
    "                  c = 'C0',\n",
    "                  cmap = 'viridis', \n",
    "                  alpha = alpha_plot, \n",
    "                  lw=0, \n",
    "                  s=50,\n",
    "                  label='Observations',\n",
    "                 rasterized=True)\n",
    "\n",
    "gpr_yaw_prediction, gpr_yaw_std = gpr_yaw.predict(x_test, return_std=True)\n",
    "# print(test_steady_state_idd_body_vel_yaw[:, -1].shape)\n",
    "# print(gpr_yaw_std)\n",
    "# print(gpr_yaw_prediction.shape)\n",
    "\n",
    "plt.errorbar(x_test[:, 1], gpr_yaw_prediction, gpr_yaw_std, c='C1', fmt='o', label='GP predictions')\n",
    "\n",
    "ax.set_xlabel('Angular slip velocity [m/s]', labelpad=-2)\n",
    "ax.set_ylabel('Disruption body vel yaw [rad/s]')\n",
    "\n",
    "leg = plt.legend(fontsize=7, loc='best')\n",
    "for lh in leg.legendHandles: \n",
    "    lh.set_alpha(1)\n",
    "\n",
    "# ax.set_xlim(-3, 3)\n",
    "\n",
    "ax.set_ylim(-1, 1)"
   ]
  },
  {
   "cell_type": "code",
   "execution_count": 62,
   "id": "5fe73ea8-c22f-489e-a5ee-6f67645ad074",
   "metadata": {},
   "outputs": [
    {
     "data": {
      "text/plain": [
       "(-1.0, 1.0)"
      ]
     },
     "execution_count": 62,
     "metadata": {},
     "output_type": "execute_result"
    },
    {
     "data": {
      "image/png": "[encoded data removed]",
      "text/plain": [
       "<Figure size 1440x720 with 1 Axes>"
      ]
     },
     "metadata": {
      "needs_background": "light"
     },
     "output_type": "display_data"
    }
   ],
   "source": [
    "# check y gaussian process fit on test data\n",
    "\n",
    "plt.figure(figsize=(20,10))\n",
    "ax = plt.gca()\n",
    "fig = plt.gcf()\n",
    "\n",
    "line_width = 5\n",
    "alpha = 0.2\n",
    "\n",
    "\n",
    "alpha_plot = 0.5\n",
    "\n",
    "time_vec = np.linspace(0, test_mean_body_vel_disturption_y.shape[0], test_steady_state_body_vel_disturption_y.shape[0])\n",
    "\n",
    "test_ang_slip = ax.scatter(test_steady_state_idd_body_vel_yaw[:, -1], test_mean_body_vel_disturption_y, \n",
    "                  c = 'C0',\n",
    "                  cmap = 'viridis', \n",
    "                  alpha = alpha_plot, \n",
    "                  lw=0, \n",
    "                  s=50,\n",
    "                  label='Observations',\n",
    "                 rasterized=True)\n",
    "\n",
    "gpr_y_prediction, gpr_y_std = gpr_y.predict(x_test, return_std=True)\n",
    "# print(test_steady_state_idd_body_vel_y[:, -1].shape)\n",
    "# print(gpr_y_std)\n",
    "# print(gpr_y_prediction.shape)\n",
    "\n",
    "plt.errorbar(test_steady_state_idd_body_vel_yaw[:, -1], gpr_y_prediction, gpr_y_std, c='C1', fmt='o', label='GP predictions')\n",
    "\n",
    "ax.set_xlabel('Angular slip velocity [m/s]', labelpad=-2)\n",
    "ax.set_ylabel('Test experiment elapsed time [s]')\n",
    "\n",
    "leg = plt.legend(fontsize=7, loc='best')\n",
    "for lh in leg.legendHandles: \n",
    "    lh.set_alpha(1)\n",
    "\n",
    "# ax.set_xlim(-3, 3)\n",
    "\n",
    "ax.set_ylim(-1, 1)"
   ]
  },
  {
   "cell_type": "code",
   "execution_count": 64,
   "id": "0563d401-9406-4bea-80d9-7d945d86095b",
   "metadata": {},
   "outputs": [
    {
     "data": {
      "image/png": "[encoded data removed]",
      "text/plain": [
       "<Figure size 1440x720 with 1 Axes>"
      ]
     },
     "metadata": {
      "needs_background": "light"
     },
     "output_type": "display_data"
    }
   ],
   "source": [
    "# check y gaussian process fit on test data\n",
    "\n",
    "plt.figure(figsize=(20,10))\n",
    "ax = plt.gca()\n",
    "fig = plt.gcf()\n",
    "\n",
    "line_width = 5\n",
    "alpha = 0.2\n",
    "\n",
    "\n",
    "alpha_plot = 0.5\n",
    "\n",
    "time_vec = np.linspace(0, test_mean_body_vel_disturption_x.shape[0], test_steady_state_body_vel_disturption_x.shape[0])\n",
    "\n",
    "test_ang_slip = ax.scatter(test_steady_state_idd_body_vel_x[:, -1], test_mean_body_vel_disturption_x, \n",
    "                  c = 'C0',\n",
    "                  cmap = 'viridis', \n",
    "                  alpha = alpha_plot, \n",
    "                  lw=0, \n",
    "                  s=50,\n",
    "                  label='Observations',\n",
    "                 rasterized=True)\n",
    "\n",
    "gpr_x_prediction, gpr_x_std = gpr_x.predict(x_test, return_std=True)\n",
    "# print(test_steady_state_idd_body_vel_x[:, -1].shape)\n",
    "# print(gpr_x_std)\n",
    "# print(gpr_x_prediction.shape)\n",
    "\n",
    "plt.errorbar(test_steady_state_idd_body_vel_x[:, -1], gpr_x_prediction, gpr_x_std, c='C1', fmt='o', label='GP predictions')\n",
    "\n",
    "ax.set_xlabel('Angular slip velocity [m/s]', labelpad=-2)\n",
    "ax.set_xlabel('Test experiment elapsed time [s]')\n",
    "\n",
    "leg = plt.legend(fontsize=7, loc='best')\n",
    "for lh in leg.legendHandles: \n",
    "    lh.set_alpha(1)\n",
    "\n",
    "# ax.set_xlim(-3, 3)\n",
    "\n",
    "# ax.set_xlim(-1, 1)"
   ]
  },
  {
   "cell_type": "code",
   "execution_count": null,
   "id": "32093fb4-3ffb-481e-bc02-071b2b26e325",
   "metadata": {},
   "outputs": [],
   "source": []
  }
 ],
 "metadata": {
  "kernelspec": {
   "display_name": "Python 3 (ipykernel)",
   "language": "python",
   "name": "python3"
  },
  "language_info": {
   "codemirror_mode": {
    "name": "ipython",
    "version": 3
   },
   "file_extension": ".py",
   "mimetype": "text/x-python",
   "name": "python",
   "nbconvert_exporter": "python",
   "pygments_lexer": "ipython3",
   "version": "3.10.6"
  }
 },
 "nbformat": 4,
 "nbformat_minor": 5
}
