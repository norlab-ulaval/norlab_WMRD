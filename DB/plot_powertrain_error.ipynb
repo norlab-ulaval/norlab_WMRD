{
 "cells": [
  {
   "cell_type": "code",
   "execution_count": 1,
   "id": "bf3539b6-ee7d-4a5a-bc71-ee0b068b5ddf",
   "metadata": {},
   "outputs": [
    {
     "name": "stdout",
     "output_type": "stream",
     "text": [
      "3.10.6 (main, Nov 14 2022, 16:10:14) [GCC 11.3.0]\n"
     ]
    }
   ],
   "source": [
    "import numpy as np\n",
    "import pandas as pd\n",
    "\n",
    "import matplotlib.pyplot as plt\n",
    "from matplotlib.patches import Ellipse\n",
    "import matplotlib.transforms as transforms\n",
    "\n",
    "import sys\n",
    "print(sys.version)\n",
    "sys.path.append('../')\n",
    "\n",
    "from models.powertrain.bounded_powertrain import Bounded_powertrain\n",
    "from models.kinematic.ideal_diff_drive import Ideal_diff_drive\n",
    "from models.kinematic.ICR_based import *\n",
    "from models.kinematic.Perturbed_unicycle import *\n",
    "from models.kinematic.enhanced_kinematic import *"
   ]
  },
  {
   "cell_type": "code",
   "execution_count": 2,
   "id": "eff85d45-7ef7-49b6-8717-d202b33d1fb5",
   "metadata": {},
   "outputs": [
    {
     "name": "stdout",
     "output_type": "stream",
     "text": [
      "     init_icp_x  init_icp_y  init_icp_z  init_icp_roll  init_icp_pitch  \\\n",
      "0           0.0         0.0         0.0            0.0             0.0   \n",
      "1           0.0         0.0         0.0            0.0             0.0   \n",
      "2           0.0         0.0         0.0            0.0             0.0   \n",
      "3           0.0         0.0         0.0            0.0             0.0   \n",
      "4           0.0         0.0         0.0            0.0             0.0   \n",
      "..          ...         ...         ...            ...             ...   \n",
      "628         0.0         0.0         0.0            0.0             0.0   \n",
      "629         0.0         0.0         0.0            0.0             0.0   \n",
      "630         0.0         0.0         0.0            0.0             0.0   \n",
      "631         0.0         0.0         0.0            0.0             0.0   \n",
      "632         0.0         0.0         0.0            0.0             0.0   \n",
      "\n",
      "     init_icp_yaw  calib_step  cmd_left_0  cmd_right_0  cmd_left_1  ...  \\\n",
      "0             0.0         0.0    0.000000     0.000000   10.171508  ...   \n",
      "1             0.0         0.0   10.171508     4.606429   10.171508  ...   \n",
      "2             0.0         0.0   10.171508     4.606429   10.171508  ...   \n",
      "3             0.0         1.0   -3.794738    -6.042363   -3.794738  ...   \n",
      "4             0.0         1.0   -3.794738    -6.042363   -3.794738  ...   \n",
      "..            ...         ...         ...          ...         ...  ...   \n",
      "628           0.0       209.0   -1.681343    -5.813901   -1.681343  ...   \n",
      "629           0.0       209.0   -1.681343    -5.813901   -1.681343  ...   \n",
      "630           0.0       209.0   -1.681343    -5.813901    7.342458  ...   \n",
      "631           0.0       210.0    7.342458    -3.757925    7.342458  ...   \n",
      "632           0.0       210.0    7.342458    -3.757925    7.342458  ...   \n",
      "\n",
      "       icp_vy  icp_omega  steady_state_mask  transitory_state_mask  gt_icp_x  \\\n",
      "0    0.018226  -0.694848                0.0                    1.0  1.027047   \n",
      "1    0.028153  -1.107234                1.0                    0.0  0.818741   \n",
      "2    0.015791  -1.328038                1.0                    0.0  0.627641   \n",
      "3    0.051726  -0.953370                0.0                    1.0  0.282037   \n",
      "4    0.011051  -0.487928                1.0                    0.0 -0.985752   \n",
      "..        ...        ...                ...                    ...       ...   \n",
      "628  0.049399  -0.912137                1.0                    0.0 -0.436268   \n",
      "629  0.063958  -1.029682                1.0                    0.0 -0.419048   \n",
      "630  0.045126  -1.923376                0.0                    1.0 -0.225954   \n",
      "631  0.063635  -2.533519                1.0                    0.0 -0.060190   \n",
      "632  0.053174  -2.370690                1.0                    0.0 -0.053804   \n",
      "\n",
      "     gt_icp_y  gt_icp_z  gt_icp_roll  gt_icp_pitch  gt_icp_yaw  \n",
      "0   -0.499193  0.000919     0.075312     -0.042312   -1.281071  \n",
      "1   -1.006712  0.007318     0.061551      0.100623   -1.931132  \n",
      "2   -1.318439 -0.003280    -0.134800     -0.030081   -2.419505  \n",
      "3    0.547836  0.007889     0.059005     -0.077595   -1.609371  \n",
      "4    0.487176 -0.001951     0.059923      0.022362   -0.942949  \n",
      "..        ...       ...          ...           ...         ...  \n",
      "628  0.585566 -0.003869    -0.114912      0.026249   -1.698636  \n",
      "629  0.631179  0.002127     0.001745     -0.123625   -1.793174  \n",
      "630 -0.133617 -0.003596     0.076979      0.140782    2.749937  \n",
      "631 -0.096796  0.002749     0.054306     -0.090508    1.393765  \n",
      "632 -0.091102 -0.003301    -0.056640     -0.063472    1.145371  \n",
      "\n",
      "[633 rows x 418 columns]\n",
      "[[ 0.         10.17150826 10.17150826 ... 10.17150826 10.17150826\n",
      "  10.17150826]\n",
      " [10.17150826 10.17150826 10.17150826 ... 10.17150826 10.17150826\n",
      "  10.17150826]\n",
      " [10.17150826 10.17150826 10.17150826 ... 10.17150826 10.17150826\n",
      "  10.17150826]\n",
      " ...\n",
      " [-1.68134338  7.34245817  7.34245817 ...  7.34245817  7.34245817\n",
      "   7.34245817]\n",
      " [ 7.34245817  7.34245817  7.34245817 ...  7.34245817  7.34245817\n",
      "   7.34245817]\n",
      " [ 7.34245817  7.34245817  7.34245817 ...  7.34245817  7.34245817\n",
      "   7.34245817]]\n"
     ]
    }
   ],
   "source": [
    "#import training dataset\n",
    "\n",
    "dataset = pd.read_pickle('/home/dominic/repos/norlab_WMRD/data/marmotte/grand_salon_20_01_b/torch_dataset_all.pkl')\n",
    "\n",
    "print(dataset)\n",
    "# print(len(dataset))\n",
    "\n",
    "cmd_left_str_list = []\n",
    "cmd_right_str_list = []\n",
    "for i in range(0, 40):\n",
    "    str_cmd_left_i = 'cmd_left_' + str(i)\n",
    "    str_cmd_right_i = 'cmd_right_' + str(i)\n",
    "    cmd_left_str_list.append(str_cmd_left_i)\n",
    "    cmd_right_str_list.append(str_cmd_right_i)\n",
    "cmd_left_vels_array = dataset[cmd_left_str_list].to_numpy()\n",
    "cmd_right_vels_array = dataset[cmd_right_str_list].to_numpy()\n",
    "print(cmd_left_vels_array)\n",
    "\n",
    "encoder_left_str_list = []\n",
    "encoder_right_str_list = []\n",
    "for i in range(0, 40):\n",
    "    str_encoder_left_i = 'left_wheel_vel_' + str(i)\n",
    "    str_encoder_right_i = 'right_wheel_vel_' + str(i)\n",
    "    encoder_left_str_list.append(str_encoder_left_i)\n",
    "    encoder_right_str_list.append(str_encoder_right_i)\n",
    "encoder_left_vels_array = dataset[encoder_left_str_list].to_numpy()\n",
    "encoder_right_vels_array = dataset[encoder_right_str_list].to_numpy()\n",
    "\n",
    "# import input space info\n",
    "input_space_dataframe = pd.read_pickle('/home/dominic/repos/norlab_WMRD/data/marmotte/input_space/input_space_data.pkl')\n",
    "ideal_diff_drive = Ideal_diff_drive(input_space_dataframe['calibrated_radius [m]'].to_numpy()[0], input_space_dataframe['calibrated baseline [m]'].to_numpy()[0], 0.05)\n",
    "\n",
    "# print(input_space_dataframe)\n",
    "\n"
   ]
  },
  {
   "cell_type": "code",
   "execution_count": 3,
   "id": "2eaabbe0-4102-4e86-acad-f3d7e1b6c162",
   "metadata": {},
   "outputs": [
    {
     "name": "stdout",
     "output_type": "stream",
     "text": [
      "633\n",
      "189\n"
     ]
    }
   ],
   "source": [
    "# find biggest dynamic window\n",
    "\n",
    "n_windows = len(dataset)\n",
    "max_left_diff_window = 0\n",
    "last_max_left_vel_diff = 0\n",
    "\n",
    "for i in range(0, n_windows):\n",
    "    left_vel_diff = np.abs(cmd_left_vels_array[i, 0] - cmd_left_vels_array[i, 39])\n",
    "    if left_vel_diff > last_max_left_vel_diff:\n",
    "        max_left_diff_window = i\n",
    "        last_max_left_vel_diff = left_vel_diff\n",
    "        \n",
    "print(n_windows)\n",
    "print(max_left_diff_window)"
   ]
  },
  {
   "cell_type": "code",
   "execution_count": 23,
   "id": "e8448436-f7a4-429b-9748-82060dc1d0be",
   "metadata": {},
   "outputs": [
    {
     "name": "stdout",
     "output_type": "stream",
     "text": [
      "1.0\n"
     ]
    },
    {
     "data": {
      "text/plain": [
       "[<matplotlib.lines.Line2D at 0x7f44a96a2a40>]"
      ]
     },
     "execution_count": 23,
     "metadata": {},
     "output_type": "execute_result"
    },
    {
     "data": {
      "image/png": "[encoded data removed]",
      "text/plain": [
       "<Figure size 432x288 with 1 Axes>"
      ]
     },
     "metadata": {
      "needs_background": "light"
     },
     "output_type": "display_data"
    }
   ],
   "source": [
    "# import powertrain model\n",
    "time_constant = 0.40823536\n",
    "time_delay = 0.05945159\n",
    "dt = 0.05\n",
    "bounded_powertrain = Bounded_powertrain(-10, 10, time_constant, time_delay, dt)\n",
    "\n",
    "# analyse bounded powertrain performance\n",
    "analysis_window = 315\n",
    "\n",
    "cmd_left_vels = cmd_left_vels_array[analysis_window, :]\n",
    "encoder_left_vels = encoder_left_vels_array[analysis_window, :]\n",
    "\n",
    "predicted_left_wheel_vels = np.zeros(40)\n",
    "predicted_left_wheel_vels[0] = cmd_left_vels[0]\n",
    "\n",
    "cmd_elapsed_time = 0\n",
    "\n",
    "for i in range(1, 40):\n",
    "    predicted_left_wheel_vels[i] = bounded_powertrain.compute_bounded_wheel_vels(cmd_left_vels[i], predicted_left_wheel_vels[i-1], cmd_elapsed_time)\n",
    "    cmd_elapsed_time += dt\n",
    "    \n",
    "\n",
    "print(dataset['transitory_state_mask'][analysis_window])\n",
    "\n",
    "plt.plot(cmd_left_vels)\n",
    "plt.plot(encoder_left_vels)\n",
    "plt.plot(predicted_left_wheel_vels)"
   ]
  },
  {
   "cell_type": "code",
   "execution_count": 12,
   "id": "1e51a708-419b-4787-b80c-9982ddad9aa1",
   "metadata": {},
   "outputs": [
    {
     "name": "stdout",
     "output_type": "stream",
     "text": [
      "80\n",
      "80\n"
     ]
    },
    {
     "ename": "NameError",
     "evalue": "name 'cmd_vel_left_flat' is not defined",
     "output_type": "error",
     "traceback": [
      "\u001b[0;31m---------------------------------------------------------------------------\u001b[0m",
      "\u001b[0;31mNameError\u001b[0m                                 Traceback (most recent call last)",
      "\u001b[0;32m/tmp/ipykernel_86941/603184631.py\u001b[0m in \u001b[0;36m<module>\u001b[0;34m\u001b[0m\n\u001b[1;32m     14\u001b[0m \u001b[0msteady_state_limits\u001b[0m \u001b[0;34m=\u001b[0m \u001b[0mnp\u001b[0m\u001b[0;34m.\u001b[0m\u001b[0marray\u001b[0m\u001b[0;34m(\u001b[0m\u001b[0;34m[\u001b[0m\u001b[0mwindow_start\u001b[0m\u001b[0;34m,\u001b[0m \u001b[0mwindow_start\u001b[0m \u001b[0;34m+\u001b[0m \u001b[0;36m30\u001b[0m\u001b[0;34m]\u001b[0m\u001b[0;34m)\u001b[0m\u001b[0;34m\u001b[0m\u001b[0;34m\u001b[0m\u001b[0m\n\u001b[1;32m     15\u001b[0m \u001b[0;34m\u001b[0m\u001b[0m\n\u001b[0;32m---> 16\u001b[0;31m \u001b[0mplt\u001b[0m\u001b[0;34m.\u001b[0m\u001b[0mplot\u001b[0m\u001b[0;34m(\u001b[0m\u001b[0mtime_vector\u001b[0m\u001b[0;34m,\u001b[0m \u001b[0mcmd_vel_left_flat\u001b[0m\u001b[0;34m[\u001b[0m\u001b[0mstart_id\u001b[0m\u001b[0;34m*\u001b[0m\u001b[0;36m40\u001b[0m\u001b[0;34m:\u001b[0m\u001b[0mend_id\u001b[0m\u001b[0;34m*\u001b[0m\u001b[0;36m40\u001b[0m\u001b[0;34m]\u001b[0m\u001b[0;34m,\u001b[0m \u001b[0mlabel\u001b[0m\u001b[0;34m=\u001b[0m\u001b[0;34m'command'\u001b[0m\u001b[0;34m)\u001b[0m\u001b[0;34m\u001b[0m\u001b[0;34m\u001b[0m\u001b[0m\n\u001b[0m\u001b[1;32m     17\u001b[0m \u001b[0mplt\u001b[0m\u001b[0;34m.\u001b[0m\u001b[0mplot\u001b[0m\u001b[0;34m(\u001b[0m\u001b[0mtime_vector\u001b[0m\u001b[0;34m,\u001b[0m \u001b[0mencoder_vel_left_flat\u001b[0m\u001b[0;34m[\u001b[0m\u001b[0mstart_id\u001b[0m\u001b[0;34m*\u001b[0m\u001b[0;36m40\u001b[0m\u001b[0;34m:\u001b[0m\u001b[0mend_id\u001b[0m\u001b[0;34m*\u001b[0m\u001b[0;36m40\u001b[0m\u001b[0;34m]\u001b[0m\u001b[0;34m,\u001b[0m \u001b[0mlabel\u001b[0m\u001b[0;34m=\u001b[0m\u001b[0;34m'encoder'\u001b[0m\u001b[0;34m)\u001b[0m\u001b[0;34m\u001b[0m\u001b[0;34m\u001b[0m\u001b[0m\n\u001b[1;32m     18\u001b[0m \u001b[0mplt\u001b[0m\u001b[0;34m.\u001b[0m\u001b[0mplot\u001b[0m\u001b[0;34m(\u001b[0m\u001b[0mtime_vector\u001b[0m\u001b[0;34m,\u001b[0m \u001b[0mtransitory_vel_left_flat\u001b[0m\u001b[0;34m[\u001b[0m\u001b[0mstart_id\u001b[0m\u001b[0;34m*\u001b[0m\u001b[0;36m40\u001b[0m\u001b[0;34m:\u001b[0m\u001b[0mend_id\u001b[0m\u001b[0;34m*\u001b[0m\u001b[0;36m40\u001b[0m\u001b[0;34m]\u001b[0m\u001b[0;34m,\u001b[0m \u001b[0mlabel\u001b[0m\u001b[0;34m=\u001b[0m\u001b[0;34m'encoder'\u001b[0m\u001b[0;34m)\u001b[0m\u001b[0;34m\u001b[0m\u001b[0;34m\u001b[0m\u001b[0m\n",
      "\u001b[0;31mNameError\u001b[0m: name 'cmd_vel_left_flat' is not defined"
     ]
    }
   ],
   "source": [
    "# plot left wheel vel\n",
    "\n",
    "dt = 0.05\n",
    "timestamps_per_horizon = 40\n",
    "start_id = 238\n",
    "end_id = 240\n",
    "num_timestamps = int((end_id - start_id) * 40)\n",
    "print(num_timestamps)\n",
    "print(end_id * 40 - start_id * 40)\n",
    "\n",
    "time_vector = np.linspace(0, num_timestamps, num_timestamps)\n",
    "\n",
    "window_start = 2*timestamps_per_horizon+2\n",
    "steady_state_limits = np.array([window_start, window_start + 30])\n",
    "\n",
    "plt.plot(time_vector, cmd_vel_left_flat[start_id*40:end_id*40], label='command')\n",
    "plt.plot(time_vector, encoder_vel_left_flat[start_id*40:end_id*40], label='encoder')\n",
    "plt.plot(time_vector, transitory_vel_left_flat[start_id*40:end_id*40], label='encoder')\n",
    "# plt.vlines(steady_state_limits, -12, 12, color='C7', label='transitory-state (~1.5 s)')\n",
    "\n",
    "plt.xlabel('timestamp')\n",
    "plt.ylabel('left wheel vel [rad/s]')\n",
    "\n",
    "plt.legend()"
   ]
  },
  {
   "cell_type": "code",
   "execution_count": null,
   "id": "9a059e58-32b1-43c8-8c18-a042d9f1849a",
   "metadata": {},
   "outputs": [],
   "source": []
  }
 ],
 "metadata": {
  "kernelspec": {
   "display_name": "Python 3 (ipykernel)",
   "language": "python",
   "name": "python3"
  },
  "language_info": {
   "codemirror_mode": {
    "name": "ipython",
    "version": 3
   },
   "file_extension": ".py",
   "mimetype": "text/x-python",
   "name": "python",
   "nbconvert_exporter": "python",
   "pygments_lexer": "ipython3",
   "version": "3.10.6"
  }
 },
 "nbformat": 4,
 "nbformat_minor": 5
}
