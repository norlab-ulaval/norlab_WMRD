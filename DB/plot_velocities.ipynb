{
 "cells": [
  {
   "cell_type": "code",
   "execution_count": 2,
   "metadata": {},
   "outputs": [
    {
     "name": "stdout",
     "output_type": "stream",
     "text": [
      "3.10.6 (main, Nov  2 2022, 18:53:38) [GCC 11.3.0]\n"
     ]
    }
   ],
   "source": [
    "import numpy as np\n",
    "import pandas as pd\n",
    "\n",
    "import matplotlib.pyplot as plt\n",
    "\n",
    "import sys\n",
    "print(sys.version)\n",
    "sys.path.append('../')\n",
    "\n",
    "from models.powertrain.bounded_powertrain import Bounded_powertrain\n",
    "from models.kinematic.ideal_diff_drive import Ideal_diff_drive"
   ]
  },
  {
   "cell_type": "code",
   "execution_count": 3,
   "metadata": {},
   "outputs": [
    {
     "name": "stdout",
     "output_type": "stream",
     "text": [
      "     init_icp_x  init_icp_y  init_icp_z  init_icp_roll  init_icp_pitch  \\\n",
      "0      0.001474   -0.001201    0.000431       0.002204        0.016669   \n",
      "1      0.001501   -0.001773   -0.000184       0.003869        0.016029   \n",
      "2      0.001121   -0.001923   -0.000649       0.005148        0.015704   \n",
      "3      0.001723   -0.002020    0.000421       0.004091        0.017367   \n",
      "4      0.001195   -0.001311    0.000134       0.004066        0.016252   \n",
      "..          ...         ...         ...            ...             ...   \n",
      "150    0.000036   -0.000944    0.001964       0.005497        0.017743   \n",
      "151   -0.000139   -0.001163    0.002018       0.007033        0.018504   \n",
      "152    0.000085   -0.000784    0.002248       0.006615        0.018250   \n",
      "153   -0.000115   -0.000700    0.001955       0.006157        0.018062   \n",
      "154   -0.000584   -0.000974    0.001081       0.005725        0.016747   \n",
      "\n",
      "     init_icp_yaw  calib_step  cmd_vx  cmd_omega  encoder_vx  ...  \\\n",
      "0       -3.141202         2.0   -1.50   5.000000   -0.630380  ...   \n",
      "1       -3.141349         2.0   -1.50   5.000000   -0.627772  ...   \n",
      "2       -3.141075         2.0   -1.50   5.000000   -0.628357  ...   \n",
      "3       -3.141093         3.0   -1.25   5.000000   -0.512662  ...   \n",
      "4       -3.141262         3.0   -1.25   5.000000   -0.503836  ...   \n",
      "..            ...         ...     ...        ...         ...  ...   \n",
      "150     -3.140721        49.0   -1.50   2.750000   -0.983822  ...   \n",
      "151     -3.140640        49.0   -1.50   2.750000   -0.984806  ...   \n",
      "152     -3.140574        50.0   -1.50   3.583333   -0.860215  ...   \n",
      "153     -3.140343        50.0   -1.50   3.583333   -0.852637  ...   \n",
      "154     -3.140534        50.0   -1.50   3.583333   -0.855183  ...   \n",
      "\n",
      "     cmd_left_wheel_38  cmd_right_wheel_38  cmd_left_wheel_39  \\\n",
      "0           -11.402632            0.542982         -11.296250   \n",
      "1           -11.335998            0.610922         -11.537102   \n",
      "2           -11.368856            0.672713         -10.385536   \n",
      "3           -11.437788            2.707169         -11.447072   \n",
      "4           -11.596613            2.780474         -11.378811   \n",
      "..                 ...                 ...                ...   \n",
      "150         -11.537183           -5.464981         -11.480850   \n",
      "151         -11.765245           -5.024078         -10.955365   \n",
      "152         -11.690968           -3.213307         -11.554138   \n",
      "153         -11.463844           -3.207147         -11.472376   \n",
      "154         -10.648595           -3.271137         -12.297415   \n",
      "\n",
      "     cmd_right_wheel_39  gt_icp_x  gt_icp_y  gt_icp_z  gt_icp_roll  \\\n",
      "0              0.676422  0.001581 -0.001691  0.000098     0.003465   \n",
      "1              0.678653  0.001121 -0.001923 -0.000649     0.005148   \n",
      "2              0.614933  0.001398 -0.001987 -0.000290     0.004629   \n",
      "3              2.793631  0.001637 -0.001730  0.000415     0.003984   \n",
      "4              2.827870  0.001366 -0.001022  0.000971     0.003995   \n",
      "..                  ...       ...       ...       ...          ...   \n",
      "150           -5.434722 -0.000139 -0.001163  0.002018     0.007033   \n",
      "151           -5.915897 -0.000346 -0.000608  0.002102     0.005236   \n",
      "152           -3.194379 -0.000115 -0.000700  0.001955     0.006157   \n",
      "153           -2.919007 -0.000785 -0.000593  0.000793     0.005760   \n",
      "154           -3.107411 -0.000324 -0.000810  0.001814     0.005113   \n",
      "\n",
      "     gt_icp_pitch  gt_icp_yaw  \n",
      "0        0.016323   -3.141237  \n",
      "1        0.015704   -3.141075  \n",
      "2        0.016063   -3.141068  \n",
      "3        0.016984   -3.141261  \n",
      "4        0.017466   -3.141015  \n",
      "..            ...         ...  \n",
      "150      0.018504   -3.140640  \n",
      "151      0.017720   -3.140447  \n",
      "152      0.018062   -3.140343  \n",
      "153      0.016545   -3.140204  \n",
      "154      0.017572   -3.140778  \n",
      "\n",
      "[155 rows x 102 columns]\n"
     ]
    }
   ],
   "source": [
    "dataframe = pd.read_pickle('/home/dominic/repos/norlab_WMRD/data/marmotte/torch_mw_dataset_all.pkl')\n",
    "input_space_dataframe = pd.read_pickle('/home/dominic/repos/norlab_WMRD/data/marmotte/input_space/input_space_data.pkl')\n",
    "print(dataframe)"
   ]
  },
  {
   "cell_type": "code",
   "execution_count": 4,
   "metadata": {},
   "outputs": [
    {
     "name": "stdout",
     "output_type": "stream",
     "text": [
      "   calibrated_radius [m]  calibrated baseline [m]  \\\n",
      "0               0.116702                 0.592723   \n",
      "\n",
      "   minimum_linear_vel_positive [m/s]  minimum_linear_vel_negative [m/s]  \\\n",
      "0                               0.01                              -0.01   \n",
      "\n",
      "   minimum_angular_vel_positive [rad/s]  minimum_angular_vel_negative [rad/s]  \\\n",
      "0                                  0.01                                 -0.01   \n",
      "\n",
      "   maximum_linear_vel_positive [m/s]  maximum_linear_vel_negative [m/s]  \\\n",
      "0                               1.75                               -1.5   \n",
      "\n",
      "   maximum_angular_vel_positive [rad/s]  maximum_angular_vel_negative [rad/s]  \n",
      "0                                  3.75                                  -3.5  \n",
      "0.5927233737094671\n",
      "[[ 0.05835123  0.05835123]\n",
      " [-0.19689195  0.19689195]]\n",
      "-11.5\n"
     ]
    }
   ],
   "source": [
    "#generate input-space aware diff-drive model\n",
    "\n",
    "print(input_space_dataframe)\n",
    "\n",
    "print(input_space_dataframe['calibrated baseline [m]'].to_numpy()[0])\n",
    "\n",
    "ideal_diff_drive = Ideal_diff_drive(input_space_dataframe['calibrated_radius [m]'].to_numpy()[0], input_space_dataframe['calibrated baseline [m]'].to_numpy()[0], 0.05)\n",
    "\n",
    "max_lin_vel = input_space_dataframe['maximum_linear_vel_positive [m/s]'].to_numpy()[0]\n",
    "max_wheel_vel = np.mean(np.abs(ideal_diff_drive.compute_wheel_vels(np.array([max_lin_vel, 0.0]))))\n",
    "max_wheel_vel = 11.5\n",
    "\n",
    "min_lin_vel = input_space_dataframe['maximum_linear_vel_negative [m/s]'].to_numpy()[0]\n",
    "min_wheel_vel = -np.mean(np.abs(ideal_diff_drive.compute_wheel_vels(np.array([min_lin_vel, 0.0]))))\n",
    "min_wheel_vel = -11.5\n",
    "\n",
    "\n",
    "print(min_wheel_vel)\n",
    "\n",
    "bounded_powertrain = Bounded_powertrain(max_wheel_vel, max_wheel_vel, min_wheel_vel, min_wheel_vel)\n",
    "\n",
    "#bounded_powertrain = Bounded_powertrain(input_space_dataframe)"
   ]
  },
  {
   "cell_type": "code",
   "execution_count": 5,
   "metadata": {},
   "outputs": [
    {
     "data": {
      "text/plain": [
       "[<matplotlib.lines.Line2D at 0x7f04910533d0>]"
      ]
     },
     "execution_count": 5,
     "metadata": {},
     "output_type": "execute_result"
    },
    {
     "data": {
      "image/png": "[encoded data removed]",
      "text/plain": [
       "<Figure size 432x288 with 1 Axes>"
      ]
     },
     "metadata": {
      "needs_background": "light"
     },
     "output_type": "display_data"
    }
   ],
   "source": [
    "plt.plot(dataframe['cmd_omega'])\n",
    "plt.plot(dataframe['cmd_vx'])\n",
    "plt.plot(dataframe['steady_state_mask'])\n",
    "plt.plot(dataframe['calib_mask'])"
   ]
  },
  {
   "cell_type": "code",
   "execution_count": 6,
   "metadata": {},
   "outputs": [
    {
     "name": "stdout",
     "output_type": "stream",
     "text": [
      "(155,)\n"
     ]
    }
   ],
   "source": [
    "def fetch_steady_state_data(data_string, dataframe, steady_state_array):\n",
    "    data_array = dataframe[data_string].to_numpy()\n",
    "    return data_array[steady_state_array == True]\n",
    "\n",
    "steady_state_array = dataframe['steady_state_mask'].to_numpy()\n",
    "\n",
    "cmd_vx_steady_state = fetch_steady_state_data('cmd_vx', dataframe, steady_state_array)\n",
    "cmd_omega_steady_state = fetch_steady_state_data('cmd_omega', dataframe, steady_state_array)\n",
    "print(cmd_vx_steady_state.shape)\n",
    "\n",
    "encoder_vx_steady_state = fetch_steady_state_data('encoder_vx', dataframe, steady_state_array)\n",
    "encoder_omega_steady_state = fetch_steady_state_data('encoder_omega', dataframe, steady_state_array)\n",
    "\n",
    "icp_vx_steady_state = fetch_steady_state_data('icp_vx', dataframe, steady_state_array)\n",
    "icp_omega_steady_state = fetch_steady_state_data('icp_omega', dataframe, steady_state_array)\n"
   ]
  },
  {
   "cell_type": "code",
   "execution_count": 7,
   "metadata": {},
   "outputs": [],
   "source": [
    "calibrated_diff_drive_steady_state = np.zeros((cmd_vx_steady_state.shape[0], 2))\n",
    "bounded_wheel_vels = np.zeros((cmd_vx_steady_state.shape[0], 2))\n",
    "\n",
    "for i in range(0, cmd_vx_steady_state.shape[0]):\n",
    "    commanded_wheel_vels = ideal_diff_drive.compute_wheel_vels(np.array([cmd_vx_steady_state[i], cmd_omega_steady_state[i]]))\n",
    "    bounded_wheel_vels[i, 0], bounded_wheel_vels[i, 1] = bounded_powertrain.compute_bounded_wheel_vels(commanded_wheel_vels[0], commanded_wheel_vels[1])\n",
    "    calibrated_diff_drive_steady_state[i, :] = ideal_diff_drive.compute_body_vel(bounded_wheel_vels[i, :])"
   ]
  },
  {
   "cell_type": "code",
   "execution_count": 8,
   "metadata": {},
   "outputs": [
    {
     "data": {
      "text/plain": [
       "[<matplotlib.lines.Line2D at 0x7f0490f7dae0>]"
      ]
     },
     "execution_count": 8,
     "metadata": {},
     "output_type": "execute_result"
    },
    {
     "data": {
      "image/png": "[encoded data removed]",
      "text/plain": [
       "<Figure size 432x288 with 1 Axes>"
      ]
     },
     "metadata": {
      "needs_background": "light"
     },
     "output_type": "display_data"
    }
   ],
   "source": [
    "plt.plot(cmd_vx_steady_state)\n",
    "plt.plot(calibrated_diff_drive_steady_state[:, 0])"
   ]
  },
  {
   "cell_type": "code",
   "execution_count": 34,
   "metadata": {},
   "outputs": [
    {
     "name": "stdout",
     "output_type": "stream",
     "text": [
      "[[[-1.34207833e+00 -9.71445147e-17]]\n",
      "\n",
      " [[-1.00655874e+00  1.13212873e+00]]\n",
      "\n",
      " [[-6.71039163e-01  2.26425747e+00]]\n",
      "\n",
      " [[-3.35519581e-01  3.39638620e+00]]\n",
      "\n",
      " [[ 6.93889390e-18  4.52851494e+00]]\n",
      "\n",
      " [[ 3.35519581e-01  3.39638620e+00]]\n",
      "\n",
      " [[ 3.46944695e-18  2.26425747e+00]]\n",
      "\n",
      " [[-3.35519581e-01  1.13212873e+00]]\n",
      "\n",
      " [[-6.71039163e-01 -4.85722573e-17]]\n",
      "\n",
      " [[-1.00655874e+00 -1.13212873e+00]]\n",
      "\n",
      " [[-6.71039163e-01 -2.26425747e+00]]\n",
      "\n",
      " [[-3.35519581e-01 -1.13212873e+00]]\n",
      "\n",
      " [[ 0.00000000e+00  0.00000000e+00]]\n",
      "\n",
      " [[ 3.35519581e-01  1.13212873e+00]]\n",
      "\n",
      " [[ 6.71039163e-01  2.26425747e+00]]\n",
      "\n",
      " [[ 1.00655874e+00  1.13212873e+00]]\n",
      "\n",
      " [[ 6.71039163e-01  4.85722573e-17]]\n",
      "\n",
      " [[ 3.35519581e-01 -1.13212873e+00]]\n",
      "\n",
      " [[-3.46944695e-18 -2.26425747e+00]]\n",
      "\n",
      " [[-3.35519581e-01 -3.39638620e+00]]\n",
      "\n",
      " [[-6.93889390e-18 -4.52851494e+00]]\n",
      "\n",
      " [[ 3.35519581e-01 -3.39638620e+00]]\n",
      "\n",
      " [[ 6.71039163e-01 -2.26425747e+00]]\n",
      "\n",
      " [[ 1.00655874e+00 -1.13212873e+00]]\n",
      "\n",
      " [[ 1.34207833e+00  9.71445147e-17]]]\n"
     ]
    }
   ],
   "source": [
    "n_uniform_samples = 25\n",
    "n_uniform_samples_sqrt = int(np.floor(np.sqrt(n_uniform_samples)))\n",
    "\n",
    "full_vels_array = np.zeros((n_uniform_samples, 1, 2))\n",
    "wheel_vels_range = max_wheel_vel - min_wheel_vel\n",
    "wheel_vels_step = wheel_vels_range / (n_uniform_samples_sqrt-1)\n",
    "right_wheel_vel_increasing = True\n",
    "for i in range(0, n_uniform_samples_sqrt):\n",
    "    left_wheel_vel = min_wheel_vel + i * wheel_vels_step\n",
    "    for j in range(0, n_uniform_samples_sqrt):\n",
    "        if right_wheel_vel_increasing:\n",
    "            right_wheel_vel = min_wheel_vel + j * wheel_vels_step\n",
    "        else:\n",
    "            right_wheel_vel = max_wheel_vel - j * wheel_vels_step\n",
    "        full_vels_array[i * n_uniform_samples_sqrt + j, 0, :] = ideal_diff_drive.compute_body_vel(np.array([left_wheel_vel, right_wheel_vel]))\n",
    "    right_wheel_vel_increasing = not right_wheel_vel_increasing\n",
    "    \n",
    "print(full_vels_array)"
   ]
  },
  {
   "cell_type": "code",
   "execution_count": 35,
   "metadata": {},
   "outputs": [
    {
     "data": {
      "text/plain": [
       "(-2.0, 2.0)"
      ]
     },
     "execution_count": 35,
     "metadata": {},
     "output_type": "execute_result"
    },
    {
     "data": {
      "image/png": "[encoded data removed]",
      "text/plain": [
       "<Figure size 720x720 with 1 Axes>"
      ]
     },
     "metadata": {
      "needs_background": "light"
     },
     "output_type": "display_data"
    }
   ],
   "source": [
    "plt.figure(figsize=(10,10))\n",
    "ax = plt.gca()\n",
    "fig = plt.gcf()\n",
    "\n",
    "# df_filtered = autorally_df[(autorally_df.linear_v < 25)] #Super weird ultra large values on linar velocity\n",
    "# print(\"filtered {} data points\".format(len(autorally_df)-len(df_filtered)))\n",
    "\n",
    "# max_lv = max(np.abs(df_filtered['linear_v']))\n",
    "# max_av = max(np.abs(df_filtered['angular_v']))\n",
    "\n",
    "\n",
    "# meas = ax.scatter(df_filtered['angular_v']/(max_av/2.5), df_filtered['linear_v']/(max_lv/2.5), \n",
    "#                   c = 'tab:green', \n",
    "#                   cmap = 'hot', \n",
    "#                   alpha = 0.05, \n",
    "#                   lw=0, \n",
    "#                   s=5,\n",
    "#                   label='Autorally encoders-based body velocities',\n",
    "#                  rasterized=True)\n",
    "\n",
    "alpha_plot = 0.3\n",
    "\n",
    "cmd = ax.scatter(cmd_omega_steady_state, cmd_vx_steady_state, \n",
    "                  c = 'tab:blue', \n",
    "                  cmap = 'hot', \n",
    "                  alpha = alpha_plot, \n",
    "                  lw=0, \n",
    "                  s=50,\n",
    "                  label='Body vel commands',\n",
    "                 rasterized=True)\n",
    "\n",
    "encoder = ax.scatter(encoder_omega_steady_state, encoder_vx_steady_state,\n",
    "                  c = 'tab:orange', \n",
    "                  cmap = 'hot', \n",
    "                  alpha = alpha_plot, \n",
    "                  lw=0, \n",
    "                  s=50,\n",
    "                  label='Diff-drive_encoder',\n",
    "                 rasterized=True)\n",
    "\n",
    "# input_space_aware = ax.scatter(calibrated_diff_drive_steady_state[:, 1], calibrated_diff_drive_steady_state[:, 0],\n",
    "#                   c = 'tab:red', \n",
    "#                   cmap = 'hot', \n",
    "#                   alpha = alpha_plot, \n",
    "#                   lw=0, \n",
    "#                   s=50,\n",
    "#                   label='Diff-drive_bounded',\n",
    "#                  rasterized=True)\n",
    "\n",
    "\n",
    "uniform_sampling = ax.scatter(full_vels_array[:, 0, 1], full_vels_array[:, 0, 0],\n",
    "                  c = 'tab:gray', \n",
    "                  cmap = 'hot', \n",
    "                  alpha = 1, \n",
    "                  lw=0, \n",
    "                  s=50,\n",
    "                  label='uniform sampling',\n",
    "                 rasterized=True)\n",
    "\n",
    "# icp = ax.scatter(icp_omega_steady_state, icp_vx_steady_state,  \n",
    "#                   c = 'tab:green', \n",
    "#                   cmap = 'hot', \n",
    "#                   alpha = alpha_plot, \n",
    "#                   lw=0, \n",
    "#                   s=50,\n",
    "#                   label='ICP (lon) and IMU (ang)',\n",
    "#                  rasterized=True)\n",
    "\n",
    "ax.set_ylabel('linear velocity [m/s]', labelpad=-2)\n",
    "ax.set_xlabel('angular velocity [rad/s]')\n",
    "\n",
    "leg = plt.legend(fontsize=7, loc='best')\n",
    "for lh in leg.legendHandles: \n",
    "    lh.set_alpha(1)\n",
    "\n",
    "ax.set_xlim(-7, 7)\n",
    "ax.set_ylim(-2, 2.0)\n",
    "\n",
    "# ax.set_xticks([-1,0,1])\n",
    "# ax.set_yticks([-1,0,1])\n",
    "# ax.set_xticklabels([r'$-\\dot{\\theta}_{max}$', '0', r'$\\dot{\\theta}_{max}$'])\n",
    "# ax.set_yticklabels([r'$-v_{max}$', '0', r'$v_{max}$'])\n",
    "\n",
    "# fig.subplots_adjust(left=.15, bottom=.17, right=.98, top=.98)\n",
    "# fig.set_size_inches(width, height)"
   ]
  },
  {
   "cell_type": "markdown",
   "metadata": {},
   "source": [
    "# full_run_dataframe = pd.read_pickle('/media/dominic/462D-1EE8/rosbags/doughnut_calibs/warthog/depot_2/extracted_data/data.pkl')\n",
    "\n",
    "print(full_run_dataframe)"
   ]
  },
  {
   "cell_type": "code",
   "execution_count": 63,
   "metadata": {},
   "outputs": [
    {
     "data": {
      "text/plain": [
       "[<matplotlib.lines.Line2D at 0x7f3cb46b3f10>]"
      ]
     },
     "execution_count": 63,
     "metadata": {},
     "output_type": "execute_result"
    },
    {
     "data": {
      "image/png": "[encoded data removed]",
      "text/plain": [
       "<Figure size 432x288 with 1 Axes>"
      ]
     },
     "metadata": {
      "needs_background": "light"
     },
     "output_type": "display_data"
    }
   ],
   "source": [
    "plt.plot(full_run_dataframe['cmd_vel_x'][-5000:])\n",
    "plt.plot(full_run_dataframe['cmd_vel_omega'][-5000:])"
   ]
  },
  {
   "cell_type": "code",
   "execution_count": 62,
   "metadata": {},
   "outputs": [
    {
     "name": "stdout",
     "output_type": "stream",
     "text": [
      "(4999,)\n"
     ]
    },
    {
     "data": {
      "text/plain": [
       "<matplotlib.collections.PathCollection at 0x7f3cb46dc970>"
      ]
     },
     "execution_count": 62,
     "metadata": {},
     "output_type": "execute_result"
    },
    {
     "data": {
      "image/png": "[encoded data removed]",
      "text/plain": [
       "<Figure size 432x288 with 1 Axes>"
      ]
     },
     "metadata": {
      "needs_background": "light"
     },
     "output_type": "display_data"
    }
   ],
   "source": [
    "print(np.linspace(0,1, 4999).shape)\n",
    "\n",
    "plt.scatter(np.linspace(0, 1, 5000), full_run_dataframe['meas_right_vel'][-5000:], s=10)\n",
    "# plt.plot(full_run_dataframe['cmd_right_vel'][-5000:])"
   ]
  },
  {
   "cell_type": "code",
   "execution_count": null,
   "metadata": {},
   "outputs": [],
   "source": []
  }
 ],
 "metadata": {
  "kernelspec": {
   "display_name": "Python 3 (ipykernel)",
   "language": "python",
   "name": "python3"
  },
  "language_info": {
   "codemirror_mode": {
    "name": "ipython",
    "version": 3
   },
   "file_extension": ".py",
   "mimetype": "text/x-python",
   "name": "python",
   "nbconvert_exporter": "python",
   "pygments_lexer": "ipython3",
   "version": "3.10.6"
  }
 },
 "nbformat": 4,
 "nbformat_minor": 4
}
