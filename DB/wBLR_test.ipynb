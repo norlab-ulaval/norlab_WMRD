{
 "cells": [
  {
   "cell_type": "code",
   "execution_count": 1,
   "id": "6c2bc3a9-b9a1-4463-87bb-f4da5a9e0567",
   "metadata": {},
   "outputs": [],
   "source": [
    "import numpy as np\n",
    "from scipy.stats import norm, invgamma, t\n",
    "import matplotlib.pyplot as plt"
   ]
  },
  {
   "cell_type": "code",
   "execution_count": 2,
   "id": "0a7fce7e-c8f8-4808-a92e-f3479f502ea9",
   "metadata": {},
   "outputs": [],
   "source": [
    "# generate training data\n",
    "\n",
    "n_data = 2000\n",
    "\n",
    "normal_noise = norm()\n",
    "\n",
    "x_data = np.linspace(-3, 3, n_data)\n",
    "\n",
    "y_data = 1.2 * np.sin(x_data) + 0.2 * np.sin(5*np.exp(x_data)) + norm.rvs(scale=0.05**2, size=n_data)"
   ]
  },
  {
   "cell_type": "code",
   "execution_count": 3,
   "id": "0b619a79-b696-4573-8d65-7c97034a0333",
   "metadata": {},
   "outputs": [
    {
     "data": {
      "text/plain": [
       "<matplotlib.collections.PathCollection at 0x7faa4253bfd0>"
      ]
     },
     "execution_count": 3,
     "metadata": {},
     "output_type": "execute_result"
    },
    {
     "data": {
      "image/png": "[encoded data removed]",
      "text/plain": [
       "<Figure size 432x288 with 1 Axes>"
      ]
     },
     "metadata": {
      "needs_background": "light"
     },
     "output_type": "display_data"
    }
   ],
   "source": [
    "# plot experiment data\n",
    "\n",
    "marker_size = 5\n",
    "\n",
    "plt.scatter(x_data, y_data, s=marker_size)"
   ]
  },
  {
   "cell_type": "code",
   "execution_count": 4,
   "id": "d0a0452e-df51-4946-8df5-8f03b293a7d6",
   "metadata": {},
   "outputs": [
    {
     "name": "stdout",
     "output_type": "stream",
     "text": [
      "1000.0\n",
      "16.14096407036709\n",
      "1.1211756728634745\n",
      "1046.0657401539243\n",
      "[[1046.06574015]]\n",
      "0.0009559628631493593\n"
     ]
    }
   ],
   "source": [
    "# generate BLR model from data\n",
    "\n",
    "x_features = np.sin(x_data)\n",
    "\n",
    "n_dimensions = 1\n",
    "\n",
    "weights_init = np.zeros(n_dimensions) #w_0\n",
    "a_param_init = 0 #a_0\n",
    "b_param_init = 0 #b_0\n",
    "param_variance_init = 999999999999999999999 #tau_0\n",
    "variance_init = 1000000000 #sigma_0\n",
    "params_covariance_init = param_variance_init / variance_init * np.eye(n_dimensions)\n",
    "inv_params_covariance_init = np.linalg.inv(params_covariance_init)\n",
    "# print(inv_params_covariance_init)\n",
    "\n",
    "inv_params_covariance = inv_params_covariance_init + x_features.T@x_features\n",
    "params_covariance = np.linalg.inv(inv_params_covariance)\n",
    "weights = params_covariance @ (inv_params_covariance_init @ weights_init + x_features.T @ y_data)\n",
    "a_param_n = a_param_init + n_data / 2\n",
    "b_param_n = b_param_init + 0.5 * (weights_init.T@inv_params_covariance_init@weights_init + y_data.T@y_data - weights.T @ inv_params_covariance @ weights)\n",
    "\n",
    "print(a_param_n)\n",
    "print(b_param_n)\n",
    "print(weights[0])\n",
    "print(x_features.T@x_features)\n",
    "print(inv_params_covariance)\n",
    "print(params_covariance[0,0])"
   ]
  },
  {
   "cell_type": "code",
   "execution_count": 12,
   "id": "d1fc0fc5-bd19-4aa0-a169-9597c45bee49",
   "metadata": {},
   "outputs": [
    {
     "name": "stdout",
     "output_type": "stream",
     "text": [
      "1000.0\n",
      "[[16.14096407]]\n",
      "[[1.12117567]]\n",
      "[[0.00095596]]\n",
      "[[-0.15822032]\n",
      " [-0.16155113]\n",
      " [-0.16488049]\n",
      " ...\n",
      " [ 0.16488049]\n",
      " [ 0.16155113]\n",
      " [ 0.15822032]]\n",
      "[0.12711188 0.12711193 0.12711198 ... 0.12711198 0.12711193 0.12711188]\n"
     ]
    }
   ],
   "source": [
    "# Try the same using BLR class\n",
    "import sys\n",
    "sys.path.append('../')\n",
    "from models.learning.blr_slip import SlipBayesianLinearRegression\n",
    "\n",
    "slip_input_dimensions = 1\n",
    "a_param_init = 0\n",
    "b_param_init = 0\n",
    "param_variance_init = 999999999999999999999\n",
    "variance_init = 1000000000\n",
    "\n",
    "slip_blr = SlipBayesianLinearRegression(slip_input_dimensions, a_param_init, b_param_init, param_variance_init, variance_init)\n",
    "\n",
    "slip_blr.train_params(x_features, y_data)\n",
    "\n",
    "test_blr_slip_ang_mean, test_blr_slip_ang_variance = slip_blr.predict(x_features)\n",
    "\n",
    "print(slip_blr.a_param_n)\n",
    "print(slip_blr.b_param_n)\n",
    "print(slip_blr.weights)\n",
    "print(slip_blr.params_covariance)\n",
    "\n",
    "\n",
    "print(test_blr_slip_ang_mean)\n",
    "print(np.sqrt(np.diag(test_blr_slip_ang_variance)))"
   ]
  },
  {
   "cell_type": "code",
   "execution_count": 6,
   "id": "9d67b780-fd9a-44ab-8ec5-17b0dd770615",
   "metadata": {},
   "outputs": [
    {
     "data": {
      "text/plain": [
       "[<matplotlib.lines.Line2D at 0x7faa425ba1d0>]"
      ]
     },
     "execution_count": 6,
     "metadata": {},
     "output_type": "execute_result"
    },
    {
     "data": {
      "image/png": "[encoded data removed]",
      "text/plain": [
       "<Figure size 432x288 with 1 Axes>"
      ]
     },
     "metadata": {
      "needs_background": "light"
     },
     "output_type": "display_data"
    }
   ],
   "source": [
    "# initialize distributions for sigma\n",
    "\n",
    "sigma_a = a_param_n\n",
    "sigma_b = b_param_n\n",
    "\n",
    "sigma_distribution = invgamma(a_param_n, scale = b_param_n)\n",
    "\n",
    "# weights_distribution = norm()\n",
    "\n",
    "a = 1.2\n",
    "\n",
    "# x = np.linspace(sigma_distribution.ppf(0.01, sigma_a), sigma_distribution.ppf(0.99, sigma_a), 100)\n",
    "\n",
    "x = np.linspace(0, 0.1, 200)\n",
    "\n",
    "plt.plot(x, sigma_distribution.pdf(x),'r-', lw=5, alpha=0.6, label='invgamma pdf')"
   ]
  },
  {
   "cell_type": "code",
   "execution_count": 16,
   "id": "d6ccff4b-baf8-41b5-afe1-7f19b90f4587",
   "metadata": {},
   "outputs": [
    {
     "name": "stdout",
     "output_type": "stream",
     "text": [
      "0.0039281245177182275\n"
     ]
    },
    {
     "name": "stderr",
     "output_type": "stream",
     "text": [
      "/home/dominic/.local/lib/python3.10/site-packages/scipy/stats/_continuous_distns.py:6703: RuntimeWarning: overflow encountered in power\n",
      "  / (np.sqrt(df*np.pi)*(1+(x**2)/df)**((df+1)/2))\n",
      "/home/dominic/.local/lib/python3.10/site-packages/scipy/stats/_continuous_distns.py:6703: RuntimeWarning: overflow encountered in multiply\n",
      "  / (np.sqrt(df*np.pi)*(1+(x**2)/df)**((df+1)/2))\n"
     ]
    },
    {
     "data": {
      "text/plain": [
       "[<matplotlib.lines.Line2D at 0x7faa3ffd1de0>]"
      ]
     },
     "execution_count": 16,
     "metadata": {},
     "output_type": "execute_result"
    },
    {
     "data": {
      "image/png": "[encoded data removed]",
      "text/plain": [
       "<Figure size 432x288 with 1 Axes>"
      ]
     },
     "metadata": {
      "needs_background": "light"
     },
     "output_type": "display_data"
    }
   ],
   "source": [
    "# initialize distribution for weights\n",
    "\n",
    "df = 2 * a_param_n\n",
    "loc_t = weights[0]\n",
    "scale_t = np.sqrt((b_param_n / a_param_n) * params_covariance[0,0])\n",
    "print(scale_t)\n",
    "\n",
    "# weights_distribution = t()\n",
    "\n",
    "x = np.linspace(0.8, 1.2, 200)\n",
    "\n",
    "plt.plot(x, t.pdf(x, df, loc=loc_t, scale=scale_t),'r-', lw=5, alpha=0.6, label='t pdf')\n"
   ]
  },
  {
   "cell_type": "code",
   "execution_count": 18,
   "id": "c0697375-da48-445c-9079-18ac10149faa",
   "metadata": {},
   "outputs": [
    {
     "name": "stdout",
     "output_type": "stream",
     "text": [
      "[0.12711188 0.12711193 0.12711198 ... 0.12711198 0.12711193 0.12711188]\n",
      "[0.12753795 0.12754962 0.12756129 ... 0.12756129 0.12754962 0.12753795]\n",
      "[[0.01178437 0.01177848 0.01177258 ...        nan        nan        nan]\n",
      " [0.01177848 0.01177258 0.01176669 ...        nan        nan        nan]\n",
      " [0.01177258 0.01176669 0.01176079 ...        nan        nan        nan]\n",
      " ...\n",
      " [       nan        nan        nan ... 0.01176079 0.01176669 0.01177258]\n",
      " [       nan        nan        nan ... 0.01176669 0.01177258 0.01177848]\n",
      " [       nan        nan        nan ... 0.01177258 0.01177848 0.01178437]]\n"
     ]
    },
    {
     "name": "stderr",
     "output_type": "stream",
     "text": [
      "/tmp/ipykernel_52896/1755571978.py:6: RuntimeWarning: invalid value encountered in sqrt\n",
      "  variance_param = np.sqrt(b_param_n / a_param_n * (x_data.reshape(2000, 1) @ params_covariance @ x_data.reshape(1, 2000)))\n"
     ]
    }
   ],
   "source": [
    "# compute mean and variance of predictions\n",
    "\n",
    "# y_prediction_mean = loc_t * x_features \n",
    "# y_prediction_sigma = np.sqrt(invgamma.mean(a_param_n, scale = b_param_n))\n",
    "y_prediction_sigma = np.sqrt(x_features**2 * scale_t**2) + np.sqrt(b_param_n / (a_param_n + 1)) #np.sqrt(invgamma.mean(a_param_n, scale = b_param_n))\n",
    "variance_param = np.sqrt(b_param_n / a_param_n * (x_data.reshape(2000, 1) @ params_covariance @ x_data.reshape(1, 2000)))\n",
    "\n",
    "print(np.sqrt(np.diag(test_blr_slip_ang_variance)))\n",
    "print(y_prediction_sigma)\n",
    "print(variance_param)"
   ]
  },
  {
   "cell_type": "code",
   "execution_count": 20,
   "id": "5c4133f3-1515-40e5-a07d-3f3834e96b49",
   "metadata": {},
   "outputs": [
    {
     "name": "stderr",
     "output_type": "stream",
     "text": [
      "/tmp/ipykernel_52896/3684220374.py:8: RuntimeWarning: invalid value encountered in sqrt\n",
      "  plt.fill_between(x_data, test_blr_slip_ang_mean[:, 0] - 2 * np.diag(np.sqrt(test_blr_slip_ang_variance)),\n",
      "/tmp/ipykernel_52896/3684220374.py:9: RuntimeWarning: invalid value encountered in sqrt\n",
      "  test_blr_slip_ang_mean[:, 0] + 2 * np.diag(np.sqrt(test_blr_slip_ang_variance)), color='C1', alpha = 0.2, label='predicted variance')\n"
     ]
    },
    {
     "data": {
      "text/plain": [
       "<matplotlib.legend.Legend at 0x7faa4020ebf0>"
      ]
     },
     "execution_count": 20,
     "metadata": {},
     "output_type": "execute_result"
    },
    {
     "data": {
      "image/png": "[encoded data removed]",
      "text/plain": [
       "<Figure size 432x288 with 1 Axes>"
      ]
     },
     "metadata": {
      "needs_background": "light"
     },
     "output_type": "display_data"
    }
   ],
   "source": [
    "# plot fit data\n",
    "\n",
    "marker_size = 5\n",
    "\n",
    "plt.scatter(x_data, y_data, s=marker_size, label='training data')\n",
    "plt.scatter(x_data, test_blr_slip_ang_mean, s=marker_size, label='prediction mean')\n",
    "\n",
    "plt.fill_between(x_data, test_blr_slip_ang_mean[:, 0] - 2 * np.diag(np.sqrt(test_blr_slip_ang_variance)), \n",
    "                 test_blr_slip_ang_mean[:, 0] + 2 * np.diag(np.sqrt(test_blr_slip_ang_variance)), color='C1', alpha = 0.2, label='predicted variance')\n",
    "\n",
    "plt.title('BLR toy example')\n",
    "plt.ylabel('y')\n",
    "plt.xlabel('x')\n",
    "plt.legend()"
   ]
  },
  {
   "cell_type": "code",
   "execution_count": null,
   "id": "1e69286d-f62f-4d77-a00a-e2725f8f1d25",
   "metadata": {},
   "outputs": [],
   "source": []
  },
  {
   "cell_type": "code",
   "execution_count": null,
   "id": "0b3f7f78-24af-4e83-ba10-5c1adf5a22a2",
   "metadata": {},
   "outputs": [],
   "source": []
  }
 ],
 "metadata": {
  "kernelspec": {
   "display_name": "Python 3 (ipykernel)",
   "language": "python",
   "name": "python3"
  },
  "language_info": {
   "codemirror_mode": {
    "name": "ipython",
    "version": 3
   },
   "file_extension": ".py",
   "mimetype": "text/x-python",
   "name": "python",
   "nbconvert_exporter": "python",
   "pygments_lexer": "ipython3",
   "version": "3.10.6"
  }
 },
 "nbformat": 4,
 "nbformat_minor": 5
}
