{
 "cells": [
  {
   "cell_type": "code",
   "execution_count": 55,
   "id": "0ae21d22-fb64-4d51-8104-ca599147ec88",
   "metadata": {
    "ExecuteTime": {
     "end_time": "2023-06-06T17:25:30.600092278Z",
     "start_time": "2023-06-06T17:25:30.598631013Z"
    }
   },
   "outputs": [
    {
     "name": "stdout",
     "output_type": "stream",
     "text": [
      "3.10.6 (main, May 29 2023, 11:10:38) [GCC 11.3.0]\n"
     ]
    }
   ],
   "source": [
    "import numpy as np\n",
    "import pandas as pd\n",
    "import scipy.linalg\n",
    "\n",
    "import matplotlib.pyplot as plt\n",
    "from mpl_toolkits.mplot3d import axes3d\n",
    "from matplotlib.patches import Ellipse\n",
    "import matplotlib.transforms as transforms\n",
    "\n",
    "import sys\n",
    "print(sys.version)\n",
    "sys.path.append('../')\n",
    "import os\n",
    "import copy\n",
    "\n",
    "from models.powertrain.bounded_powertrain import Bounded_powertrain\n",
    "from models.kinematic.ideal_diff_drive import Ideal_diff_drive\n",
    "from models.learning.blr_slip import SlipBayesianLinearRegression, FullBodySlipBayesianLinearRegression\n",
    "from models.learning.blr_slip_acceleration import SlipAccelerationBayesianLinearRegression, FullBodySlipAccelerationBayesianLinearRegression\n",
    "from models.kinematic.ICR_based import *\n",
    "from models.kinematic.Perturbed_unicycle import *\n",
    "from models.kinematic.enhanced_kinematic import *\n",
    "\n",
    "\n",
    "from util.transform_algebra import *\n",
    "from util.util_func import *\n",
    "\n",
    "from sklearn import linear_model"
   ]
  },
  {
   "cell_type": "code",
   "execution_count": 68,
   "id": "8204a3ce-454c-471a-89fc-bb59a31a72c3",
   "metadata": {
    "ExecuteTime": {
     "end_time": "2023-06-06T17:36:21.899791425Z",
     "start_time": "2023-06-06T17:36:21.852837511Z"
    }
   },
   "outputs": [
    {
     "name": "stdout",
     "output_type": "stream",
     "text": [
      "     init_icp_x  init_icp_y  init_icp_z  init_icp_roll  init_icp_pitch  \\\n",
      "0           0.0         0.0         0.0            0.0             0.0   \n",
      "1           0.0         0.0         0.0            0.0             0.0   \n",
      "2           0.0         0.0         0.0            0.0             0.0   \n",
      "3           0.0         0.0         0.0            0.0             0.0   \n",
      "4           0.0         0.0         0.0            0.0             0.0   \n",
      "..          ...         ...         ...            ...             ...   \n",
      "154         0.0         0.0         0.0            0.0             0.0   \n",
      "155         0.0         0.0         0.0            0.0             0.0   \n",
      "156         0.0         0.0         0.0            0.0             0.0   \n",
      "157         0.0         0.0         0.0            0.0             0.0   \n",
      "158         0.0         0.0         0.0            0.0             0.0   \n",
      "\n",
      "     init_icp_yaw  calib_step  cmd_left_0  cmd_right_0  cmd_left_1  ...  \\\n",
      "0             0.0         0.0   10.788806     6.960913   10.788806  ...   \n",
      "1             0.0         0.0   10.788806     6.960913   10.788806  ...   \n",
      "2             0.0         0.0   10.788806     6.960913   10.788806  ...   \n",
      "3             0.0         1.0    0.000000     0.000000    1.832643  ...   \n",
      "4             0.0         1.0    1.832643     2.397738    1.832643  ...   \n",
      "..            ...         ...         ...          ...         ...  ...   \n",
      "154           0.0        51.0   -0.084936     1.831032   -0.084936  ...   \n",
      "155           0.0        51.0   -0.084936     1.831032   -0.084936  ...   \n",
      "156           0.0        52.0    6.129609    -3.750831    6.129609  ...   \n",
      "157           0.0        52.0    6.129609    -3.750831    6.129609  ...   \n",
      "158           0.0        52.0    6.129609    -3.750831    6.129609  ...   \n",
      "\n",
      "     icp_acceleration_yaw_30  icp_acceleration_yaw_31  \\\n",
      "0                  -0.003318                -0.003203   \n",
      "1                  -0.000287                -0.000280   \n",
      "2                  -0.000968                -0.000956   \n",
      "3                   0.000272                 0.000272   \n",
      "4                   0.000211                 0.000209   \n",
      "..                       ...                      ...   \n",
      "154                -0.000117                -0.000127   \n",
      "155                 0.001163                 0.001219   \n",
      "156                -0.004552                -0.004531   \n",
      "157                -0.008384                -0.008487   \n",
      "158                -0.004128                -0.004344   \n",
      "\n",
      "     icp_acceleration_yaw_32  icp_acceleration_yaw_33  \\\n",
      "0                  -0.003107                -0.003028   \n",
      "1                  -0.000273                -0.000269   \n",
      "2                  -0.000951                -0.000954   \n",
      "3                   0.000271                 0.000269   \n",
      "4                   0.000208                 0.000206   \n",
      "..                       ...                      ...   \n",
      "154                -0.000136                -0.000143   \n",
      "155                 0.001267                 0.001308   \n",
      "156                -0.004520                -0.004515   \n",
      "157                -0.008577                -0.008652   \n",
      "158                -0.004538                -0.004708   \n",
      "\n",
      "     icp_acceleration_yaw_34  icp_acceleration_yaw_35  \\\n",
      "0                  -0.002968                -0.002927   \n",
      "1                  -0.000268                -0.000273   \n",
      "2                  -0.000964                -0.000978   \n",
      "3                   0.000267                 0.000266   \n",
      "4                   0.000203                 0.000200   \n",
      "..                       ...                      ...   \n",
      "154                -0.000149                -0.000155   \n",
      "155                 0.001343                 0.001370   \n",
      "156                -0.004515                -0.004516   \n",
      "157                -0.008711                -0.008751   \n",
      "158                -0.004853                -0.004967   \n",
      "\n",
      "     icp_acceleration_yaw_36  icp_acceleration_yaw_37  \\\n",
      "0                  -0.002901                -0.002888   \n",
      "1                  -0.000280                -0.000287   \n",
      "2                  -0.000994                -0.001006   \n",
      "3                   0.000267                 0.000266   \n",
      "4                   0.000199                 0.000197   \n",
      "..                       ...                      ...   \n",
      "154                -0.000160                -0.000165   \n",
      "155                 0.001387                 0.001396   \n",
      "156                -0.004518                -0.004521   \n",
      "157                -0.008775                -0.008787   \n",
      "158                -0.005047                -0.005094   \n",
      "\n",
      "     icp_acceleration_yaw_38  icp_acceleration_yaw_39  \n",
      "0                  -0.002882                -0.002880  \n",
      "1                  -0.000292                -0.000293  \n",
      "2                  -0.001012                -0.001014  \n",
      "3                   0.000264                 0.000263  \n",
      "4                   0.000196                 0.000195  \n",
      "..                       ...                      ...  \n",
      "154                -0.000168                -0.000169  \n",
      "155                 0.001399                 0.001400  \n",
      "156                -0.004523                -0.004524  \n",
      "157                -0.008791                -0.008792  \n",
      "158                -0.005117                -0.005124  \n",
      "\n",
      "[159 rows x 1458 columns]\n"
     ]
    }
   ],
   "source": [
    "# import slip dataset\n",
    "\n",
    "# dataset_path = '../data/ral2023_dataset/husky/boreal_snow/slip_dataset_all.pkl'\n",
    "# dataset_path = '../data/ral2023_dataset/husky/grand_salon_tile_inflated/slip_dataset_all.pkl'\n",
    "# dataset_path = '../data/ral2023_dataset/husky/grand_salon_left-deflated/slip_dataset_all.pkl'\n",
    "# dataset_path = '../data/ral2023_dataset/marmotte/boreal_snow/slip_dataset_all.pkl'\n",
    "# dataset_path = '../data/ral2023_dataset/marmotte/ga_hard_snow_a/slip_dataset_all.pkl'\n",
    "# dataset_path = '../data/ral2023_dataset/marmotte/ga_hard_snow_b/slip_dataset_all.pkl'\n",
    "# dataset_path = '../data/ral2023_dataset/marmotte/grand_salon_tile_b/slip_dataset_all.pkl'\n",
    "# dataset_path = '../data/ral2023_dataset/warthog_tracks/boreal_mud/slip_dataset_all.pkl'\n",
    "# dataset_path = '../data/ral2023_dataset/warthog_tracks/grand-axe_crusted-snow/slip_dataset_all.pkl'\n",
    "\n",
    "# dataset_path = '../data/ral2023_dataset/husky/boreal_snow/acceleration_dataset.pkl'\n",
    "# dataset_path = '../data/ral2023_dataset/husky/grand_salon_tile_inflated/acceleration_dataset.pkl'\n",
    "# dataset_path = '../data/ral2023_dataset/husky/grand_salon_left-deflated/acceleration_dataset.pkl'\n",
    "# dataset_path = '../data/ral2023_dataset/marmotte/boreal_snow/acceleration_dataset.pkl'\n",
    "# dataset_path = '../data/ral2023_dataset/marmotte/ga_hard_snow_a/acceleration_dataset.pkl'\n",
    "# dataset_path = '../data/ral2023_dataset/marmotte/ga_hard_snow_b/acceleration_dataset.pkl'\n",
    "# dataset_path = '../data/ral2023_dataset/marmotte/grand_salon_tile_b/acceleration_dataset.pkl'\n",
    "# dataset_path = '../data/ral2023_dataset/warthog_tracks/boreal_mud/acceleration_dataset.pkl'\n",
    "dataset_path = '../data/ral2023_dataset/warthog_tracks/grand-axe_crusted-snow/acceleration_dataset.pkl'\n",
    "\n",
    "\n",
    "full_dataset = pd.read_pickle(dataset_path)\n",
    "full_dataset_length = len(full_dataset)\n",
    "train_dataset = full_dataset[:int(full_dataset_length/2)]\n",
    "validate_dataset = full_dataset[int(full_dataset_length/2):]\n",
    "\n",
    "print(train_dataset)"
   ]
  },
  {
   "cell_type": "code",
   "execution_count": 69,
   "id": "649e26cf-e98f-48c2-8030-dafc7e532949",
   "metadata": {
    "ExecuteTime": {
     "end_time": "2023-06-06T17:36:22.564286672Z",
     "start_time": "2023-06-06T17:36:22.530093513Z"
    }
   },
   "outputs": [],
   "source": [
    "# isolate steady-state data\n",
    "\n",
    "# extract cmd_body_vel arrays (input arrays)\n",
    "\n",
    "idd_body_vel_x_str_list = []\n",
    "idd_body_vel_y_str_list = []\n",
    "idd_body_vel_yaw_str_list = []\n",
    "for i in range(0, 40):\n",
    "    str_idd_vel_x_i = 'idd_vel_x_' + str(i)\n",
    "    str_idd_vel_y_i = 'idd_vel_y_' + str(i)\n",
    "    str_idd_vel_yaw_i = 'idd_vel_yaw_' + str(i)\n",
    "    idd_body_vel_x_str_list.append(str_idd_vel_x_i)\n",
    "    idd_body_vel_y_str_list.append(str_idd_vel_y_i)\n",
    "    idd_body_vel_yaw_str_list.append(str_idd_vel_yaw_i)\n",
    "idd_body_vel_x_array = train_dataset[idd_body_vel_x_str_list].to_numpy()\n",
    "idd_body_vel_y_array = train_dataset[idd_body_vel_y_str_list].to_numpy()\n",
    "idd_body_vel_yaw_array = train_dataset[idd_body_vel_yaw_str_list].to_numpy()\n",
    "\n",
    "x_train = np.column_stack((idd_body_vel_x_array.flatten(), idd_body_vel_yaw_array.flatten()))\n",
    "\n",
    "# extract icp vels\n",
    "\n",
    "str_icp_vel_x_list = []\n",
    "str_icp_vel_y_list = []\n",
    "str_icp_vel_yaw_list = []\n",
    "for i in range(0, 40):\n",
    "    str_icp_vel_x_i = 'icp_vel_x_' + str(i)\n",
    "    str_icp_vel_y_i = 'icp_vel_y_' + str(i)\n",
    "    str_icp_vel_yaw_i = 'icp_vel_yaw_' + str(i)\n",
    "    str_icp_vel_x_list.append(str_icp_vel_x_i)\n",
    "    str_icp_vel_y_list.append(str_icp_vel_y_i)\n",
    "    str_icp_vel_yaw_list.append(str_icp_vel_yaw_i)\n",
    "icp_vel_x_array = train_dataset[str_icp_vel_x_list].to_numpy()\n",
    "icp_vel_y_array = train_dataset[str_icp_vel_y_list].to_numpy()\n",
    "icp_vel_yaw_array = train_dataset[str_icp_vel_yaw_list].to_numpy()\n",
    "\n",
    "# extract body_vel_distruptions arrays (output arrays)\n",
    "\n",
    "str_body_vel_disturption_x_list = []\n",
    "str_body_vel_disturption_y_list = []\n",
    "str_body_vel_disturption_yaw_list = []\n",
    "for i in range(0, 40):\n",
    "    str_body_vel_disturption_x_i = 'body_vel_disturption_x_' + str(i)\n",
    "    str_body_vel_disturption_y_i = 'body_vel_disturption_y_' + str(i)\n",
    "    str_body_vel_disturption_yaw_i = 'body_vel_disturption_yaw_' + str(i)\n",
    "    str_body_vel_disturption_x_list.append(str_body_vel_disturption_x_i)\n",
    "    str_body_vel_disturption_y_list.append(str_body_vel_disturption_y_i)\n",
    "    str_body_vel_disturption_yaw_list.append(str_body_vel_disturption_yaw_i)\n",
    "    \n",
    "body_vel_disturption_x_array = train_dataset[str_body_vel_disturption_x_list].to_numpy()\n",
    "body_vel_disturption_y_array = train_dataset[str_body_vel_disturption_y_list].to_numpy()\n",
    "body_vel_disturption_yaw_array = train_dataset[str_body_vel_disturption_yaw_list].to_numpy()\n",
    "\n",
    "y_train_longitudinal_slip = body_vel_disturption_x_array.flatten()\n",
    "y_train_lateral_slip = body_vel_disturption_y_array.flatten()\n",
    "y_train_angular_slip = body_vel_disturption_yaw_array.flatten()\n",
    "\n",
    "# compute mean body vel disturbance for each steady-state window\n",
    "n_windows = len(train_dataset)\n",
    "\n",
    "steady_state_mask = train_dataset['steady_state_mask'].to_numpy() == True\n",
    "\n",
    "steady_state_idd_body_vel_x = idd_body_vel_x_array[steady_state_mask]\n",
    "steady_state_idd_body_vel_y = idd_body_vel_y_array[steady_state_mask]\n",
    "steady_state_idd_body_vel_yaw = idd_body_vel_yaw_array[steady_state_mask]\n",
    "\n",
    "steady_state_icp_body_vel_x = icp_vel_x_array[steady_state_mask]\n",
    "steady_state_icp_body_vel_y = icp_vel_y_array[steady_state_mask]\n",
    "steady_state_icp_body_vel_yaw = icp_vel_yaw_array[steady_state_mask]\n",
    "\n",
    "steady_state_body_vel_disturption_x = body_vel_disturption_x_array[steady_state_mask]\n",
    "steady_state_body_vel_disturption_y = body_vel_disturption_y_array[steady_state_mask]\n",
    "steady_state_body_vel_disturption_yaw = body_vel_disturption_yaw_array[steady_state_mask]\n"
   ]
  },
  {
   "cell_type": "code",
   "execution_count": 70,
   "id": "c341da73-b590-4c3d-a437-305c305bca12",
   "metadata": {
    "ExecuteTime": {
     "end_time": "2023-06-06T17:36:23.111493680Z",
     "start_time": "2023-06-06T17:36:23.102714004Z"
    }
   },
   "outputs": [],
   "source": [
    "# import BLR model\n",
    "\n",
    "\n",
    "slip_input_dimensions = 2\n",
    "a_param_init = 0\n",
    "b_param_init = 0\n",
    "param_variance_init = 999999999999999999999\n",
    "variance_init = 1000000000\n",
    "\n",
    "# robot = 'husky'\n",
    "# robot = 'marmotte'\n",
    "robot = 'warthog-track'\n",
    "if robot=='husky':\n",
    "    wheel_radius = 0.33 / 2\n",
    "    baseline = 0.55\n",
    "    dt=0.05\n",
    "if robot=='marmotte':\n",
    "    wheel_radius = 0.116\n",
    "    baseline = 0.5927\n",
    "    dt=0.05\n",
    "if robot == 'warthog-track':\n",
    "    wheel_radius = 0.3\n",
    "    baseline = 1.1652\n",
    "    dt = 0.05\n",
    "kappa_param = 1\n",
    "\n",
    "# full_body_slip_blr = FullBodySlipBayesianLinearRegression(1, 1, 3, a_param_init, b_param_init, param_variance_init, variance_init, baseline, wheel_radius, dt, kappa_param)\n",
    "full_body_slip_blr = FullBodySlipAccelerationBayesianLinearRegression(2, 1, 4, a_param_init, b_param_init, param_variance_init, variance_init, baseline, wheel_radius, dt, kappa_param)"
   ]
  },
  {
   "cell_type": "code",
   "execution_count": 71,
   "id": "bcf023f8-593b-4138-b093-8f18c2d122e1",
   "metadata": {
    "ExecuteTime": {
     "end_time": "2023-06-06T17:36:23.784841295Z",
     "start_time": "2023-06-06T17:36:23.781186434Z"
    }
   },
   "outputs": [],
   "source": [
    "# extract training data\n",
    "\n",
    "# x_train = np.column_stack((steady_state_idd_body_vel_x.flatten(), steady_state_idd_body_vel_y.flatten(), steady_state_idd_body_vel_yaw.flatten()))\n",
    "# y_train = np.column_stack((steady_state_body_vel_disturption_x.flatten(), steady_state_body_vel_disturption_y.flatten(), steady_state_body_vel_disturption_yaw.flatten()))\n",
    "\n",
    "x_train = np.column_stack((idd_body_vel_x_array.flatten(), idd_body_vel_y_array.flatten(), idd_body_vel_yaw_array.flatten()))\n",
    "y_train = np.column_stack((body_vel_disturption_x_array.flatten(), body_vel_disturption_y_array.flatten(), body_vel_disturption_yaw_array.flatten()))\n"
   ]
  },
  {
   "cell_type": "code",
   "execution_count": 72,
   "id": "f5625e65-e450-4514-a961-135e7888e15a",
   "metadata": {
    "ExecuteTime": {
     "end_time": "2023-06-06T17:36:24.419428045Z",
     "start_time": "2023-06-06T17:36:24.403500829Z"
    }
   },
   "outputs": [
    {
     "name": "stdout",
     "output_type": "stream",
     "text": [
      "weights_x :  [[ 0.4957552]\n",
      " [-0.2493229]]\n",
      "weights_y :  [[0.00999232]]\n",
      "weights_yaw :  [[-0.00273059]\n",
      " [-0.01265728]\n",
      " [ 0.86752457]\n",
      " [ 0.05675746]]\n"
     ]
    }
   ],
   "source": [
    "# train BLR models, print resulting weights\n",
    "\n",
    "full_body_slip_blr.train_params(x_train, y_train)\n",
    "\n",
    "print('weights_x : ', full_body_slip_blr.body_x_slip_blr.weights)\n",
    "print('weights_y : ', full_body_slip_blr.body_y_slip_blr.weights)\n",
    "print('weights_yaw : ', full_body_slip_blr.body_yaw_slip_blr.weights)\n",
    "\n",
    "# slip only\n",
    "# full_body_slip_blr.save_params('../data/ral2023_dataset/husky/boreal_snow/trained_params/slip/blr/steady-state/')\n",
    "# full_body_slip_blr.save_params('../data/ral2023_dataset/husky/grand_salon_tile_inflated/trained_params/slip/blr/steady-state/')\n",
    "# full_body_slip_blr.save_params('../data/ral2023_dataset/husky/grand_salon_left-deflated/trained_params/slip/blr/steady-state/')\n",
    "# full_body_slip_blr.save_params('../data/ral2023_dataset/marmotte/ga_hard_snow_a/trained_params/slip/blr/steady-state/')\n",
    "# full_body_slip_blr.save_params('../data/ral2023_dataset/marmotte/ga_hard_snow_b/trained_params/slip/blr/steady-state/')\n",
    "# full_body_slip_blr.save_params('../data/ral2023_dataset/marmotte/grand_salon_tile_b/trained_params/slip/blr/steady-state/')\n",
    "# full_body_slip_blr.save_params('../data/ral2023_dataset/warthog_tracks/boreal_mud/trained_params/slip/blr/steady-state/')\n",
    "# full_body_slip_blr.save_params('../data/ral2023_dataset/warthog_tracks/grand-axe_crusted-snow/trained_params/slip/blr/steady-state/')\n",
    "\n",
    "# slip with acceleration\n",
    "# full_body_slip_blr.save_params('../data/ral2023_dataset/husky/boreal_snow/trained_params/slip_acceleration/blr/')\n",
    "# full_body_slip_blr.save_params('../data/ral2023_dataset/husky/grand_salon_tile_inflated/trained_params/slip_acceleration/blr/')\n",
    "# full_body_slip_blr.save_params('../data/ral2023_dataset/husky/grand_salon_left-deflated/trained_params/slip_acceleration/blr/')\n",
    "# full_body_slip_blr.save_params('../data/ral2023_dataset/marmotte/boreal_snow/trained_params/slip_acceleration/blr/')\n",
    "# full_body_slip_blr.save_params('../data/ral2023_dataset/marmotte/ga_hard_snow_a/trained_params/slip_acceleration/blr/')\n",
    "# full_body_slip_blr.save_params('../data/ral2023_dataset/marmotte/ga_hard_snow_b/trained_params/slip_acceleration/blr/')\n",
    "# full_body_slip_blr.save_params('../data/ral2023_dataset/marmotte/grand_salon_tile_b/trained_params/slip_acceleration/blr/')\n",
    "# full_body_slip_blr.save_params('../data/ral2023_dataset/warthog_tracks/boreal_mud/trained_params/slip_acceleration/blr/')\n",
    "full_body_slip_blr.save_params('../data/ral2023_dataset/warthog_tracks/grand-axe_crusted-snow/trained_params/slip_acceleration/blr/')\n"
   ]
  },
  {
   "cell_type": "code",
   "execution_count": 7,
   "id": "429359ce-a9ba-4ff7-86cc-7653f3716d41",
   "metadata": {
    "ExecuteTime": {
     "end_time": "2023-06-05T19:28:30.394167288Z",
     "start_time": "2023-06-05T19:28:17.356116363Z"
    }
   },
   "outputs": [
    {
     "name": "stdout",
     "output_type": "stream",
     "text": [
      "[0.66326365 0.40885868 0.08247066 ... 0.98417013 0.17077597 0.4756713 ]\n",
      "[0. 0. 0. ... 0. 0. 0.]\n",
      "[-0.22086949  3.96197799 -1.35281806 ...  1.84157877  1.77901352\n",
      " -2.11555514]\n",
      "weights_x :  [[-0.42356253]]\n",
      "weights_y :  [[0.12008241]]\n",
      "weights_yaw :  [[-0.04434098]\n",
      " [-0.04766309]\n",
      " [ 0.71555511]]\n"
     ]
    }
   ],
   "source": [
    "# train BLR steady-state for every\n",
    "\n",
    "steady_state_idd_body_vel_x_shuffled = copy.deepcopy(steady_state_idd_body_vel_x.flatten())\n",
    "np.random.seed(12345)\n",
    "np.random.shuffle(steady_state_idd_body_vel_x_shuffled)\n",
    "steady_state_idd_body_vel_y_shuffled = copy.deepcopy(steady_state_idd_body_vel_y.flatten())\n",
    "np.random.seed(12345)\n",
    "np.random.shuffle(steady_state_idd_body_vel_y_shuffled)\n",
    "steady_state_idd_body_vel_yaw_shuffled = copy.deepcopy(steady_state_idd_body_vel_yaw.flatten())\n",
    "np.random.seed(12345)\n",
    "np.random.shuffle(steady_state_idd_body_vel_yaw_shuffled)\n",
    "\n",
    "steady_state_body_vel_disturption_x_shuffled = copy.deepcopy(steady_state_body_vel_disturption_x.flatten())\n",
    "np.random.seed(12345)\n",
    "np.random.shuffle(steady_state_body_vel_disturption_x_shuffled)\n",
    "steady_state_body_vel_disturption_y_shuffled = copy.deepcopy(steady_state_body_vel_disturption_y.flatten())\n",
    "np.random.seed(12345)\n",
    "np.random.shuffle(steady_state_body_vel_disturption_y_shuffled)\n",
    "steady_state_body_vel_disturption_yaw_shuffled = copy.deepcopy(steady_state_body_vel_disturption_yaw.flatten())\n",
    "np.random.seed(12345)\n",
    "np.random.shuffle(steady_state_body_vel_disturption_yaw_shuffled)\n",
    "\n",
    "print(steady_state_idd_body_vel_x_shuffled.flatten())\n",
    "print(steady_state_idd_body_vel_y_shuffled.flatten())\n",
    "print(steady_state_idd_body_vel_yaw_shuffled.flatten())\n",
    "\n",
    "# print(steady_state_body_vel_disturption_x_shuffled.flatten())\n",
    "\n",
    "# saved_params_root_path = '../data/ral2023_dataset/husky/boreal_snow/trained_params/slip/blr/steady-state/growing_training_set/'\n",
    "saved_params_root_path = '../data/ral2023_dataset/warthog_tracks/boreal_mud/trained_params/slip/blr/steady-state/growing_training_set/'\n",
    "# saved_params_root_path = '../data/ral2023_dataset/marmotte/grand_salon_tile_b/trained_params/slip/blr/steady-state/growing_training_set/'\n",
    "\n",
    "for i in range(1, steady_state_body_vel_disturption_x_shuffled.shape[0]):\n",
    "    training_timesteps_path = saved_params_root_path + str(i) + '/'\n",
    "    if not os.path.exists(training_timesteps_path):\n",
    "        os.makedirs(training_timesteps_path)\n",
    "    x_train = np.column_stack((steady_state_idd_body_vel_x_shuffled[:i], \n",
    "                               steady_state_idd_body_vel_y_shuffled[:i], \n",
    "                               steady_state_idd_body_vel_yaw_shuffled[:i]))\n",
    "    y_train = np.column_stack((steady_state_body_vel_disturption_x_shuffled[:i], \n",
    "                               steady_state_body_vel_disturption_y_shuffled[:i], \n",
    "                               steady_state_body_vel_disturption_yaw_shuffled[:i]))\n",
    "    \n",
    "    # print(x_train)\n",
    "    # print(y_train)\n",
    "    full_body_slip_blr = FullBodySlipBayesianLinearRegression(1, 1, 3, a_param_init, b_param_init, param_variance_init, variance_init, baseline, wheel_radius, dt, kappa_param)\n",
    "    full_body_slip_blr.train_params(x_train, y_train)\n",
    "    full_body_slip_blr.save_params(training_timesteps_path)\n",
    "    \n",
    "print('weights_x : ', full_body_slip_blr.body_x_slip_blr.weights)\n",
    "print('weights_y : ', full_body_slip_blr.body_y_slip_blr.weights)\n",
    "print('weights_yaw : ', full_body_slip_blr.body_yaw_slip_blr.weights)"
   ]
  },
  {
   "cell_type": "code",
   "execution_count": 8,
   "id": "21e0f788-3000-4bb8-a29e-6d7b178274eb",
   "metadata": {
    "ExecuteTime": {
     "end_time": "2023-06-05T19:28:30.559652727Z",
     "start_time": "2023-06-05T19:28:30.396296032Z"
    }
   },
   "outputs": [
    {
     "name": "stderr",
     "output_type": "stream",
     "text": [
      "<>:3: SyntaxWarning: list indices must be integers or slices, not float; perhaps you missed a comma?\n",
      "<>:3: SyntaxWarning: list indices must be integers or slices, not float; perhaps you missed a comma?\n",
      "/tmp/ipykernel_33914/759267929.py:3: SyntaxWarning: list indices must be integers or slices, not float; perhaps you missed a comma?\n",
      "  weights_yaw :  [[-0.04434587]\n"
     ]
    },
    {
     "ename": "TypeError",
     "evalue": "list indices must be integers or slices, not float",
     "output_type": "error",
     "traceback": [
      "\u001B[0;31m---------------------------------------------------------------------------\u001B[0m",
      "\u001B[0;31mTypeError\u001B[0m                                 Traceback (most recent call last)",
      "\u001B[0;32m/tmp/ipykernel_33914/759267929.py\u001B[0m in \u001B[0;36m<module>\u001B[0;34m\u001B[0m\n\u001B[1;32m      1\u001B[0m \u001B[0mweights_x\u001B[0m \u001B[0;34m:\u001B[0m  \u001B[0;34m[\u001B[0m\u001B[0;34m[\u001B[0m\u001B[0;34m-\u001B[0m\u001B[0;36m0.4235368\u001B[0m\u001B[0;34m]\u001B[0m\u001B[0;34m]\u001B[0m\u001B[0;34m\u001B[0m\u001B[0;34m\u001B[0m\u001B[0m\n\u001B[1;32m      2\u001B[0m \u001B[0mweights_y\u001B[0m \u001B[0;34m:\u001B[0m  \u001B[0;34m[\u001B[0m\u001B[0;34m[\u001B[0m\u001B[0;36m0.12007774\u001B[0m\u001B[0;34m]\u001B[0m\u001B[0;34m]\u001B[0m\u001B[0;34m\u001B[0m\u001B[0;34m\u001B[0m\u001B[0m\n\u001B[0;32m----> 3\u001B[0;31m weights_yaw :  [[-0.04434587]\n\u001B[0m\u001B[1;32m      4\u001B[0m  \u001B[0;34m[\u001B[0m\u001B[0;34m-\u001B[0m\u001B[0;36m0.04762662\u001B[0m\u001B[0;34m]\u001B[0m\u001B[0;34m\u001B[0m\u001B[0;34m\u001B[0m\u001B[0m\n\u001B[1;32m      5\u001B[0m  [ 0.71554438]]\n",
      "\u001B[0;31mTypeError\u001B[0m: list indices must be integers or slices, not float"
     ]
    }
   ],
   "source": [
    "weights_x :  [[-0.4235368]]\n",
    "weights_y :  [[0.12007774]]\n",
    "weights_yaw :  [[-0.04434587]\n",
    " [-0.04762662]\n",
    " [ 0.71554438]]\n"
   ]
  },
  {
   "cell_type": "code",
   "execution_count": null,
   "id": "71930292-8164-4963-ac89-578bc91e0c0a",
   "metadata": {},
   "outputs": [],
   "source": []
  }
 ],
 "metadata": {
  "kernelspec": {
   "display_name": "Python 3 (ipykernel)",
   "language": "python",
   "name": "python3"
  },
  "language_info": {
   "codemirror_mode": {
    "name": "ipython",
    "version": 3
   },
   "file_extension": ".py",
   "mimetype": "text/x-python",
   "name": "python",
   "nbconvert_exporter": "python",
   "pygments_lexer": "ipython3",
   "version": "3.10.6"
  }
 },
 "nbformat": 4,
 "nbformat_minor": 5
}
