{
 "cells": [
  {
   "cell_type": "code",
   "execution_count": 2,
   "id": "0ae21d22-fb64-4d51-8104-ca599147ec88",
   "metadata": {
    "ExecuteTime": {
     "end_time": "2023-06-21T12:41:01.863583613Z",
     "start_time": "2023-06-21T12:41:01.860962275Z"
    }
   },
   "outputs": [
    {
     "name": "stdout",
     "output_type": "stream",
     "text": [
      "3.10.6 (main, May 29 2023, 11:10:38) [GCC 11.3.0]\n"
     ]
    }
   ],
   "source": [
    "import numpy as np\n",
    "import pandas as pd\n",
    "import scipy.linalg\n",
    "\n",
    "import matplotlib.pyplot as plt\n",
    "from mpl_toolkits.mplot3d import axes3d\n",
    "from matplotlib.patches import Ellipse\n",
    "import matplotlib.transforms as transforms\n",
    "\n",
    "import sys\n",
    "print(sys.version)\n",
    "sys.path.append('../')\n",
    "import os\n",
    "import copy\n",
    "\n",
    "from models.powertrain.bounded_powertrain import Bounded_powertrain\n",
    "from models.kinematic.ideal_diff_drive import Ideal_diff_drive\n",
    "from models.learning.blr_slip import SlipBayesianLinearRegression, FullBodySlipBayesianLinearRegression\n",
    "from models.learning.blr_slip_acceleration import SlipAccelerationBayesianLinearRegression, FullBodySlipAccelerationBayesianLinearRegression\n",
    "from models.kinematic.ICR_based import *\n",
    "from models.kinematic.Perturbed_unicycle import *\n",
    "from models.kinematic.enhanced_kinematic import *\n",
    "\n",
    "\n",
    "from util.transform_algebra import *\n",
    "from util.util_func import *\n",
    "\n",
    "from sklearn import linear_model"
   ]
  },
  {
   "cell_type": "code",
   "execution_count": 37,
   "id": "8204a3ce-454c-471a-89fc-bb59a31a72c3",
   "metadata": {
    "ExecuteTime": {
     "end_time": "2023-06-21T14:52:22.832781326Z",
     "start_time": "2023-06-21T14:52:22.806819853Z"
    }
   },
   "outputs": [
    {
     "name": "stdout",
     "output_type": "stream",
     "text": [
      "0      0.000015\n",
      "1      0.329309\n",
      "2      0.256889\n",
      "3      0.000949\n",
      "4     -0.415142\n",
      "         ...   \n",
      "296   -0.698120\n",
      "297   -0.902690\n",
      "298   -0.389358\n",
      "299   -0.298958\n",
      "300   -0.371093\n",
      "Name: imu_yaw_0, Length: 301, dtype: float64\n"
     ]
    }
   ],
   "source": [
    "# import slip dataset\n",
    "# \n",
    "# dataset_path = '../data/ral2023_dataset/husky/boreal_snow/slip_dataset_all.pkl'\n",
    "# dataset_path = '../data/ral2023_dataset/husky/grand_salon_tile_inflated/slip_dataset_all.pkl'\n",
    "# dataset_path = '../data/ral2023_dataset/husky/grand_salon_left-deflated/slip_dataset_all.pkl'\n",
    "# dataset_path = '../data/ral2023_dataset/marmotte/boreal_snow/slip_dataset_all.pkl'\n",
    "# dataset_path = '../data/ral2023_dataset/marmotte/ga_hard_snow_a/slip_dataset_all.pkl'\n",
    "# dataset_path = '../data/ral2023_dataset/marmotte/ga_hard_snow_b/slip_dataset_all.pkl'\n",
    "# dataset_path = '../data/ral2023_dataset/marmotte/grand_salon_tile_b/slip_dataset_all.pkl'\n",
    "# dataset_path = '../data/ral2023_dataset/warthog_tracks/boreal_mud/slip_dataset_all.pkl'\n",
    "# dataset_path = '../data/ral2023_dataset/warthog_tracks/grand-axe_crusted-snow/slip_dataset_all.pkl'\n",
    "\n",
    "dataset_path = '../data/ral2023_dataset/husky/boreal_snow/acceleration_dataset.pkl'\n",
    "# dataset_path = '../data/ral2023_dataset/husky/grand_salon_tile_inflated/acceleration_dataset.pkl'\n",
    "# dataset_path = '../data/ral2023_dataset/husky/grand_salon_left-deflated/acceleration_dataset.pkl'\n",
    "# dataset_path = '../data/ral2023_dataset/marmotte/boreal_snow/acceleration_dataset.pkl'\n",
    "# dataset_path = '../data/ral2023_dataset/marmotte/ga_hard_snow_a/acceleration_dataset.pkl'\n",
    "# dataset_path = '../data/ral2023_dataset/marmotte/ga_hard_snow_b/acceleration_dataset.pkl'\n",
    "# dataset_path = '../data/ral2023_dataset/marmotte/grand_salon_tile_b/acceleration_dataset.pkl'\n",
    "# dataset_path = '../data/ral2023_dataset/warthog_tracks/boreal_mud/acceleration_dataset.pkl'\n",
    "# dataset_path = '../data/ral2023_dataset/warthog_tracks/grand-axe_crusted-snow/acceleration_dataset.pkl'\n",
    "# dataset_path = '../data/ral2023_dataset/warthog_wheels/gravel_1/acceleration_dataset.pkl'\n",
    "\n",
    "\n",
    "full_dataset = pd.read_pickle(dataset_path)\n",
    "full_dataset_length = len(full_dataset)\n",
    "train_dataset = full_dataset[:int(full_dataset_length/2)]\n",
    "validate_dataset = full_dataset[int(full_dataset_length/2):]\n",
    "\n",
    "# print(train_dataset)\n",
    "print(train_dataset['imu_yaw_0'])"
   ]
  },
  {
   "cell_type": "code",
   "execution_count": 38,
   "id": "649e26cf-e98f-48c2-8030-dafc7e532949",
   "metadata": {
    "ExecuteTime": {
     "end_time": "2023-06-21T14:52:23.607011711Z",
     "start_time": "2023-06-21T14:52:23.588808817Z"
    }
   },
   "outputs": [],
   "source": [
    "# isolate steady-state data\n",
    "\n",
    "# extract cmd_body_vel arrays (input arrays)\n",
    "\n",
    "idd_body_vel_x_str_list = []\n",
    "idd_body_vel_y_str_list = []\n",
    "idd_body_vel_yaw_str_list = []\n",
    "for i in range(0, 40):\n",
    "    str_idd_vel_x_i = 'idd_vel_x_' + str(i)\n",
    "    str_idd_vel_y_i = 'idd_vel_y_' + str(i)\n",
    "    str_idd_vel_yaw_i = 'idd_vel_yaw_' + str(i)\n",
    "    idd_body_vel_x_str_list.append(str_idd_vel_x_i)\n",
    "    idd_body_vel_y_str_list.append(str_idd_vel_y_i)\n",
    "    idd_body_vel_yaw_str_list.append(str_idd_vel_yaw_i)\n",
    "idd_body_vel_x_array = train_dataset[idd_body_vel_x_str_list].to_numpy()\n",
    "idd_body_vel_y_array = train_dataset[idd_body_vel_y_str_list].to_numpy()\n",
    "idd_body_vel_yaw_array = train_dataset[idd_body_vel_yaw_str_list].to_numpy()\n",
    "\n",
    "x_train = np.column_stack((idd_body_vel_x_array.flatten(), idd_body_vel_yaw_array.flatten()))\n",
    "\n",
    "# extract icp vels\n",
    "\n",
    "str_icp_vel_x_list = []\n",
    "str_icp_vel_y_list = []\n",
    "str_icp_vel_yaw_list = []\n",
    "for i in range(0, 40):\n",
    "    str_icp_vel_x_i = 'icp_vel_x_' + str(i)\n",
    "    str_icp_vel_y_i = 'icp_vel_y_' + str(i)\n",
    "    str_icp_vel_yaw_i = 'icp_vel_yaw_' + str(i)\n",
    "    str_icp_vel_x_list.append(str_icp_vel_x_i)\n",
    "    str_icp_vel_y_list.append(str_icp_vel_y_i)\n",
    "    str_icp_vel_yaw_list.append(str_icp_vel_yaw_i)\n",
    "icp_vel_x_array = train_dataset[str_icp_vel_x_list].to_numpy()\n",
    "icp_vel_y_array = train_dataset[str_icp_vel_y_list].to_numpy()\n",
    "icp_vel_yaw_array = train_dataset[str_icp_vel_yaw_list].to_numpy()\n",
    "\n",
    "# extract body_vel_distruptions arrays (output arrays)\n",
    "\n",
    "str_body_vel_disturption_x_list = []\n",
    "str_body_vel_disturption_y_list = []\n",
    "str_body_vel_disturption_yaw_list = []\n",
    "for i in range(0, 40):\n",
    "    str_body_vel_disturption_x_i = 'body_vel_disturption_x_' + str(i)\n",
    "    str_body_vel_disturption_y_i = 'body_vel_disturption_y_' + str(i)\n",
    "    str_body_vel_disturption_yaw_i = 'body_vel_disturption_yaw_' + str(i)\n",
    "    str_body_vel_disturption_x_list.append(str_body_vel_disturption_x_i)\n",
    "    str_body_vel_disturption_y_list.append(str_body_vel_disturption_y_i)\n",
    "    str_body_vel_disturption_yaw_list.append(str_body_vel_disturption_yaw_i)\n",
    "    \n",
    "body_vel_disturption_x_array = train_dataset[str_body_vel_disturption_x_list].to_numpy()\n",
    "body_vel_disturption_y_array = train_dataset[str_body_vel_disturption_y_list].to_numpy()\n",
    "body_vel_disturption_yaw_array = train_dataset[str_body_vel_disturption_yaw_list].to_numpy()\n",
    "\n",
    "y_train_longitudinal_slip = body_vel_disturption_x_array.flatten()\n",
    "y_train_lateral_slip = body_vel_disturption_y_array.flatten()\n",
    "y_train_angular_slip = body_vel_disturption_yaw_array.flatten()\n",
    "\n",
    "# compute mean body vel disturbance for each steady-state window\n",
    "n_windows = len(train_dataset)\n",
    "\n",
    "steady_state_mask = train_dataset['steady_state_mask'].to_numpy() == True\n",
    "\n",
    "steady_state_idd_body_vel_x = idd_body_vel_x_array[steady_state_mask]\n",
    "steady_state_idd_body_vel_y = idd_body_vel_y_array[steady_state_mask]\n",
    "steady_state_idd_body_vel_yaw = idd_body_vel_yaw_array[steady_state_mask]\n",
    "\n",
    "steady_state_icp_body_vel_x = icp_vel_x_array[steady_state_mask]\n",
    "steady_state_icp_body_vel_y = icp_vel_y_array[steady_state_mask]\n",
    "steady_state_icp_body_vel_yaw = icp_vel_yaw_array[steady_state_mask]\n",
    "\n",
    "steady_state_body_vel_disturption_x = body_vel_disturption_x_array[steady_state_mask]\n",
    "steady_state_body_vel_disturption_y = body_vel_disturption_y_array[steady_state_mask]\n",
    "steady_state_body_vel_disturption_yaw = body_vel_disturption_yaw_array[steady_state_mask]\n"
   ]
  },
  {
   "cell_type": "code",
   "execution_count": 39,
   "id": "c341da73-b590-4c3d-a437-305c305bca12",
   "metadata": {
    "ExecuteTime": {
     "end_time": "2023-06-21T14:52:28.204161608Z",
     "start_time": "2023-06-21T14:52:28.200090024Z"
    }
   },
   "outputs": [],
   "source": [
    "# import BLR model\n",
    "\n",
    "\n",
    "slip_input_dimensions = 2\n",
    "a_param_init = 0\n",
    "b_param_init = 0\n",
    "param_variance_init = 999999999999999999999\n",
    "variance_init = 1000000000\n",
    "\n",
    "robot = 'husky'\n",
    "# robot = 'marmotte'\n",
    "# robot = 'warthog-track'\n",
    "if robot=='husky':\n",
    "    wheel_radius = 0.33 / 2\n",
    "    baseline = 0.55\n",
    "    dt=0.05\n",
    "if robot=='marmotte':\n",
    "    wheel_radius = 0.116\n",
    "    baseline = 0.5927\n",
    "    dt=0.05\n",
    "if robot == 'warthog-track':\n",
    "    wheel_radius = 0.3\n",
    "    baseline = 1.1652\n",
    "    dt = 0.05\n",
    "kappa_param = 1\n",
    "\n",
    "full_body_slip_blr = FullBodySlipBayesianLinearRegression(1, 1, 3, a_param_init, b_param_init, param_variance_init, variance_init, baseline, wheel_radius, dt, kappa_param)\n",
    "# full_body_slip_blr = FullBodySlipAccelerationBayesianLinearRegression(2, 1, 4, a_param_init, b_param_init, param_variance_init, variance_init, baseline, wheel_radius, dt, kappa_param)"
   ]
  },
  {
   "cell_type": "code",
   "execution_count": 40,
   "id": "bcf023f8-593b-4138-b093-8f18c2d122e1",
   "metadata": {
    "ExecuteTime": {
     "end_time": "2023-06-21T14:52:29.677436734Z",
     "start_time": "2023-06-21T14:52:29.636941929Z"
    }
   },
   "outputs": [
    {
     "name": "stdout",
     "output_type": "stream",
     "text": [
      "[[ 0.44056611 -0.12510107 -0.24461123]\n",
      " [ 0.43858533 -0.11487719 -0.2565796 ]\n",
      " [ 0.43664811 -0.10490763 -0.25931304]\n",
      " ...\n",
      " [-0.08549751  0.06951074 -0.51405642]\n",
      " [-0.08686596  0.07015663 -0.54086307]\n",
      " [-0.08686596  0.07015663 -0.45066143]]\n"
     ]
    }
   ],
   "source": [
    "# extract training data\n",
    "\n",
    "x_train = np.column_stack((steady_state_idd_body_vel_x.flatten(), steady_state_idd_body_vel_y.flatten(), steady_state_idd_body_vel_yaw.flatten()))\n",
    "y_train = np.column_stack((steady_state_body_vel_disturption_x.flatten(), steady_state_body_vel_disturption_y.flatten(), steady_state_body_vel_disturption_yaw.flatten()))\n",
    "\n",
    "print(y_train)\n",
    "\n",
    "# x_train = np.column_stack((idd_body_vel_x_array.flatten(), idd_body_vel_y_array.flatten(), idd_body_vel_yaw_array.flatten()))\n",
    "# y_train = np.column_stack((body_vel_disturption_x_array.flatten(), body_vel_disturption_y_array.flatten(), body_vel_disturption_yaw_array.flatten()))\n"
   ]
  },
  {
   "cell_type": "code",
   "execution_count": 41,
   "id": "f5625e65-e450-4514-a961-135e7888e15a",
   "metadata": {
    "ExecuteTime": {
     "end_time": "2023-06-21T14:52:38.673173070Z",
     "start_time": "2023-06-21T14:52:38.625574804Z"
    }
   },
   "outputs": [
    {
     "name": "stdout",
     "output_type": "stream",
     "text": [
      "weights_x :  [[0.29740967]]\n",
      "weights_y :  [[0.05303726]]\n",
      "weights_yaw :  [[-0.02566546]\n",
      " [-0.01345331]\n",
      " [ 0.77970884]]\n"
     ]
    }
   ],
   "source": [
    "# train BLR models, print resulting weights\n",
    "\n",
    "full_body_slip_blr.train_params(x_train, y_train)\n",
    "\n",
    "print('weights_x : ', full_body_slip_blr.body_x_slip_blr.weights)\n",
    "print('weights_y : ', full_body_slip_blr.body_y_slip_blr.weights)\n",
    "print('weights_yaw : ', full_body_slip_blr.body_yaw_slip_blr.weights)\n",
    "\n",
    "# slip only\n",
    "# full_body_slip_blr.save_params('../data/ral2023_dataset/husky/boreal_snow/trained_params/slip/blr/steady-state/')\n",
    "# full_body_slip_blr.save_params('../data/ral2023_dataset/husky/grand_salon_tile_inflated/trained_params/slip/blr/steady-state/')\n",
    "# full_body_slip_blr.save_params('../data/ral2023_dataset/husky/grand_salon_left-deflated/trained_params/slip/blr/steady-state/')\n",
    "# full_body_slip_blr.save_params('../data/ral2023_dataset/marmotte/ga_hard_snow_a/trained_params/slip/blr/steady-state/')\n",
    "# full_body_slip_blr.save_params('../data/ral2023_dataset/marmotte/ga_hard_snow_b/trained_params/slip/blr/steady-state/')\n",
    "# full_body_slip_blr.save_params('../data/ral2023_dataset/marmotte/grand_salon_tile_b/trained_params/slip/blr/steady-state/')\n",
    "# full_body_slip_blr.save_params('../data/ral2023_dataset/warthog_tracks/boreal_mud/trained_params/slip/blr/steady-state/')\n",
    "# full_body_slip_blr.save_params('../data/ral2023_dataset/warthog_tracks/grand-axe_crusted-snow/trained_params/slip/blr/steady-state/')\n",
    "# full_body_slip_blr.save_params('../data/ral2023_dataset/warthog_wheels/gravel_1/trained_params/slip/blr/steady-state/')\n",
    "\n",
    "# slip with acceleration\n",
    "# full_body_slip_blr.save_params('../data/ral2023_dataset/husky/boreal_snow/trained_params/slip_acceleration/blr/')\n",
    "# full_body_slip_blr.save_params('../data/ral2023_dataset/husky/grand_salon_tile_inflated/trained_params/slip_acceleration/blr/')\n",
    "# full_body_slip_blr.save_params('../data/ral2023_dataset/husky/grand_salon_left-deflated/trained_params/slip_acceleration/blr/')\n",
    "# full_body_slip_blr.save_params('../data/ral2023_dataset/marmotte/boreal_snow/trained_params/slip_acceleration/blr/')\n",
    "# full_body_slip_blr.save_params('../data/ral2023_dataset/marmotte/ga_hard_snow_a/trained_params/slip_acceleration/blr/')\n",
    "# full_body_slip_blr.save_params('../data/ral2023_dataset/marmotte/ga_hard_snow_b/trained_params/slip_acceleration/blr/')\n",
    "# full_body_slip_blr.save_params('../data/ral2023_dataset/marmotte/grand_salon_tile_b/trained_params/slip_acceleration/blr/')\n",
    "# full_body_slip_blr.save_params('../data/ral2023_dataset/warthog_tracks/boreal_mud/trained_params/slip_acceleration/blr/')\n",
    "# full_body_slip_blr.save_params('../data/ral2023_dataset/warthog_tracks/grand-axe_crusted-snow/trained_params/slip_acceleration/blr/')\n"
   ]
  },
  {
   "cell_type": "code",
   "execution_count": 29,
   "id": "429359ce-a9ba-4ff7-86cc-7653f3716d41",
   "metadata": {
    "ExecuteTime": {
     "end_time": "2023-06-20T20:47:28.309900996Z",
     "start_time": "2023-06-20T20:47:28.287294263Z"
    }
   },
   "outputs": [
    {
     "name": "stdout",
     "output_type": "stream",
     "text": [
      "weights_x :  [[-0.4235368]]\n",
      "weights_y :  [[0.12007774]]\n",
      "weights_yaw :  [[-0.04434587]\n",
      " [-0.04762662]\n",
      " [ 0.71554438]]\n"
     ]
    }
   ],
   "source": [
    "# train BLR steady-state for every\n",
    "\n",
    "steady_state_idd_body_vel_x_shuffled = copy.deepcopy(steady_state_idd_body_vel_x.flatten())\n",
    "np.random.seed(12345)\n",
    "np.random.shuffle(steady_state_idd_body_vel_x_shuffled)\n",
    "steady_state_idd_body_vel_y_shuffled = copy.deepcopy(steady_state_idd_body_vel_y.flatten())\n",
    "np.random.seed(12345)\n",
    "np.random.shuffle(steady_state_idd_body_vel_y_shuffled)\n",
    "steady_state_idd_body_vel_yaw_shuffled = copy.deepcopy(steady_state_idd_body_vel_yaw.flatten())\n",
    "np.random.seed(12345)\n",
    "np.random.shuffle(steady_state_idd_body_vel_yaw_shuffled)\n",
    "\n",
    "steady_state_body_vel_disturption_x_shuffled = copy.deepcopy(steady_state_body_vel_disturption_x.flatten())\n",
    "np.random.seed(12345)\n",
    "np.random.shuffle(steady_state_body_vel_disturption_x_shuffled)\n",
    "steady_state_body_vel_disturption_y_shuffled = copy.deepcopy(steady_state_body_vel_disturption_y.flatten())\n",
    "np.random.seed(12345)\n",
    "np.random.shuffle(steady_state_body_vel_disturption_y_shuffled)\n",
    "steady_state_body_vel_disturption_yaw_shuffled = copy.deepcopy(steady_state_body_vel_disturption_yaw.flatten())\n",
    "np.random.seed(12345)\n",
    "np.random.shuffle(steady_state_body_vel_disturption_yaw_shuffled)\n",
    "\n",
    "print(steady_state_idd_body_vel_x_shuffled.flatten())\n",
    "print(steady_state_idd_body_vel_y_shuffled.flatten())\n",
    "print(steady_state_idd_body_vel_yaw_shuffled.flatten())\n",
    "\n",
    "# print(steady_state_body_vel_disturption_x_shuffled.flatten())\n",
    "\n",
    "# saved_params_root_path = '../data/ral2023_dataset/husky/boreal_snow/trained_params/slip/blr/steady-state/growing_training_set/'\n",
    "saved_params_root_path = '../data/ral2023_dataset/warthog_tracks/boreal_mud/trained_params/slip/blr/steady-state/growing_training_set/'\n",
    "# saved_params_root_path = '../data/ral2023_dataset/marmotte/grand_salon_tile_b/trained_params/slip/blr/steady-state/growing_training_set/'\n",
    "\n",
    "for i in range(1, steady_state_body_vel_disturption_x_shuffled.shape[0]):\n",
    "    training_timesteps_path = saved_params_root_path + str(i) + '/'\n",
    "    if not os.path.exists(training_timesteps_path):\n",
    "        os.makedirs(training_timesteps_path)\n",
    "    x_train = np.column_stack((steady_state_idd_body_vel_x_shuffled[:i], \n",
    "                               steady_state_idd_body_vel_y_shuffled[:i], \n",
    "                               steady_state_idd_body_vel_yaw_shuffled[:i]))\n",
    "    y_train = np.column_stack((steady_state_body_vel_disturption_x_shuffled[:i], \n",
    "                               steady_state_body_vel_disturption_y_shuffled[:i], \n",
    "                               steady_state_body_vel_disturption_yaw_shuffled[:i]))\n",
    "    \n",
    "    # print(x_train)\n",
    "    # print(y_train)\n",
    "    full_body_slip_blr = FullBodySlipBayesianLinearRegression(1, 1, 3, a_param_init, b_param_init, param_variance_init, variance_init, baseline, wheel_radius, dt, kappa_param)\n",
    "    full_body_slip_blr.train_params(x_train, y_train)\n",
    "    full_body_slip_blr.save_params(training_timesteps_path)\n",
    "    \n",
    "print('weights_x : ', full_body_slip_blr.body_x_slip_blr.weights)\n",
    "print('weights_y : ', full_body_slip_blr.body_y_slip_blr.weights)\n",
    "print('weights_yaw : ', full_body_slip_blr.body_yaw_slip_blr.weights)"
   ]
  },
  {
   "cell_type": "code",
   "execution_count": 8,
   "id": "21e0f788-3000-4bb8-a29e-6d7b178274eb",
   "metadata": {
    "ExecuteTime": {
     "end_time": "2023-06-05T19:28:30.559652727Z",
     "start_time": "2023-06-05T19:28:30.396296032Z"
    }
   },
   "outputs": [
    {
     "name": "stderr",
     "output_type": "stream",
     "text": [
      "<>:3: SyntaxWarning: list indices must be integers or slices, not float; perhaps you missed a comma?\n",
      "<>:3: SyntaxWarning: list indices must be integers or slices, not float; perhaps you missed a comma?\n",
      "/tmp/ipykernel_33914/759267929.py:3: SyntaxWarning: list indices must be integers or slices, not float; perhaps you missed a comma?\n",
      "  weights_yaw :  [[-0.04434587]\n"
     ]
    },
    {
     "ename": "TypeError",
     "evalue": "list indices must be integers or slices, not float",
     "output_type": "error",
     "traceback": [
      "\u001b[0;31m---------------------------------------------------------------------------\u001b[0m",
      "\u001b[0;31mTypeError\u001b[0m                                 Traceback (most recent call last)",
      "\u001b[0;32m/tmp/ipykernel_33914/759267929.py\u001b[0m in \u001b[0;36m<module>\u001b[0;34m\u001b[0m\n\u001b[1;32m      1\u001b[0m \u001b[0mweights_x\u001b[0m \u001b[0;34m:\u001b[0m  \u001b[0;34m[\u001b[0m\u001b[0;34m[\u001b[0m\u001b[0;34m-\u001b[0m\u001b[0;36m0.4235368\u001b[0m\u001b[0;34m]\u001b[0m\u001b[0;34m]\u001b[0m\u001b[0;34m\u001b[0m\u001b[0;34m\u001b[0m\u001b[0m\n\u001b[1;32m      2\u001b[0m \u001b[0mweights_y\u001b[0m \u001b[0;34m:\u001b[0m  \u001b[0;34m[\u001b[0m\u001b[0;34m[\u001b[0m\u001b[0;36m0.12007774\u001b[0m\u001b[0;34m]\u001b[0m\u001b[0;34m]\u001b[0m\u001b[0;34m\u001b[0m\u001b[0;34m\u001b[0m\u001b[0m\n\u001b[0;32m----> 3\u001b[0;31m weights_yaw :  [[-0.04434587]\n\u001b[0m\u001b[1;32m      4\u001b[0m  \u001b[0;34m[\u001b[0m\u001b[0;34m-\u001b[0m\u001b[0;36m0.04762662\u001b[0m\u001b[0;34m]\u001b[0m\u001b[0;34m\u001b[0m\u001b[0;34m\u001b[0m\u001b[0m\n\u001b[1;32m      5\u001b[0m  [ 0.71554438]]\n",
      "\u001b[0;31mTypeError\u001b[0m: list indices must be integers or slices, not float"
     ]
    }
   ],
   "source": [
    "weights_x :  [[-0.4235368]]\n",
    "weights_y :  [[0.12007774]]\n",
    "weights_yaw :  [[-0.04434587]\n",
    " [-0.04762662]\n",
    " [ 0.71554438]]\n"
   ]
  },
  {
   "cell_type": "code",
   "execution_count": null,
   "id": "71930292-8164-4963-ac89-578bc91e0c0a",
   "metadata": {},
   "outputs": [],
   "source": []
  }
 ],
 "metadata": {
  "kernelspec": {
   "display_name": "Python 3 (ipykernel)",
   "language": "python",
   "name": "python3"
  },
  "language_info": {
   "codemirror_mode": {
    "name": "ipython",
    "version": 3
   },
   "file_extension": ".py",
   "mimetype": "text/x-python",
   "name": "python",
   "nbconvert_exporter": "python",
   "pygments_lexer": "ipython3",
   "version": "3.10.6"
  }
 },
 "nbformat": 4,
 "nbformat_minor": 5
}
