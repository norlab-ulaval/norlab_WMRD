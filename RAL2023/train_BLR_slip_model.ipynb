{
 "cells": [
  {
   "cell_type": "code",
   "execution_count": 1,
   "id": "0ae21d22-fb64-4d51-8104-ca599147ec88",
   "metadata": {
    "ExecuteTime": {
     "end_time": "2023-08-10T16:06:05.194621741Z",
     "start_time": "2023-08-10T16:06:03.865608379Z"
    }
   },
   "outputs": [
    {
     "name": "stdout",
     "output_type": "stream",
     "text": [
      "3.10.12 (main, Jun 11 2023, 05:26:28) [GCC 11.4.0]\n"
     ]
    }
   ],
   "source": [
    "import numpy as np\n",
    "import pandas as pd\n",
    "import scipy.linalg\n",
    "\n",
    "import matplotlib.pyplot as plt\n",
    "from mpl_toolkits.mplot3d import axes3d\n",
    "from matplotlib.patches import Ellipse\n",
    "import matplotlib.transforms as transforms\n",
    "\n",
    "import sys\n",
    "print(sys.version)\n",
    "sys.path.append('../')\n",
    "import os\n",
    "import copy\n",
    "\n",
    "from models.powertrain.bounded_powertrain import Bounded_powertrain\n",
    "from models.kinematic.ideal_diff_drive import Ideal_diff_drive\n",
    "from models.learning.blr_slip import SlipBayesianLinearRegression, FullBodySlipBayesianLinearRegression\n",
    "from models.learning.blr_slip_acceleration import SlipAccelerationBayesianLinearRegression, FullBodySlipAccelerationBayesianLinearRegression\n",
    "from models.kinematic.ICR_based import *\n",
    "from models.kinematic.Perturbed_unicycle import *\n",
    "from models.kinematic.enhanced_kinematic import *\n",
    "\n",
    "\n",
    "from util.transform_algebra import *\n",
    "from util.util_func import *\n",
    "\n",
    "from sklearn import linear_model"
   ]
  },
  {
   "cell_type": "code",
   "execution_count": 3,
   "id": "8204a3ce-454c-471a-89fc-bb59a31a72c3",
   "metadata": {
    "ExecuteTime": {
     "end_time": "2023-08-10T16:06:22.729286919Z",
     "start_time": "2023-08-10T16:06:22.634871305Z"
    }
   },
   "outputs": [
    {
     "name": "stdout",
     "output_type": "stream",
     "text": [
      "0     -0.003884\n",
      "1      2.347554\n",
      "2      2.704010\n",
      "3      2.726604\n",
      "4      1.509394\n",
      "         ...   \n",
      "290   -0.383529\n",
      "291   -0.378660\n",
      "292   -0.912517\n",
      "293   -1.282512\n",
      "294   -1.262309\n",
      "Name: imu_yaw_0, Length: 295, dtype: float64\n"
     ]
    }
   ],
   "source": [
    "# import slip dataset\n",
    "# \n",
    "# dataset_path = '../data/ral2023_dataset/husky/boreal_snow/slip_dataset_all.pkl'\n",
    "# dataset_path = '../data/ral2023_dataset/husky/grand_salon_tile_inflated/slip_dataset_all.pkl'\n",
    "# dataset_path = '../data/ral2023_dataset/husky/grand_salon_left-deflated/slip_dataset_all.pkl'\n",
    "# dataset_path = '../data/ral2023_dataset/marmotte/boreal_snow/slip_dataset_all.pkl'\n",
    "# dataset_path = '../data/ral2023_dataset/marmotte/ga_hard_snow_a/slip_dataset_all.pkl'\n",
    "# dataset_path = '../data/ral2023_dataset/marmotte/ga_hard_snow_b/slip_dataset_all.pkl'\n",
    "# dataset_path = '../data/ral2023_dataset/marmotte/grand_salon_tile_b/slip_dataset_all.pkl'\n",
    "# dataset_path = '../data/ral2023_dataset/warthog_tracks/boreal_mud/slip_dataset_all.pkl'\n",
    "# dataset_path = '../data/ral2023_dataset/warthog_tracks/grand-axe_crusted-snow/slip_dataset_all.pkl'\n",
    "\n",
    "# dataset_path = '../data/ral2023_dataset/husky/boreal_snow/acceleration_dataset.pkl'\n",
    "# dataset_path = '../data/ral2023_dataset/husky/grand_salon_tile_inflated/acceleration_dataset.pkl'\n",
    "# dataset_path = '../data/ral2023_dataset/husky/grand_salon_left-deflated/acceleration_dataset.pkl'\n",
    "# dataset_path = '../data/ral2023_dataset/marmotte/boreal_snow/acceleration_dataset.pkl'\n",
    "# dataset_path = '../data/ral2023_dataset/marmotte/ga_hard_snow_a/acceleration_dataset.pkl'\n",
    "# dataset_path = '../data/ral2023_dataset/marmotte/ga_hard_snow_b/acceleration_dataset.pkl'\n",
    "# dataset_path = '../data/ral2023_dataset/marmotte/grand_salon_tile_b/acceleration_dataset.pkl'\n",
    "# dataset_path = '../data/ral2023_dataset/warthog_tracks/boreal_mud/acceleration_dataset.pkl'\n",
    "# dataset_path = '../data/ral2023_dataset/warthog_tracks/grand-axe_crusted-snow/acceleration_dataset.pkl'\n",
    "# dataset_path = '../data/ral2023_dataset/warthog_wheels/gravel_1/acceleration_dataset.pkl'\n",
    "dataset_path = '../data/ral2023_dataset/warthog_wheels/ice/acceleration_dataset.pkl'\n",
    "\n",
    "\n",
    "full_dataset = pd.read_pickle(dataset_path)\n",
    "full_dataset_length = len(full_dataset)\n",
    "train_dataset = full_dataset[:int(full_dataset_length/2)]\n",
    "validate_dataset = full_dataset[int(full_dataset_length/2):]\n",
    "\n",
    "# print(train_dataset)\n",
    "print(train_dataset['imu_yaw_0'])"
   ]
  },
  {
   "cell_type": "code",
   "execution_count": 4,
   "id": "649e26cf-e98f-48c2-8030-dafc7e532949",
   "metadata": {
    "ExecuteTime": {
     "end_time": "2023-08-10T16:06:25.160173217Z",
     "start_time": "2023-08-10T16:06:25.140779212Z"
    }
   },
   "outputs": [],
   "source": [
    "# isolate steady-state data\n",
    "\n",
    "# extract cmd_body_vel arrays (input arrays)\n",
    "\n",
    "idd_body_vel_x_str_list = []\n",
    "idd_body_vel_y_str_list = []\n",
    "idd_body_vel_yaw_str_list = []\n",
    "for i in range(0, 40):\n",
    "    str_idd_vel_x_i = 'idd_vel_x_' + str(i)\n",
    "    str_idd_vel_y_i = 'idd_vel_y_' + str(i)\n",
    "    str_idd_vel_yaw_i = 'idd_vel_yaw_' + str(i)\n",
    "    idd_body_vel_x_str_list.append(str_idd_vel_x_i)\n",
    "    idd_body_vel_y_str_list.append(str_idd_vel_y_i)\n",
    "    idd_body_vel_yaw_str_list.append(str_idd_vel_yaw_i)\n",
    "idd_body_vel_x_array = train_dataset[idd_body_vel_x_str_list].to_numpy()\n",
    "idd_body_vel_y_array = train_dataset[idd_body_vel_y_str_list].to_numpy()\n",
    "idd_body_vel_yaw_array = train_dataset[idd_body_vel_yaw_str_list].to_numpy()\n",
    "\n",
    "x_train = np.column_stack((idd_body_vel_x_array.flatten(), idd_body_vel_yaw_array.flatten()))\n",
    "\n",
    "# extract icp vels\n",
    "\n",
    "str_icp_vel_x_list = []\n",
    "str_icp_vel_y_list = []\n",
    "str_icp_vel_yaw_list = []\n",
    "for i in range(0, 40):\n",
    "    str_icp_vel_x_i = 'icp_vel_x_' + str(i)\n",
    "    str_icp_vel_y_i = 'icp_vel_y_' + str(i)\n",
    "    str_icp_vel_yaw_i = 'icp_vel_yaw_' + str(i)\n",
    "    str_icp_vel_x_list.append(str_icp_vel_x_i)\n",
    "    str_icp_vel_y_list.append(str_icp_vel_y_i)\n",
    "    str_icp_vel_yaw_list.append(str_icp_vel_yaw_i)\n",
    "icp_vel_x_array = train_dataset[str_icp_vel_x_list].to_numpy()\n",
    "icp_vel_y_array = train_dataset[str_icp_vel_y_list].to_numpy()\n",
    "icp_vel_yaw_array = train_dataset[str_icp_vel_yaw_list].to_numpy()\n",
    "\n",
    "# extract body_vel_distruptions arrays (output arrays)\n",
    "\n",
    "str_body_vel_disturption_x_list = []\n",
    "str_body_vel_disturption_y_list = []\n",
    "str_body_vel_disturption_yaw_list = []\n",
    "for i in range(0, 40):\n",
    "    str_body_vel_disturption_x_i = 'body_vel_disturption_x_' + str(i)\n",
    "    str_body_vel_disturption_y_i = 'body_vel_disturption_y_' + str(i)\n",
    "    str_body_vel_disturption_yaw_i = 'body_vel_disturption_yaw_' + str(i)\n",
    "    str_body_vel_disturption_x_list.append(str_body_vel_disturption_x_i)\n",
    "    str_body_vel_disturption_y_list.append(str_body_vel_disturption_y_i)\n",
    "    str_body_vel_disturption_yaw_list.append(str_body_vel_disturption_yaw_i)\n",
    "    \n",
    "body_vel_disturption_x_array = train_dataset[str_body_vel_disturption_x_list].to_numpy()\n",
    "body_vel_disturption_y_array = train_dataset[str_body_vel_disturption_y_list].to_numpy()\n",
    "body_vel_disturption_yaw_array = train_dataset[str_body_vel_disturption_yaw_list].to_numpy()\n",
    "\n",
    "y_train_longitudinal_slip = body_vel_disturption_x_array.flatten()\n",
    "y_train_lateral_slip = body_vel_disturption_y_array.flatten()\n",
    "y_train_angular_slip = body_vel_disturption_yaw_array.flatten()\n",
    "\n",
    "# compute mean body vel disturbance for each steady-state window\n",
    "n_windows = len(train_dataset)\n",
    "\n",
    "steady_state_mask = train_dataset['steady_state_mask'].to_numpy() == True\n",
    "\n",
    "steady_state_idd_body_vel_x = idd_body_vel_x_array[steady_state_mask]\n",
    "steady_state_idd_body_vel_y = idd_body_vel_y_array[steady_state_mask]\n",
    "steady_state_idd_body_vel_yaw = idd_body_vel_yaw_array[steady_state_mask]\n",
    "\n",
    "steady_state_icp_body_vel_x = icp_vel_x_array[steady_state_mask]\n",
    "steady_state_icp_body_vel_y = icp_vel_y_array[steady_state_mask]\n",
    "steady_state_icp_body_vel_yaw = icp_vel_yaw_array[steady_state_mask]\n",
    "\n",
    "steady_state_body_vel_disturption_x = body_vel_disturption_x_array[steady_state_mask]\n",
    "steady_state_body_vel_disturption_y = body_vel_disturption_y_array[steady_state_mask]\n",
    "steady_state_body_vel_disturption_yaw = body_vel_disturption_yaw_array[steady_state_mask]\n"
   ]
  },
  {
   "cell_type": "code",
   "execution_count": 5,
   "id": "c341da73-b590-4c3d-a437-305c305bca12",
   "metadata": {
    "ExecuteTime": {
     "end_time": "2023-08-10T16:06:28.616533214Z",
     "start_time": "2023-08-10T16:06:28.587045716Z"
    }
   },
   "outputs": [],
   "source": [
    "# import BLR model\n",
    "\n",
    "\n",
    "slip_input_dimensions = 2\n",
    "a_param_init = 0\n",
    "b_param_init = 0\n",
    "param_variance_init = 999999999999999999999\n",
    "variance_init = 1000000000\n",
    "\n",
    "# robot = 'husky'\n",
    "# robot = 'marmotte'\n",
    "robot = 'warthog-track'\n",
    "if robot=='husky':\n",
    "    wheel_radius = 0.33 / 2\n",
    "    baseline = 0.55\n",
    "    dt=0.05\n",
    "if robot=='marmotte':\n",
    "    wheel_radius = 0.116\n",
    "    baseline = 0.5927\n",
    "    dt=0.05\n",
    "if robot == 'warthog-track':\n",
    "    wheel_radius = 0.3\n",
    "    baseline = 1.1652\n",
    "    dt = 0.05\n",
    "kappa_param = 1\n",
    "\n",
    "full_body_slip_blr = FullBodySlipBayesianLinearRegression(1, 1, 3, a_param_init, b_param_init, param_variance_init, variance_init, baseline, wheel_radius, dt, kappa_param)\n",
    "# full_body_slip_blr = FullBodySlipAccelerationBayesianLinearRegression(2, 1, 4, a_param_init, b_param_init, param_variance_init, variance_init, baseline, wheel_radius, dt, kappa_param)"
   ]
  },
  {
   "cell_type": "code",
   "execution_count": 6,
   "id": "bcf023f8-593b-4138-b093-8f18c2d122e1",
   "metadata": {
    "ExecuteTime": {
     "end_time": "2023-08-10T16:06:30.065840081Z",
     "start_time": "2023-08-10T16:06:30.059690297Z"
    }
   },
   "outputs": [
    {
     "name": "stdout",
     "output_type": "stream",
     "text": [
      "[[-0.14475794 -0.01951786  1.65244576]\n",
      " [-0.1471258  -0.01953539  1.63741323]\n",
      " [-0.14957558 -0.01918451  1.6195676 ]\n",
      " ...\n",
      " [ 0.95489483 -0.79089775 -0.61043556]\n",
      " [ 1.00390846 -0.79119049 -0.60677524]\n",
      " [ 1.00390846 -0.79119049 -0.60464748]]\n"
     ]
    }
   ],
   "source": [
    "# extract training data\n",
    "\n",
    "x_train = np.column_stack((steady_state_idd_body_vel_x.flatten(), steady_state_idd_body_vel_y.flatten(), steady_state_idd_body_vel_yaw.flatten()))\n",
    "y_train = np.column_stack((steady_state_body_vel_disturption_x.flatten(), steady_state_body_vel_disturption_y.flatten(), steady_state_body_vel_disturption_yaw.flatten()))\n",
    "\n",
    "print(y_train)\n",
    "\n",
    "# x_train = np.column_stack((idd_body_vel_x_array.flatten(), idd_body_vel_y_array.flatten(), idd_body_vel_yaw_array.flatten()))\n",
    "# y_train = np.column_stack((body_vel_disturption_x_array.flatten(), body_vel_disturption_y_array.flatten(), body_vel_disturption_yaw_array.flatten()))\n"
   ]
  },
  {
   "cell_type": "code",
   "execution_count": 8,
   "id": "f5625e65-e450-4514-a961-135e7888e15a",
   "metadata": {
    "ExecuteTime": {
     "end_time": "2023-08-10T16:07:28.854772435Z",
     "start_time": "2023-08-10T16:07:28.817474892Z"
    }
   },
   "outputs": [
    {
     "name": "stdout",
     "output_type": "stream",
     "text": [
      "weights_x :  [[0.54307277]]\n",
      "weights_y :  [[0.12891673]]\n",
      "weights_yaw :  [[-0.00874772]\n",
      " [ 0.01337405]\n",
      " [ 0.47011076]]\n"
     ]
    }
   ],
   "source": [
    "# train BLR models, print resulting weights\n",
    "\n",
    "full_body_slip_blr.train_params(x_train, y_train)\n",
    "\n",
    "print('weights_x : ', full_body_slip_blr.body_x_slip_blr.weights)\n",
    "print('weights_y : ', full_body_slip_blr.body_y_slip_blr.weights)\n",
    "print('weights_yaw : ', full_body_slip_blr.body_yaw_slip_blr.weights)\n",
    "\n",
    "# slip only\n",
    "# full_body_slip_blr.save_params('../data/ral2023_dataset/husky/boreal_snow/trained_params/slip/blr/steady-state/')\n",
    "# full_body_slip_blr.save_params('../data/ral2023_dataset/husky/grand_salon_tile_inflated/trained_params/slip/blr/steady-state/')\n",
    "# full_body_slip_blr.save_params('../data/ral2023_dataset/husky/grand_salon_left-deflated/trained_params/slip/blr/steady-state/')\n",
    "# full_body_slip_blr.save_params('../data/ral2023_dataset/marmotte/boreal_snow/trained_params/slip/blr/steady-state/')\n",
    "# full_body_slip_blr.save_params('../data/ral2023_dataset/marmotte/ga_hard_snow_a/trained_params/slip/blr/steady-state/')\n",
    "# full_body_slip_blr.save_params('../data/ral2023_dataset/marmotte/ga_hard_snow_b/trained_params/slip/blr/steady-state/')\n",
    "# full_body_slip_blr.save_params('../data/ral2023_dataset/marmotte/grand_salon_tile_b/trained_params/slip/blr/steady-state/')\n",
    "# full_body_slip_blr.save_params('../data/ral2023_dataset/warthog_tracks/boreal_mud/trained_params/slip/blr/steady-state/')\n",
    "# full_body_slip_blr.save_params('../data/ral2023_dataset/warthog_tracks/grand-axe_crusted-snow/trained_params/slip/blr/steady-state/')\n",
    "# full_body_slip_blr.save_params('../data/ral2023_dataset/warthog_wheels/gravel_1/trained_params/slip/blr/steady-state/')\n",
    "full_body_slip_blr.save_params('../data/ral2023_dataset/warthog_wheels/ice/trained_params/slip/blr/steady-state/')\n",
    "\n",
    "# slip with acceleration\n",
    "# full_body_slip_blr.save_params('../data/ral2023_dataset/husky/boreal_snow/trained_params/slip_acceleration/blr/')\n",
    "# full_body_slip_blr.save_params('../data/ral2023_dataset/husky/grand_salon_tile_inflated/trained_params/slip_acceleration/blr/')\n",
    "# full_body_slip_blr.save_params('../data/ral2023_dataset/husky/grand_salon_left-deflated/trained_params/slip_acceleration/blr/')\n",
    "# full_body_slip_blr.save_params('../data/ral2023_dataset/marmotte/boreal_snow/trained_params/slip_acceleration/blr/')\n",
    "# full_body_slip_blr.save_params('../data/ral2023_dataset/marmotte/ga_hard_snow_a/trained_params/slip_acceleration/blr/')\n",
    "# full_body_slip_blr.save_params('../data/ral2023_dataset/marmotte/ga_hard_snow_b/trained_params/slip_acceleration/blr/')\n",
    "# full_body_slip_blr.save_params('../data/ral2023_dataset/marmotte/grand_salon_tile_b/trained_params/slip_acceleration/blr/')\n",
    "# full_body_slip_blr.save_params('../data/ral2023_dataset/warthog_tracks/boreal_mud/trained_params/slip_acceleration/blr/')\n",
    "# full_body_slip_blr.save_params('../data/ral2023_dataset/warthog_tracks/grand-axe_crusted-snow/trained_params/slip_acceleration/blr/')\n"
   ]
  },
  {
   "cell_type": "code",
   "execution_count": 32,
   "id": "429359ce-a9ba-4ff7-86cc-7653f3716d41",
   "metadata": {
    "ExecuteTime": {
     "end_time": "2023-08-02T14:43:08.258995241Z",
     "start_time": "2023-08-02T14:43:00.599688848Z"
    }
   },
   "outputs": [
    {
     "name": "stdout",
     "output_type": "stream",
     "text": [
      "[-0.94208818  0.57916244 -0.23903035 ...  0.03640889  0.77900891\n",
      "  0.6963964 ]\n",
      "[0. 0. 0. ... 0. 0. 0.]\n",
      "[ 0.65709031 -1.         -1.         ... -1.          0.73606235\n",
      " -1.        ]\n"
     ]
    },
    {
     "ename": "KeyboardInterrupt",
     "evalue": "",
     "output_type": "error",
     "traceback": [
      "\u001B[0;31m---------------------------------------------------------------------------\u001B[0m",
      "\u001B[0;31mKeyboardInterrupt\u001B[0m                         Traceback (most recent call last)",
      "\u001B[0;32m/tmp/ipykernel_35687/2290953340.py\u001B[0m in \u001B[0;36m<module>\u001B[0;34m\u001B[0m\n\u001B[1;32m     45\u001B[0m     \u001B[0;31m# print(y_train)\u001B[0m\u001B[0;34m\u001B[0m\u001B[0;34m\u001B[0m\u001B[0m\n\u001B[1;32m     46\u001B[0m     \u001B[0mfull_body_slip_blr\u001B[0m \u001B[0;34m=\u001B[0m \u001B[0mFullBodySlipBayesianLinearRegression\u001B[0m\u001B[0;34m(\u001B[0m\u001B[0;36m1\u001B[0m\u001B[0;34m,\u001B[0m \u001B[0;36m1\u001B[0m\u001B[0;34m,\u001B[0m \u001B[0;36m3\u001B[0m\u001B[0;34m,\u001B[0m \u001B[0ma_param_init\u001B[0m\u001B[0;34m,\u001B[0m \u001B[0mb_param_init\u001B[0m\u001B[0;34m,\u001B[0m \u001B[0mparam_variance_init\u001B[0m\u001B[0;34m,\u001B[0m \u001B[0mvariance_init\u001B[0m\u001B[0;34m,\u001B[0m \u001B[0mbaseline\u001B[0m\u001B[0;34m,\u001B[0m \u001B[0mwheel_radius\u001B[0m\u001B[0;34m,\u001B[0m \u001B[0mdt\u001B[0m\u001B[0;34m,\u001B[0m \u001B[0mkappa_param\u001B[0m\u001B[0;34m)\u001B[0m\u001B[0;34m\u001B[0m\u001B[0;34m\u001B[0m\u001B[0m\n\u001B[0;32m---> 47\u001B[0;31m     \u001B[0mfull_body_slip_blr\u001B[0m\u001B[0;34m.\u001B[0m\u001B[0mtrain_params\u001B[0m\u001B[0;34m(\u001B[0m\u001B[0mx_train\u001B[0m\u001B[0;34m,\u001B[0m \u001B[0my_train\u001B[0m\u001B[0;34m)\u001B[0m\u001B[0;34m\u001B[0m\u001B[0;34m\u001B[0m\u001B[0m\n\u001B[0m\u001B[1;32m     48\u001B[0m     \u001B[0mfull_body_slip_blr\u001B[0m\u001B[0;34m.\u001B[0m\u001B[0msave_params\u001B[0m\u001B[0;34m(\u001B[0m\u001B[0mtraining_timesteps_path\u001B[0m\u001B[0;34m)\u001B[0m\u001B[0;34m\u001B[0m\u001B[0;34m\u001B[0m\u001B[0m\n\u001B[1;32m     49\u001B[0m \u001B[0;34m\u001B[0m\u001B[0m\n",
      "\u001B[0;32m~/repos/norlab_WMRD/models/learning/blr_slip.py\u001B[0m in \u001B[0;36mtrain_params\u001B[0;34m(self, idd_velocities, slip_velocities)\u001B[0m\n\u001B[1;32m     74\u001B[0m         \u001B[0mself\u001B[0m\u001B[0;34m.\u001B[0m\u001B[0mbody_x_slip_blr\u001B[0m\u001B[0;34m.\u001B[0m\u001B[0mtrain_params\u001B[0m\u001B[0;34m(\u001B[0m\u001B[0mtraining_input_x\u001B[0m\u001B[0;34m,\u001B[0m \u001B[0mslip_velocities\u001B[0m\u001B[0;34m[\u001B[0m\u001B[0;34m:\u001B[0m\u001B[0;34m,\u001B[0m \u001B[0;36m0\u001B[0m\u001B[0;34m]\u001B[0m\u001B[0;34m)\u001B[0m\u001B[0;34m\u001B[0m\u001B[0;34m\u001B[0m\u001B[0m\n\u001B[1;32m     75\u001B[0m         \u001B[0mself\u001B[0m\u001B[0;34m.\u001B[0m\u001B[0mbody_y_slip_blr\u001B[0m\u001B[0;34m.\u001B[0m\u001B[0mtrain_params\u001B[0m\u001B[0;34m(\u001B[0m\u001B[0mtraining_input_y\u001B[0m\u001B[0;34m,\u001B[0m \u001B[0mslip_velocities\u001B[0m\u001B[0;34m[\u001B[0m\u001B[0;34m:\u001B[0m\u001B[0;34m,\u001B[0m \u001B[0;36m1\u001B[0m\u001B[0;34m]\u001B[0m\u001B[0;34m)\u001B[0m\u001B[0;34m\u001B[0m\u001B[0;34m\u001B[0m\u001B[0m\n\u001B[0;32m---> 76\u001B[0;31m         \u001B[0mself\u001B[0m\u001B[0;34m.\u001B[0m\u001B[0mbody_yaw_slip_blr\u001B[0m\u001B[0;34m.\u001B[0m\u001B[0mtrain_params\u001B[0m\u001B[0;34m(\u001B[0m\u001B[0mtraining_input_yaw\u001B[0m\u001B[0;34m,\u001B[0m \u001B[0mslip_velocities\u001B[0m\u001B[0;34m[\u001B[0m\u001B[0;34m:\u001B[0m\u001B[0;34m,\u001B[0m \u001B[0;36m2\u001B[0m\u001B[0;34m]\u001B[0m\u001B[0;34m)\u001B[0m\u001B[0;34m\u001B[0m\u001B[0;34m\u001B[0m\u001B[0m\n\u001B[0m\u001B[1;32m     77\u001B[0m \u001B[0;34m\u001B[0m\u001B[0m\n\u001B[1;32m     78\u001B[0m     \u001B[0;32mdef\u001B[0m \u001B[0msave_params\u001B[0m\u001B[0;34m(\u001B[0m\u001B[0mself\u001B[0m\u001B[0;34m,\u001B[0m \u001B[0mparam_directory_path\u001B[0m\u001B[0;34m)\u001B[0m\u001B[0;34m:\u001B[0m\u001B[0;34m\u001B[0m\u001B[0;34m\u001B[0m\u001B[0m\n",
      "\u001B[0;32m~/repos/norlab_WMRD/models/learning/blr_slip.py\u001B[0m in \u001B[0;36mtrain_params\u001B[0;34m(self, x_data, y_data)\u001B[0m\n\u001B[1;32m     23\u001B[0m         \u001B[0mself\u001B[0m\u001B[0;34m.\u001B[0m\u001B[0mparams_covariance\u001B[0m \u001B[0;34m=\u001B[0m \u001B[0mnp\u001B[0m\u001B[0;34m.\u001B[0m\u001B[0mlinalg\u001B[0m\u001B[0;34m.\u001B[0m\u001B[0minv\u001B[0m\u001B[0;34m(\u001B[0m\u001B[0mself\u001B[0m\u001B[0;34m.\u001B[0m\u001B[0minv_params_covariance\u001B[0m\u001B[0;34m)\u001B[0m\u001B[0;34m\u001B[0m\u001B[0;34m\u001B[0m\u001B[0m\n\u001B[1;32m     24\u001B[0m         \u001B[0mself\u001B[0m\u001B[0;34m.\u001B[0m\u001B[0mweights\u001B[0m \u001B[0;34m=\u001B[0m \u001B[0mself\u001B[0m\u001B[0;34m.\u001B[0m\u001B[0mparams_covariance\u001B[0m \u001B[0;34m@\u001B[0m \u001B[0;34m(\u001B[0m\u001B[0mself\u001B[0m\u001B[0;34m.\u001B[0m\u001B[0minv_params_covariance_init\u001B[0m \u001B[0;34m@\u001B[0m \u001B[0mself\u001B[0m\u001B[0;34m.\u001B[0m\u001B[0mweights_init\u001B[0m \u001B[0;34m+\u001B[0m \u001B[0mx_data\u001B[0m\u001B[0;34m.\u001B[0m\u001B[0mT\u001B[0m \u001B[0;34m@\u001B[0m \u001B[0my_data\u001B[0m\u001B[0;34m)\u001B[0m\u001B[0;34m\u001B[0m\u001B[0;34m\u001B[0m\u001B[0m\n\u001B[0;32m---> 25\u001B[0;31m         \u001B[0mself\u001B[0m\u001B[0;34m.\u001B[0m\u001B[0mweights\u001B[0m \u001B[0;34m=\u001B[0m \u001B[0mself\u001B[0m\u001B[0;34m.\u001B[0m\u001B[0mweights\u001B[0m\u001B[0;34m.\u001B[0m\u001B[0mreshape\u001B[0m\u001B[0;34m(\u001B[0m\u001B[0mself\u001B[0m\u001B[0;34m.\u001B[0m\u001B[0mn_dimensions\u001B[0m\u001B[0;34m,\u001B[0m \u001B[0;36m1\u001B[0m\u001B[0;34m)\u001B[0m\u001B[0;34m\u001B[0m\u001B[0;34m\u001B[0m\u001B[0m\n\u001B[0m\u001B[1;32m     26\u001B[0m         \u001B[0mself\u001B[0m\u001B[0;34m.\u001B[0m\u001B[0ma_param_n\u001B[0m \u001B[0;34m=\u001B[0m \u001B[0mself\u001B[0m\u001B[0;34m.\u001B[0m\u001B[0ma_param_init\u001B[0m \u001B[0;34m+\u001B[0m \u001B[0mn_data\u001B[0m \u001B[0;34m/\u001B[0m \u001B[0;36m2\u001B[0m\u001B[0;34m\u001B[0m\u001B[0;34m\u001B[0m\u001B[0m\n\u001B[1;32m     27\u001B[0m         self.b_param_n = self.b_param_init + 0.5 * (self.weights_init.T @ self.inv_params_covariance_init @ self.weights_init +\n",
      "\u001B[0;31mKeyboardInterrupt\u001B[0m: "
     ]
    }
   ],
   "source": [
    "# train BLR steady-state for every\n",
    "\n",
    "steady_state_idd_body_vel_x_shuffled = copy.deepcopy(steady_state_idd_body_vel_x.flatten())\n",
    "np.random.seed(12345)\n",
    "np.random.shuffle(steady_state_idd_body_vel_x_shuffled)\n",
    "steady_state_idd_body_vel_y_shuffled = copy.deepcopy(steady_state_idd_body_vel_y.flatten())\n",
    "np.random.seed(12345)\n",
    "np.random.shuffle(steady_state_idd_body_vel_y_shuffled)\n",
    "steady_state_idd_body_vel_yaw_shuffled = copy.deepcopy(steady_state_idd_body_vel_yaw.flatten())\n",
    "np.random.seed(12345)\n",
    "np.random.shuffle(steady_state_idd_body_vel_yaw_shuffled)\n",
    "\n",
    "steady_state_body_vel_disturption_x_shuffled = copy.deepcopy(steady_state_body_vel_disturption_x.flatten())\n",
    "np.random.seed(12345)\n",
    "np.random.shuffle(steady_state_body_vel_disturption_x_shuffled)\n",
    "steady_state_body_vel_disturption_y_shuffled = copy.deepcopy(steady_state_body_vel_disturption_y.flatten())\n",
    "np.random.seed(12345)\n",
    "np.random.shuffle(steady_state_body_vel_disturption_y_shuffled)\n",
    "steady_state_body_vel_disturption_yaw_shuffled = copy.deepcopy(steady_state_body_vel_disturption_yaw.flatten())\n",
    "np.random.seed(12345)\n",
    "np.random.shuffle(steady_state_body_vel_disturption_yaw_shuffled)\n",
    "\n",
    "print(steady_state_idd_body_vel_x_shuffled.flatten())\n",
    "print(steady_state_idd_body_vel_y_shuffled.flatten())\n",
    "print(steady_state_idd_body_vel_yaw_shuffled.flatten())\n",
    "\n",
    "# print(steady_state_body_vel_disturption_x_shuffled.flatten())\n",
    "\n",
    "# saved_params_root_path = '../data/ral2023_dataset/husky/boreal_snow/trained_params/slip/blr/steady-state/growing_training_set/'\n",
    "saved_params_root_path = '../data/ral2023_dataset/warthog_tracks/boreal_mud/trained_params/slip/blr/steady-state/growing_training_set/'\n",
    "# saved_params_root_path = '../data/ral2023_dataset/marmotte/grand_salon_tile_b/trained_params/slip/blr/steady-state/growing_training_set/'\n",
    "\n",
    "for i in range(1, steady_state_body_vel_disturption_x_shuffled.shape[0]):\n",
    "    training_timesteps_path = saved_params_root_path + str(i) + '/'\n",
    "    if not os.path.exists(training_timesteps_path):\n",
    "        os.makedirs(training_timesteps_path)\n",
    "    x_train = np.column_stack((steady_state_idd_body_vel_x_shuffled[:i], \n",
    "                               steady_state_idd_body_vel_y_shuffled[:i], \n",
    "                               steady_state_idd_body_vel_yaw_shuffled[:i]))\n",
    "    y_train = np.column_stack((steady_state_body_vel_disturption_x_shuffled[:i], \n",
    "                               steady_state_body_vel_disturption_y_shuffled[:i], \n",
    "                               steady_state_body_vel_disturption_yaw_shuffled[:i]))\n",
    "    \n",
    "    # print(x_train)\n",
    "    # print(y_train)\n",
    "    full_body_slip_blr = FullBodySlipBayesianLinearRegression(1, 1, 3, a_param_init, b_param_init, param_variance_init, variance_init, baseline, wheel_radius, dt, kappa_param)\n",
    "    full_body_slip_blr.train_params(x_train, y_train)\n",
    "    full_body_slip_blr.save_params(training_timesteps_path)\n",
    "    \n",
    "print('weights_x : ', full_body_slip_blr.body_x_slip_blr.weights)\n",
    "print('weights_y : ', full_body_slip_blr.body_y_slip_blr.weights)\n",
    "print('weights_yaw : ', full_body_slip_blr.body_yaw_slip_blr.weights)"
   ]
  },
  {
   "cell_type": "code",
   "execution_count": 8,
   "id": "21e0f788-3000-4bb8-a29e-6d7b178274eb",
   "metadata": {
    "ExecuteTime": {
     "end_time": "2023-06-05T19:28:30.559652727Z",
     "start_time": "2023-06-05T19:28:30.396296032Z"
    }
   },
   "outputs": [
    {
     "name": "stderr",
     "output_type": "stream",
     "text": [
      "<>:3: SyntaxWarning: list indices must be integers or slices, not float; perhaps you missed a comma?\n",
      "<>:3: SyntaxWarning: list indices must be integers or slices, not float; perhaps you missed a comma?\n",
      "/tmp/ipykernel_33914/759267929.py:3: SyntaxWarning: list indices must be integers or slices, not float; perhaps you missed a comma?\n",
      "  weights_yaw :  [[-0.04434587]\n"
     ]
    },
    {
     "ename": "TypeError",
     "evalue": "list indices must be integers or slices, not float",
     "output_type": "error",
     "traceback": [
      "\u001B[0;31m---------------------------------------------------------------------------\u001B[0m",
      "\u001B[0;31mTypeError\u001B[0m                                 Traceback (most recent call last)",
      "\u001B[0;32m/tmp/ipykernel_33914/759267929.py\u001B[0m in \u001B[0;36m<module>\u001B[0;34m\u001B[0m\n\u001B[1;32m      1\u001B[0m \u001B[0mweights_x\u001B[0m \u001B[0;34m:\u001B[0m  \u001B[0;34m[\u001B[0m\u001B[0;34m[\u001B[0m\u001B[0;34m-\u001B[0m\u001B[0;36m0.4235368\u001B[0m\u001B[0;34m]\u001B[0m\u001B[0;34m]\u001B[0m\u001B[0;34m\u001B[0m\u001B[0;34m\u001B[0m\u001B[0m\n\u001B[1;32m      2\u001B[0m \u001B[0mweights_y\u001B[0m \u001B[0;34m:\u001B[0m  \u001B[0;34m[\u001B[0m\u001B[0;34m[\u001B[0m\u001B[0;36m0.12007774\u001B[0m\u001B[0;34m]\u001B[0m\u001B[0;34m]\u001B[0m\u001B[0;34m\u001B[0m\u001B[0;34m\u001B[0m\u001B[0m\n\u001B[0;32m----> 3\u001B[0;31m weights_yaw :  [[-0.04434587]\n\u001B[0m\u001B[1;32m      4\u001B[0m  \u001B[0;34m[\u001B[0m\u001B[0;34m-\u001B[0m\u001B[0;36m0.04762662\u001B[0m\u001B[0;34m]\u001B[0m\u001B[0;34m\u001B[0m\u001B[0;34m\u001B[0m\u001B[0m\n\u001B[1;32m      5\u001B[0m  [ 0.71554438]]\n",
      "\u001B[0;31mTypeError\u001B[0m: list indices must be integers or slices, not float"
     ]
    }
   ],
   "source": [
    "weights_x :  [[-0.4235368]]\n",
    "weights_y :  [[0.12007774]]\n",
    "weights_yaw :  [[-0.04434587]\n",
    " [-0.04762662]\n",
    " [ 0.71554438]]\n"
   ]
  },
  {
   "cell_type": "code",
   "execution_count": null,
   "id": "71930292-8164-4963-ac89-578bc91e0c0a",
   "metadata": {},
   "outputs": [],
   "source": []
  }
 ],
 "metadata": {
  "kernelspec": {
   "display_name": "Python 3 (ipykernel)",
   "language": "python",
   "name": "python3"
  },
  "language_info": {
   "codemirror_mode": {
    "name": "ipython",
    "version": 3
   },
   "file_extension": ".py",
   "mimetype": "text/x-python",
   "name": "python",
   "nbconvert_exporter": "python",
   "pygments_lexer": "ipython3",
   "version": "3.10.6"
  }
 },
 "nbformat": 4,
 "nbformat_minor": 5
}
