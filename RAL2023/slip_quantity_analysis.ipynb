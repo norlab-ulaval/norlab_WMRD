{
 "cells": [
  {
   "cell_type": "code",
   "execution_count": 1,
   "id": "initial_id",
   "metadata": {
    "collapsed": true,
    "ExecuteTime": {
     "end_time": "2024-03-07T18:11:31.351796Z",
     "start_time": "2024-03-07T18:11:29.304034Z"
    }
   },
   "outputs": [
    {
     "name": "stdout",
     "output_type": "stream",
     "text": [
      "3.10.12 (main, Nov 20 2023, 15:14:05) [GCC 11.4.0]\n"
     ]
    }
   ],
   "source": [
    "import numpy as np\n",
    "import pandas as pd\n",
    "import scipy.linalg\n",
    "\n",
    "import matplotlib.pyplot as plt\n",
    "from mpl_toolkits.mplot3d import axes3d\n",
    "from matplotlib.patches import Ellipse, Rectangle\n",
    "import matplotlib.transforms as transforms\n",
    "import matplotlib as mpl\n",
    "font = {'family' : 'normal',\n",
    "        'weight' : 'bold',\n",
    "        'size'   : 8}\n",
    "\n",
    "plt.rc('font', **font)\n",
    "width  = 3.402\n",
    "height = width / 1.2\n",
    "\n",
    "import sys\n",
    "print(sys.version)\n",
    "sys.path.append('../')\n",
    "import time\n",
    "\n",
    "from models.powertrain.bounded_powertrain import Bounded_powertrain\n",
    "from models.kinematic.ideal_diff_drive import Ideal_diff_drive\n",
    "from models.learning.blr_slip import SlipBayesianLinearRegression, FullBodySlipBayesianLinearRegression\n",
    "from models.learning.blr_slip_acceleration import SlipAccelerationBayesianLinearRegression, FullBodySlipAccelerationBayesianLinearRegression\n",
    "from models.learning.blr_acceleration import AccelerationBayesianLinearRegression, FullBodyAccelerationBayesianLinearRegression\n",
    "from models.learning.gp_slip import *\n",
    "from models.kinematic.ICR_based import *\n",
    "from models.kinematic.Perturbed_unicycle import *\n",
    "from models.kinematic.enhanced_kinematic import *\n",
    "\n",
    "\n",
    "from util.transform_algebra import *\n",
    "from util.util_func import *\n",
    "\n",
    "from sklearn import linear_model"
   ]
  },
  {
   "cell_type": "code",
   "outputs": [
    {
     "name": "stdout",
     "output_type": "stream",
     "text": [
      "../data/ral2023_dataset/husky/boreal_snow/acceleration_dataset.pkl\n",
      "../data/ral2023_dataset/husky/grand_salon_tile_inflated/acceleration_dataset.pkl\n",
      "../data/ral2023_dataset/marmotte/boreal_snow/acceleration_dataset.pkl\n",
      "../data/ral2023_dataset/marmotte/grand_salon_tile_b/acceleration_dataset.pkl\n",
      "../data/ral2023_dataset/warthog_wheels/gravel_1/acceleration_dataset.pkl\n",
      "../data/ral2023_dataset/warthog_wheels/ice/acceleration_dataset.pkl\n"
     ]
    }
   ],
   "source": [
    "# import all slip datasets\n",
    "\n",
    "train_datasets = []\n",
    "validate_datasets = []\n",
    "\n",
    "dataset_paths = [] \n",
    "dataset_labels = []\n",
    "dataset_paths.append('../data/ral2023_dataset/husky/boreal_snow/acceleration_dataset.pkl')\n",
    "dataset_labels.append(r'Hu_snow')\n",
    "dataset_paths.append('../data/ral2023_dataset/husky/grand_salon_tile_inflated/acceleration_dataset.pkl')\n",
    "dataset_labels.append(r'Hu_tile')\n",
    "# dataset_paths.append('../data/ral2023_dataset/husky/grand_salon_left-deflated/acceleration_dataset.pkl')\n",
    "# dataset_labels.append('H_tile_ld')\n",
    "dataset_paths.append('../data/ral2023_dataset/marmotte/boreal_snow/acceleration_dataset.pkl')\n",
    "dataset_labels.append(r'HD2_snow')\n",
    "        # dataset_paths.append('../data/ral2023_dataset/marmotte/ga_hard_snow_a/acceleration_dataset.pkl')\n",
    "        # dataset_labels.append('M_hard_snow_a')\n",
    "dataset_paths.append('../data/ral2023_dataset/marmotte/grand_salon_tile_b/acceleration_dataset.pkl')\n",
    "dataset_labels.append(r'HD2_tile')\n",
    "# dataset_paths.append('../data/ral2023_dataset/marmotte/ga_hard_snow_b/acceleration_dataset.pkl')\n",
    "# dataset_labels.append('M_hard_snow')\n",
    "# dataset_paths.append('../data/ral2023_dataset/warthog_tracks/boreal_mud/acceleration_dataset.pkl')\n",
    "# dataset_labels.append(r'Wt_mud')\n",
    "# dataset_paths.append('../data/ral2023_dataset/warthog_tracks/grand-axe_crusted-snow/acceleration_dataset.pkl')\n",
    "# dataset_labels.append('Wt_crust')\n",
    "dataset_paths.append('../data/ral2023_dataset/warthog_wheels/gravel_1/acceleration_dataset.pkl')\n",
    "dataset_labels.append(r'Ww_gravel')\n",
    "dataset_paths.append('../data/ral2023_dataset/warthog_wheels/ice/acceleration_dataset.pkl')\n",
    "dataset_labels.append(r'Ww_ice')\n",
    "\n",
    "for dataset_path in dataset_paths:\n",
    "    full_dataset = pd.read_pickle(dataset_path)\n",
    "    full_dataset_length = len(full_dataset)\n",
    "    train_dataset = full_dataset[:int(full_dataset_length/2)]\n",
    "    train_datasets.append(train_dataset)\n",
    "    validate_dataset = full_dataset[int(full_dataset_length/2):]\n",
    "    validate_datasets.append(validate_dataset)\n",
    "    print(dataset_path)"
   ],
   "metadata": {
    "collapsed": false,
    "ExecuteTime": {
     "end_time": "2024-03-07T18:12:50.008999Z",
     "start_time": "2024-03-07T18:12:49.942409Z"
    }
   },
   "id": "c95e4341fba029ab",
   "execution_count": 4
  },
  {
   "cell_type": "code",
   "outputs": [],
   "source": [
    "# extract body_vel_distruptions arrays (output arrays)\n",
    "\n",
    "str_body_vel_disturption_x_list = []\n",
    "str_body_vel_disturption_y_list = []\n",
    "str_body_vel_disturption_yaw_list = []\n",
    "for i in range(0, 40):\n",
    "    str_body_vel_disturption_x_i = 'body_vel_disturption_x_' + str(i)\n",
    "    str_body_vel_disturption_y_i = 'body_vel_disturption_y_' + str(i)\n",
    "    str_body_vel_disturption_yaw_i = 'body_vel_disturption_yaw_' + str(i)\n",
    "    str_body_vel_disturption_x_list.append(str_body_vel_disturption_x_i)\n",
    "    str_body_vel_disturption_y_list.append(str_body_vel_disturption_y_i)\n",
    "    str_body_vel_disturption_yaw_list.append(str_body_vel_disturption_yaw_i)\n",
    "    \n",
    "# body_vel_disturption_x_array = full_dataset[str_body_vel_disturption_x_list].to_numpy()\n",
    "# body_vel_disturption_y_array = full_dataset[str_body_vel_disturption_y_list].to_numpy()\n",
    "# body_vel_disturption_yaw_array = full_dataset[str_body_vel_disturption_yaw_list].to_numpy()"
   ],
   "metadata": {
    "collapsed": false,
    "ExecuteTime": {
     "end_time": "2024-03-07T18:16:11.959202Z",
     "start_time": "2024-03-07T18:16:11.946510Z"
    }
   },
   "id": "90b26c39e67d9a86",
   "execution_count": 7
  },
  {
   "cell_type": "code",
   "outputs": [],
   "source": [
    "# compute body vel disruptions modulus\n",
    "body_vel_disturption_modulus_list = []\n",
    "for i in range(0, len(dataset_paths)):\n",
    "    full_dataset = pd.read_pickle(dataset_paths[i])\n",
    "    body_vel_disturption_x_array = full_dataset[str_body_vel_disturption_x_list].to_numpy()\n",
    "    body_vel_disturption_y_array = full_dataset[str_body_vel_disturption_y_list].to_numpy()\n",
    "    body_vel_disturption_yaw_array = full_dataset[str_body_vel_disturption_yaw_list].to_numpy()\n",
    "    body_vel_disturption_modulus_array = np.zeros(body_vel_disturption_x_array.shape[0])\n",
    "    for j in range(0, len(full_dataset)):\n",
    "        body_vel_disturption_j = np.array([body_vel_disturption_x_array[j], \n",
    "                                           body_vel_disturption_y_array[j], \n",
    "                                           body_vel_disturption_yaw_array[j]])\n",
    "        body_vel_disturption_modulus_array[j] = np.linalg.norm(body_vel_disturption_j)\n",
    "    body_vel_disturption_modulus_list.append(body_vel_disturption_modulus_array)\n",
    "        "
   ],
   "metadata": {
    "collapsed": false,
    "ExecuteTime": {
     "end_time": "2024-03-07T18:29:49.082303Z",
     "start_time": "2024-03-07T18:29:48.955917Z"
    }
   },
   "id": "2f2a809e04bf7323",
   "execution_count": 14
  },
  {
   "cell_type": "code",
   "outputs": [
    {
     "name": "stderr",
     "output_type": "stream",
     "text": [
      "/tmp/ipykernel_26527/894288666.py:20: MatplotlibDeprecationWarning: The get_cmap function was deprecated in Matplotlib 3.7 and will be removed two minor releases later. Use ``matplotlib.colormaps[name]`` or ``matplotlib.colormaps.get_cmap(obj)`` instead.\n",
      "  cmap_plasma = mpl.cm.get_cmap('plasma')\n",
      "/tmp/ipykernel_26527/894288666.py:21: MatplotlibDeprecationWarning: The get_cmap function was deprecated in Matplotlib 3.7 and will be removed two minor releases later. Use ``matplotlib.colormaps[name]`` or ``matplotlib.colormaps.get_cmap(obj)`` instead.\n",
      "  cmap_viridis = mpl.cm.get_cmap('viridis')\n"
     ]
    },
    {
     "name": "stdout",
     "output_type": "stream",
     "text": [
      "['Hu_snow', 'Hu_tile', 'HD2_snow', 'HD2_tile', 'Ww_gravel', 'Ww_ice']\n"
     ]
    },
    {
     "data": {
      "text/plain": "<Figure size 1020.6x773.182 with 1 Axes>",
      "image/png": "[encoded data removed]"
     },
     "metadata": {
      "needs_background": "light"
     },
     "output_type": "display_data"
    }
   ],
   "source": [
    "from matplotlib.patches import Patch\n",
    "\n",
    "plt.rc('font', family='serif', serif='Times')\n",
    "plt.rc('text', usetex=True)\n",
    "plt.rc('xtick', labelsize=8)\n",
    "plt.rc('ytick', labelsize=8)\n",
    "plt.rc('axes', labelsize=8)\n",
    "mpl.rcParams['lines.dashed_pattern'] = [2, 2]\n",
    "\n",
    "fig, ax = plt.subplots(1, dpi=300, gridspec_kw={'hspace': 0.1, 'wspace': 0.0}, sharex=True)\n",
    "fig.set_size_inches(width, height/1.1)\n",
    "fig.subplots_adjust(left=.12, bottom=0.08, right=.995, top=.99)\n",
    "\n",
    "medians_color = 'k'\n",
    "medians_width = 0.8\n",
    "boxplots_width = 0.5\n",
    "\n",
    "cmap_alpha = 0.9\n",
    "cmap_alpha_darker = 0.99\n",
    "cmap_plasma = mpl.cm.get_cmap('plasma')\n",
    "cmap_viridis = mpl.cm.get_cmap('viridis')\n",
    "\n",
    "cmd_box_color = cmap_plasma(0.85)                                                        # naive\n",
    "cmd_box_color_list = list(cmd_box_color)\n",
    "cmd_box_color_list[3] = cmap_alpha\n",
    "cmd_box_color = tuple(cmd_box_color_list)\n",
    "\n",
    "husky_tile_box_color = cmap_plasma(0.85)                                                        # naive\n",
    "husky_tile_box_color_list = list(husky_tile_box_color)\n",
    "husky_tile_box_color_list[3] = cmap_alpha\n",
    "husky_tile_box_color = tuple(husky_tile_box_color_list)\n",
    "\n",
    "husky_snow_box_color = cmap_plasma(0.6)                                                   # husky_snow\n",
    "husky_snow_box_color_list = list(husky_snow_box_color)\n",
    "husky_snow_box_color_list[3] = cmap_alpha\n",
    "husky_snow_box_color = tuple(husky_snow_box_color_list)\n",
    "\n",
    "warthog_gravel_box_color = cmap_plasma(0.4)                                                   # warthog_gravel\n",
    "warthog_gravel_box_color_list = list(warthog_gravel_box_color)\n",
    "warthog_gravel_box_color_list[3] = cmap_alpha\n",
    "warthog_gravel_box_color = tuple(warthog_gravel_box_color_list)\n",
    "\n",
    "warthog_ice_box_color = cmap_plasma(0.2)                                                   # warthog_ice\n",
    "warthog_ice_box_color_list = list(warthog_ice_box_color)\n",
    "warthog_ice_box_color_list[3] = cmap_alpha\n",
    "warthog_ice_box_color = tuple(warthog_ice_box_color_list)\n",
    "\n",
    "figure_datasets = [1, 0, 4, 5]\n",
    "position_iterator = 0\n",
    "print(dataset_labels)\n",
    "\n",
    "plt.boxplot(body_vel_disturption_modulus_list[1], positions=[0], showfliers=False, widths=boxplots_width, \n",
    "            patch_artist=True,\n",
    "               boxprops=dict(facecolor = husky_tile_box_color, color = 'k'),\n",
    "               whiskerprops=dict(color='k'),\n",
    "               medianprops=dict(color=medians_color, linewidth=2))\n",
    "\n",
    "plt.boxplot(body_vel_disturption_modulus_list[0], positions=[1], showfliers=False, widths=boxplots_width, \n",
    "            patch_artist=True,\n",
    "               boxprops=dict(facecolor = husky_snow_box_color, color = 'k'),\n",
    "               whiskerprops=dict(color='k'),\n",
    "               medianprops=dict(color=medians_color, linewidth=2))\n",
    "\n",
    "plt.boxplot(body_vel_disturption_modulus_list[4], positions=[2], showfliers=False, widths=boxplots_width, \n",
    "            patch_artist=True,\n",
    "               boxprops=dict(facecolor = warthog_gravel_box_color, color = 'k'),\n",
    "               whiskerprops=dict(color='k'),\n",
    "               medianprops=dict(color=medians_color, linewidth=2))\n",
    "\n",
    "plt.boxplot(body_vel_disturption_modulus_list[5], positions=[3], showfliers=False, widths=boxplots_width, \n",
    "            patch_artist=True,\n",
    "               boxprops=dict(facecolor = warthog_ice_box_color, color = 'k'),\n",
    "               whiskerprops=dict(color='k'),\n",
    "               medianprops=dict(color=medians_color, linewidth=2))\n",
    "\n",
    "xticks = [0, 1, 2, 3]\n",
    "ax.set_xticks(xticks)\n",
    "ax.set_xticklabels(['Husky Tile', 'Husky Snow', 'Warthog gravel', 'Warthog Ice'])\n",
    "\n",
    "ax.set_ylabel('Motion distortion modulus [m$^2$ rad / sec$^3$]')\n",
    "\n",
    "plt.savefig('figs/slip_norms.pdf')\n",
    "plt.savefig('figs/slip_norms.jpg', dpi=500)"
   ],
   "metadata": {
    "collapsed": false,
    "ExecuteTime": {
     "end_time": "2024-03-07T18:58:13.416738Z",
     "start_time": "2024-03-07T18:58:12.984603Z"
    }
   },
   "id": "7835ea47b183b8aa",
   "execution_count": 45
  }
 ],
 "metadata": {
  "kernelspec": {
   "display_name": "Python 3",
   "language": "python",
   "name": "python3"
  },
  "language_info": {
   "codemirror_mode": {
    "name": "ipython",
    "version": 2
   },
   "file_extension": ".py",
   "mimetype": "text/x-python",
   "name": "python",
   "nbconvert_exporter": "python",
   "pygments_lexer": "ipython2",
   "version": "2.7.6"
  }
 },
 "nbformat": 4,
 "nbformat_minor": 5
}
