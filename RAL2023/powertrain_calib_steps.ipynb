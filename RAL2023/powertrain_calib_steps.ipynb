{
 "cells": [
  {
   "cell_type": "code",
   "execution_count": 1,
   "metadata": {
    "collapsed": true,
    "ExecuteTime": {
     "end_time": "2023-08-07T14:43:13.253454175Z",
     "start_time": "2023-08-07T14:43:11.840908856Z"
    }
   },
   "outputs": [
    {
     "name": "stdout",
     "output_type": "stream",
     "text": [
      "3.10.12 (main, Jun 11 2023, 05:26:28) [GCC 11.4.0]\n"
     ]
    }
   ],
   "source": [
    "import numpy as np\n",
    "import pandas as pd\n",
    "\n",
    "import matplotlib.pyplot as plt\n",
    "import matplotlib as mpl\n",
    "font = {'family' : 'normal',\n",
    "        'weight' : 'bold',\n",
    "        'size'   : 12}\n",
    "\n",
    "plt.rc('font', **font)\n",
    "plot_fs = 12\n",
    "\n",
    "plt.rc('font', family='serif', serif='Times')\n",
    "plt.rc('text', usetex=True)\n",
    "plt.rc('xtick', labelsize=9)\n",
    "plt.rc('ytick', labelsize=9)\n",
    "plt.rc('axes', labelsize=10)\n",
    "mpl.rcParams['lines.dashed_pattern'] = [2, 2]\n",
    "mpl.rcParams['lines.linewidth'] = 1.0\n",
    "\n",
    "import sys\n",
    "print(sys.version)\n",
    "sys.path.append('../')\n",
    "\n",
    "from models.powertrain.bounded_powertrain import Bounded_powertrain\n",
    "from models.kinematic.ideal_diff_drive import Ideal_diff_drive\n",
    "from models.learning.blr_slip import SlipBayesianLinearRegression, FullBodySlipBayesianLinearRegression\n",
    "from models.learning.blr_slip_acceleration import SlipAccelerationBayesianLinearRegression, FullBodySlipAccelerationBayesianLinearRegression\n",
    "from models.kinematic.ICR_based import *\n",
    "from models.kinematic.Perturbed_unicycle import *\n",
    "from models.kinematic.enhanced_kinematic import *\n",
    "\n",
    "from util.transform_algebra import *\n",
    "from util.util_func import *"
   ]
  },
  {
   "cell_type": "code",
   "execution_count": 6,
   "outputs": [
    {
     "name": "stdout",
     "output_type": "stream",
     "text": [
      "Index(['init_icp_x', 'init_icp_y', 'init_icp_z', 'init_icp_roll',\n",
      "       'init_icp_pitch', 'init_icp_yaw', 'calib_step', 'cmd_left_0',\n",
      "       'cmd_right_0', 'cmd_left_1',\n",
      "       ...\n",
      "       'icp_acceleration_yaw_30', 'icp_acceleration_yaw_31',\n",
      "       'icp_acceleration_yaw_32', 'icp_acceleration_yaw_33',\n",
      "       'icp_acceleration_yaw_34', 'icp_acceleration_yaw_35',\n",
      "       'icp_acceleration_yaw_36', 'icp_acceleration_yaw_37',\n",
      "       'icp_acceleration_yaw_38', 'icp_acceleration_yaw_39'],\n",
      "      dtype='object', length=1458)\n"
     ]
    }
   ],
   "source": [
    "# import slip dataset\n",
    "\n",
    "# dataset_path = '../data/ral2023_dataset/husky/boreal_snow/slip_dataset_all.pkl'\n",
    "# dataset_path = '../data/ral2023_dataset/husky/grand_salon_tile_inflated/slip_dataset_all.pkl'\n",
    "# dataset_path = '../data/ral2023_dataset/husky/grand_salon_left-deflated/slip_dataset_all.pkl'\n",
    "# dataset_path = '../data/ral2023_dataset/marmotte/boreal_snow/slip_dataset_all.pkl'\n",
    "# dataset_path = '../data/ral2023_dataset/marmotte/ga_hard_snow_a/slip_dataset_all.pkl'\n",
    "# dataset_path = '../data/ral2023_dataset/marmotte/ga_hard_snow_b/slip_dataset_all.pkl'\n",
    "# dataset_path = '../data/ral2023_dataset/marmotte/grand_salon_tile_b/slip_dataset_all.pkl'\n",
    "# dataset_path = '../data/ral2023_dataset/warthog_tracks/boreal_mud/slip_dataset_all.pkl'\n",
    "# dataset_path = '../data/ral2023_dataset/warthog_tracks/grand-axe_crusted-snow/slip_dataset_all.pkl'\n",
    "\n",
    "# dataset_path = '../data/ral2023_dataset/husky/boreal_snow/acceleration_dataset.pkl'\n",
    "# dataset_path = '../data/ral2023_dataset/husky/grand_salon_tile_inflated/acceleration_dataset.pkl'\n",
    "# dataset_path = '../data/ral2023_dataset/husky/grand_salon_left-deflated/acceleration_dataset.pkl'\n",
    "dataset_path = '../data/ral2023_dataset/marmotte/boreal_snow/acceleration_dataset.pkl'\n",
    "# dataset_path = '../data/ral2023_dataset/marmotte/ga_hard_snow_a/acceleration_dataset.pkl'\n",
    "# dataset_path = '../data/ral2023_dataset/marmotte/ga_hard_snow_b/acceleration_dataset.pkl'\n",
    "# dataset_path = '../data/ral2023_dataset/marmotte/grand_salon_tile_b/acceleration_dataset.pkl'\n",
    "# dataset_path = '../data/ral2023_dataset/warthog_tracks/boreal_mud/acceleration_dataset.pkl'\n",
    "# dataset_path = '../data/ral2023_dataset/warthog_tracks/grand-axe_crusted-snow/acceleration_dataset.pkl'\n",
    "# dataset_path = '../data/ral2023_dataset/warthog_wheels/gravel_1/acceleration_dataset.pkl'\n",
    "\n",
    "human_dataset = pd.read_csv('../data/ral2023_dataset/warthog_wheels/crv2020/human-commanded_speeds.csv')\n",
    "\n",
    "\n",
    "full_dataset = pd.read_pickle(dataset_path)\n",
    "full_dataset_length = len(full_dataset)\n",
    "train_dataset = full_dataset[:int(full_dataset_length/2)]\n",
    "validate_dataset = full_dataset[int(full_dataset_length/2):]\n",
    "\n",
    "print(train_dataset.columns)"
   ],
   "metadata": {
    "collapsed": false,
    "ExecuteTime": {
     "end_time": "2023-08-07T14:43:26.768668950Z",
     "start_time": "2023-08-07T14:43:26.693862882Z"
    }
   }
  },
  {
   "cell_type": "code",
   "execution_count": 7,
   "outputs": [],
   "source": [
    "# extract cmd vels\n",
    "cmd_left_str_list = []\n",
    "cmd_right_str_list = []\n",
    "for i in range(0, 40):\n",
    "    cmd_left_str_i = 'cmd_left_' + str(i)\n",
    "    cmd_right_str_i = 'cmd_right_' + str(i)\n",
    "    cmd_left_str_list.append(cmd_left_str_i)\n",
    "    cmd_right_str_list.append(cmd_right_str_i)\n",
    "cmd_left_vels = train_dataset[cmd_left_str_list].to_numpy()\n",
    "cmd_right_vels = train_dataset[cmd_right_str_list].to_numpy()\n",
    "\n",
    "# extract encoder vels\n",
    "wheel_radius = 0.3\n",
    "baseline = 1.1652\n",
    "ideal_diff_drive = Ideal_diff_drive(wheel_radius, baseline, dt=0.05)\n",
    "encoder_left_str_list = []\n",
    "encoder_right_str_list = []\n",
    "for i in range(0, 40):\n",
    "    str_encoder_left_i = 'left_wheel_vel_' + str(i)\n",
    "    str_encoder_right_i = 'right_wheel_vel_' + str(i)\n",
    "    encoder_left_str_list.append(str_encoder_left_i)\n",
    "    encoder_right_str_list.append(str_encoder_right_i)\n",
    "encoder_left_vels = train_dataset[encoder_left_str_list].to_numpy()\n",
    "encoder_right_vels = train_dataset[encoder_right_str_list].to_numpy()\n",
    "encoder_body_vel_x = np.zeros((encoder_left_vels.shape[0], 40))\n",
    "encoder_body_vel_yaw = np.zeros((encoder_left_vels.shape[0], 40))\n",
    "for i in range(0, encoder_left_vels.shape[0]):\n",
    "    for j in range(0, 40):\n",
    "        body_vel = ideal_diff_drive.compute_body_vel(np.array([encoder_left_vels[i,j], encoder_right_vels[i, j]]))\n",
    "        encoder_body_vel_x[i,j] = body_vel[0]\n",
    "        encoder_body_vel_yaw[i,j] = body_vel[1]\n",
    "\n",
    "# extract icp vels\n",
    "transitory_left_str_list = []\n",
    "transitory_right_str_list = []\n",
    "for i in range(0, 40):\n",
    "    transitory_left_str_i = 'transitory_vel_left_' + str(i)\n",
    "    transitory_right_str_i = 'transitory_vel_right_' + str(i)\n",
    "    transitory_left_str_list.append(transitory_left_str_i)\n",
    "    transitory_right_str_list.append(transitory_right_str_i)\n",
    "transitory_left_vels = train_dataset[transitory_left_str_list].to_numpy()\n",
    "transitory_right_vels = train_dataset[transitory_right_str_list].to_numpy()\n",
    "\n"
   ],
   "metadata": {
    "collapsed": false,
    "ExecuteTime": {
     "end_time": "2023-08-07T14:43:27.012678188Z",
     "start_time": "2023-08-07T14:43:26.919333388Z"
    }
   }
  },
  {
   "cell_type": "code",
   "execution_count": 27,
   "outputs": [
    {
     "data": {
      "text/plain": "<Figure size 244.944x136.08 with 1 Axes>",
      "image/png": "[encoded data removed]"
     },
     "metadata": {
      "needs_background": "light"
     },
     "output_type": "display_data"
    }
   ],
   "source": [
    "from matplotlib.lines import Line2D\n",
    "from matplotlib.patches import Patch, Rectangle\n",
    "\n",
    "plt.rc('font', family='serif', serif='Times')\n",
    "plt.rc('text', usetex=True)\n",
    "plt.rc('xtick', labelsize=8)\n",
    "plt.rc('ytick', labelsize=8)\n",
    "plt.rc('axes', labelsize=8)\n",
    "mpl.rcParams['lines.dashed_pattern'] = [2, 2]\n",
    "\n",
    "width  = 3.402\n",
    "height = width / 1.8\n",
    "\n",
    "cmd_linestyle = 'solid'\n",
    "encoder_linestyle = 'dotted'\n",
    "transitory_linestyle = (5, (5, 1))\n",
    "left_wheel_color = 'C8'\n",
    "right_wheel_color = 'C4'\n",
    "\n",
    "###################################### grey colors\n",
    "steady_state_alpha = 0.5\n",
    "transitory_state_alpha= 0.1\n",
    "alpha_line = 1\n",
    "\n",
    "steady_state_color = mpl.colors.to_rgba('grey')\n",
    "steady_state_color_list = list(steady_state_color)\n",
    "steady_state_color_list[3] = steady_state_alpha\n",
    "steady_state_color = tuple(steady_state_color_list)\n",
    "\n",
    "transitory_state_color = mpl.colors.to_rgba('grey')\n",
    "transitory_state_color_list = list(transitory_state_color)\n",
    "transitory_state_color_list[3] = transitory_state_alpha\n",
    "transitory_state_color = tuple(transitory_state_color_list)\n",
    "###################################### grey colors\n",
    "\n",
    "window_id = 9\n",
    "\n",
    "fig, ax = plt.subplots()\n",
    "fig.set_size_inches(width, height)\n",
    "fig.subplots_adjust(left=.115, bottom=0.39, right=.98, top=.97)\n",
    "\n",
    "myWidth = 0.6\n",
    "plot_line_width = 0.8\n",
    "\n",
    "for axis in ['top','bottom','left','right']:\n",
    "    ax.spines[axis].set_linewidth(myWidth)\n",
    "    ax.tick_params(direction='out', length=2)\n",
    "\n",
    "ax.tick_params(width=myWidth)\n",
    "\n",
    "ymin = -5.5\n",
    "ymax = 10\n",
    "thickness = 0.5\n",
    "\n",
    "ax.fill_between([-1, 40], ymax, ymin, color=transitory_state_color, linewidth=0)\n",
    "ax.fill_between([40, 80], ymax, ymin, color=steady_state_color, linewidth=0)\n",
    "ax.add_patch(Rectangle((40-thickness/2, ymin), thickness, -ymin + ymax, facecolor='grey', alpha=alpha_line, linewidth=0))\n",
    "ax.fill_between([80, 120], ymax, ymin, color=steady_state_color, linewidth=0)\n",
    "ax.add_patch(Rectangle((80-thickness/2, ymin), thickness, -ymin + ymax, facecolor='grey', alpha=alpha_line, linewidth=0))\n",
    "ax.fill_between([120, 160], ymax, ymin, color=transitory_state_color, linewidth=0)\n",
    "ax.add_patch(Rectangle((120-thickness/2, ymin), thickness, -ymin + ymax, facecolor='grey', alpha=alpha_line, linewidth=0))\n",
    "ax.fill_between([160, 200], ymax, ymin, color=steady_state_color, linewidth=0)\n",
    "ax.add_patch(Rectangle((160-thickness/2, ymin), thickness, -ymin + ymax, facecolor='grey', alpha=alpha_line, linewidth=0))\n",
    "ax.fill_between([200, 240], ymax, ymin, color=steady_state_color, linewidth=0)\n",
    "ax.add_patch(Rectangle((200-thickness/2, ymin), thickness, -ymin + ymax, facecolor='grey', alpha=alpha_line, linewidth=0))\n",
    "\n",
    "cmd = ax.plot(cmd_left_vels[window_id:window_id+6, :].flatten(), color=left_wheel_color, linestyle=cmd_linestyle, label='cmd')\n",
    "ax.plot(cmd_right_vels[window_id:window_id+6, :].flatten(), color=right_wheel_color, linestyle=cmd_linestyle, linewidth=plot_line_width)\n",
    "ax.plot(encoder_left_vels[window_id:window_id+6, :].flatten(), color=left_wheel_color, linestyle=encoder_linestyle, linewidth=plot_line_width)\n",
    "ax.plot(encoder_right_vels[window_id:window_id+6, :].flatten(), color=right_wheel_color, linestyle=encoder_linestyle,linewidth=plot_line_width)\n",
    "ax.plot(transitory_left_vels[window_id:window_id+6, :].flatten(), color=left_wheel_color, linestyle=transitory_linestyle, linewidth=plot_line_width)\n",
    "ax.plot(transitory_right_vels[window_id:window_id+6, :].flatten(), color=right_wheel_color, linestyle=transitory_linestyle, linewidth=plot_line_width)\n",
    "\n",
    "ax.set_xlabel('Time [sec]')\n",
    "ax.set_ylabel('Wheel velocity [rad/s]')\n",
    "\n",
    "ax.set_ylim(ymin, ymax)\n",
    "ax.set_xlim(-1, 240)\n",
    "\n",
    "xticks = [0, 40, 80, 120, 160, 200, 240]\n",
    "xticks_labels = [0, 2, 4, 6, 8, 10, 12]\n",
    "ax.set_xticks(xticks, xticks_labels)\n",
    "\n",
    "legend_elements = [Patch(facecolor=transitory_state_color, label='Transitory', linestyle='solid', edgecolor='k', linewidth=myWidth),\n",
    "                   Patch(facecolor=steady_state_color, label='Steady', linestyle='solid', edgecolor='k', linewidth=myWidth),\n",
    "                   Line2D((0,2), (1,1), label='Left', color=left_wheel_color),\n",
    "                   Line2D((0,2), (1,1), label='Right', color=right_wheel_color),\n",
    "                   Line2D((0,2), (1,1), linestyle=cmd_linestyle, label='Command', color='k'),\n",
    "                   Line2D((0,2), (1,1), linestyle=transitory_linestyle, label='Powertrain', color='k'),\n",
    "                   Line2D((0,2), (1,1), linestyle=encoder_linestyle, label='Encoders', color='k')]\n",
    "\n",
    "fig.legend(handles=legend_elements, loc='center', ncol=4, bbox_to_anchor=(0.5,0.1), prop={'size': 8}, columnspacing=1.4, labelspacing=0.4, handletextpad=0.6,\n",
    "           handleheight=0.7, handlelength=1.95)\n",
    "\n",
    "plt.savefig('figs/powertrain_calib_steps_cg_v1.pdf', dpi=500)\n",
    "plt.savefig('figs/powertrain_calib_steps_cg_v1.jpg', dpi=500)"
   ],
   "metadata": {
    "collapsed": false,
    "ExecuteTime": {
     "end_time": "2023-08-07T14:49:02.528936889Z",
     "start_time": "2023-08-07T14:49:01.686651329Z"
    }
   }
  },
  {
   "cell_type": "code",
   "execution_count": 5,
   "outputs": [
    {
     "name": "stdout",
     "output_type": "stream",
     "text": [
      "24\n"
     ]
    },
    {
     "data": {
      "text/plain": "[<matplotlib.lines.Line2D at 0x7f5e22472f50>]"
     },
     "execution_count": 5,
     "metadata": {},
     "output_type": "execute_result"
    },
    {
     "data": {
      "text/plain": "<Figure size 432x288 with 1 Axes>",
      "image/png": "[encoded data removed]"
     },
     "metadata": {
      "needs_background": "light"
     },
     "output_type": "display_data"
    }
   ],
   "source": [
    "window_id = cmd_left_vels.argmax(axis=0)[0]\n",
    "print(window_id)\n",
    "\n",
    "plt.plot(cmd_left_vels[window_id, :].flatten())\n",
    "plt.plot(encoder_left_vels[window_id, :].flatten())\n",
    "plt.plot(transitory_left_vels[window_id, :].flatten())\n"
   ],
   "metadata": {
    "collapsed": false,
    "ExecuteTime": {
     "end_time": "2023-08-07T14:43:14.464577010Z",
     "start_time": "2023-08-07T14:43:14.089641277Z"
    }
   }
  },
  {
   "cell_type": "code",
   "execution_count": null,
   "outputs": [],
   "source": [],
   "metadata": {
    "collapsed": false
   }
  }
 ],
 "metadata": {
  "kernelspec": {
   "display_name": "Python 3",
   "language": "python",
   "name": "python3"
  },
  "language_info": {
   "codemirror_mode": {
    "name": "ipython",
    "version": 2
   },
   "file_extension": ".py",
   "mimetype": "text/x-python",
   "name": "python",
   "nbconvert_exporter": "python",
   "pygments_lexer": "ipython2",
   "version": "2.7.6"
  }
 },
 "nbformat": 4,
 "nbformat_minor": 0
}
