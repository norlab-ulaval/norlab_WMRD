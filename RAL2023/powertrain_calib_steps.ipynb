{
 "cells": [
  {
   "cell_type": "code",
   "execution_count": 1,
   "metadata": {
    "collapsed": true,
    "ExecuteTime": {
     "end_time": "2023-07-11T13:19:21.242218595Z",
     "start_time": "2023-07-11T13:19:19.814801674Z"
    }
   },
   "outputs": [
    {
     "name": "stdout",
     "output_type": "stream",
     "text": [
      "3.10.6 (main, May 29 2023, 11:10:38) [GCC 11.3.0]\n"
     ]
    }
   ],
   "source": [
    "import numpy as np\n",
    "import pandas as pd\n",
    "\n",
    "import matplotlib.pyplot as plt\n",
    "import matplotlib as mpl\n",
    "font = {'family' : 'normal',\n",
    "        'weight' : 'bold',\n",
    "        'size'   : 12}\n",
    "\n",
    "plt.rc('font', **font)\n",
    "plot_fs = 12\n",
    "\n",
    "plt.rc('font', family='serif', serif='Times')\n",
    "plt.rc('text', usetex=True)\n",
    "plt.rc('xtick', labelsize=9)\n",
    "plt.rc('ytick', labelsize=9)\n",
    "plt.rc('axes', labelsize=10)\n",
    "mpl.rcParams['lines.dashed_pattern'] = [2, 2]\n",
    "mpl.rcParams['lines.linewidth'] = 1.0\n",
    "\n",
    "import sys\n",
    "print(sys.version)\n",
    "sys.path.append('../')\n",
    "\n",
    "from models.powertrain.bounded_powertrain import Bounded_powertrain\n",
    "from models.kinematic.ideal_diff_drive import Ideal_diff_drive\n",
    "from models.learning.blr_slip import SlipBayesianLinearRegression, FullBodySlipBayesianLinearRegression\n",
    "from models.learning.blr_slip_acceleration import SlipAccelerationBayesianLinearRegression, FullBodySlipAccelerationBayesianLinearRegression\n",
    "from models.kinematic.ICR_based import *\n",
    "from models.kinematic.Perturbed_unicycle import *\n",
    "from models.kinematic.enhanced_kinematic import *\n",
    "\n",
    "from util.transform_algebra import *\n",
    "from util.util_func import *"
   ]
  },
  {
   "cell_type": "code",
   "execution_count": 19,
   "outputs": [
    {
     "name": "stdout",
     "output_type": "stream",
     "text": [
      "Index(['init_icp_x', 'init_icp_y', 'init_icp_z', 'init_icp_roll',\n",
      "       'init_icp_pitch', 'init_icp_yaw', 'calib_step', 'cmd_left_0',\n",
      "       'cmd_right_0', 'cmd_left_1',\n",
      "       ...\n",
      "       'icp_acceleration_yaw_30', 'icp_acceleration_yaw_31',\n",
      "       'icp_acceleration_yaw_32', 'icp_acceleration_yaw_33',\n",
      "       'icp_acceleration_yaw_34', 'icp_acceleration_yaw_35',\n",
      "       'icp_acceleration_yaw_36', 'icp_acceleration_yaw_37',\n",
      "       'icp_acceleration_yaw_38', 'icp_acceleration_yaw_39'],\n",
      "      dtype='object', length=1458)\n"
     ]
    }
   ],
   "source": [
    "# import slip dataset\n",
    "\n",
    "# dataset_path = '../data/ral2023_dataset/husky/boreal_snow/slip_dataset_all.pkl'\n",
    "# dataset_path = '../data/ral2023_dataset/husky/grand_salon_tile_inflated/slip_dataset_all.pkl'\n",
    "# dataset_path = '../data/ral2023_dataset/husky/grand_salon_left-deflated/slip_dataset_all.pkl'\n",
    "# dataset_path = '../data/ral2023_dataset/marmotte/boreal_snow/slip_dataset_all.pkl'\n",
    "# dataset_path = '../data/ral2023_dataset/marmotte/ga_hard_snow_a/slip_dataset_all.pkl'\n",
    "# dataset_path = '../data/ral2023_dataset/marmotte/ga_hard_snow_b/slip_dataset_all.pkl'\n",
    "# dataset_path = '../data/ral2023_dataset/marmotte/grand_salon_tile_b/slip_dataset_all.pkl'\n",
    "# dataset_path = '../data/ral2023_dataset/warthog_tracks/boreal_mud/slip_dataset_all.pkl'\n",
    "# dataset_path = '../data/ral2023_dataset/warthog_tracks/grand-axe_crusted-snow/slip_dataset_all.pkl'\n",
    "\n",
    "# dataset_path = '../data/ral2023_dataset/husky/boreal_snow/acceleration_dataset.pkl'\n",
    "# dataset_path = '../data/ral2023_dataset/husky/grand_salon_tile_inflated/acceleration_dataset.pkl'\n",
    "# dataset_path = '../data/ral2023_dataset/husky/grand_salon_left-deflated/acceleration_dataset.pkl'\n",
    "dataset_path = '../data/ral2023_dataset/marmotte/boreal_snow/acceleration_dataset.pkl'\n",
    "# dataset_path = '../data/ral2023_dataset/marmotte/ga_hard_snow_a/acceleration_dataset.pkl'\n",
    "# dataset_path = '../data/ral2023_dataset/marmotte/ga_hard_snow_b/acceleration_dataset.pkl'\n",
    "# dataset_path = '../data/ral2023_dataset/marmotte/grand_salon_tile_b/acceleration_dataset.pkl'\n",
    "# dataset_path = '../data/ral2023_dataset/warthog_tracks/boreal_mud/acceleration_dataset.pkl'\n",
    "# dataset_path = '../data/ral2023_dataset/warthog_tracks/grand-axe_crusted-snow/acceleration_dataset.pkl'\n",
    "# dataset_path = '../data/ral2023_dataset/warthog_wheels/gravel_1/acceleration_dataset.pkl'\n",
    "\n",
    "human_dataset = pd.read_csv('../data/ral2023_dataset/warthog_wheels/crv2020/human-commanded_speeds.csv')\n",
    "\n",
    "\n",
    "full_dataset = pd.read_pickle(dataset_path)\n",
    "full_dataset_length = len(full_dataset)\n",
    "train_dataset = full_dataset[:int(full_dataset_length/2)]\n",
    "validate_dataset = full_dataset[int(full_dataset_length/2):]\n",
    "\n",
    "print(train_dataset.columns)"
   ],
   "metadata": {
    "collapsed": false,
    "ExecuteTime": {
     "end_time": "2023-07-11T13:34:35.383340220Z",
     "start_time": "2023-07-11T13:34:35.319820439Z"
    }
   }
  },
  {
   "cell_type": "code",
   "execution_count": 20,
   "outputs": [],
   "source": [
    "# extract cmd vels\n",
    "cmd_left_str_list = []\n",
    "cmd_right_str_list = []\n",
    "for i in range(0, 40):\n",
    "    cmd_left_str_i = 'cmd_left_' + str(i)\n",
    "    cmd_right_str_i = 'cmd_right_' + str(i)\n",
    "    cmd_left_str_list.append(cmd_left_str_i)\n",
    "    cmd_right_str_list.append(cmd_right_str_i)\n",
    "cmd_left_vels = train_dataset[cmd_left_str_list].to_numpy()\n",
    "cmd_right_vels = train_dataset[cmd_right_str_list].to_numpy()\n",
    "\n",
    "# extract encoder vels\n",
    "wheel_radius = 0.3\n",
    "baseline = 1.1652\n",
    "ideal_diff_drive = Ideal_diff_drive(wheel_radius, baseline, dt=0.05)\n",
    "encoder_left_str_list = []\n",
    "encoder_right_str_list = []\n",
    "for i in range(0, 40):\n",
    "    str_encoder_left_i = 'left_wheel_vel_' + str(i)\n",
    "    str_encoder_right_i = 'right_wheel_vel_' + str(i)\n",
    "    encoder_left_str_list.append(str_encoder_left_i)\n",
    "    encoder_right_str_list.append(str_encoder_right_i)\n",
    "encoder_left_vels = train_dataset[encoder_left_str_list].to_numpy()\n",
    "encoder_right_vels = train_dataset[encoder_right_str_list].to_numpy()\n",
    "encoder_body_vel_x = np.zeros((encoder_left_vels.shape[0], 40))\n",
    "encoder_body_vel_yaw = np.zeros((encoder_left_vels.shape[0], 40))\n",
    "for i in range(0, encoder_left_vels.shape[0]):\n",
    "    for j in range(0, 40):\n",
    "        body_vel = ideal_diff_drive.compute_body_vel(np.array([encoder_left_vels[i,j], encoder_right_vels[i, j]]))\n",
    "        encoder_body_vel_x[i,j] = body_vel[0]\n",
    "        encoder_body_vel_yaw[i,j] = body_vel[1]\n",
    "\n",
    "# extract icp vels\n",
    "transitory_left_str_list = []\n",
    "transitory_right_str_list = []\n",
    "for i in range(0, 40):\n",
    "    transitory_left_str_i = 'transitory_vel_left_' + str(i)\n",
    "    transitory_right_str_i = 'transitory_vel_right_' + str(i)\n",
    "    transitory_left_str_list.append(transitory_left_str_i)\n",
    "    transitory_right_str_list.append(transitory_right_str_i)\n",
    "transitory_left_vels = train_dataset[transitory_left_str_list].to_numpy()\n",
    "transitory_right_vels = train_dataset[transitory_right_str_list].to_numpy()\n",
    "\n"
   ],
   "metadata": {
    "collapsed": false,
    "ExecuteTime": {
     "end_time": "2023-07-11T13:34:36.636472594Z",
     "start_time": "2023-07-11T13:34:36.585144187Z"
    }
   }
  },
  {
   "cell_type": "code",
   "execution_count": 104,
   "outputs": [
    {
     "data": {
      "text/plain": "<Figure size 244.944x136.08 with 1 Axes>",
      "image/png": "[encoded data removed]"
     },
     "metadata": {
      "needs_background": "light"
     },
     "output_type": "display_data"
    }
   ],
   "source": [
    "from matplotlib.gridspec import GridSpec\n",
    "from matplotlib.patches import Ellipse, Rectangle\n",
    "from matplotlib.lines import Line2D\n",
    "from mpl_toolkits.axes_grid1 import make_axes_locatable\n",
    "\n",
    "plt.rc('font', family='serif', serif='Times')\n",
    "plt.rc('text', usetex=True)\n",
    "plt.rc('xtick', labelsize=8)\n",
    "plt.rc('ytick', labelsize=8)\n",
    "plt.rc('axes', labelsize=8)\n",
    "mpl.rcParams['lines.dashed_pattern'] = [2, 2]\n",
    "mpl.rcParams['lines.linewidth'] = 1.0\n",
    "\n",
    "def format_axes(fig):\n",
    "    for i, ax in enumerate(fig.axes):\n",
    "        ax.text(0.5, 0.5, \"ax%d\" % (i+1), va=\"center\", ha=\"center\")\n",
    "        ax.tick_params(labelbottom=False, labelleft=False)\n",
    "\n",
    "width  = 3.402\n",
    "height = width / 1.8\n",
    "\n",
    "# fig, axs = plt.subplots(dpi=300, gridspec_kw={'hspace': 0.35, 'wspace': 0.23}, layout=\"constrained\")\n",
    "\n",
    "cmd_linestyle = 'solid'\n",
    "encoder_linestyle = 'dotted'\n",
    "transitory_linestyle = 'dashed'\n",
    "left_wheel_color = 'C0'\n",
    "right_wheel_color = 'C1'\n",
    "steady_state_color = 'C9'\n",
    "transitory_state_color = 'C6'\n",
    "calib_step_alpha = 0.2\n",
    "\n",
    "window_id = 9\n",
    "\n",
    "fig, ax = plt.subplots()\n",
    "fig.set_size_inches(width, height)\n",
    "fig.subplots_adjust(left=.14, bottom=0.39, right=.96, top=.97)\n",
    "\n",
    "ymin = -6\n",
    "ymax = 10\n",
    "\n",
    "# ax.vlines([40, 80, 120, 160, 200], ymin, ymax, linestyles='dashed', colors='k')\n",
    "ax.fill_between([0, 40], ymax, ymin, color = transitory_state_color, alpha=calib_step_alpha)\n",
    "ax.fill_between([120, 160], ymax, ymin, color = transitory_state_color, alpha=calib_step_alpha)\n",
    "ax.fill_between([40, 80], ymax, ymin, color = steady_state_color, alpha=calib_step_alpha)\n",
    "ax.fill_between([80, 120], ymax, ymin, color = steady_state_color, alpha=calib_step_alpha)\n",
    "ax.fill_between([160, 200], ymax, ymin, color = steady_state_color, alpha=calib_step_alpha)\n",
    "ax.fill_between([200, 240], ymax, ymin, color = steady_state_color, alpha=calib_step_alpha)\n",
    "\n",
    "cmd = ax.plot(cmd_left_vels[window_id:window_id+6, :].flatten(), color=left_wheel_color, linestyle=cmd_linestyle, label='cmd')\n",
    "ax.plot(cmd_right_vels[window_id:window_id+6, :].flatten(), color=right_wheel_color, linestyle=cmd_linestyle)\n",
    "ax.plot(encoder_left_vels[window_id:window_id+6, :].flatten(), color=left_wheel_color, linestyle=encoder_linestyle)\n",
    "ax.plot(encoder_right_vels[window_id:window_id+6, :].flatten(), color=right_wheel_color, linestyle=encoder_linestyle)\n",
    "ax.plot(transitory_left_vels[window_id:window_id+6, :].flatten(), color=left_wheel_color, linestyle=transitory_linestyle)\n",
    "ax.plot(transitory_right_vels[window_id:window_id+6, :].flatten(), color=right_wheel_color, linestyle=transitory_linestyle)\n",
    "\n",
    "ax.set_xlabel('Timestep [20 Hz]')\n",
    "ax.set_ylabel('Wheel velocity [rad/s]')\n",
    "\n",
    "ax.set_ylim(ymin, ymax)\n",
    "ax.set_xlim(-5, 240)\n",
    "\n",
    "xticks = [0, 40, 80, 120, 160, 200, 240]\n",
    "ax.set_xticks(xticks)\n",
    "\n",
    "legend_elements = [Rectangle((0,0), width=5, height=3, facecolor=left_wheel_color, label='Left', linestyle='solid', edgecolor='k'),\n",
    "                   Rectangle((0,0), width=5, height=3, facecolor=right_wheel_color, label='Right', linestyle='solid', edgecolor='k'),\n",
    "                   Rectangle((0,0), width=5, height=3, facecolor=transitory_state_color, label='Transitory', linestyle='solid', edgecolor='k'),\n",
    "                   Rectangle((0,0), width=5, height=3, facecolor=steady_state_color, label='Steady', linestyle='solid', edgecolor='k'),\n",
    "                   Line2D((0,2), (1,1), linestyle=cmd_linestyle, label='Command', color='k'),\n",
    "                   Line2D((0,2), (1,1), linestyle=transitory_linestyle, label='Powertrain', color='k'),\n",
    "                   Line2D((0,2), (1,1), linestyle=encoder_linestyle, label='Encoders', color='k'),\n",
    "                   ]\n",
    "#\n",
    "fig.legend(handles=legend_elements, loc='center', ncol=4, bbox_to_anchor=(0.5,0.1), prop={'size': 8}, columnspacing=1.4, handletextpad=0.6)\n",
    "\n",
    "#\n",
    "plt.savefig('figs/powertrain_calib_steps.pdf', dpi=300)"
   ],
   "metadata": {
    "collapsed": false,
    "ExecuteTime": {
     "end_time": "2023-07-11T14:30:12.510750921Z",
     "start_time": "2023-07-11T14:30:11.949550659Z"
    }
   }
  },
  {
   "cell_type": "code",
   "execution_count": null,
   "outputs": [],
   "source": [
    "\n"
   ],
   "metadata": {
    "collapsed": false
   }
  }
 ],
 "metadata": {
  "kernelspec": {
   "display_name": "Python 3",
   "language": "python",
   "name": "python3"
  },
  "language_info": {
   "codemirror_mode": {
    "name": "ipython",
    "version": 2
   },
   "file_extension": ".py",
   "mimetype": "text/x-python",
   "name": "python",
   "nbconvert_exporter": "python",
   "pygments_lexer": "ipython2",
   "version": "2.7.6"
  }
 },
 "nbformat": 4,
 "nbformat_minor": 0
}
