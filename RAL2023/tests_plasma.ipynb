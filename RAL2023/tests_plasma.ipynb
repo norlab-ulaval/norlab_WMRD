{
 "cells": [
  {
   "cell_type": "code",
   "execution_count": 5,
   "id": "initial_id",
   "metadata": {
    "collapsed": true,
    "ExecuteTime": {
     "end_time": "2023-11-21T15:26:58.664138302Z",
     "start_time": "2023-11-21T15:26:58.642078194Z"
    }
   },
   "outputs": [],
   "source": [
    "import matplotlib.pyplot as plt\n",
    "import matplotlib as mpl\n",
    "import numpy as np"
   ]
  },
  {
   "cell_type": "code",
   "execution_count": 6,
   "outputs": [
    {
     "name": "stderr",
     "output_type": "stream",
     "text": [
      "/tmp/ipykernel_24040/872750203.py:1: MatplotlibDeprecationWarning: The get_cmap function was deprecated in Matplotlib 3.7 and will be removed two minor releases later. Use ``matplotlib.colormaps[name]`` or ``matplotlib.colormaps.get_cmap(obj)`` instead.\n",
      "  cmap_plasma = mpl.cm.get_cmap('plasma')\n"
     ]
    }
   ],
   "source": [
    "cmap_plasma = mpl.cm.get_cmap('plasma')"
   ],
   "metadata": {
    "collapsed": false,
    "ExecuteTime": {
     "end_time": "2023-11-21T15:26:58.821991135Z",
     "start_time": "2023-11-21T15:26:58.817598106Z"
    }
   },
   "id": "c124fbcbc4e4f13f"
  },
  {
   "cell_type": "code",
   "execution_count": 17,
   "outputs": [
    {
     "name": "stdout",
     "output_type": "stream",
     "text": [
      "[0.1 0.3 0.5 0.7 0.9]\n",
      "[[0.254627 0.013882 0.615419 1.      ]\n",
      " [0.562738 0.051545 0.641509 1.      ]\n",
      " [0.798216 0.280197 0.469538 1.      ]\n",
      " [0.949217 0.517763 0.295662 1.      ]\n",
      " [0.988648 0.809579 0.145357 1.      ]]\n",
      "['#41049d', '#8f0da4', '#cc4778', '#f2844b', '#fcce25']\n"
     ]
    }
   ],
   "source": [
    "colors_linspace = np.linspace(0.1,0.9,5)\n",
    "print(colors_linspace)\n",
    "\n",
    "colors_rgba = cmap_plasma(colors_linspace)\n",
    "print(colors_rgba)\n",
    "colors_hex = []\n",
    "for i in range(0, colors_rgba.shape[0]):\n",
    "    colors_hex.append(mpl.colors.rgb2hex(colors_rgba[i, :]))\n",
    "print(colors_hex)"
   ],
   "metadata": {
    "collapsed": false,
    "ExecuteTime": {
     "end_time": "2023-11-21T15:38:08.482410406Z",
     "start_time": "2023-11-21T15:38:08.471490872Z"
    }
   },
   "id": "253a11b8cdd69475"
  },
  {
   "cell_type": "code",
   "execution_count": null,
   "outputs": [],
   "source": [],
   "metadata": {
    "collapsed": false
   },
   "id": "696d6628b9770aa6"
  }
 ],
 "metadata": {
  "kernelspec": {
   "display_name": "Python 3",
   "language": "python",
   "name": "python3"
  },
  "language_info": {
   "codemirror_mode": {
    "name": "ipython",
    "version": 2
   },
   "file_extension": ".py",
   "mimetype": "text/x-python",
   "name": "python",
   "nbconvert_exporter": "python",
   "pygments_lexer": "ipython2",
   "version": "2.7.6"
  }
 },
 "nbformat": 4,
 "nbformat_minor": 5
}
