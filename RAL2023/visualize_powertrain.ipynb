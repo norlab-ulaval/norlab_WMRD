{
 "cells": [
  {
   "cell_type": "code",
   "execution_count": 14,
   "id": "5351a9fc-12ef-4182-98fd-5bcd6dcec984",
   "metadata": {},
   "outputs": [
    {
     "name": "stdout",
     "output_type": "stream",
     "text": [
      "3.10.6 (main, Mar 10 2023, 10:55:28) [GCC 11.3.0]\n"
     ]
    }
   ],
   "source": [
    "import numpy as np\n",
    "import pandas as pd\n",
    "import scipy.linalg\n",
    "\n",
    "import matplotlib.pyplot as plt\n",
    "from mpl_toolkits.mplot3d import axes3d\n",
    "from matplotlib.patches import Ellipse\n",
    "import matplotlib.transforms as transforms\n",
    "\n",
    "import sys\n",
    "print(sys.version)\n",
    "sys.path.append('../')\n",
    "\n",
    "from models.powertrain.bounded_powertrain import Bounded_powertrain\n",
    "from models.kinematic.ideal_diff_drive import Ideal_diff_drive\n",
    "from models.kinematic.ICR_based import *\n",
    "from models.kinematic.Perturbed_unicycle import *\n",
    "from models.kinematic.enhanced_kinematic import *\n",
    "\n",
    "\n",
    "from util.transform_algebra import *\n",
    "from util.util_func import *\n",
    "\n",
    "from sklearn import linear_model"
   ]
  },
  {
   "cell_type": "code",
   "execution_count": 15,
   "id": "dbffcaaa-3ac9-4dc7-bab9-6f505303544c",
   "metadata": {},
   "outputs": [
    {
     "name": "stdout",
     "output_type": "stream",
     "text": [
      "     init_icp_x  init_icp_y  init_icp_z  init_icp_roll  init_icp_pitch  \\\n",
      "0           0.0         0.0         0.0            0.0             0.0   \n",
      "1           0.0         0.0         0.0            0.0             0.0   \n",
      "2           0.0         0.0         0.0            0.0             0.0   \n",
      "3           0.0         0.0         0.0            0.0             0.0   \n",
      "4           0.0         0.0         0.0            0.0             0.0   \n",
      "..          ...         ...         ...            ...             ...   \n",
      "296         0.0         0.0         0.0            0.0             0.0   \n",
      "297         0.0         0.0         0.0            0.0             0.0   \n",
      "298         0.0         0.0         0.0            0.0             0.0   \n",
      "299         0.0         0.0         0.0            0.0             0.0   \n",
      "300         0.0         0.0         0.0            0.0             0.0   \n",
      "\n",
      "     init_icp_yaw  calib_step  cmd_left_0  cmd_right_0  cmd_left_1  ...  \\\n",
      "0             0.0         0.0    6.597054    10.926284    6.597054  ...   \n",
      "1             0.0         0.0    6.597054    10.926284    6.597054  ...   \n",
      "2             0.0         0.0    6.597054    10.926284    6.597054  ...   \n",
      "3             0.0         1.0    7.487360    -3.611791    7.487360  ...   \n",
      "4             0.0         1.0    7.487360    -3.611791    7.487360  ...   \n",
      "..            ...         ...         ...          ...         ...  ...   \n",
      "296           0.0        98.0    3.736466    -5.239865    3.736466  ...   \n",
      "297           0.0        99.0    0.648069    -2.091114    0.648069  ...   \n",
      "298           0.0        99.0    0.648069    -2.091114    0.648069  ...   \n",
      "299           0.0        99.0    0.648069    -2.091114    0.648069  ...   \n",
      "300           0.0        99.0    0.648069    -2.091114   -8.329260  ...   \n",
      "\n",
      "     body_vel_disturption_yaw_30  body_vel_disturption_yaw_31  \\\n",
      "0                       1.079508                     1.057516   \n",
      "1                      -0.163949                    -0.085048   \n",
      "2                      -0.292464                    -0.195454   \n",
      "3                      -1.417218                    -1.494211   \n",
      "4                      -2.492513                    -2.427361   \n",
      "..                           ...                          ...   \n",
      "296                    -1.894279                    -1.909434   \n",
      "297                    -0.758288                    -0.746966   \n",
      "298                    -0.598107                    -0.660637   \n",
      "299                    -0.477192                    -0.481456   \n",
      "300                     1.196347                     1.323005   \n",
      "\n",
      "     body_vel_disturption_yaw_32  body_vel_disturption_yaw_33  \\\n",
      "0                       0.954122                     0.974186   \n",
      "1                      -0.139025                    -0.237308   \n",
      "2                      -0.129961                    -0.127523   \n",
      "3                      -1.558445                    -1.524441   \n",
      "4                      -2.450438                    -2.494886   \n",
      "..                           ...                          ...   \n",
      "296                    -2.009921                    -2.003406   \n",
      "297                    -0.694740                    -0.685317   \n",
      "298                    -0.625334                    -0.594962   \n",
      "299                    -0.524098                    -0.525667   \n",
      "300                     1.428903                     1.429162   \n",
      "\n",
      "     body_vel_disturption_yaw_34  body_vel_disturption_yaw_35  \\\n",
      "0                       1.115167                     1.077916   \n",
      "1                      -0.243769                    -0.188398   \n",
      "2                      -0.229045                    -0.229045   \n",
      "3                      -1.569325                    -1.702397   \n",
      "4                      -2.520370                    -2.467439   \n",
      "..                           ...                          ...   \n",
      "296                    -1.986297                    -1.939066   \n",
      "297                    -0.727999                    -0.720523   \n",
      "298                    -0.617666                    -0.674751   \n",
      "299                    -0.486513                    -0.497955   \n",
      "300                     1.504582                     1.553034   \n",
      "\n",
      "     body_vel_disturption_yaw_36  body_vel_disturption_yaw_37  \\\n",
      "0                       1.010007                     0.997779   \n",
      "1                      -0.168231                    -0.199850   \n",
      "2                      -0.276580                    -0.154205   \n",
      "3                      -1.753637                    -1.838150   \n",
      "4                      -2.441254                    -2.390924   \n",
      "..                           ...                          ...   \n",
      "296                    -1.901694                    -1.849063   \n",
      "297                    -0.772350                    -0.752134   \n",
      "298                    -0.620710                    -0.592104   \n",
      "299                    -0.470484                    -0.514056   \n",
      "300                     1.684960                     1.849965   \n",
      "\n",
      "     body_vel_disturption_yaw_38  body_vel_disturption_yaw_39  \n",
      "0                       0.932549                     0.891459  \n",
      "1                      -0.210587                    -0.127647  \n",
      "2                      -0.218989                    -0.198562  \n",
      "3                      -1.866466                    -1.937019  \n",
      "4                      -2.311989                    -2.341654  \n",
      "..                           ...                          ...  \n",
      "296                    -1.761659                    -1.804813  \n",
      "297                    -0.684173                    -0.687457  \n",
      "298                    -0.592104                    -0.508812  \n",
      "299                    -0.540863                    -0.450661  \n",
      "300                     1.938549                     1.991759  \n",
      "\n",
      "[301 rows x 1218 columns]\n"
     ]
    }
   ],
   "source": [
    "# import slip dataset\n",
    "\n",
    "dataset_path = '../data/ral2023_dataset/husky/boreal_snow/slip_dataset_all.pkl'\n",
    "\n",
    "full_dataset = pd.read_pickle(dataset_path)\n",
    "full_dataset_length = len(full_dataset)\n",
    "train_dataset = full_dataset[:int(full_dataset_length/2)]\n",
    "validate_dataset = full_dataset[int(full_dataset_length/2):]\n",
    "\n",
    "print(train_dataset)"
   ]
  },
  {
   "cell_type": "code",
   "execution_count": 16,
   "id": "bf9c3fcd-f6a1-4615-8025-b7a01ddd5d19",
   "metadata": {},
   "outputs": [
    {
     "name": "stdout",
     "output_type": "stream",
     "text": [
      "(603, 40)\n"
     ]
    }
   ],
   "source": [
    "# import powertrain vels\n",
    "\n",
    "cmd_left_str_list = []\n",
    "cmd_right_str_list = []\n",
    "for i in range(0, 40):\n",
    "    str_cmd_left_i = 'cmd_left_' + str(i)\n",
    "    str_cmd_right_i = 'cmd_right_' + str(i)\n",
    "    cmd_left_str_list.append(str_cmd_left_i)\n",
    "    cmd_right_str_list.append(str_cmd_right_i)\n",
    "cmd_left_vels_array = full_dataset[cmd_left_str_list].to_numpy()\n",
    "cmd_right_vels_array = full_dataset[cmd_right_str_list].to_numpy()\n",
    "\n",
    "encoder_left_str_list = []\n",
    "encoder_right_str_list = []\n",
    "for i in range(0, 40):\n",
    "    str_encoder_left_i = 'left_wheel_vel_' + str(i)\n",
    "    str_encoder_right_i = 'right_wheel_vel_' + str(i)\n",
    "    encoder_left_str_list.append(str_encoder_left_i)\n",
    "    encoder_right_str_list.append(str_encoder_right_i)\n",
    "encoder_left_vels_array = full_dataset[encoder_left_str_list].to_numpy()\n",
    "encoder_right_vels_array = full_dataset[encoder_right_str_list].to_numpy()\n",
    "\n",
    "transitory_left_str_list = []\n",
    "transitory_right_str_list = []\n",
    "for i in range(0, 40):\n",
    "    str_transitory_left_i = 'transitory_vel_left_' + str(i)\n",
    "    str_transitory_right_i = 'transitory_vel_right_' + str(i)\n",
    "    transitory_left_str_list.append(str_transitory_left_i)\n",
    "    transitory_right_str_list.append(str_transitory_right_i)\n",
    "transitory_left_vels_array = full_dataset[transitory_left_str_list].to_numpy()\n",
    "transitory_right_vels_array = full_dataset[transitory_right_str_list].to_numpy()\n",
    "\n",
    "print(cmd_left_vels_array.shape)"
   ]
  },
  {
   "cell_type": "code",
   "execution_count": 62,
   "id": "1669c87a-e737-4ca3-8209-6505c6a1a3fc",
   "metadata": {},
   "outputs": [
    {
     "data": {
      "text/plain": [
       "Text(0, 0.5, 'wheel velocity [rad/s]')"
      ]
     },
     "execution_count": 62,
     "metadata": {},
     "output_type": "execute_result"
    },
    {
     "data": {
      "image/png": "[encoded data removed]",
      "text/plain": [
       "<Figure size 720x576 with 2 Axes>"
      ]
     },
     "metadata": {
      "needs_background": "light"
     },
     "output_type": "display_data"
    }
   ],
   "source": [
    "# plot powertrain vels\n",
    "\n",
    "fig, axs = plt.subplots(2, figsize=(10,8))\n",
    "\n",
    "window_id = 180\n",
    "\n",
    "axs[0].plot(cmd_left_vels_array[window_id, :], label='command')\n",
    "axs[0].plot(encoder_left_vels_array[window_id, :], label='encoder')\n",
    "axs[0].plot(transitory_left_vels_array[window_id, :], label='powertrain model')\n",
    "axs[0].set_ylim(-11, 11)\n",
    "axs[0].set_ylabel('wheel velocity [rad/s]')\n",
    "axs[0].set_xlabel('timestep (20 Hz for 2 seconds)')\n",
    "axs[0].legend()\n",
    "\n",
    "axs[1].plot(cmd_right_vels_array[window_id, :])\n",
    "axs[1].plot(encoder_right_vels_array[window_id, :])\n",
    "axs[1].plot(transitory_right_vels_array[window_id, :])\n",
    "axs[1].set_ylim(-11, 11)\n",
    "axs[1].set_xlabel('timestep (20 Hz for 2 seconds)')\n",
    "axs[1].set_ylabel('wheel velocity [rad/s]')"
   ]
  },
  {
   "cell_type": "code",
   "execution_count": null,
   "id": "57a748c5-0fa5-408e-8821-c70551441de0",
   "metadata": {},
   "outputs": [],
   "source": []
  },
  {
   "cell_type": "code",
   "execution_count": null,
   "id": "18abf890-1be4-4d2b-b38b-47a4fe8cd8c7",
   "metadata": {},
   "outputs": [],
   "source": []
  }
 ],
 "metadata": {
  "kernelspec": {
   "display_name": "Python 3 (ipykernel)",
   "language": "python",
   "name": "python3"
  },
  "language_info": {
   "codemirror_mode": {
    "name": "ipython",
    "version": 3
   },
   "file_extension": ".py",
   "mimetype": "text/x-python",
   "name": "python",
   "nbconvert_exporter": "python",
   "pygments_lexer": "ipython3",
   "version": "3.10.6"
  }
 },
 "nbformat": 4,
 "nbformat_minor": 5
}
