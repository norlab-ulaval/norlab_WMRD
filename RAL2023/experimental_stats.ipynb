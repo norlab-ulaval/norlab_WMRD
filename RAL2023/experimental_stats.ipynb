{
 "cells": [
  {
   "cell_type": "code",
   "execution_count": 1,
   "metadata": {
    "collapsed": true,
    "ExecuteTime": {
     "end_time": "2023-07-10T20:42:12.149413444Z",
     "start_time": "2023-07-10T20:42:10.435248330Z"
    }
   },
   "outputs": [
    {
     "name": "stdout",
     "output_type": "stream",
     "text": [
      "3.10.6 (main, May 29 2023, 11:10:38) [GCC 11.3.0]\n"
     ]
    }
   ],
   "source": [
    "import numpy as np\n",
    "import pandas as pd\n",
    "import scipy.linalg\n",
    "\n",
    "import matplotlib.pyplot as plt\n",
    "from mpl_toolkits.mplot3d import axes3d\n",
    "from matplotlib.patches import Ellipse, Rectangle\n",
    "import matplotlib.transforms as transforms\n",
    "import matplotlib as mpl\n",
    "font = {'family' : 'normal',\n",
    "        'weight' : 'bold',\n",
    "        'size'   : 8}\n",
    "\n",
    "plt.rc('font', **font)\n",
    "width  = 3.402\n",
    "height = width / 1.2\n",
    "\n",
    "import sys\n",
    "print(sys.version)\n",
    "sys.path.append('../')\n",
    "import time\n",
    "\n",
    "from models.powertrain.bounded_powertrain import Bounded_powertrain\n",
    "from models.kinematic.ideal_diff_drive import Ideal_diff_drive\n",
    "from models.learning.blr_slip import SlipBayesianLinearRegression, FullBodySlipBayesianLinearRegression\n",
    "from models.learning.blr_slip_acceleration import SlipAccelerationBayesianLinearRegression, FullBodySlipAccelerationBayesianLinearRegression\n",
    "from models.learning.blr_acceleration import AccelerationBayesianLinearRegression, FullBodyAccelerationBayesianLinearRegression\n",
    "from models.learning.gp_slip import *\n",
    "from models.kinematic.ICR_based import *\n",
    "from models.kinematic.Perturbed_unicycle import *\n",
    "from models.kinematic.enhanced_kinematic import *\n",
    "\n",
    "\n",
    "from util.transform_algebra import *\n",
    "from util.util_func import *\n",
    "\n",
    "from sklearn import linear_model"
   ]
  },
  {
   "cell_type": "code",
   "execution_count": 5,
   "outputs": [
    {
     "name": "stdout",
     "output_type": "stream",
     "text": [
      "../data/ral2023_dataset/husky/boreal_snow/acceleration_dataset.pkl\n",
      "../data/ral2023_dataset/husky/grand_salon_tile_inflated/acceleration_dataset.pkl\n",
      "../data/ral2023_dataset/marmotte/boreal_snow/acceleration_dataset.pkl\n",
      "../data/ral2023_dataset/marmotte/grand_salon_tile_b/acceleration_dataset.pkl\n",
      "../data/ral2023_dataset/warthog_tracks/boreal_mud/acceleration_dataset.pkl\n",
      "../data/ral2023_dataset/warthog_wheels/gravel_1/acceleration_dataset.pkl\n"
     ]
    }
   ],
   "source": [
    "# import all slip datasets\n",
    "\n",
    "train_datasets = []\n",
    "validate_datasets = []\n",
    "full_datasets = []\n",
    "\n",
    "dataset_paths = []\n",
    "dataset_labels = []\n",
    "dataset_paths.append('../data/ral2023_dataset/husky/boreal_snow/acceleration_dataset.pkl')\n",
    "dataset_labels.append(r'Hu_snow')\n",
    "dataset_paths.append('../data/ral2023_dataset/husky/grand_salon_tile_inflated/acceleration_dataset.pkl')\n",
    "dataset_labels.append(r'Hu_tile')\n",
    "# dataset_paths.append('../data/ral2023_dataset/husky/grand_salon_left-deflated/acceleration_dataset.pkl')\n",
    "# dataset_labels.append('H_tile_ld')\n",
    "dataset_paths.append('../data/ral2023_dataset/marmotte/boreal_snow/acceleration_dataset.pkl')\n",
    "dataset_labels.append(r'HD2_snow')\n",
    "        # dataset_paths.append('../data/ral2023_dataset/marmotte/ga_hard_snow_a/acceleration_dataset.pkl')\n",
    "        # dataset_labels.append('M_hard_snow_a')\n",
    "dataset_paths.append('../data/ral2023_dataset/marmotte/grand_salon_tile_b/acceleration_dataset.pkl')\n",
    "dataset_labels.append(r'HD2_tile')\n",
    "# dataset_paths.append('../data/ral2023_dataset/marmotte/ga_hard_snow_b/acceleration_dataset.pkl')\n",
    "# dataset_labels.append('M_hard_snow')\n",
    "dataset_paths.append('../data/ral2023_dataset/warthog_tracks/boreal_mud/acceleration_dataset.pkl')\n",
    "dataset_labels.append(r'Wt_mud')\n",
    "# dataset_paths.append('../data/ral2023_dataset/warthog_tracks/grand-axe_crusted-snow/acceleration_dataset.pkl')\n",
    "# dataset_labels.append('Wt_crust')\n",
    "dataset_paths.append('../data/ral2023_dataset/warthog_wheels/gravel_1/acceleration_dataset.pkl')\n",
    "dataset_labels.append(r'Ww_gravel')\n",
    "\n",
    "for dataset_path in dataset_paths:\n",
    "    full_dataset = pd.read_pickle(dataset_path)\n",
    "    full_dataset_length = len(full_dataset)\n",
    "    train_dataset = full_dataset[:int(full_dataset_length/2)]\n",
    "    train_datasets.append(train_dataset)\n",
    "    validate_dataset = full_dataset[int(full_dataset_length/2):]\n",
    "    validate_datasets.append(validate_dataset)\n",
    "    full_datasets.append(full_dataset)\n",
    "    print(dataset_path)\n",
    "\n",
    "\n",
    "# print(train_dataset)"
   ],
   "metadata": {
    "collapsed": false,
    "ExecuteTime": {
     "end_time": "2023-07-10T20:48:40.601940028Z",
     "start_time": "2023-07-10T20:48:40.548648708Z"
    }
   }
  },
  {
   "cell_type": "code",
   "execution_count": 6,
   "outputs": [],
   "source": [
    "# import powertrain vels\n",
    "\n",
    "cmd_left_str_list = []\n",
    "cmd_right_str_list = []\n",
    "for i in range(0, 40):\n",
    "    str_cmd_left_i = 'cmd_left_' + str(i)\n",
    "    str_cmd_right_i = 'cmd_right_' + str(i)\n",
    "    cmd_left_str_list.append(str_cmd_left_i)\n",
    "    cmd_right_str_list.append(str_cmd_right_i)\n",
    "# cmd_left_vels_array = validate_dataset[cmd_left_str_list].to_numpy()\n",
    "# cmd_right_vels_array = validate_dataset[cmd_right_str_list].to_numpy()\n",
    "\n",
    "encoder_left_str_list = []\n",
    "encoder_right_str_list = []\n",
    "for i in range(0, 40):\n",
    "    str_encoder_left_i = 'left_wheel_vel_' + str(i)\n",
    "    str_encoder_right_i = 'right_wheel_vel_' + str(i)\n",
    "    encoder_left_str_list.append(str_encoder_left_i)\n",
    "    encoder_right_str_list.append(str_encoder_right_i)\n",
    "# encoder_left_vels_array = validate_dataset[encoder_left_str_list].to_numpy()\n",
    "# encoder_right_vels_array = validate_dataset[encoder_right_str_list].to_numpy()\n",
    "\n",
    "transitory_left_str_list = []\n",
    "transitory_right_str_list = []\n",
    "for i in range(0, 40):\n",
    "    str_transitory_left_i = 'transitory_vel_left_' + str(i)\n",
    "    str_transitory_right_i = 'transitory_vel_right_' + str(i)\n",
    "    transitory_left_str_list.append(str_transitory_left_i)\n",
    "    transitory_right_str_list.append(str_transitory_right_i)\n",
    "# transitory_left_vels_array = validate_dataset[transitory_left_str_list].to_numpy()\n",
    "# transitory_right_vels_array = validate_dataset[transitory_right_str_list].to_numpy()\n",
    "\n"
   ],
   "metadata": {
    "collapsed": false,
    "ExecuteTime": {
     "end_time": "2023-07-10T20:48:41.984200081Z",
     "start_time": "2023-07-10T20:48:41.973488390Z"
    }
   }
  },
  {
   "cell_type": "code",
   "execution_count": 7,
   "outputs": [],
   "source": [
    "# extract cmd_body_vel arrays (input arrays)\n",
    "\n",
    "idd_body_vel_x_str_list = []\n",
    "idd_body_vel_y_str_list = []\n",
    "idd_body_vel_yaw_str_list = []\n",
    "for i in range(0, 40):\n",
    "    str_idd_vel_x_i = 'idd_vel_x_' + str(i)\n",
    "    str_idd_vel_y_i = 'idd_vel_y_' + str(i)\n",
    "    str_idd_vel_yaw_i = 'idd_vel_yaw_' + str(i)\n",
    "    idd_body_vel_x_str_list.append(str_idd_vel_x_i)\n",
    "    idd_body_vel_y_str_list.append(str_idd_vel_y_i)\n",
    "    idd_body_vel_yaw_str_list.append(str_idd_vel_yaw_i)\n",
    "# idd_body_vel_x_array = validate_dataset[idd_body_vel_x_str_list].to_numpy()\n",
    "# idd_body_vel_y_array = validate_dataset[idd_body_vel_y_str_list].to_numpy()\n",
    "# idd_body_vel_yaw_array = validate_dataset[idd_body_vel_yaw_str_list].to_numpy()\n",
    "\n",
    "icp_x_str_list = []\n",
    "icp_y_str_list = []\n",
    "icp_z_str_list = []\n",
    "icp_roll_str_list = []\n",
    "icp_pitch_str_list = []\n",
    "icp_yaw_str_list = []\n",
    "for i in range(0, 40):\n",
    "    str_icp_x_i = 'icp_interpolated_x_' + str(i)\n",
    "    str_icp_y_i = 'icp_interpolated_y_' + str(i)\n",
    "    str_icp_yaw_i = 'icp_interpolated_yaw_' + str(i)\n",
    "    icp_x_str_list.append(str_icp_x_i)\n",
    "    icp_y_str_list.append(str_icp_y_i)\n",
    "    icp_yaw_str_list.append(str_icp_yaw_i)\n",
    "# icp_x_array = validate_dataset[icp_x_str_list].to_numpy()\n",
    "# icp_y_array = validate_dataset[icp_y_str_list].to_numpy()\n",
    "# icp_yaw_array = validate_dataset[icp_yaw_str_list].to_numpy()\n",
    "\n",
    "# extract icp vels\n",
    "\n",
    "str_icp_vel_x_list = []\n",
    "str_icp_vel_y_list = []\n",
    "str_icp_vel_yaw_list = []\n",
    "for i in range(0, 40):\n",
    "    str_icp_vel_x_i = 'icp_vel_x_' + str(i)\n",
    "    str_icp_vel_y_i = 'icp_vel_y_' + str(i)\n",
    "    str_icp_vel_yaw_i = 'icp_vel_yaw_' + str(i)\n",
    "    str_icp_vel_x_list.append(str_icp_vel_x_i)\n",
    "    str_icp_vel_y_list.append(str_icp_vel_y_i)\n",
    "    str_icp_vel_yaw_list.append(str_icp_vel_yaw_i)\n",
    "icp_vel_x_array = validate_dataset[str_icp_vel_x_list].to_numpy()\n",
    "icp_vel_y_array = validate_dataset[str_icp_vel_y_list].to_numpy()\n",
    "icp_vel_yaw_array = validate_dataset[str_icp_vel_yaw_list].to_numpy()\n",
    "\n",
    "# extract body_vel_distruptions arrays (output arrays)\n",
    "\n",
    "str_body_vel_disturption_x_list = []\n",
    "str_body_vel_disturption_y_list = []\n",
    "str_body_vel_disturption_yaw_list = []\n",
    "for i in range(0, 40):\n",
    "    str_body_vel_disturption_x_i = 'body_vel_disturption_x_' + str(i)\n",
    "    str_body_vel_disturption_y_i = 'body_vel_disturption_y_' + str(i)\n",
    "    str_body_vel_disturption_yaw_i = 'body_vel_disturption_yaw_' + str(i)\n",
    "    str_body_vel_disturption_x_list.append(str_body_vel_disturption_x_i)\n",
    "    str_body_vel_disturption_y_list.append(str_body_vel_disturption_y_i)\n",
    "    str_body_vel_disturption_yaw_list.append(str_body_vel_disturption_yaw_i)\n",
    "\n",
    "# body_vel_disturption_x_array = validate_dataset[str_body_vel_disturption_x_list].to_numpy()\n",
    "# body_vel_disturption_y_array = validate_dataset[str_body_vel_disturption_y_list].to_numpy()\n",
    "# body_vel_disturption_yaw_array = validate_dataset[str_body_vel_disturption_yaw_list].to_numpy()"
   ],
   "metadata": {
    "collapsed": false,
    "ExecuteTime": {
     "end_time": "2023-07-10T20:48:43.287359609Z",
     "start_time": "2023-07-10T20:48:43.262980828Z"
    }
   }
  },
  {
   "cell_type": "code",
   "execution_count": 13,
   "outputs": [
    {
     "name": "stdout",
     "output_type": "stream",
     "text": [
      "total traveled distance [m] : 6169.865867059952\n",
      "total elapsed time [hours] : 4.989999999999999\n"
     ]
    }
   ],
   "source": [
    "def compute_stats_dataset(dataset):\n",
    "\n",
    "    icp_x_array = dataset[icp_x_str_list].to_numpy()\n",
    "    icp_y_array = dataset[icp_y_str_list].to_numpy()\n",
    "    icp_yaw_array = dataset[icp_yaw_str_list].to_numpy()\n",
    "\n",
    "    traveled_distance = 0\n",
    "\n",
    "    n_windows = len(dataset)\n",
    "\n",
    "    dataset_time = 6 * n_windows / 60**2 # hours\n",
    "\n",
    "    for i in range(0, n_windows):\n",
    "        for j in range(1, 40):\n",
    "            current_icp_state = np.array([icp_x_array[i, j], icp_y_array[i, j], icp_yaw_array[i, j]])\n",
    "            previous_icp_state = np.array([icp_x_array[i, j-1], icp_y_array[i, j-1], icp_yaw_array[i, j-1]])\n",
    "            traveled_distance += comp_disp(current_icp_state, previous_icp_state)\n",
    "\n",
    "    return traveled_distance, dataset_time\n",
    "\n",
    "total_traveled_distance = 0\n",
    "total_elapsed_time = 0\n",
    "for dataset in full_datasets:\n",
    "    traveled_distance, dataset_time = compute_stats_dataset(dataset)\n",
    "    total_traveled_distance += traveled_distance\n",
    "    total_elapsed_time += dataset_time\n",
    "\n",
    "print('total traveled distance [m] : ' + str(total_traveled_distance))\n",
    "print('total elapsed time [hours] : ' + str(total_elapsed_time))"
   ],
   "metadata": {
    "collapsed": false,
    "ExecuteTime": {
     "end_time": "2023-07-10T20:51:04.760408508Z",
     "start_time": "2023-07-10T20:51:03.855074578Z"
    }
   }
  },
  {
   "cell_type": "code",
   "execution_count": 3,
   "outputs": [
    {
     "name": "stdout",
     "output_type": "stream",
     "text": [
      "input-space area loss : 50.0%\n",
      "gravel area loss : 50.0%\n",
      "snow area loss : 87.5%\n"
     ]
    }
   ],
   "source": [
    "# compute area loss\n",
    "\n",
    "def rectangle_area(width, height):\n",
    "    return width * height\n",
    "\n",
    "def diamond_area(width, height):\n",
    "    return width * height / 2\n",
    "\n",
    "def relative_area_loss(init_area, result_area):\n",
    "    return 100 * (init_area - result_area) / init_area\n",
    "\n",
    "maximum_linear_vel_positive = 5\n",
    "maximum_linear_vel_negative = -5\n",
    "maximum_angular_vel_positive = 4\n",
    "maximum_angular_vel_negative = -4\n",
    "gravel_maximum_linear_vel_positive = 4\n",
    "gravel_maximum_linear_vel_negative = -4\n",
    "gravel_maximum_angular_vel_positive = 2.5\n",
    "gravel_maximum_angular_vel_negative = -2.5\n",
    "snow_maximum_linear_vel_positive = 2.5\n",
    "snow_maximum_linear_vel_negative = -2.5\n",
    "snow_maximum_angular_vel_positive = 1\n",
    "snow_maximum_angular_vel_negative = -1\n",
    "human_maximum_linear_vel_positive = 5\n",
    "human_maximum_linear_vel_negative = 0\n",
    "human_maximum_angular_vel_positive = 2\n",
    "human_maximum_angular_vel_negative = -2\n",
    "\n",
    "naive_area = rectangle_area((maximum_angular_vel_positive - maximum_angular_vel_negative),\n",
    "                            (maximum_linear_vel_positive - maximum_linear_vel_negative))\n",
    "input_space_area = diamond_area((maximum_angular_vel_positive - maximum_angular_vel_negative),\n",
    "                            (maximum_linear_vel_positive - maximum_linear_vel_negative))\n",
    "input_space_area_loss = relative_area_loss(naive_area, input_space_area)\n",
    "\n",
    "gravel_area = diamond_area((gravel_maximum_angular_vel_positive - gravel_maximum_angular_vel_negative),\n",
    "                           (gravel_maximum_linear_vel_positive - gravel_maximum_linear_vel_negative))\n",
    "gravel_area_loss = relative_area_loss(input_space_area, gravel_area)\n",
    "\n",
    "snow_area = diamond_area((snow_maximum_angular_vel_positive - snow_maximum_angular_vel_negative),\n",
    "                           (snow_maximum_linear_vel_positive - snow_maximum_linear_vel_negative))\n",
    "snow_area_loss = relative_area_loss(input_space_area, snow_area)\n",
    "\n",
    "print('input-space area loss : ' + str(input_space_area_loss) + '%')\n",
    "print('gravel area loss : ' + str(gravel_area_loss) + '%')\n",
    "print('snow area loss : ' + str(snow_area_loss) + '%')\n"
   ],
   "metadata": {
    "collapsed": false,
    "ExecuteTime": {
     "end_time": "2023-07-19T17:45:01.381159030Z",
     "start_time": "2023-07-19T17:45:01.375641107Z"
    }
   }
  }
 ],
 "metadata": {
  "kernelspec": {
   "display_name": "Python 3",
   "language": "python",
   "name": "python3"
  },
  "language_info": {
   "codemirror_mode": {
    "name": "ipython",
    "version": 2
   },
   "file_extension": ".py",
   "mimetype": "text/x-python",
   "name": "python",
   "nbconvert_exporter": "python",
   "pygments_lexer": "ipython2",
   "version": "2.7.6"
  }
 },
 "nbformat": 4,
 "nbformat_minor": 0
}
