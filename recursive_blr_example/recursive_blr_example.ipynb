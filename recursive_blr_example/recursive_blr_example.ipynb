{
 "cells": [
  {
   "cell_type": "code",
   "execution_count": 1,
   "metadata": {},
   "outputs": [],
   "source": [
    "%matplotlib qt\n",
    "from __future__ import print_function, division\n",
    "from bayesian_linear_regression import BayesianLinearRegression as BLR\n",
    "\n",
    "import matplotlib.pyplot as plt\n",
    "import numpy as np"
   ]
  },
  {
   "cell_type": "code",
   "execution_count": 2,
   "metadata": {},
   "outputs": [
    {
     "name": "stderr",
     "output_type": "stream",
     "text": [
      "Warning: Ignoring XDG_SESSION_TYPE=wayland on Gnome. Use QT_QPA_PLATFORM=wayland to run on Wayland anyway.\n"
     ]
    }
   ],
   "source": [
    "def poly_with_noise(coeffs, noise_stdev, x):\n",
    "    \"\"\"\n",
    "    Generate samples based on polynomial with coefficients coeffs \n",
    "    and additive gaussian noise with stdev noise_stdev\n",
    "    @param coeffs: polynomial coefficientst starting at 0th order\n",
    "    @param noise_stdev: standard deviation of additive, Gaussian noise\n",
    "    @param x: input points. Must be shaped (n_samples, 1)\n",
    "    \"\"\"\n",
    "    N = x.shape[0]\n",
    "    assert x.shape[1] == 1, 'x must be shaped (n_samples, 1)'\n",
    "    y = np.polynomial.polynomial.polyval(x, coeffs) + noise_stdev * np.random.randn(N).reshape(-1, 1)\n",
    "    return y\n",
    "\n",
    "def get_poly_feature(x, dim):\n",
    "    \"\"\"\n",
    "    Generate feature for polynomial where the highest order term is raised to the power 'dim'\n",
    "    e.g. dim = 2 --> quadratic\n",
    "    \"\"\"\n",
    "    X = np.concatenate([(x**i).reshape(-1, 1) for i in range(dim)], axis=1)\n",
    "    return X"
   ]
  },
  {
   "cell_type": "code",
   "execution_count": 3,
   "metadata": {},
   "outputs": [],
   "source": [
    "# This section shows how to generate a prior given a dataset and assuming that the underlying function \n",
    "# is a polynomial\n",
    "#\n",
    "# The important parameter for the model is blr_prior_strength. \n",
    "# It should be > 1 and lower = faster adaptation, higher = smoother adaptation\n",
    "\n",
    "# Set input range\n",
    "x_min, x_max = -1., 1.\n",
    "\n",
    "# Generate data to form a prior\n",
    "N_prior = 50\n",
    "noise_stdev = 0.5\n",
    "coeffs = np.array([1., 1., 2., -1])\n",
    "x = np.sort(np.random.uniform(x_min, x_max, N_prior)).reshape(-1, 1)\n",
    "y = poly_with_noise(coeffs, noise_stdev, x)\n",
    "\n",
    "# Set up BLR feature vector, here [1, x, x^2]\n",
    "X = get_poly_feature(x, coeffs.size)\n",
    "\n",
    "# Fit model to data\n",
    "blr_prior_strength = 20  # lower = faster adaptation, higher = smoother adaptation\n",
    "mdl = BLR()\n",
    "mdl.set_prior_from_data(X, y, n=blr_prior_strength)\n",
    "mdl.set_posterior_to_prior() # can use mdl.fit_posterior(X, y) to fit to new data. mdl.fit_posterior does not update the prior.\n",
    "\n",
    "# Make predictions\n",
    "mu_pred, stdev_pred = mdl.pred_posterior(X)\n",
    "f, a = plt.subplots(1, 1)\n",
    "a.plot(x, y, 'r.', label='Samples')\n",
    "a.plot(x, mu_pred, 'b-', label='Predicted Mean')\n",
    "a.fill(np.concatenate([x, x[::-1]]), \n",
    "       np.concatenate([mu_pred + stdev_pred, (mu_pred - stdev_pred)[::-1]]), alpha=0.5, fc='b', label=r'$1\\sigma$')\n",
    "a.legend()\n",
    "a.set_title('Prior generated using provided data')\n",
    "a.set_xlabel('x')\n",
    "a.set_ylabel('y')\n",
    "plt.show()"
   ]
  },
  {
   "cell_type": "code",
   "execution_count": 7,
   "metadata": {},
   "outputs": [
    {
     "name": "stdout",
     "output_type": "stream",
     "text": [
      "Estimated coefficents and noise stdev:\n",
      "w:  [[ 1.00026535 -0.52556632  1.98227326 -0.91061156]]\n",
      "stdev:  [[0.13295837]]\n",
      "Actual coefficients and noise stdev:\n",
      "w:  [[ 1.  -0.5  2.  -1. ]]\n",
      "stdev:  0.1\n"
     ]
    }
   ],
   "source": [
    "# Recursive updates.\n",
    "# Change the underlying function and update params recursively.\n",
    "# mdl.update_recursive(...) recursively updates the model parameters while keeping the prior strength fixed\n",
    "# so that the model remains flexible even after data is added.\n",
    "# To add data in batches, call model.fit_posterior(...). This does not update the prior. If you want to do\n",
    "# That, call model.set_prior_to_posterior after model.fit_posterior(...)\n",
    "\n",
    "\n",
    "# Generate samples from the new function\n",
    "N_new = 100\n",
    "noise_stdev_new = 0.1\n",
    "coeffs_new = np.array([1., -0.5, 2., -1])\n",
    "x_new = np.random.uniform(x_min, x_max, N_new).reshape(-1, 1)\n",
    "y_new = poly_with_noise(coeffs_new, noise_stdev_new, x_new)\n",
    "\n",
    "# Generate feature vector\n",
    "X_new = get_poly_feature(x_new, coeffs.size)\n",
    "\n",
    "# Update model recursively\n",
    "x_plt = np.linspace(x_min, x_max, 100).reshape(-1, 1)\n",
    "X_plt = get_poly_feature(x_plt, coeffs.size)\n",
    "\n",
    "# Plot function after each update\n",
    "f, a = plt.subplots(1, 1)\n",
    "\n",
    "# plot prior samples\n",
    "mu_pred, stdev_pred = mdl.pred_posterior(X_plt)\n",
    "\n",
    "# plot prior model\n",
    "a.plot(x_plt, mu_pred, 'b-', label='Predicted mean (prior)')\n",
    "a.plot(x_plt, mu_pred + stdev_pred, 'b--', label=r'$1-\\sigma$ (prior)')\n",
    "a.plot(x_plt, mu_pred - stdev_pred, 'b--')\n",
    "\n",
    "# plot recursively updated model\n",
    "l_mu_pred, = a.plot(x_plt, mu_pred, 'c-', label='Predicted mean')\n",
    "l_upper_pred, = a.plot(x_plt, mu_pred + stdev_pred, 'c--', label=r'$1-\\sigma$')\n",
    "l_lower_pred, = a.plot(x_plt, mu_pred - stdev_pred, 'c--')\n",
    "a.plot(x, y, 'r.', label='Samples used to generate prior')\n",
    "a.legend()\n",
    "a.set_xlabel('x')\n",
    "a.set_ylabel('y')\n",
    "plt.pause(2)\n",
    "\n",
    "# recursive updates\n",
    "for i in range(N_new):\n",
    "    a.plot(x_new[i], y_new[i], 'k.')\n",
    "    mdl.update_recursive(X_new[i, :].reshape(1, -1), y_new[i,:].reshape(1, 1))\n",
    "    mu_pred, stdev_pred = mdl.pred_posterior(X_plt)\n",
    "    l_mu_pred.set_ydata(mu_pred)    \n",
    "    l_upper_pred.set_ydata(mu_pred + stdev_pred)\n",
    "    l_lower_pred.set_ydata(mu_pred - stdev_pred)\n",
    "    a.set_title('Added sample number ' + str(i))\n",
    "    plt.pause(0.1)\n",
    "\n",
    "w_post, Sig_w_post, var_post = mdl.get_posterior_params()\n",
    "print('Estimated coefficents and noise stdev:')\n",
    "print('w: ', w_post.T)\n",
    "print('stdev: ', np.sqrt(var_post))\n",
    "print('Actual coefficients and noise stdev:')\n",
    "print('w: ', coeffs_new.reshape(1, -1))\n",
    "print('stdev: ', noise_stdev_new)\n",
    "plt.show()    "
   ]
  }
 ],
 "metadata": {
  "kernelspec": {
   "display_name": "Python 3 (ipykernel)",
   "language": "python",
   "name": "python3"
  },
  "language_info": {
   "codemirror_mode": {
    "name": "ipython",
    "version": 3
   },
   "file_extension": ".py",
   "mimetype": "text/x-python",
   "name": "python",
   "nbconvert_exporter": "python",
   "pygments_lexer": "ipython3",
   "version": "3.10.6"
  }
 },
 "nbformat": 4,
 "nbformat_minor": 4
}
