{
 "cells": [
  {
   "cell_type": "code",
   "execution_count": null,
   "metadata": {},
   "outputs": [],
   "source": [
    "import GPy\n",
    "import numpy as np\n",
    "%matplotlib qt\n",
    "import matplotlib.pyplot as plt"
   ]
  },
  {
   "cell_type": "code",
   "execution_count": null,
   "metadata": {},
   "outputs": [],
   "source": [
    "def f1(x, noise=True):\n",
    "    n=x.size\n",
    "    if noise:\n",
    "        return np.sin(x) + 0.1 * np.random.randn(n).reshape(x.shape)  \n",
    "    else:\n",
    "        return np.sin(x)\n",
    "def f2(x, noise=True):\n",
    "    n=x.size\n",
    "    if noise:\n",
    "        return np.cos(x) + 0.1 * np.random.randn(n).reshape(x.shape)\n",
    "    else:\n",
    "        return np.cos(x)"
   ]
  },
  {
   "cell_type": "code",
   "execution_count": null,
   "metadata": {},
   "outputs": [],
   "source": [
    "# Generate training data\n",
    "n = 100\n",
    "x_train = np.sort(np.random.uniform(0., np.pi, n)).reshape(-1,1)\n",
    "\n",
    "# Fit a GP model to each function\n",
    "kernel = GPy.kern.RBF(input_dim=1, variance=1., lengthscale=1.)\n",
    "m = GPy.models.GPRegression(x_train, f1(x_train), kernel)\n",
    "m.rbf.lengthscale.constrain_bounded(0.1, 10)\n",
    "m.optimize_restarts(num_restarts=2)\n",
    "\n",
    "# Make predictions using the GPs\n",
    "fig, ax = plt.subplots(1, 1)\n",
    "x_query = np.linspace(0, np.pi, n).reshape(-1, 1)\n",
    "for id, (f, color) in enumerate(zip([f1, f2], ['r', 'b'])):\n",
    "    # Fit a GP model to the function\n",
    "    y_train = f(x_train)\n",
    "    m.set_XY(x_train, y_train)\n",
    "    \n",
    "    # Generate predictions\n",
    "    mu_pred, var_pred = m.predict(x_query)\n",
    "    stdev_pred = np.sqrt(var_pred)\n",
    "    \n",
    "    # Plot predictions\n",
    "    ax.plot(x_train, y_train, '.', color='gray')\n",
    "    l, = ax.plot(x_query, mu_pred, color=color, label='GP ' + str(id) + ', mean')\n",
    "    ax.fill(np.concatenate([x_query, x_query[::-1]]), \n",
    "            np.concatenate([(mu_pred + 3. * stdev_pred),\n",
    "                            (mu_pred - 3. * stdev_pred)[::-1]]), \n",
    "            alpha=0.25, color=l.get_color(), label=r'GP ' + str(id) + ', $3\\sigma$')\n",
    "x_sample = np.random.uniform(1.5, 2.0, 20)\n",
    "ax.plot(x_sample, f2(x_sample), 'k*', ms=10)    \n",
    "ax.set_xlabel('x')\n",
    "ax.set_ylabel('g')\n",
    "ax.set_title('Experience Recommendation Example')\n",
    "ax.legend(loc='lower left')\n",
    "ax.set_xlim(0., np.pi)\n",
    "plt.show()"
   ]
  },
  {
   "cell_type": "code",
   "execution_count": null,
   "metadata": {},
   "outputs": [],
   "source": [
    "np.sqrt(m.rbf.variance), np.sqrt(m.Gaussian_noise.variance)"
   ]
  },
  {
   "cell_type": "code",
   "execution_count": null,
   "metadata": {},
   "outputs": [],
   "source": [
    "m"
   ]
  }
 ],
 "metadata": {
  "kernelspec": {
   "display_name": "Python 2",
   "language": "python",
   "name": "python2"
  },
  "language_info": {
   "codemirror_mode": {
    "name": "ipython",
    "version": 2
   },
   "file_extension": ".py",
   "mimetype": "text/x-python",
   "name": "python",
   "nbconvert_exporter": "python",
   "pygments_lexer": "ipython2",
   "version": "2.7.6"
  }
 },
 "nbformat": 4,
 "nbformat_minor": 2
}
