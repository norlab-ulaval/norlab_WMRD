{
 "cells": [
  {
   "cell_type": "code",
   "execution_count": 6,
   "metadata": {},
   "outputs": [],
   "source": [
    "from __future__ import division, print_function\n",
    "import GPy\n",
    "from bayesian_linear_regression import BayesianLinearRegression as BLR \n",
    "import numpy as np\n",
    "\n",
    "# %matplotlib inline  \n",
    "# %matplotlib qt\n",
    "from matplotlib import pyplot as plt"
   ]
  },
  {
   "cell_type": "code",
   "execution_count": 7,
   "metadata": {},
   "outputs": [],
   "source": [
    "# Define the underlying function\n",
    "def get_samples(x_query):\n",
    "    y_query = np.zeros_like(x_query)\n",
    "    \n",
    "    mask_0to1 = x_query < 1\n",
    "    mask_1to2 = (x_query > 1) & (x_query < 2)\n",
    "    mask_2to3 = (x_query > 2) & (x_query < 3)\n",
    "    \n",
    "    n_0to1 = mask_0to1.sum()\n",
    "    n_1to2 = mask_1to2.sum()\n",
    "    n_2to3 = mask_2to3.sum()\n",
    "    \n",
    "    y_query[mask_0to1] = 0.1 * np.random.randn(n_0to1)\n",
    "    y_query[mask_1to2] = 1 * np.random.randn(n_1to2)\n",
    "    y_query[mask_2to3] = 2.0 * np.random.randn(n_2to3)\n",
    "    \n",
    "    return y_query"
   ]
  },
  {
   "cell_type": "code",
   "execution_count": 8,
   "metadata": {},
   "outputs": [
    {
     "data": {
      "text/plain": [
       "Text(0.5, 1.0, 'Training Dataset')"
      ]
     },
     "execution_count": 8,
     "metadata": {},
     "output_type": "execute_result"
    }
   ],
   "source": [
    "# Generate dataset\n",
    "n = 200\n",
    "x_train = np.sort(np.random.uniform(0, 3, 3*n)).reshape(-1, 1)\n",
    "y_train = get_samples(x_train)\n",
    "f, a = plt.subplots(1, 1)\n",
    "a.plot(x_train, y_train, '.', color='gray')\n",
    "a.set_ylim(-6., 6.)\n",
    "a.grid()\n",
    "a.set_xlabel('x')\n",
    "a.set_ylabel('g')\n",
    "a.set_title('Training Dataset')\n",
    "# plt.show()"
   ]
  },
  {
   "cell_type": "code",
   "execution_count": 9,
   "metadata": {},
   "outputs": [
    {
     "name": "stderr",
     "output_type": "stream",
     "text": [
      "reconstraining parameters GP_regression.rbf.lengthscale\n"
     ]
    },
    {
     "name": "stdout",
     "output_type": "stream",
     "text": [
      "Optimization restart 1/2, f = 992.7081553977034\n",
      "Optimization restart 2/2, f = 990.1917978831816\n",
      "0.3252493642215592\n",
      "0.9852045605820193\n",
      "1.8873984720463322\n"
     ]
    },
    {
     "data": {
      "text/plain": [
       "Text(0.5, 1.0, 'Local Bayesian Linear Regression')"
      ]
     },
     "execution_count": 9,
     "metadata": {},
     "output_type": "execute_result"
    }
   ],
   "source": [
    "# Optimise GP hyperparameters using training data from whole domain\n",
    "kernel = GPy.kern.RBF(input_dim=1, variance=1., lengthscale=1.)\n",
    "m = GPy.models.GPRegression(x_train, y_train, kernel)\n",
    "m.rbf.lengthscale.constrain_bounded(0.1, 10)\n",
    "m.optimize_restarts(num_restarts=2)\n",
    "\n",
    "# Set BLR Prior using data from the whole domain\n",
    "blr_prior_strength = 10  # lower = faster adaptation, higher = smoother adaptation\n",
    "mdl = BLR()\n",
    "x_blr_train = np.ones_like(x_train)\n",
    "mdl.set_prior_from_data(x_blr_train, y_train, n=blr_prior_strength)\n",
    "mdl.set_posterior_to_prior() # can use mdl.fit_posterior(X, y) to fit to new data. mdl.fit_posterior does not update the prior.\n",
    "\n",
    "# Generate query points\n",
    "x_query_0to1 = np.linspace(0.1, 0.9, 100).reshape(-1, 1)\n",
    "x_query_1to2 = np.linspace(1.1, 1.9, 100).reshape(-1, 1)\n",
    "x_query_2to3 = np.linspace(2.1, 2.9, 100).reshape(-1, 1)\n",
    "\n",
    "# Plot the results using the GP model\n",
    "f_gp, a_gp = plt.subplots(1, 1)\n",
    "f_blr, a_blr = plt.subplots(1, 1)\n",
    "a = [a_gp, a_blr]\n",
    "\n",
    "for ax in a:\n",
    "    ax.plot(x_train, y_train, '.', color='gray')\n",
    "    ax.set_ylim(-6., 6.)\n",
    "    ax.set_xlabel('x')\n",
    "    ax.set_ylabel('g')\n",
    "    ax.grid()\n",
    "for x_q in [x_query_0to1, x_query_1to2, x_query_2to3]:\n",
    "    \n",
    "    # Get local data from the query range of 'x'\n",
    "    local_mask = (x_train > min(x_q)) & (x_train < max(x_q))\n",
    "    x_local = x_train[local_mask].reshape(-1,1)\n",
    "    y_local = y_train[local_mask].reshape(-1,1)\n",
    "    \n",
    "    # Fit local GP model\n",
    "    m.set_XY(X=x_local, Y=y_local)\n",
    "    \n",
    "    # Fit local BLR model \n",
    "    mdl.fit_posterior(X=x_local, Y=y_local)\n",
    "    \n",
    "    # Make predictions using the local GP model\n",
    "    mu_gp, var_gp = m.predict(x_q)\n",
    "    stdev_gp = np.sqrt(var_gp)\n",
    "    \n",
    "    # Make predictions using the local BLR model\n",
    "    mu_blr, stdev_blr = mdl.pred_posterior(np.ones_like(x_q))\n",
    "    print(stdev_blr.mean())\n",
    "    # Plot predictions from the local GP model\n",
    "    l, = a[0].plot(x_q, mu_gp)\n",
    "    a[0].fill(np.concatenate([x_q, x_q[::-1]]),\n",
    "              np.concatenate([mu_gp + stdev_gp, \n",
    "                              mu_gp[::-1] - stdev_gp[::-1]]),\n",
    "              alpha=0.5, color=l.get_color())\n",
    "    \n",
    "    # Plot predictions from the local BLR model\n",
    "    l, = a[1].plot(x_q, mu_blr)\n",
    "    a[1].fill(np.concatenate([x_q, x_q[::-1]]), \n",
    "              np.concatenate([(mu_blr + stdev_blr),\n",
    "                              (mu_blr - stdev_blr)[::-1]]), \n",
    "              alpha=0.5, color=l.get_color())\n",
    "a[0].set_title('Local Gaussian Process')\n",
    "a[1].set_title('Local Bayesian Linear Regression')"
   ]
  },
  {
   "cell_type": "code",
   "execution_count": null,
   "metadata": {},
   "outputs": [],
   "source": [
    "# m.rbf.variance\n",
    "# m.rbf.lengthscale\n",
    "# m.Gaussian_noise.variance"
   ]
  },
  {
   "cell_type": "code",
   "execution_count": null,
   "metadata": {},
   "outputs": [],
   "source": []
  }
 ],
 "metadata": {
  "kernelspec": {
   "display_name": "Python 3 (ipykernel)",
   "language": "python",
   "name": "python3"
  },
  "language_info": {
   "codemirror_mode": {
    "name": "ipython",
    "version": 3
   },
   "file_extension": ".py",
   "mimetype": "text/x-python",
   "name": "python",
   "nbconvert_exporter": "python",
   "pygments_lexer": "ipython3",
   "version": "3.10.6"
  }
 },
 "nbformat": 4,
 "nbformat_minor": 4
}
