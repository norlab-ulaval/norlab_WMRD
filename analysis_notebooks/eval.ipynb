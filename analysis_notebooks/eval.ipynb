{
 "cells": [
  {
   "cell_type": "code",
   "execution_count": 8,
   "metadata": {},
   "outputs": [
    {
     "ename": "SyntaxError",
     "evalue": "invalid syntax (2312739053.py, line 11)",
     "output_type": "error",
     "traceback": [
      "\u001b[0;36m  Input \u001b[0;32mIn [8]\u001b[0;36m\u001b[0m\n\u001b[0;31m    from ../util/transform_algebra import *\u001b[0m\n\u001b[0m           ^\u001b[0m\n\u001b[0;31mSyntaxError\u001b[0m\u001b[0;31m:\u001b[0m invalid syntax\n"
     ]
    }
   ],
   "source": [
    "## General imports\n",
    "\n",
    "import math\n",
    "from pypointmatcher import pointmatcher, pointmatchersupport\n",
    "import glob\n",
    "import numpy as np\n",
    "import copy\n",
    "import pandas as pd\n",
    "import wmrde\n",
    "\n",
    "from ../util/transform_algebra import *"
   ]
  },
  {
   "cell_type": "code",
   "execution_count": 4,
   "metadata": {},
   "outputs": [],
   "source": [
    "## Initialize map object\n",
    "\n",
    "PM = pointmatcher.PointMatcher\n",
    "icp = PM.ICP()\n",
    "icp.loadFromYaml(\"../icp_config/icp.yaml\")\n",
    "matcher_params = pointmatchersupport.Parametrizable.Parameters()\n",
    "matcher_params[\"knn\"] = \"3\"\n",
    "matcher = PM.get().MatcherRegistrar.create(\"KDTreeMatcher\", matcher_params)\n",
    "\n",
    "map = PM.DataPoints.load('../data/maps/fr2021/laverdiereb.vtk')"
   ]
  },
  {
   "cell_type": "code",
   "execution_count": 4,
   "metadata": {},
   "outputs": [],
   "source": [
    "## Initialize model objects\n",
    "\n",
    "dynamic_predictor = wmrde.Predictor()"
   ]
  },
  {
   "cell_type": "code",
   "execution_count": 7,
   "metadata": {},
   "outputs": [],
   "source": [
    "## Import run commands\n",
    "\n",
    "inputs_states = pd.read_csv('../data/fr2021/states_inputs/run3.csv')\n",
    "\n"
   ]
  },
  {
   "cell_type": "code",
   "execution_count": null,
   "metadata": {},
   "outputs": [],
   "source": []
  }
 ],
 "metadata": {
  "kernelspec": {
   "display_name": "venv",
   "language": "python",
   "name": "venv"
  },
  "language_info": {
   "codemirror_mode": {
    "name": "ipython",
    "version": 3
   },
   "file_extension": ".py",
   "mimetype": "text/x-python",
   "name": "python",
   "nbconvert_exporter": "python",
   "pygments_lexer": "ipython3",
   "version": "3.8.13"
  }
 },
 "nbformat": 4,
 "nbformat_minor": 4
}
