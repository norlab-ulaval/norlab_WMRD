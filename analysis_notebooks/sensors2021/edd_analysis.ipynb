{
 "cells": [
  {
   "cell_type": "code",
   "execution_count": 1,
   "metadata": {},
   "outputs": [],
   "source": [
    "# import libraries\n",
    "\n",
    "import numpy as np\n",
    "import pandas as pd\n",
    "import matplotlib.pyplot as plt\n",
    "font = {'family' : 'normal',\n",
    "        'weight' : 'bold',\n",
    "        'size'   : 22}\n",
    "\n",
    "plt.rc('font', **font)\n",
    "\n",
    "%run ./scripts/util_func.py\n",
    "%run ./scripts/model_func.py"
   ]
  },
  {
   "cell_type": "code",
   "execution_count": 2,
   "metadata": {},
   "outputs": [
    {
     "ename": "ValueError",
     "evalue": "Object arrays cannot be loaded when allow_pickle=False",
     "output_type": "error",
     "traceback": [
      "\u001b[0;31m---------------------------------------------------------------------------\u001b[0m",
      "\u001b[0;31mValueError\u001b[0m                                Traceback (most recent call last)",
      "\u001b[0;32m<ipython-input-2-671f92df807c>\u001b[0m in \u001b[0;36m<module>\u001b[0;34m\u001b[0m\n\u001b[1;32m      1\u001b[0m \u001b[0;31m# import arrays\u001b[0m\u001b[0;34m\u001b[0m\u001b[0;34m\u001b[0m\u001b[0;34m\u001b[0m\u001b[0m\n\u001b[1;32m      2\u001b[0m \u001b[0;34m\u001b[0m\u001b[0m\n\u001b[0;32m----> 3\u001b[0;31m \u001b[0micp_states\u001b[0m \u001b[0;34m=\u001b[0m \u001b[0mnp\u001b[0m\u001b[0;34m.\u001b[0m\u001b[0mload\u001b[0m\u001b[0;34m(\u001b[0m\u001b[0;34m'data/icp_states.npy'\u001b[0m\u001b[0;34m)\u001b[0m \u001b[0;31m# [time, icp_index, icp_x, icp_y, icp_yaw]\u001b[0m\u001b[0;34m\u001b[0m\u001b[0;34m\u001b[0m\u001b[0m\n\u001b[0m\u001b[1;32m      4\u001b[0m \u001b[0mwheel_vels\u001b[0m \u001b[0;34m=\u001b[0m \u001b[0mnp\u001b[0m\u001b[0;34m.\u001b[0m\u001b[0mload\u001b[0m\u001b[0;34m(\u001b[0m\u001b[0;34m'data/wheel_vels.npy'\u001b[0m\u001b[0;34m)\u001b[0m \u001b[0;31m# [time, icp_index, vel_l, vel_r]\u001b[0m\u001b[0;34m\u001b[0m\u001b[0;34m\u001b[0m\u001b[0m\n",
      "\u001b[0;32m~/miniconda3/envs/kinematic_model_training/lib/python3.9/site-packages/numpy/lib/npyio.py\u001b[0m in \u001b[0;36mload\u001b[0;34m(file, mmap_mode, allow_pickle, fix_imports, encoding)\u001b[0m\n\u001b[1;32m    437\u001b[0m                 \u001b[0;32mreturn\u001b[0m \u001b[0mformat\u001b[0m\u001b[0;34m.\u001b[0m\u001b[0mopen_memmap\u001b[0m\u001b[0;34m(\u001b[0m\u001b[0mfile\u001b[0m\u001b[0;34m,\u001b[0m \u001b[0mmode\u001b[0m\u001b[0;34m=\u001b[0m\u001b[0mmmap_mode\u001b[0m\u001b[0;34m)\u001b[0m\u001b[0;34m\u001b[0m\u001b[0;34m\u001b[0m\u001b[0m\n\u001b[1;32m    438\u001b[0m             \u001b[0;32melse\u001b[0m\u001b[0;34m:\u001b[0m\u001b[0;34m\u001b[0m\u001b[0;34m\u001b[0m\u001b[0m\n\u001b[0;32m--> 439\u001b[0;31m                 return format.read_array(fid, allow_pickle=allow_pickle,\n\u001b[0m\u001b[1;32m    440\u001b[0m                                          pickle_kwargs=pickle_kwargs)\n\u001b[1;32m    441\u001b[0m         \u001b[0;32melse\u001b[0m\u001b[0;34m:\u001b[0m\u001b[0;34m\u001b[0m\u001b[0;34m\u001b[0m\u001b[0m\n",
      "\u001b[0;32m~/miniconda3/envs/kinematic_model_training/lib/python3.9/site-packages/numpy/lib/format.py\u001b[0m in \u001b[0;36mread_array\u001b[0;34m(fp, allow_pickle, pickle_kwargs)\u001b[0m\n\u001b[1;32m    725\u001b[0m         \u001b[0;31m# The array contained Python objects. We need to unpickle the data.\u001b[0m\u001b[0;34m\u001b[0m\u001b[0;34m\u001b[0m\u001b[0;34m\u001b[0m\u001b[0m\n\u001b[1;32m    726\u001b[0m         \u001b[0;32mif\u001b[0m \u001b[0;32mnot\u001b[0m \u001b[0mallow_pickle\u001b[0m\u001b[0;34m:\u001b[0m\u001b[0;34m\u001b[0m\u001b[0;34m\u001b[0m\u001b[0m\n\u001b[0;32m--> 727\u001b[0;31m             raise ValueError(\"Object arrays cannot be loaded when \"\n\u001b[0m\u001b[1;32m    728\u001b[0m                              \"allow_pickle=False\")\n\u001b[1;32m    729\u001b[0m         \u001b[0;32mif\u001b[0m \u001b[0mpickle_kwargs\u001b[0m \u001b[0;32mis\u001b[0m \u001b[0;32mNone\u001b[0m\u001b[0;34m:\u001b[0m\u001b[0;34m\u001b[0m\u001b[0;34m\u001b[0m\u001b[0m\n",
      "\u001b[0;31mValueError\u001b[0m: Object arrays cannot be loaded when allow_pickle=False"
     ]
    }
   ],
   "source": [
    "# import arrays\n",
    "\n",
    "icp_states = np.load('data/icp_states.npy') # [time, icp_index, icp_x, icp_y, icp_yaw]\n",
    "wheel_vels = np.load('data/wheel_vels.npy') # [time, icp_index, vel_l, vel_r]\n"
   ]
  },
  {
   "cell_type": "code",
   "execution_count": 3,
   "metadata": {},
   "outputs": [],
   "source": [
    "# # test model\n",
    "# r = 0.3 # wheel radius : meters\n",
    "# alpha_l = 0.81 # left side friction loss\n",
    "# alpha_r = 0.84 # right side friction loss\n",
    "# x_icr = -2.71 # vehicle x_icr\n",
    "# y_icr_l = 3.0 # left wheels icr in y coordinates\n",
    "# y_icr_r = -3.85 # right wheels icr in y coordinates\n",
    "# k = np.array([alpha_l, alpha_r, x_icr, y_icr_l, y_icr_r])\n",
    "\n",
    "# for i in range(icp_states.shape[0]):\n",
    "#     Vl = wheel_vels[i, 2]\n",
    "#     Vr = wheel_vels[i, 3]\n",
    "\n",
    "#     body_velocity_x, body_velocity_y, body_velocity_phi = extd_diff_drive_asym(Vl, Vr, x_icr, y_icr_l, y_icr_r, alpha_l, alpha_r)\n",
    "#     print('old_vx : ', r * body_velocity_x)\n",
    "#     print('old_vy : ', r * body_velocity_y)\n",
    "#     print('old_vphi : ', r * body_velocity_phi)\n",
    "    \n",
    "#     new_vel = icr_diff_drive(wheel_vels[i, 2:], k)\n",
    "#     print('new_vx : ', new_vel[0])\n",
    "#     print('new_vy : ', new_vel[1])\n",
    "#     print('new_vphi : ', new_vel[2])"
   ]
  },
  {
   "cell_type": "code",
   "execution_count": 4,
   "metadata": {},
   "outputs": [
    {
     "name": "stdout",
     "output_type": "stream",
     "text": [
      "[[0.00000000e+00 0.00000000e+00 0.00000000e+00]\n",
      " [1.00000000e+00 0.00000000e+00 0.00000000e+00]\n",
      " [2.00000000e+00 2.51590402e-06 1.42270327e-03]\n",
      " ...\n",
      " [8.71600000e+03 7.93862263e+03 1.02519989e-05]\n",
      " [8.71700000e+03 7.93892136e+03 2.42447853e-03]\n",
      " [8.71800000e+03 7.93863736e+03 2.23994255e-03]]\n"
     ]
    }
   ],
   "source": [
    "# compute ext_diff-drive estimates\n",
    "\n",
    "# params from crv\n",
    "r = 0.3 # wheel radius : meters\n",
    "alpha_l = 0.81 # left side friction loss\n",
    "alpha_r = 0.84 # right side friction loss\n",
    "x_icr = -2.71 # vehicle x_icr\n",
    "y_icr_l = 3.0 # left wheels icr in y coordinates\n",
    "y_icr_r = -3.85 # right wheels icr in y coordinates\n",
    "k = np.array([alpha_l, alpha_r, x_icr, y_icr_l, y_icr_r])\n",
    "\n",
    "edd_pose = icp_states[0,2:]\n",
    "\n",
    "disp = 0.0\n",
    "propa_mat = np.array([[np.sin(icp_states[0,2]), 0.0, 0.0], \n",
    "                      [0.0, np.cos(icp_states[0,3]), 0.0], [0.0, 0.0, 1.0]])\n",
    "\n",
    "err = np.zeros((int(icp_states[-1, 1]), 3))\n",
    "for i in range(err.shape[0]):\n",
    "    err[i,0] = i\n",
    "\n",
    "dd_vel = np.zeros((icp_states.shape[0], 3))\n",
    "\n",
    "for i in range(icp_states.shape[0] - 1):\n",
    "    dt = icp_states[i+1, 0] - icp_states[i, 0]\n",
    "    disp = comp_disp(icp_states[i+1, 2:3], icp_states[i, 2:3])\n",
    "    propa_mat[0,0] = np.sin(icp_states[i,2])\n",
    "    propa_mat[1,1] = np.cos(icp_states[i,3])\n",
    "    \n",
    "    edd_pose = edd_pose + propa_mat @ icr_diff_drive(wheel_vels[i, 2:], k) * dt\n",
    "    \n",
    "    if icp_states[i+1,1] != icp_states[i,1]:\n",
    "        err[int(icp_states[i,1]), 1] = disp_err(edd_pose, icp_states[i+1, 2:])\n",
    "        err[int(icp_states[i,1]), 2] = disp\n",
    "    dd_pose = icp_states[i+1, 2:]\n",
    "    \n",
    "print(err)\n",
    "    "
   ]
  },
  {
   "cell_type": "code",
   "execution_count": 5,
   "metadata": {},
   "outputs": [
    {
     "name": "stdout",
     "output_type": "stream",
     "text": [
      "[[ 0.        ]\n",
      " [ 0.        ]\n",
      " [ 0.        ]\n",
      " ...\n",
      " [ 0.30245595]\n",
      " [-0.31762724]\n",
      " [ 0.09917918]]\n"
     ]
    }
   ],
   "source": [
    "def comp_icrs(vl, vr, vx, vy, omega):\n",
    "    x_icr = -vy / omega\n",
    "    y_icr_l = (0.3 * vl - vx) / omega\n",
    "    y_icr_r = (0.3 * vr - vx) / omega\n",
    "    \n",
    "    return x_icr, y_icr_l, y_icr_r\n",
    "\n",
    "index_arr = np.zeros((int(icp_states[-1, 1]), 1))\n",
    "for i in range(index_arr.shape[0]):\n",
    "    index_arr[i] = i\n",
    "\n",
    "vel_l = 0\n",
    "vel_r = 0\n",
    "\n",
    "x_icr_arr = np.zeros((int(icp_states[-1, 1]), 1))\n",
    "y_icr_l_arr = np.zeros((int(icp_states[-1, 1]), 1))\n",
    "y_icr_r_arr = np.zeros((int(icp_states[-1, 1]), 1))\n",
    "\n",
    "vel_count = 0\n",
    "\n",
    "for i in range(icp_states.shape[0] - 1):\n",
    "    dt += icp_states[i+1, 0] - icp_states[i, 0]\n",
    "    vel_count += 1    \n",
    "    \n",
    "    vel_l += wheel_vels[i, 2]\n",
    "    vel_r += wheel_vels[i, 3]\n",
    "    \n",
    "    if icp_states[i+1,1] != icp_states[i,1] and vel_count > 1:\n",
    "        icp_vx = (icp_states[i+1, 2] - icp_states[i, 2]) / dt\n",
    "        icp_vy = (icp_states[i+1, 3] - icp_states[i, 3]) / dt\n",
    "        icp_omega = (icp_states[i+1, 4] - icp_states[i, 4]) / dt\n",
    "        \n",
    "        vel_l = vel_l / vel_count\n",
    "        vel_r = vel_r / vel_count\n",
    "        \n",
    "        x_icr_arr[int(icp_states[i,1])], y_icr_l_arr[int(icp_states[i, 1])], y_icr_r_arr[int(icp_states[i,1])] = comp_icrs(vel_l, vel_r, icp_vx, icp_vy, icp_omega)\n",
    "        \n",
    "        vel_l = 0\n",
    "        vel_r = 0\n",
    "        dt = 0\n",
    "        vel_count = 0\n",
    "    \n",
    "print(x_icr_arr)\n"
   ]
  },
  {
   "cell_type": "code",
   "execution_count": 9,
   "metadata": {},
   "outputs": [
    {
     "data": {
      "image/png": "[encoded data removed]",
      "text/plain": [
       "<Figure size 1440x720 with 3 Axes>"
      ]
     },
     "metadata": {
      "needs_background": "light"
     },
     "output_type": "display_data"
    }
   ],
   "source": [
    "fig, axes = plt.subplots(nrows=1, ncols=3, figsize = (20,10))\n",
    "ax0, ax1, ax2 = axes.flatten()\n",
    "\n",
    "ax0.hist(x_icr_arr, 100, density=True, facecolor='tab:blue', alpha=0.75, range = [-10.0, 10.0])\n",
    "ax0.set_title('x_icr')\n",
    "ax0.set_xlim(-10, 10)\n",
    "ax0.set_ylim(0, 0.5)\n",
    "\n",
    "ax1.hist(y_icr_l_arr, 100, density=True, facecolor='tab:orange', alpha=0.75, range = [-10.0, 10.0])\n",
    "ax1.set_title('y_icr_l')\n",
    "ax1.set_xlim(-10, 10)\n",
    "ax1.set_ylim(0, 0.5)\n",
    "ax1.get_yaxis().set_visible(False)\n",
    "\n",
    "ax2.hist(y_icr_r_arr, 100, density=True, facecolor='tab:green', alpha=0.75, range = [-10.0, 10.0])\n",
    "ax2.set_title('y_icr_r')\n",
    "ax2.set_xlim(-10, 10)\n",
    "ax2.set_ylim(0, 0.5)\n",
    "ax2.get_yaxis().set_visible(False)\n",
    "\n",
    "fig.savefig('./figs/icr_dist.png')\n"
   ]
  },
  {
   "cell_type": "code",
   "execution_count": null,
   "metadata": {},
   "outputs": [],
   "source": []
  }
 ],
 "metadata": {
  "kernelspec": {
   "display_name": "Python 3",
   "language": "python",
   "name": "python3"
  },
  "language_info": {
   "codemirror_mode": {
    "name": "ipython",
    "version": 3
   },
   "file_extension": ".py",
   "mimetype": "text/x-python",
   "name": "python",
   "nbconvert_exporter": "python",
   "pygments_lexer": "ipython3",
   "version": "3.9.0"
  }
 },
 "nbformat": 4,
 "nbformat_minor": 4
}
