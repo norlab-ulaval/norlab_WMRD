{
 "cells": [
  {
   "cell_type": "code",
   "execution_count": 2,
   "metadata": {},
   "outputs": [
    {
     "data": {
      "text/plain": [
       "[<matplotlib.lines.Line2D at 0x7fa1bd6cab70>]"
      ]
     },
     "execution_count": 2,
     "metadata": {},
     "output_type": "execute_result"
    },
    {
     "data": {
      "image/png": "[encoded data removed]",
      "text/plain": [
       "<Figure size 432x288 with 1 Axes>"
      ]
     },
     "metadata": {
      "needs_background": "light"
     },
     "output_type": "display_data"
    }
   ],
   "source": [
    "import matplotlib.pyplot as plt\n",
    "import numpy as np\n",
    "import scipy.signal as sig\n",
    "import scipy.optimize as opti\n",
    "import scipy.special as sp\n",
    "import matplotlib.cm as cm\n",
    "import matplotlib\n",
    "\n",
    "plt.rc('font', family='serif', serif='Times')\n",
    "plt.rc('text', usetex=True)\n",
    "plt.rc('xtick', labelsize=8)\n",
    "plt.rc('ytick', labelsize=8)\n",
    "plt.rc('axes', labelsize=8)\n",
    "\n",
    "width = 3.487\n",
    "height = width / 1.618\n",
    "\n",
    "\n",
    "path = './data/powertrain_analysis/pickle/left_right_from_idle_1/'\n",
    "left_cmd = np.load(path+\"left_cmd.pk1\", allow_pickle=True)\n",
    "left_meas = np.load(path+\"left_meas.pk1\", allow_pickle=True)\n",
    "right_cmd = np.load(path+\"right_cmd.pk1\", allow_pickle=True)\n",
    "right_meas = np.load(path+\"right_meas.pk1\", allow_pickle=True)\n",
    "\n",
    "min_t = min(left_cmd['rosbagTimestamp'].tolist() + \n",
    "            left_meas['rosbagTimestamp'].tolist())\n",
    "\n",
    "for df in (left_cmd, left_meas):\n",
    "    df['rosbagTimestamp'] -= min_t\n",
    "    df['rosbagTimestamp'] *= 1e-9\n",
    "    \n",
    "plt.plot(left_cmd['rosbagTimestamp'], left_cmd['data'], color=\"tab:green\")\n",
    "plt.plot(left_meas['rosbagTimestamp'], left_meas['data'], color=\"tab:red\")"
   ]
  },
  {
   "cell_type": "code",
   "execution_count": 3,
   "metadata": {},
   "outputs": [],
   "source": [
    "#first order system\n",
    "tau=1\n",
    "T = sig.lti([], [-1/tau], 1)\n",
    "\n",
    "def step_FO_sys(t, tau=1, K=1, time_step=0):\n",
    "    if not isinstance(t, np.ndarray):\n",
    "        t = [t]\n",
    "    t = [max(t_, time_step) for t_ in t]\n",
    "    \n",
    "    f = np.vectorize(lambda ti: K*(1 - np.exp(-(ti-time_step)/tau)))\n",
    "    return f(t)\n",
    "\n",
    "def step_NO_sys(t, tau=1, K=1, n=1, delay=0, time_step=0):\n",
    "    if not isinstance(t, np.ndarray):\n",
    "        t = [t]\n",
    "    t = [max(t_, time_step+delay) for t_ in t]\n",
    "    \n",
    "    f = np.vectorize(lambda ti: K*(1.-sp.gammaincc(n, (ti-time_step-delay)/tau)))\n",
    "    return f(t)\n"
   ]
  },
  {
   "cell_type": "code",
   "execution_count": 5,
   "metadata": {},
   "outputs": [
    {
     "name": "stderr",
     "output_type": "stream",
     "text": [
      "findfont: Font family ['serif'] not found. Falling back to DejaVu Sans.\n"
     ]
    },
    {
     "name": "stdout",
     "output_type": "stream",
     "text": [
      "1.1314148580853614 1.0\n"
     ]
    },
    {
     "data": {
      "image/png": "[encoded data removed]",
      "text/plain": [
       "<Figure size 251.064x155.169 with 2 Axes>"
      ]
     },
     "metadata": {
      "needs_background": "light"
     },
     "output_type": "display_data"
    }
   ],
   "source": [
    "\n",
    "#extract step response\n",
    "t_step = (60.,80.)\n",
    "cmd = left_cmd[ (t_step[0] <= left_cmd.rosbagTimestamp) & (t_step[1] >= left_cmd.rosbagTimestamp)]\n",
    "reading = left_meas[ (t_step[0] <= left_meas.rosbagTimestamp) & (t_step[1] >= left_meas.rosbagTimestamp)]\n",
    "\n",
    "time_start = min(cmd[cmd.data > 1e-1 ]['rosbagTimestamp'])\n",
    "K = max(cmd['data'])\n",
    "\n",
    "#plotplot\n",
    "\n",
    "plt.figure()\n",
    "fig=plt.gcf()\n",
    "ax = plt.gca()\n",
    "\n",
    "ax.plot(cmd['rosbagTimestamp'], cmd['data'], color=\"tab:green\", label=\"command\")\n",
    "ax.plot(reading['rosbagTimestamp'], reading['data'], color=\"tab:red\", label=\"reading\")\n",
    "\n",
    "min_diff=.5\n",
    "max_diff=3\n",
    "max_ts = np.linspace(time_start+min_diff,time_start+max_diff, 20)\n",
    "\n",
    "cmap = cm.get_cmap('plasma')\n",
    "norm = matplotlib.colors.Normalize(vmin=min_diff, vmax=max_diff)\n",
    "\n",
    "for max_t in max_ts:\n",
    "    f_opti = lambda t,tau,d: step_FO_sys(t, tau, K, time_start)\n",
    "    ts = reading[reading.rosbagTimestamp <= max_t]['rosbagTimestamp'].to_list()\n",
    "    data = reading[reading.rosbagTimestamp <= max_t]['data']\n",
    "    params = opti.curve_fit(f_opti, ts, data,\n",
    "                           bounds = [(0,0),(np.inf, np.inf)])\n",
    "\n",
    "    tau = params[0][0]\n",
    "    # n = params[0][1]\n",
    "    delay=params[0][1]\n",
    "    \n",
    "    tsp = reading['rosbagTimestamp'].to_list()\n",
    "    ax.plot(tsp, [f_opti(t, tau, delay) for t in tsp], color=cmap(norm(max_t - max_ts[0])), alpha=1, lw=.1+2*norm(max_t - max_ts[0]))\n",
    "print(tau, delay)\n",
    "    \n",
    "    \n",
    "cax = fig.add_axes([0.85, 0.18, 0.03, 0.72])\n",
    "cbar = fig.colorbar(cm.ScalarMappable(norm=norm, cmap=cmap), cax=cax, label=r\"Optimization window\")\n",
    "\n",
    "ax.legend()\n",
    "\n",
    "fig.subplots_adjust(left=0.1, bottom=.24, top=.90, right=.75, wspace=.1)\n",
    "\n",
    "ax.set_xlabel(\"t [s]\")\n",
    "ax.set_ylabel(\"speed [m/s]\")\n",
    "\n",
    "# ax.axvline(time_start+2)\n",
    "\n",
    "fig.set_size_inches(width, height)\n",
    "fig.savefig('figs/step1.jpg', dpi=300)"
   ]
  },
  {
   "cell_type": "code",
   "execution_count": null,
   "metadata": {},
   "outputs": [],
   "source": [
    "\n",
    "#extract step response\n",
    "t_step = (25.,50.)\n",
    "cmd = left_cmd[ (t_step[0] <= left_cmd.rosbagTimestamp) & (t_step[1] >= left_cmd.rosbagTimestamp)]\n",
    "reading = left_meas[ (t_step[0] <= left_meas.rosbagTimestamp) & (t_step[1] >= left_meas.rosbagTimestamp)]\n",
    "\n",
    "time_start = min(cmd[cmd.data < -1e-1 ]['rosbagTimestamp'])\n",
    "K = min(cmd['data'])\n",
    "\n",
    "#plotplot\n",
    "\n",
    "plt.figure()\n",
    "fig=plt.gcf()\n",
    "ax = plt.gca()\n",
    "\n",
    "ax.plot(cmd['rosbagTimestamp'], cmd['data'], color=\"tab:green\", label=\"command\")\n",
    "ax.plot(reading['rosbagTimestamp'], reading['data'], color=\"tab:red\", label=\"reading\")\n",
    "\n",
    "min_diff=.5\n",
    "max_diff=3\n",
    "max_ts = np.linspace(time_start+min_diff,time_start+max_diff, 100)\n",
    "\n",
    "cmap = cm.get_cmap('plasma')\n",
    "norm = matplotlib.colors.Normalize(vmin=min_diff, vmax=max_diff)\n",
    "\n",
    "for max_t in max_ts:\n",
    "    f_opti = lambda t,tau: step_FO_sys(t, tau, K, time_start)\n",
    "    ts = reading[reading.rosbagTimestamp <= max_t]['rosbagTimestamp'].to_list()\n",
    "    data = reading[reading.rosbagTimestamp <= max_t]['data']\n",
    "    params = opti.curve_fit(f_opti, ts, data)\n",
    "\n",
    "    tau = params[0][0]\n",
    "\n",
    "    tsp = reading['rosbagTimestamp'].to_list()\n",
    "    ax.plot(tsp, [f_opti(t, tau) for t in tsp], color=cmap(norm(max_t - max_ts[0])), alpha=.3, lw=2)\n",
    "    \n",
    "cax = fig.add_axes([0.85, 0.18, 0.03, 0.72])\n",
    "cbar = fig.colorbar(cm.ScalarMappable(norm=norm, cmap=cmap), cax=cax, label=r\"Optimization window\")\n",
    "\n",
    "ax.legend()\n",
    "\n",
    "fig.subplots_adjust(left=0.1, bottom=.24, top=.90, right=.75, wspace=.1)\n",
    "\n",
    "ax.set_xlabel(\"t [s]\")\n",
    "ax.set_ylabel(\"speed [m/s]\")\n",
    "\n",
    "print(tau)\n",
    "\n",
    "# ax.axvline(time_start+2)\n",
    "\n",
    "fig.set_size_inches(width, height)\n",
    "fig.savefig('figs/step2.jpg', dpi=300)"
   ]
  },
  {
   "cell_type": "code",
   "execution_count": null,
   "metadata": {},
   "outputs": [],
   "source": []
  },
  {
   "cell_type": "code",
   "execution_count": null,
   "metadata": {},
   "outputs": [],
   "source": []
  },
  {
   "cell_type": "code",
   "execution_count": null,
   "metadata": {},
   "outputs": [],
   "source": []
  }
 ],
 "metadata": {
  "kernelspec": {
   "display_name": "Python 3 (ipykernel)",
   "language": "python",
   "name": "python3"
  },
  "language_info": {
   "codemirror_mode": {
    "name": "ipython",
    "version": 3
   },
   "file_extension": ".py",
   "mimetype": "text/x-python",
   "name": "python",
   "nbconvert_exporter": "python",
   "pygments_lexer": "ipython3",
   "version": "3.6.9"
  }
 },
 "nbformat": 4,
 "nbformat_minor": 5
}
