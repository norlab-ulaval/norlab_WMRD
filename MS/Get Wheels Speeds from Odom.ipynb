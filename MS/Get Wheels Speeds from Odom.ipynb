{
 "cells": [
  {
   "cell_type": "code",
   "execution_count": 1,
   "id": "74519d00",
   "metadata": {},
   "outputs": [],
   "source": [
    "import pandas as pd\n",
    "import numpy as np"
   ]
  },
  {
   "cell_type": "code",
   "execution_count": 6,
   "id": "55861ecf",
   "metadata": {},
   "outputs": [],
   "source": [
    "odom = pd.read_csv(\"_slash_husky_velocity_controller_slash_odom.csv\", skiprows=[1])"
   ]
  },
  {
   "cell_type": "code",
   "execution_count": 7,
   "id": "efc98d9e",
   "metadata": {},
   "outputs": [
    {
     "name": "stdout",
     "output_type": "stream",
     "text": [
      "           rosbagTimestamp  header    seq  stamp        secs      nsecs  \\\n",
      "0      1659466087882362901     NaN  52552    NaN  1659466087  882066715   \n",
      "1      1659466087995320795     NaN  52553    NaN  1659466087  994482193   \n",
      "2      1659466088074671693     NaN  52554    NaN  1659466088   74333058   \n",
      "3      1659466088202680170     NaN  52555    NaN  1659466088  201915623   \n",
      "4      1659466088314118960     NaN  52556    NaN  1659466088  313794099   \n",
      "...                    ...     ...    ...    ...         ...        ...   \n",
      "18348  1659467923008103280     NaN  70900    NaN  1659467923    7542262   \n",
      "18349  1659467923104110923     NaN  70901    NaN  1659467923  103657329   \n",
      "18350  1659467923216037317     NaN  70902    NaN  1659467923  215467320   \n",
      "18351  1659467923295466443     NaN  70903    NaN  1659467923  294876266   \n",
      "18352  1659467923439528105     NaN  70904    NaN  1659467923  439086420   \n",
      "\n",
      "      frame_id child_frame_id  pose  pose.1  ...  twist.1  linear  \\\n",
      "0       \"odom\"    \"base_link\"   NaN     NaN  ...      NaN     NaN   \n",
      "1       \"odom\"    \"base_link\"   NaN     NaN  ...      NaN     NaN   \n",
      "2       \"odom\"    \"base_link\"   NaN     NaN  ...      NaN     NaN   \n",
      "3       \"odom\"    \"base_link\"   NaN     NaN  ...      NaN     NaN   \n",
      "4       \"odom\"    \"base_link\"   NaN     NaN  ...      NaN     NaN   \n",
      "...        ...            ...   ...     ...  ...      ...     ...   \n",
      "18348   \"odom\"    \"base_link\"   NaN     NaN  ...      NaN     NaN   \n",
      "18349   \"odom\"    \"base_link\"   NaN     NaN  ...      NaN     NaN   \n",
      "18350   \"odom\"    \"base_link\"   NaN     NaN  ...      NaN     NaN   \n",
      "18351   \"odom\"    \"base_link\"   NaN     NaN  ...      NaN     NaN   \n",
      "18352   \"odom\"    \"base_link\"   NaN     NaN  ...      NaN     NaN   \n",
      "\n",
      "                x.2  y.2  z.2  angular  x.3  y.3           z.3  \\\n",
      "0     -3.677614e-16  0.0  0.0      NaN  0.0  0.0 -2.187802e-16   \n",
      "1     -3.677614e-16  0.0  0.0      NaN  0.0  0.0 -2.187802e-16   \n",
      "2     -3.677614e-16  0.0  0.0      NaN  0.0  0.0 -2.187802e-16   \n",
      "3     -3.677614e-16  0.0  0.0      NaN  0.0  0.0 -2.187802e-16   \n",
      "4     -3.677614e-16  0.0  0.0      NaN  0.0  0.0 -2.187802e-16   \n",
      "...             ...  ...  ...      ...  ...  ...           ...   \n",
      "18348 -1.929013e-15  0.0  0.0      NaN  0.0  0.0 -4.145904e-15   \n",
      "18349 -1.929013e-15  0.0  0.0      NaN  0.0  0.0 -4.145904e-15   \n",
      "18350 -1.929013e-15  0.0  0.0      NaN  0.0  0.0 -4.145904e-15   \n",
      "18351 -1.929013e-15  0.0  0.0      NaN  0.0  0.0 -4.145904e-15   \n",
      "18352 -1.929013e-15  0.0  0.0      NaN  0.0  0.0 -4.145904e-15   \n",
      "\n",
      "                                            covariance.1  \n",
      "0      [0.001, 0.0, 0.0, 0.0, 0.0, 0.0, 0.0, 0.001, 0...  \n",
      "1      [0.001, 0.0, 0.0, 0.0, 0.0, 0.0, 0.0, 0.001, 0...  \n",
      "2      [0.001, 0.0, 0.0, 0.0, 0.0, 0.0, 0.0, 0.001, 0...  \n",
      "3      [0.001, 0.0, 0.0, 0.0, 0.0, 0.0, 0.0, 0.001, 0...  \n",
      "4      [0.001, 0.0, 0.0, 0.0, 0.0, 0.0, 0.0, 0.001, 0...  \n",
      "...                                                  ...  \n",
      "18348  [0.001, 0.0, 0.0, 0.0, 0.0, 0.0, 0.0, 0.001, 0...  \n",
      "18349  [0.001, 0.0, 0.0, 0.0, 0.0, 0.0, 0.0, 0.001, 0...  \n",
      "18350  [0.001, 0.0, 0.0, 0.0, 0.0, 0.0, 0.0, 0.001, 0...  \n",
      "18351  [0.001, 0.0, 0.0, 0.0, 0.0, 0.0, 0.0, 0.001, 0...  \n",
      "18352  [0.001, 0.0, 0.0, 0.0, 0.0, 0.0, 0.0, 0.001, 0...  \n",
      "\n",
      "[18353 rows x 31 columns]\n"
     ]
    }
   ],
   "source": [
    "print(odom)"
   ]
  },
  {
   "cell_type": "code",
   "execution_count": null,
   "id": "a8389a0e",
   "metadata": {},
   "outputs": [],
   "source": []
  }
 ],
 "metadata": {
  "kernelspec": {
   "display_name": "Python 3",
   "language": "python",
   "name": "python3"
  },
  "language_info": {
   "codemirror_mode": {
    "name": "ipython",
    "version": 3
   },
   "file_extension": ".py",
   "mimetype": "text/x-python",
   "name": "python",
   "nbconvert_exporter": "python",
   "pygments_lexer": "ipython3",
   "version": "3.8.8"
  }
 },
 "nbformat": 4,
 "nbformat_minor": 5
}
