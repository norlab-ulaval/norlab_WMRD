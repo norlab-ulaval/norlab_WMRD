{
 "cells": [
  {
   "cell_type": "code",
   "execution_count": 6,
   "id": "db5cc521",
   "metadata": {},
   "outputs": [],
   "source": [
    "import numpy as np"
   ]
  },
  {
   "cell_type": "markdown",
   "id": "af613fbf",
   "metadata": {},
   "source": [
    "# Vehicles measurements"
   ]
  },
  {
   "cell_type": "code",
   "execution_count": 7,
   "id": "068b976d",
   "metadata": {},
   "outputs": [],
   "source": [
    "b_body_width_in_meters = 1\n",
    "r_wheels_radius_in_meters = 1"
   ]
  },
  {
   "cell_type": "markdown",
   "id": "ec74e95b",
   "metadata": {},
   "source": [
    "# Some maths and definitions"
   ]
  },
  {
   "cell_type": "code",
   "execution_count": 8,
   "id": "4a081f74",
   "metadata": {},
   "outputs": [],
   "source": [
    "J = r_wheels_radius_in_meters * np.array([[(1/2),(1/2)],\n",
    "             [0,0],\n",
    "             [(-1/b_body_width_in_meters), (1/b_body_width_in_meters)]])"
   ]
  },
  {
   "cell_type": "code",
   "execution_count": 9,
   "id": "a8d84956",
   "metadata": {},
   "outputs": [],
   "source": [
    "def get_twist_speeds_from_wheels_speed(W_wheels_speed_in_rads_per_sec):\n",
    "    twist_speeds = J @ W_wheels_speed_in_rads_per_sec\n",
    "    return twist_speeds"
   ]
  },
  {
   "cell_type": "code",
   "execution_count": 15,
   "id": "6d3b2f48",
   "metadata": {},
   "outputs": [],
   "source": [
    "def get_wheels_speed_from_twist_speeds(twist_speeds):\n",
    "    wheels_speed = np.linalg.pinv(J) @ twist_speeds\n",
    "    return wheels_speed"
   ]
  },
  {
   "cell_type": "markdown",
   "id": "36264b73",
   "metadata": {},
   "source": [
    "# Testing"
   ]
  },
  {
   "cell_type": "code",
   "execution_count": 16,
   "id": "eff5ab5a",
   "metadata": {},
   "outputs": [
    {
     "name": "stdout",
     "output_type": "stream",
     "text": [
      "1.0 0.0 0.0\n"
     ]
    }
   ],
   "source": [
    "W_wheels_speed_in_rads_per_sec = np.array([1, 1])\n",
    "Vx, Vy, W = get_twist_speeds_from_wheels_speed(W_wheels_speed_in_rads_per_sec)\n",
    "print(Vx, Vy, W)"
   ]
  },
  {
   "cell_type": "code",
   "execution_count": 20,
   "id": "a82d7bd1",
   "metadata": {},
   "outputs": [
    {
     "data": {
      "text/plain": [
       "array([-0.25,  0.25])"
      ]
     },
     "execution_count": 20,
     "metadata": {},
     "output_type": "execute_result"
    }
   ],
   "source": [
    "test = np.array([0,0,0.5])\n",
    "get_wheels_speed_from_twist_speeds(test)"
   ]
  }
 ],
 "metadata": {
  "kernelspec": {
   "display_name": "Python 3",
   "language": "python",
   "name": "python3"
  },
  "language_info": {
   "codemirror_mode": {
    "name": "ipython",
    "version": 3
   },
   "file_extension": ".py",
   "mimetype": "text/x-python",
   "name": "python",
   "nbconvert_exporter": "python",
   "pygments_lexer": "ipython3",
   "version": "3.8.8"
  }
 },
 "nbformat": 4,
 "nbformat_minor": 5
}
