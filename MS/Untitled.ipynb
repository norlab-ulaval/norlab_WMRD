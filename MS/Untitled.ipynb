{
 "cells": [
  {
   "cell_type": "code",
   "execution_count": 35,
   "id": "db5cc521",
   "metadata": {},
   "outputs": [],
   "source": [
    "import numpy as np\n",
    "import pandas as pd"
   ]
  },
  {
   "cell_type": "markdown",
   "id": "af613fbf",
   "metadata": {},
   "source": [
    "# Vehicles measurements"
   ]
  },
  {
   "cell_type": "code",
   "execution_count": 7,
   "id": "068b976d",
   "metadata": {},
   "outputs": [],
   "source": [
    "b_body_width_in_meters = 1\n",
    "r_wheels_radius_in_meters = 1"
   ]
  },
  {
   "cell_type": "markdown",
   "id": "ec74e95b",
   "metadata": {},
   "source": [
    "# Some maths and definitions"
   ]
  },
  {
   "cell_type": "code",
   "execution_count": 8,
   "id": "4a081f74",
   "metadata": {},
   "outputs": [],
   "source": [
    "J = r_wheels_radius_in_meters * np.array([[(1/2),(1/2)],\n",
    "             [0,0],\n",
    "             [(-1/b_body_width_in_meters), (1/b_body_width_in_meters)]])"
   ]
  },
  {
   "cell_type": "code",
   "execution_count": 9,
   "id": "a8d84956",
   "metadata": {},
   "outputs": [],
   "source": [
    "def get_twist_speeds_from_wheels_speed(W_wheels_speed_in_rads_per_sec):\n",
    "    twist_speeds = J @ W_wheels_speed_in_rads_per_sec\n",
    "    return twist_speeds"
   ]
  },
  {
   "cell_type": "code",
   "execution_count": 15,
   "id": "6d3b2f48",
   "metadata": {},
   "outputs": [],
   "source": [
    "def get_wheels_speed_from_twist_speeds(twist_speeds):\n",
    "    wheels_speed = np.linalg.pinv(J) @ twist_speeds\n",
    "    return wheels_speed"
   ]
  },
  {
   "cell_type": "code",
   "execution_count": 45,
   "id": "e60d5b93",
   "metadata": {},
   "outputs": [],
   "source": [
    "def import_joint_states(path):\n",
    "    odom = pd.read_csv(path, skiprows=[1])\n",
    "    print(odom.DataFrame)"
   ]
  },
  {
   "cell_type": "markdown",
   "id": "36264b73",
   "metadata": {},
   "source": [
    "# Testing"
   ]
  },
  {
   "cell_type": "code",
   "execution_count": 46,
   "id": "eff5ab5a",
   "metadata": {},
   "outputs": [
    {
     "data": {
      "text/plain": [
       "array([1., 0., 0.])"
      ]
     },
     "execution_count": 46,
     "metadata": {},
     "output_type": "execute_result"
    }
   ],
   "source": [
    "W_wheels_speed_in_rads_per_sec = np.array([1, 1])\n",
    "get_twist_speeds_from_wheels_speed(W_wheels_speed_in_rads_per_sec)"
   ]
  },
  {
   "cell_type": "code",
   "execution_count": 47,
   "id": "a82d7bd1",
   "metadata": {},
   "outputs": [
    {
     "data": {
      "text/plain": [
       "array([-0.25,  0.25])"
      ]
     },
     "execution_count": 47,
     "metadata": {},
     "output_type": "execute_result"
    }
   ],
   "source": [
    "test = np.array([0,0,0.5])\n",
    "get_wheels_speed_from_twist_speeds(test)"
   ]
  },
  {
   "cell_type": "code",
   "execution_count": 48,
   "id": "b31bed30",
   "metadata": {},
   "outputs": [
    {
     "ename": "AttributeError",
     "evalue": "'DataFrame' object has no attribute 'DataFrame'",
     "output_type": "error",
     "traceback": [
      "\u001b[0;31m---------------------------------------------------------------------------\u001b[0m",
      "\u001b[0;31mAttributeError\u001b[0m                            Traceback (most recent call last)",
      "\u001b[0;32m<ipython-input-48-d5421b18004e>\u001b[0m in \u001b[0;36m<module>\u001b[0;34m\u001b[0m\n\u001b[0;32m----> 1\u001b[0;31m \u001b[0mimport_joint_states\u001b[0m\u001b[0;34m(\u001b[0m\u001b[0;34m\"_slash_joint_states.csv\"\u001b[0m\u001b[0;34m)\u001b[0m\u001b[0;34m\u001b[0m\u001b[0;34m\u001b[0m\u001b[0m\n\u001b[0m",
      "\u001b[0;32m<ipython-input-45-61a7bc18d12a>\u001b[0m in \u001b[0;36mimport_joint_states\u001b[0;34m(path)\u001b[0m\n\u001b[1;32m      1\u001b[0m \u001b[0;32mdef\u001b[0m \u001b[0mimport_joint_states\u001b[0m\u001b[0;34m(\u001b[0m\u001b[0mpath\u001b[0m\u001b[0;34m)\u001b[0m\u001b[0;34m:\u001b[0m\u001b[0;34m\u001b[0m\u001b[0;34m\u001b[0m\u001b[0m\n\u001b[1;32m      2\u001b[0m     \u001b[0modom\u001b[0m \u001b[0;34m=\u001b[0m \u001b[0mpd\u001b[0m\u001b[0;34m.\u001b[0m\u001b[0mread_csv\u001b[0m\u001b[0;34m(\u001b[0m\u001b[0mpath\u001b[0m\u001b[0;34m,\u001b[0m \u001b[0mskiprows\u001b[0m\u001b[0;34m=\u001b[0m\u001b[0;34m[\u001b[0m\u001b[0;36m1\u001b[0m\u001b[0;34m]\u001b[0m\u001b[0;34m)\u001b[0m\u001b[0;34m\u001b[0m\u001b[0;34m\u001b[0m\u001b[0m\n\u001b[0;32m----> 3\u001b[0;31m     \u001b[0mprint\u001b[0m\u001b[0;34m(\u001b[0m\u001b[0modom\u001b[0m\u001b[0;34m.\u001b[0m\u001b[0mDataFrame\u001b[0m\u001b[0;34m)\u001b[0m\u001b[0;34m\u001b[0m\u001b[0;34m\u001b[0m\u001b[0m\n\u001b[0m",
      "\u001b[0;32m/opt/anaconda3/lib/python3.8/site-packages/pandas/core/generic.py\u001b[0m in \u001b[0;36m__getattr__\u001b[0;34m(self, name)\u001b[0m\n\u001b[1;32m   5463\u001b[0m             \u001b[0;32mif\u001b[0m \u001b[0mself\u001b[0m\u001b[0;34m.\u001b[0m\u001b[0m_info_axis\u001b[0m\u001b[0;34m.\u001b[0m\u001b[0m_can_hold_identifiers_and_holds_name\u001b[0m\u001b[0;34m(\u001b[0m\u001b[0mname\u001b[0m\u001b[0;34m)\u001b[0m\u001b[0;34m:\u001b[0m\u001b[0;34m\u001b[0m\u001b[0;34m\u001b[0m\u001b[0m\n\u001b[1;32m   5464\u001b[0m                 \u001b[0;32mreturn\u001b[0m \u001b[0mself\u001b[0m\u001b[0;34m[\u001b[0m\u001b[0mname\u001b[0m\u001b[0;34m]\u001b[0m\u001b[0;34m\u001b[0m\u001b[0;34m\u001b[0m\u001b[0m\n\u001b[0;32m-> 5465\u001b[0;31m             \u001b[0;32mreturn\u001b[0m \u001b[0mobject\u001b[0m\u001b[0;34m.\u001b[0m\u001b[0m__getattribute__\u001b[0m\u001b[0;34m(\u001b[0m\u001b[0mself\u001b[0m\u001b[0;34m,\u001b[0m \u001b[0mname\u001b[0m\u001b[0;34m)\u001b[0m\u001b[0;34m\u001b[0m\u001b[0;34m\u001b[0m\u001b[0m\n\u001b[0m\u001b[1;32m   5466\u001b[0m \u001b[0;34m\u001b[0m\u001b[0m\n\u001b[1;32m   5467\u001b[0m     \u001b[0;32mdef\u001b[0m \u001b[0m__setattr__\u001b[0m\u001b[0;34m(\u001b[0m\u001b[0mself\u001b[0m\u001b[0;34m,\u001b[0m \u001b[0mname\u001b[0m\u001b[0;34m:\u001b[0m \u001b[0mstr\u001b[0m\u001b[0;34m,\u001b[0m \u001b[0mvalue\u001b[0m\u001b[0;34m)\u001b[0m \u001b[0;34m->\u001b[0m \u001b[0;32mNone\u001b[0m\u001b[0;34m:\u001b[0m\u001b[0;34m\u001b[0m\u001b[0;34m\u001b[0m\u001b[0m\n",
      "\u001b[0;31mAttributeError\u001b[0m: 'DataFrame' object has no attribute 'DataFrame'"
     ]
    }
   ],
   "source": [
    "import_joint_states(\"_slash_joint_states.csv\")"
   ]
  },
  {
   "cell_type": "code",
   "execution_count": null,
   "id": "a75aa7ab",
   "metadata": {},
   "outputs": [],
   "source": []
  }
 ],
 "metadata": {
  "kernelspec": {
   "display_name": "Python 3",
   "language": "python",
   "name": "python3"
  },
  "language_info": {
   "codemirror_mode": {
    "name": "ipython",
    "version": 3
   },
   "file_extension": ".py",
   "mimetype": "text/x-python",
   "name": "python",
   "nbconvert_exporter": "python",
   "pygments_lexer": "ipython3",
   "version": "3.8.8"
  }
 },
 "nbformat": 4,
 "nbformat_minor": 5
}
