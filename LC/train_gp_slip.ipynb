{
 "cells": [
  {
   "cell_type": "code",
   "execution_count": 61,
   "id": "8d6cf5f4-8da7-40e9-b646-e15a41a07312",
   "metadata": {},
   "outputs": [
    {
     "name": "stdout",
     "output_type": "stream",
     "text": [
      "3.10.6 (main, Nov 14 2022, 16:10:14) [GCC 11.3.0]\n"
     ]
    }
   ],
   "source": [
    "import numpy as np\n",
    "import pandas as pd\n",
    "import scipy.linalg\n",
    "\n",
    "import matplotlib.pyplot as plt\n",
    "from mpl_toolkits.mplot3d import axes3d\n",
    "\n",
    "import sys\n",
    "print(sys.version)\n",
    "sys.path.append('../')\n",
    "\n",
    "from models.powertrain.bounded_powertrain import Bounded_powertrain\n",
    "from models.kinematic.ideal_diff_drive import Ideal_diff_drive\n",
    "from models.kinematic.ICR_based import *\n",
    "from models.kinematic.Perturbed_unicycle import *\n",
    "from models.kinematic.enhanced_kinematic import *\n"
   ]
  },
  {
   "cell_type": "code",
   "execution_count": 62,
   "id": "846f77f8-2377-482b-9e7f-e21a1e7ed4b3",
   "metadata": {},
   "outputs": [
    {
     "name": "stdout",
     "output_type": "stream",
     "text": [
      "   init_icp_x  init_icp_y  init_icp_z  init_icp_roll  init_icp_pitch  \\\n",
      "0         0.0         0.0         0.0            0.0             0.0   \n",
      "1         0.0         0.0         0.0            0.0             0.0   \n",
      "2         0.0         0.0         0.0            0.0             0.0   \n",
      "3         0.0         0.0         0.0            0.0             0.0   \n",
      "4         0.0         0.0         0.0            0.0             0.0   \n",
      "\n",
      "   init_icp_yaw  calib_step  cmd_left_0  cmd_right_0  cmd_left_1  ...  \\\n",
      "0           0.0         0.0    0.000000     0.000000    6.337527  ...   \n",
      "1           0.0         0.0    6.337527     6.558533    6.337527  ...   \n",
      "2           0.0         0.0    6.337527     6.558533    6.337527  ...   \n",
      "3           0.0         1.0   -5.933710     5.305197   -5.933710  ...   \n",
      "4           0.0         1.0   -5.933710     5.305197   -5.933710  ...   \n",
      "\n",
      "   body_vel_disturption_yaw_30  body_vel_disturption_yaw_31  \\\n",
      "0                     0.001605                     0.006716   \n",
      "1                    -0.003664                    -0.004462   \n",
      "2                     0.035404                     0.024445   \n",
      "3                    -0.436207                    -0.427349   \n",
      "4                     1.415197                     1.747023   \n",
      "\n",
      "   body_vel_disturption_yaw_32  body_vel_disturption_yaw_33  \\\n",
      "0                     0.017343                     0.025290   \n",
      "1                    -0.004982                    -0.005214   \n",
      "2                     0.005511                    -0.011774   \n",
      "3                    -0.408820                    -0.387365   \n",
      "4                     1.787952                     1.410041   \n",
      "\n",
      "   body_vel_disturption_yaw_34  body_vel_disturption_yaw_35  \\\n",
      "0                     0.024934                     0.020090   \n",
      "1                    -0.005224                    -0.005149   \n",
      "2                    -0.021206                    -0.026605   \n",
      "3                    -0.358591                    -0.331346   \n",
      "4                     0.570877                    -0.600815   \n",
      "\n",
      "   body_vel_disturption_yaw_36  body_vel_disturption_yaw_37  \\\n",
      "0                     0.017515                     0.016509   \n",
      "1                    -0.005063                    -0.004978   \n",
      "2                    -0.019148                    -0.010976   \n",
      "3                    -0.303292                    -0.283153   \n",
      "4                    -1.782877                    -2.689737   \n",
      "\n",
      "   body_vel_disturption_yaw_38  body_vel_disturption_yaw_39  \n",
      "0                     0.017604                     0.017604  \n",
      "1                    -0.004937                    -0.004937  \n",
      "2                    -0.002586                    -0.002586  \n",
      "3                    -0.267858                    -0.266377  \n",
      "4                    -2.858565                    -2.858565  \n",
      "\n",
      "[5 rows x 978 columns]\n"
     ]
    }
   ],
   "source": [
    "#import training dataset\n",
    "\n",
    "dataset_snow = pd.read_pickle('/home/dominic/repos/norlab_WMRD/data/marmotte/ga_hard_snow_25_01_a/slip_dataset_all.pkl')\n",
    "\n",
    "print(dataset_snow.head())"
   ]
  },
  {
   "cell_type": "code",
   "execution_count": 87,
   "id": "52540d19-adc5-41d8-9963-622a06eff206",
   "metadata": {},
   "outputs": [
    {
     "name": "stdout",
     "output_type": "stream",
     "text": [
      "2.8881285042196287\n"
     ]
    }
   ],
   "source": [
    "# extract body_vel_distruptions arrays (output arrays)\n",
    "\n",
    "str_body_vel_disturption_x_list = []\n",
    "str_body_vel_disturption_y_list = []\n",
    "str_body_vel_disturption_yaw_list = []\n",
    "for i in range(0, 40):\n",
    "    str_body_vel_disturption_x_i = 'body_vel_disturption_x_' + str(i)\n",
    "    str_body_vel_disturption_y_i = 'body_vel_disturption_y_' + str(i)\n",
    "    str_body_vel_disturption_yaw_i = 'body_vel_disturption_yaw_' + str(i)\n",
    "    str_body_vel_disturption_x_list.append(str_body_vel_disturption_x_i)\n",
    "    str_body_vel_disturption_y_list.append(str_body_vel_disturption_y_i)\n",
    "    str_body_vel_disturption_yaw_list.append(str_body_vel_disturption_yaw_i)\n",
    "    \n",
    "body_vel_disturption_x_array = dataset_snow[str_body_vel_disturption_x_list].to_numpy()\n",
    "body_vel_disturption_y_array = dataset_snow[str_body_vel_disturption_y_list].to_numpy()\n",
    "body_vel_disturption_yaw_array = dataset_snow[str_body_vel_disturption_yaw_list].to_numpy()\n",
    "\n",
    "y_train_longitudinal_slip = body_vel_disturption_x_array.flatten()\n",
    "y_train_lateral_slip = body_vel_disturption_y_array.flatten()\n",
    "y_train_angular_slip = body_vel_disturption_yaw_array.flatten()\n",
    "\n",
    "print(np.max(y_train_angular_slip))"
   ]
  },
  {
   "cell_type": "code",
   "execution_count": 64,
   "id": "abfcddcf-c331-4591-b6c2-64e06b286418",
   "metadata": {},
   "outputs": [],
   "source": [
    "# extract interpolated_icp\n",
    "\n",
    "str_icp_interpolated_x_list = []\n",
    "str_icp_interpolated_y_list = []\n",
    "str_icp_interpolated_yaw_list = []\n",
    "for i in range(0, 40):\n",
    "    str_icp_interpolated_x_i = 'icp_interpolated_x_' + str(i)\n",
    "    str_icp_interpolated_y_i = 'icp_interpolated_y_' + str(i)\n",
    "    str_icp_interpolated_yaw_i = 'icp_interpolated_yaw_' + str(i)\n",
    "    str_icp_interpolated_x_list.append(str_icp_interpolated_x_i)\n",
    "    str_icp_interpolated_y_list.append(str_icp_interpolated_y_i)\n",
    "    str_icp_interpolated_yaw_list.append(str_icp_interpolated_yaw_i)\n",
    "    \n",
    "icp_interpolated_x_array = dataset_snow[str_icp_interpolated_x_list].to_numpy()\n",
    "icp_interpolated_y_array = dataset_snow[str_icp_interpolated_y_list].to_numpy()\n",
    "icp_interpolated_yaw_array = dataset_snow[str_icp_interpolated_yaw_list].to_numpy()"
   ]
  },
  {
   "cell_type": "code",
   "execution_count": 65,
   "id": "dd8d3493-6379-407b-a3dd-3b3a153958ce",
   "metadata": {},
   "outputs": [],
   "source": [
    "# extract icp vels\n",
    "\n",
    "str_icp_vel_x_list = []\n",
    "str_icp_vel_y_list = []\n",
    "str_icp_vel_yaw_list = []\n",
    "for i in range(0, 40):\n",
    "    str_icp_vel_x_i = 'icp_vel_x_' + str(i)\n",
    "    str_icp_vel_y_i = 'icp_vel_y_' + str(i)\n",
    "    str_icp_vel_yaw_i = 'icp_vel_yaw_' + str(i)\n",
    "    str_icp_vel_x_list.append(str_icp_vel_x_i)\n",
    "    str_icp_vel_y_list.append(str_icp_vel_y_i)\n",
    "    str_icp_vel_yaw_list.append(str_icp_vel_yaw_i)\n",
    "    \n",
    "icp_vel_x_array = dataset_snow[str_icp_vel_x_list].to_numpy()\n",
    "icp_vel_y_array = dataset_snow[str_icp_vel_y_list].to_numpy()\n",
    "icp_vel_yaw_array = dataset_snow[str_icp_vel_yaw_list].to_numpy()"
   ]
  },
  {
   "cell_type": "code",
   "execution_count": 66,
   "id": "d5ae268d-283b-4546-92d7-c44a76303e7f",
   "metadata": {},
   "outputs": [],
   "source": [
    "# extract cmd_body_vel arrays (input arrays)\n",
    "\n",
    "idd_body_vel_x_str_list = []\n",
    "idd_body_vel_y_str_list = []\n",
    "idd_body_vel_yaw_str_list = []\n",
    "for i in range(0, 40):\n",
    "    str_idd_vel_x_i = 'idd_vel_x_' + str(i)\n",
    "    str_idd_vel_y_i = 'idd_vel_y_' + str(i)\n",
    "    str_idd_vel_yaw_i = 'idd_vel_yaw_' + str(i)\n",
    "    idd_body_vel_x_str_list.append(str_idd_vel_x_i)\n",
    "    idd_body_vel_y_str_list.append(str_idd_vel_y_i)\n",
    "    idd_body_vel_yaw_str_list.append(str_idd_vel_yaw_i)\n",
    "idd_body_vel_x_array = dataset_snow[idd_body_vel_x_str_list].to_numpy()\n",
    "idd_body_vel_y_array = dataset_snow[idd_body_vel_y_str_list].to_numpy()\n",
    "idd_body_vel_yaw_array = dataset_snow[idd_body_vel_yaw_str_list].to_numpy()\n",
    "\n",
    "x_train = np.column_stack((idd_body_vel_x_array.flatten(), idd_body_vel_yaw_array.flatten()))"
   ]
  },
  {
   "cell_type": "code",
   "execution_count": 97,
   "id": "02c55a63-390f-412c-ab44-f2eac6512c1f",
   "metadata": {},
   "outputs": [
    {
     "name": "stdout",
     "output_type": "stream",
     "text": [
      "0.04403050991009042\n",
      "0.05318392508050409\n",
      "[ 0.0025532  -0.00852464 -0.01981363 -0.03161335 -0.04396027 -0.05677934\n",
      " -0.0695757  -0.08168755 -0.09202539 -0.09949836 -0.10286035 -0.10108302\n",
      " -0.09332637 -0.07893764 -0.0575554  -0.02853041  0.00803849  0.05013096\n",
      "  0.09543166  0.14351986  0.1939329   0.24411157  0.29160204  0.3360414\n",
      "  0.37804316  0.42016993  0.46511009  0.51381796  0.56634274  0.62063834\n",
      "  0.67451093  0.72750372  0.77945392  0.83106249  0.88252935  0.93436991\n",
      "  0.98628156  1.03858016  1.09109832  1.14419649]\n"
     ]
    },
    {
     "data": {
      "image/png": "[encoded data removed]",
      "text/plain": [
       "<Figure size 432x288 with 1 Axes>"
      ]
     },
     "metadata": {
      "needs_background": "light"
     },
     "output_type": "display_data"
    }
   ],
   "source": [
    "test_window = 18\n",
    "\n",
    "plt.plot(body_vel_disturption_yaw_array[test_window, :])\n",
    "plt.plot(idd_body_vel_yaw_array[test_window, :])\n",
    "plt.plot(icp_vel_yaw_array[test_window, :])\n",
    "plt.plot(icp_interpolated_yaw_array[test_window, :])\n",
    "\n",
    "# plt.ylim(-1.5, 1.5)\n",
    "\n",
    "print(dataset_snow.loc[test_window]['icp_vel_x_1'])\n",
    "print(dataset_snow.loc[test_window]['icp_vel_x_2'])\n",
    "print(icp_interpolated_yaw_array[test_window])\n"
   ]
  },
  {
   "cell_type": "code",
   "execution_count": null,
   "id": "e46cf3fe-bda0-4ee5-a761-eec263be4a2c",
   "metadata": {},
   "outputs": [],
   "source": []
  }
 ],
 "metadata": {
  "kernelspec": {
   "display_name": "Python 3 (ipykernel)",
   "language": "python",
   "name": "python3"
  },
  "language_info": {
   "codemirror_mode": {
    "name": "ipython",
    "version": 3
   },
   "file_extension": ".py",
   "mimetype": "text/x-python",
   "name": "python",
   "nbconvert_exporter": "python",
   "pygments_lexer": "ipython3",
   "version": "3.10.6"
  }
 },
 "nbformat": 4,
 "nbformat_minor": 5
}
