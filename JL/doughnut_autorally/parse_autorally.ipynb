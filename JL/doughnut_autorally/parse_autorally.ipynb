{
 "cells": [
  {
   "cell_type": "code",
   "execution_count": 108,
   "id": "168eb2a3-a658-4c77-b0fd-3f99a633132e",
   "metadata": {},
   "outputs": [],
   "source": [
    "import matplotlib.pyplot as plt\n",
    "import numpy as np\n",
    "import pandas as pd\n",
    "import rosbag\n",
    "from tqdm import tqdm\n",
    "import glob, os\n",
    "\n",
    "plt.rc('font', family='serif', serif='Times')\n",
    "plt.rc('text', usetex=True)\n",
    "plt.rc('xtick', labelsize=8)\n",
    "plt.rc('ytick', labelsize=8)\n",
    "plt.rc('axes', labelsize=8)\n",
    "\n",
    "width = 3.487\n",
    "height = width / 1.618\n",
    "\n",
    "def to_time(timestamp):\n",
    "    return timestamp.secs + 1e-9*timestamp.nsecs\n",
    "\n",
    "path='/home/johann/Documents/PostDoc-Norlab/dev/Dominic/doughnut_autorally/data/'\n",
    "file='PlatformA_2016-06-09-16-07-44_no_images.bag'\n",
    "\n",
    "wheelbase=.57\n",
    "\n",
    "os.chdir(path)\n",
    "files = list(glob.glob(\"*.bag\"))\n"
   ]
  },
  {
   "cell_type": "code",
   "execution_count": 89,
   "id": "0119ef09-2856-4403-91a5-065ce43cd1b2",
   "metadata": {},
   "outputs": [
    {
     "name": "stderr",
     "output_type": "stream",
     "text": [
      "100%|██████████| 15/15 [00:46<00:00,  3.09s/it]\n"
     ]
    }
   ],
   "source": [
    "cols = ['t', 'v_rf', 'v_rb', 'v_lf', 'v_lb', 'steering', 'angular_v']\n",
    "\n",
    "df = pd.DataFrame(columns=cols)\n",
    "\n",
    "for file in tqdm(files):\n",
    "    bag = rosbag.Bag(files[0])\n",
    "    df_ = pd.DataFrame(columns=cols)\n",
    "\n",
    "    gen = bag.read_messages(topics=['/wheelSpeeds'])\n",
    "    msgs = list(gen)\n",
    "    df_['t'] = [to_time(msg.timestamp) for msg in msgs]\n",
    "    df_['v_rf'] = [msg.message.rfSpeed for msg in msgs]\n",
    "    df_['v_rb'] = [msg.message.rbSpeed for msg in msgs]\n",
    "    df_['v_lf'] = [msg.message.lfSpeed for msg in msgs]\n",
    "    df_['v_lb'] = [msg.message.lbSpeed for msg in msgs]\n",
    "\n",
    "    df_['linear_v'] = .25*(df_['v_rf'] + df_['v_rb'] + df_['v_lf'] + df_['v_lb'])\n",
    "\n",
    "    gen = bag.read_messages(topics=['/servoStatus'])\n",
    "    msgs = list(gen)\n",
    "    steerings = np.zeros((len(df_)))\n",
    "    \n",
    "    k=0\n",
    "    for i in range(len(df_)):\n",
    "        t = df_.loc[i]['t']\n",
    "        while k < len(msgs) and to_time(msgs[k].timestamp) < t:\n",
    "            k+=1\n",
    "        k-=1\n",
    "        steerings[i] = msgs[k].message.steering\n",
    "    df_['steering'] = steerings\n",
    "\n",
    "    df_['angular_v'] = df_['linear_v'] * np.tan(df_['steering']) / wheelbase\n",
    "\n",
    "    df = pd.concat([df, df_], ignore_index=True)\n",
    "    "
   ]
  },
  {
   "cell_type": "code",
   "execution_count": 153,
   "id": "4d004615-04c0-4787-a0a7-5105b99c6a81",
   "metadata": {},
   "outputs": [
    {
     "name": "stdout",
     "output_type": "stream",
     "text": [
      "saving data (89760 points)\n"
     ]
    }
   ],
   "source": [
    "print(\"saving data ({} points)\".format(len(df)))\n",
    "df.to_csv(\"autorally_velocities.csv\") "
   ]
  },
  {
   "cell_type": "code",
   "execution_count": 157,
   "id": "319280f0-51f0-4e7d-9e92-0b99bd45dec5",
   "metadata": {},
   "outputs": [
    {
     "name": "stdout",
     "output_type": "stream",
     "text": [
      "filtered 450 data points\n"
     ]
    },
    {
     "data": {
      "image/png": "[encoded data removed]",
      "text/plain": [
       "<Figure size 251.064x155.169 with 1 Axes>"
      ]
     },
     "metadata": {
      "needs_background": "light"
     },
     "output_type": "display_data"
    }
   ],
   "source": [
    "plt.figure(figsize=(10,10))\n",
    "ax = plt.gca()\n",
    "fig = plt.gcf()\n",
    "\n",
    "df_filtered = df[(df.linear_v < 25)] #Super weird ultra large values on linar velocity\n",
    "print(\"filtered {} data points\".format(len(df)-len(df_filtered)))\n",
    "\n",
    "max_lv = max(np.abs(df_filtered['linear_v']))\n",
    "max_av = max(np.abs(df_filtered['angular_v']))\n",
    "\n",
    "\n",
    "meas = ax.scatter(df_filtered['angular_v']/max_av, df_filtered['linear_v']/max_lv, \n",
    "                  c = 'tab:purple', \n",
    "                  cmap = 'hot', \n",
    "                  alpha = 0.05, \n",
    "                  lw=0, \n",
    "                  s=5,\n",
    "                  label='Wheel encoders-based body velocities',\n",
    "                 rasterized=True)\n",
    "\n",
    "ax.set_ylabel('linear velocity [m/s]', labelpad=-2)\n",
    "ax.set_xlabel('angular velocity [rad/s]')\n",
    "\n",
    "leg = plt.legend(fontsize=7, loc='best')\n",
    "for lh in leg.legendHandles: \n",
    "    lh.set_alpha(1)\n",
    "\n",
    "ax.set_xlim(-1.05,1.05)\n",
    "ax.set_ylim(-1.05,1.05)\n",
    "\n",
    "ax.set_xticks([-1,0,1])\n",
    "ax.set_yticks([-1,0,1])\n",
    "ax.set_xticklabels([r'$-\\dot{\\theta}_{max}$', '0', r'$\\dot{\\theta}_{max}$'])\n",
    "ax.set_yticklabels([r'$-v_{max}$', '0', r'$v_{max}$'])\n",
    "\n",
    "fig.subplots_adjust(left=.15, bottom=.17, right=.98, top=.98)\n",
    "fig.set_size_inches(width, height)\n",
    "\n",
    "plt.savefig('../autorally_velocities.pdf', dpi=500)"
   ]
  }
 ],
 "metadata": {
  "kernelspec": {
   "display_name": "Python 3 (ipykernel)",
   "language": "python",
   "name": "python3"
  },
  "language_info": {
   "codemirror_mode": {
    "name": "ipython",
    "version": 3
   },
   "file_extension": ".py",
   "mimetype": "text/x-python",
   "name": "python",
   "nbconvert_exporter": "python",
   "pygments_lexer": "ipython3",
   "version": "3.8.10"
  }
 },
 "nbformat": 4,
 "nbformat_minor": 5
}
